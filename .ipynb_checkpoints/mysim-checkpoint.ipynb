{
 "cells": [
  {
   "cell_type": "code",
   "execution_count": 1,
   "id": "fe05f337",
   "metadata": {
    "scrolled": false
   },
   "outputs": [],
   "source": [
    "from instrumentdatabaseapi import instrumentdatabaseapi as API\n",
    "repo = API.Repository(local_repo=\".\")"
   ]
  },
  {
   "cell_type": "code",
   "execution_count": 2,
   "id": "e7361d79",
   "metadata": {
    "scrolled": false
   },
   "outputs": [
    {
     "name": "stdout",
     "output_type": "stream",
     "text": [
      "URL: https://github.com/PaNOSC-ViNYL/instrument_database.git\n",
      "local_dir: ./\n"
     ]
    }
   ],
   "source": [
    "print(repo)"
   ]
  },
  {
   "cell_type": "markdown",
   "id": "35e75700",
   "metadata": {},
   "source": [
    "Load the instrument configuration providing:\n",
    " - name of the institute\n",
    " - name of the instrument\n",
    " - version of the instrument description (HEAD is the most recent)\n",
    " - name of the simulation program"
   ]
  },
  {
   "cell_type": "code",
   "execution_count": 3,
   "id": "8027f017",
   "metadata": {
    "scrolled": false
   },
   "outputs": [],
   "source": [
    "#help(repo)"
   ]
  },
  {
   "cell_type": "code",
   "execution_count": 4,
   "id": "ed79abb5",
   "metadata": {
    "scrolled": false
   },
   "outputs": [
    {
     "name": "stdout",
     "output_type": "stream",
     "text": [
      " - EuXFEL\n",
      " - ILL\n",
      " - test_institute\n"
     ]
    }
   ],
   "source": [
    "repo.ls_institutes()"
   ]
  },
  {
   "cell_type": "code",
   "execution_count": 5,
   "id": "495cae4b",
   "metadata": {
    "scrolled": false
   },
   "outputs": [
    {
     "name": "stdout",
     "output_type": "stream",
     "text": [
      "Available instruments for ILL:\n",
      " -  ILL/D22\n",
      " -  ILL/Panther\n",
      " -  ILL/ThALES\n",
      " -  ILL/IN5\n",
      " -  ILL/D11\n"
     ]
    }
   ],
   "source": [
    "repo.ls_instruments(\"ILL\")\n",
    "instrument_name=\"Panther\"\n",
    "#instrument_name=\"ThALES\"\n",
    "#instrument_name=\"IN5\"\n",
    "instrument_name=\"D11\""
   ]
  },
  {
   "cell_type": "code",
   "execution_count": 6,
   "id": "1490bb0d",
   "metadata": {
    "scrolled": false
   },
   "outputs": [
    {
     "name": "stdout",
     "output_type": "stream",
     "text": [
      "Available versions for instrument D11:\n",
      " -  HEAD\n"
     ]
    }
   ],
   "source": [
    "repo.ls_versions(\"ILL\",instrument_name)"
   ]
  },
  {
   "cell_type": "code",
   "execution_count": 7,
   "id": "acf32222",
   "metadata": {
    "scrolled": false
   },
   "outputs": [
    {
     "name": "stdout",
     "output_type": "stream",
     "text": [
      "Instrument D11 from institute ILL is implemented with the following programs:\n",
      " -  mcstas\n"
     ]
    }
   ],
   "source": [
    "repo.ls_simulation_programs(\"ILL\",instrument_name,\"HEAD\")"
   ]
  },
  {
   "cell_type": "code",
   "execution_count": 8,
   "id": "c6ab7b51",
   "metadata": {
    "scrolled": false
   },
   "outputs": [
    {
     "name": "stdout",
     "output_type": "stream",
     "text": [
      "Available flavours for instrument D11:\n",
      " -  None\n",
      " -  full\n",
      " -  nosection\n",
      " -  Borkron_1972\n",
      " -  Borkron_2003\n",
      " -  Borofloat_2001\n",
      " -  simple\n"
     ]
    }
   ],
   "source": [
    "repo.ls_flavours(\"ILL\",instrument_name,\"HEAD\",\"mcstas\")"
   ]
  },
  {
   "cell_type": "code",
   "execution_count": 9,
   "id": "1a94bd7a",
   "metadata": {
    "scrolled": false
   },
   "outputs": [
    {
     "ename": "RuntimeError",
     "evalue": "A link had a key which was not recognized.",
     "output_type": "error",
     "traceback": [
      "\u001b[0;31m---------------------------------------------------------------------------\u001b[0m",
      "\u001b[0;31mRuntimeError\u001b[0m                              Traceback (most recent call last)",
      "Cell \u001b[0;32mIn[9], line 4\u001b[0m\n\u001b[1;32m      2\u001b[0m flavour\u001b[38;5;241m=\u001b[39m\u001b[38;5;124m\"\u001b[39m\u001b[38;5;124mnosection\u001b[39m\u001b[38;5;124m\"\u001b[39m\n\u001b[1;32m      3\u001b[0m \u001b[38;5;66;03m#flavour=\"simple\"\u001b[39;00m\n\u001b[0;32m----> 4\u001b[0m myinstrument \u001b[38;5;241m=\u001b[39m \u001b[43mrepo\u001b[49m\u001b[38;5;241;43m.\u001b[39;49m\u001b[43mload\u001b[49m\u001b[43m(\u001b[49m\u001b[38;5;124;43m\"\u001b[39;49m\u001b[38;5;124;43mILL\u001b[39;49m\u001b[38;5;124;43m\"\u001b[39;49m\u001b[43m,\u001b[49m\u001b[43m \u001b[49m\u001b[43minstrument_name\u001b[49m\u001b[43m,\u001b[49m\u001b[43m \u001b[49m\u001b[38;5;124;43m\"\u001b[39;49m\u001b[38;5;124;43mHEAD\u001b[39;49m\u001b[38;5;124;43m\"\u001b[39;49m\u001b[43m,\u001b[49m\u001b[43m \u001b[49m\u001b[38;5;124;43m\"\u001b[39;49m\u001b[38;5;124;43mmcstas\u001b[39;49m\u001b[38;5;124;43m\"\u001b[39;49m\u001b[43m,\u001b[49m\u001b[43m \u001b[49m\u001b[43mflavour\u001b[49m\u001b[43m,\u001b[49m\u001b[43m \u001b[49m\u001b[43mdep\u001b[49m\u001b[38;5;241;43m=\u001b[39;49m\u001b[38;5;28;43;01mFalse\u001b[39;49;00m\u001b[43m)\u001b[49m\n",
      "File \u001b[0;32m~/digitaltwin/instrument_database/instrumentDataBaseAPI/instrumentdatabaseapi/instrumentdatabaseapi.py:388\u001b[0m, in \u001b[0;36mRepository.load\u001b[0;34m(self, institute, instrument, version, simulation_program, flavour, dep)\u001b[0m\n\u001b[1;32m    381\u001b[0m \u001b[38;5;28;01mif\u001b[39;00m \u001b[38;5;129;01mnot\u001b[39;00m \u001b[38;5;28mhasattr\u001b[39m(myinstrumentmodule, \u001b[38;5;124m\"\u001b[39m\u001b[38;5;124mdef_instrument\u001b[39m\u001b[38;5;124m\"\u001b[39m) \u001b[38;5;129;01mor\u001b[39;00m \u001b[38;5;129;01mnot\u001b[39;00m \u001b[38;5;28mcallable\u001b[39m(\n\u001b[1;32m    382\u001b[0m     myinstrumentmodule\u001b[38;5;241m.\u001b[39mdef_instrument\n\u001b[1;32m    383\u001b[0m ):\n\u001b[1;32m    384\u001b[0m     \u001b[38;5;28;01mraise\u001b[39;00m \u001b[38;5;167;01mNotImplementedError\u001b[39;00m(\n\u001b[1;32m    385\u001b[0m         \u001b[38;5;124m\"\u001b[39m\u001b[38;5;124mInstrument description script does not implement a def_instrument() method\u001b[39m\u001b[38;5;124m\"\u001b[39m\n\u001b[1;32m    386\u001b[0m     )\n\u001b[0;32m--> 388\u001b[0m instrument_obj \u001b[38;5;241m=\u001b[39m \u001b[43mmyinstrumentmodule\u001b[49m\u001b[38;5;241;43m.\u001b[39;49m\u001b[43mdef_instrument\u001b[49m\u001b[43m(\u001b[49m\u001b[43mflavour\u001b[49m\u001b[43m)\u001b[49m\n\u001b[1;32m    389\u001b[0m \u001b[38;5;28;01mreturn\u001b[39;00m instrument_obj\n",
      "File \u001b[0;32m~/digitaltwin/instrument_database/institutes/ILL/instruments/D11/HEAD/mcstas/D11.py:105\u001b[0m, in \u001b[0;36mdef_instrument\u001b[0;34m(flavour)\u001b[0m\n\u001b[1;32m    103\u001b[0m     \u001b[38;5;28;01mreturn\u001b[39;00m D11(movable_guide_config[flavour], do_section\u001b[38;5;241m=\u001b[39m\u001b[38;5;28;01mTrue\u001b[39;00m)\n\u001b[1;32m    104\u001b[0m \u001b[38;5;28;01mif\u001b[39;00m flavour \u001b[38;5;241m==\u001b[39m \u001b[38;5;124m\"\u001b[39m\u001b[38;5;124mnosection\u001b[39m\u001b[38;5;124m\"\u001b[39m:\n\u001b[0;32m--> 105\u001b[0m     \u001b[38;5;28;01mreturn\u001b[39;00m \u001b[43mD11\u001b[49m\u001b[43m(\u001b[49m\u001b[43mmovable_guide_config\u001b[49m\u001b[43m[\u001b[49m\u001b[38;5;124;43m\"\u001b[39;49m\u001b[38;5;124;43mBorofloat_2001\u001b[39;49m\u001b[38;5;124;43m\"\u001b[39;49m\u001b[43m]\u001b[49m\u001b[43m,\u001b[49m\u001b[43m \u001b[49m\u001b[38;5;28;43;01mFalse\u001b[39;49;00m\u001b[43m)\u001b[49m\n\u001b[1;32m    106\u001b[0m \u001b[38;5;28;01mif\u001b[39;00m flavour \u001b[38;5;241m==\u001b[39m \u001b[38;5;124m\"\u001b[39m\u001b[38;5;124msimple\u001b[39m\u001b[38;5;124m\"\u001b[39m:\n\u001b[1;32m    107\u001b[0m     \u001b[38;5;28;01mreturn\u001b[39;00m D11simple(\n\u001b[1;32m    108\u001b[0m         movable_guide_config[\u001b[38;5;124m\"\u001b[39m\u001b[38;5;124mBorkron_1972\u001b[39m\u001b[38;5;124m\"\u001b[39m], do_section\u001b[38;5;241m=\u001b[39m\u001b[38;5;28;01mTrue\u001b[39;00m, remove_H15\u001b[38;5;241m=\u001b[39m\u001b[38;5;28;01mTrue\u001b[39;00m\n\u001b[1;32m    109\u001b[0m     )\n",
      "File \u001b[0;32m~/digitaltwin/instrument_database/institutes/ILL/instruments/D11/HEAD/mcstas/D11.py:572\u001b[0m, in \u001b[0;36mD11.__init__\u001b[0;34m(self, movable_guide_config, do_section, remove_H15)\u001b[0m\n\u001b[1;32m    564\u001b[0m CollimationCalc \u001b[38;5;241m=\u001b[39m mycalculator\n\u001b[1;32m    565\u001b[0m collimation \u001b[38;5;241m=\u001b[39m mycalculator\u001b[38;5;241m.\u001b[39madd_parameter(\n\u001b[1;32m    566\u001b[0m     \u001b[38;5;124m\"\u001b[39m\u001b[38;5;124mdouble\u001b[39m\u001b[38;5;124m\"\u001b[39m,\n\u001b[1;32m    567\u001b[0m     \u001b[38;5;124m\"\u001b[39m\u001b[38;5;124mcollimation\u001b[39m\u001b[38;5;124m\"\u001b[39m,\n\u001b[0;32m   (...)\u001b[0m\n\u001b[1;32m    570\u001b[0m     value\u001b[38;5;241m=\u001b[39m\u001b[38;5;241m1.5\u001b[39m,\n\u001b[1;32m    571\u001b[0m )\n\u001b[0;32m--> 572\u001b[0m \u001b[38;5;28;43mself\u001b[39;49m\u001b[38;5;241;43m.\u001b[39;49m\u001b[43madd_parameter_to_master\u001b[49m\u001b[43m(\u001b[49m\u001b[43mcollimation\u001b[49m\u001b[38;5;241;43m.\u001b[39;49m\u001b[43mname\u001b[49m\u001b[43m,\u001b[49m\u001b[43m \u001b[49m\u001b[43mmycalculator\u001b[49m\u001b[43m,\u001b[49m\u001b[43m \u001b[49m\u001b[43mcollimation\u001b[49m\u001b[43m)\u001b[49m\n\u001b[1;32m    573\u001b[0m collimation_options \u001b[38;5;241m=\u001b[39m [\n\u001b[1;32m    574\u001b[0m     \u001b[38;5;241m40.5\u001b[39m,\n\u001b[1;32m    575\u001b[0m     \u001b[38;5;66;03m# 37,\u001b[39;00m\n\u001b[0;32m   (...)\u001b[0m\n\u001b[1;32m    588\u001b[0m     \u001b[38;5;241m1.5\u001b[39m,  \u001b[38;5;66;03m# non presente in Nomad\u001b[39;00m\n\u001b[1;32m    589\u001b[0m ]\n\u001b[1;32m    590\u001b[0m collimation\u001b[38;5;241m.\u001b[39madd_option(collimation_options, \u001b[38;5;28;01mTrue\u001b[39;00m)\n",
      "File \u001b[0;32m~/digitaltwin/instrument_database/mcstas/McStasInstrumentBase.py:319\u001b[0m, in \u001b[0;36mMcStasInstrumentBase.add_parameter_to_master\u001b[0;34m(self, mastername, calc, parameter)\u001b[0m\n\u001b[1;32m    317\u001b[0m \u001b[38;5;250m\u001b[39m\u001b[38;5;124;03m\"\"\"Simplify the addition of a parameter to the master parameters\"\"\"\u001b[39;00m\n\u001b[1;32m    318\u001b[0m \u001b[38;5;28;01mif\u001b[39;00m mastername \u001b[38;5;129;01mnot\u001b[39;00m \u001b[38;5;129;01min\u001b[39;00m \u001b[38;5;28mself\u001b[39m\u001b[38;5;241m.\u001b[39mmaster:\n\u001b[0;32m--> 319\u001b[0m     \u001b[38;5;28;43mself\u001b[39;49m\u001b[38;5;241;43m.\u001b[39;49m\u001b[43madd_master_parameter\u001b[49m\u001b[43m(\u001b[49m\n\u001b[1;32m    320\u001b[0m \u001b[43m        \u001b[49m\u001b[43mmastername\u001b[49m\u001b[43m,\u001b[49m\n\u001b[1;32m    321\u001b[0m \u001b[43m        \u001b[49m\u001b[43m{\u001b[49m\u001b[43mBaseCalculator\u001b[49m\u001b[38;5;241;43m.\u001b[39;49m\u001b[43mname\u001b[49m\u001b[43m:\u001b[49m\u001b[43m \u001b[49m\u001b[43mparameter\u001b[49m\u001b[38;5;241;43m.\u001b[39;49m\u001b[43mname\u001b[49m\u001b[43m}\u001b[49m\u001b[43m,\u001b[49m\n\u001b[1;32m    322\u001b[0m \u001b[43m        \u001b[49m\u001b[43munit\u001b[49m\u001b[38;5;241;43m=\u001b[39;49m\u001b[43mparameter\u001b[49m\u001b[38;5;241;43m.\u001b[39;49m\u001b[43munit\u001b[49m\u001b[43m,\u001b[49m\n\u001b[1;32m    323\u001b[0m \u001b[43m        \u001b[49m\u001b[43mcomment\u001b[49m\u001b[38;5;241;43m=\u001b[39;49m\u001b[43mparameter\u001b[49m\u001b[38;5;241;43m.\u001b[39;49m\u001b[43mcomment\u001b[49m\u001b[43m,\u001b[49m\n\u001b[1;32m    324\u001b[0m \u001b[43m    \u001b[49m\u001b[43m)\u001b[49m\n\u001b[1;32m    325\u001b[0m \u001b[38;5;28;01melse\u001b[39;00m:\n\u001b[1;32m    326\u001b[0m     \u001b[38;5;28;01mraise\u001b[39;00m \u001b[38;5;167;01mRuntimeError\u001b[39;00m(\u001b[38;5;124m\"\u001b[39m\u001b[38;5;124mNot implemented\u001b[39m\u001b[38;5;124m\"\u001b[39m)\n",
      "File \u001b[0;32m~/digitaltwin/instrument_database/libpyvinyl/libpyvinyl/Instrument.py:49\u001b[0m, in \u001b[0;36mInstrument.add_master_parameter\u001b[0;34m(self, name, links, **kwargs)\u001b[0m\n\u001b[1;32m     41\u001b[0m \u001b[38;5;28;01mdef\u001b[39;00m \u001b[38;5;21madd_master_parameter\u001b[39m(\u001b[38;5;28mself\u001b[39m, name: \u001b[38;5;28mstr\u001b[39m, links: Dict[\u001b[38;5;28mstr\u001b[39m, \u001b[38;5;28mstr\u001b[39m], \u001b[38;5;241m*\u001b[39m\u001b[38;5;241m*\u001b[39mkwargs) \u001b[38;5;241m-\u001b[39m\u001b[38;5;241m>\u001b[39m \u001b[38;5;28;01mNone\u001b[39;00m:\n\u001b[1;32m     42\u001b[0m \u001b[38;5;250m    \u001b[39m\u001b[38;5;124;03m\"\"\"\u001b[39;00m\n\u001b[1;32m     43\u001b[0m \u001b[38;5;124;03m    Add a new parameter with the given name as master parameter.\u001b[39;00m\n\u001b[1;32m     44\u001b[0m \u001b[38;5;124;03m    The goal is to link parameters in multiple calculators that represent the same quantity and that should be all changed at the same time when any of them is changed. This is obtained creating the link and by changing the value of the newly created master parameter.\u001b[39;00m\n\u001b[0;32m   (...)\u001b[0m\n\u001b[1;32m     47\u001b[0m \u001b[38;5;124;03m    :param links: dictionary with the names of the calculators and calculator parameters that represent the same quantity and hence can be changed all at once modifying the master parameter\"\u001b[39;00m\n\u001b[1;32m     48\u001b[0m \u001b[38;5;124;03m    \"\"\"\u001b[39;00m\n\u001b[0;32m---> 49\u001b[0m     \u001b[38;5;28;43mself\u001b[39;49m\u001b[38;5;241;43m.\u001b[39;49m\u001b[43mparameters\u001b[49m\u001b[38;5;241;43m.\u001b[39;49m\u001b[43madd_master_parameter\u001b[49m\u001b[43m(\u001b[49m\u001b[43mname\u001b[49m\u001b[43m,\u001b[49m\u001b[43m \u001b[49m\u001b[43mlinks\u001b[49m\u001b[43m,\u001b[49m\u001b[43m \u001b[49m\u001b[38;5;241;43m*\u001b[39;49m\u001b[38;5;241;43m*\u001b[39;49m\u001b[43mkwargs\u001b[49m\u001b[43m)\u001b[49m\n",
      "File \u001b[0;32m~/digitaltwin/instrument_database/libpyvinyl/libpyvinyl/Parameters/Collections.py:386\u001b[0m, in \u001b[0;36mInstrumentParameters.add_master_parameter\u001b[0;34m(self, name, links, **kwargs)\u001b[0m\n\u001b[1;32m    384\u001b[0m \u001b[38;5;28;01mfor\u001b[39;00m link_key \u001b[38;5;129;01min\u001b[39;00m links:\n\u001b[1;32m    385\u001b[0m     \u001b[38;5;28;01mif\u001b[39;00m link_key \u001b[38;5;129;01mnot\u001b[39;00m \u001b[38;5;129;01min\u001b[39;00m \u001b[38;5;28mself\u001b[39m\u001b[38;5;241m.\u001b[39mparameters_dict:\n\u001b[0;32m--> 386\u001b[0m         \u001b[38;5;28;01mraise\u001b[39;00m \u001b[38;5;167;01mRuntimeError\u001b[39;00m(\u001b[38;5;124m\"\u001b[39m\u001b[38;5;124mA link had a key which was not recognized.\u001b[39m\u001b[38;5;124m\"\u001b[39m)\n\u001b[1;32m    388\u001b[0m master_parameter\u001b[38;5;241m.\u001b[39madd_links(links)\n\u001b[1;32m    389\u001b[0m \u001b[38;5;28mself\u001b[39m\u001b[38;5;241m.\u001b[39mmaster\u001b[38;5;241m.\u001b[39madd(master_parameter)\n",
      "\u001b[0;31mRuntimeError\u001b[0m: A link had a key which was not recognized."
     ]
    }
   ],
   "source": [
    "flavour=\"full\"\n",
    "flavour=\"nosection\"\n",
    "#flavour=\"simple\"\n",
    "myinstrument = repo.load(\"ILL\", instrument_name, \"HEAD\", \"mcstas\", flavour, dep=False)"
   ]
  },
  {
   "cell_type": "code",
   "execution_count": null,
   "id": "89328333",
   "metadata": {
    "scrolled": false
   },
   "outputs": [],
   "source": [
    "myinstrument.list_calculators()"
   ]
  },
  {
   "cell_type": "code",
   "execution_count": null,
   "id": "79b04730",
   "metadata": {
    "scrolled": false
   },
   "outputs": [],
   "source": [
    "print(myinstrument)"
   ]
  },
  {
   "cell_type": "code",
   "execution_count": null,
   "id": "c2b955ba",
   "metadata": {
    "scrolled": false
   },
   "outputs": [],
   "source": [
    "# setting the base directory for the simulation output\n",
    "basedir = \"/tmp/\"+instrument_name+\"/\"\n",
    "myinstrument.set_instrument_base_dir(basedir)\n",
    "import os \n",
    "#os.mkdir(basedir)\n"
   ]
  },
  {
   "cell_type": "code",
   "execution_count": null,
   "id": "bf583b30",
   "metadata": {
    "scrolled": false
   },
   "outputs": [],
   "source": [
    "myinstrument.master"
   ]
  },
  {
   "cell_type": "code",
   "execution_count": null,
   "id": "5e7d0e97",
   "metadata": {
    "scrolled": false
   },
   "outputs": [],
   "source": [
    "myinstrument.samples"
   ]
  },
  {
   "cell_type": "code",
   "execution_count": null,
   "id": "a4dc4b8f",
   "metadata": {
    "scrolled": false
   },
   "outputs": [],
   "source": [
    "#myinstrument.set_sample_by_name(\"sqw\")\n",
    "#myinstrument.master[\"sqw_file\"]='\"/users/nourbakhsh/digitaltwin/instrument_database/institutes/ILL/instruments/D11/HEAD/mcstas/data/simul_5711.dat\"'\n",
    "#myinstrument.set_sample_by_name(\"None\")"
   ]
  },
  {
   "cell_type": "code",
   "execution_count": null,
   "id": "1039da8a",
   "metadata": {},
   "outputs": [],
   "source": [
    "myinstrument.sample_holder(material=\"quartz\", shape=\"box\",w=0.02, h=0.03, d=0.0135, th=0.00125)"
   ]
  },
  {
   "cell_type": "code",
   "execution_count": null,
   "id": "e5f12935",
   "metadata": {
    "scrolled": false
   },
   "outputs": [],
   "source": [
    "#myinstrument.sample_box_shape(0.02, 0.03,0.0035-2*0.00125)\n",
    "myinstrument.sample_shape(\"holder\")"
   ]
  },
  {
   "cell_type": "code",
   "execution_count": null,
   "id": "9a69d1a4",
   "metadata": {
    "scrolled": false
   },
   "outputs": [],
   "source": [
    "import pint\n",
    "ureg = pint.get_application_registry()\n",
    "\n",
    "test_number = 0 # 1 or 2\n",
    "if instrument_name == \"ThALES\":\n",
    "    myinstrument.master[\"a2\"] = myinstrument.energy_to_angle(4.98 * ureg.meV)\n",
    "    myinstrument.master[\"a4\"] = 60 * ureg.degree\n",
    "    myinstrument.master[\"a6\"] = myinstrument.master[\"a2\"].pint_value\n",
    "if instrument_name == \"Panther\":\n",
    "    myinstrument.master[\"energy\"]=19 * ureg.meV\n",
    "if instrument_name == \"D11\":\n",
    "    if test_number == 0:\n",
    "        myinstrument.set_sample_by_name(\"None\")\n",
    "        myinstrument.sample_holder(material=\"quartz\", shape=\"box\",w=0.02, h=0.03, d=0.0135, th=0.00125)\n",
    "        myinstrument.sample_shape(\"holder\")\n",
    "        myinstrument.master[\"detpos\"]=2*ureg.m\n",
    "        myinstrument.master[\"attenutator_index\"]=5\n"
   ]
  },
  {
   "cell_type": "code",
   "execution_count": null,
   "id": "804d83e1",
   "metadata": {},
   "outputs": [],
   "source": [
    "myinstrument.calculators[\"OriginCalc\"].parameters"
   ]
  },
  {
   "cell_type": "code",
   "execution_count": null,
   "id": "17ab1a80",
   "metadata": {
    "scrolled": false
   },
   "outputs": [],
   "source": [
    "myinstrument.sim_neutrons(5e7)\n",
    "myinstrument.set_seed(654321)\n",
    "myinstrument.custom_flags(\"-I mcstas/components\")"
   ]
  },
  {
   "cell_type": "code",
   "execution_count": null,
   "id": "778e00f0",
   "metadata": {},
   "outputs": [],
   "source": [
    "calc =myinstrument.calculators[\"OriginCalc\"]\n",
    "print(calc.parameters)\n",
    "calc.parameters[\"detpos\"]=28"
   ]
  },
  {
   "cell_type": "code",
   "execution_count": null,
   "id": "20da6717",
   "metadata": {
    "scrolled": false
   },
   "outputs": [],
   "source": [
    "myinstrument.run()"
   ]
  },
  {
   "cell_type": "markdown",
   "id": "afc301e9",
   "metadata": {},
   "source": [
    "### Diagnostics of the beam for one calculator"
   ]
  },
  {
   "cell_type": "code",
   "execution_count": null,
   "id": "7cf72254",
   "metadata": {
    "scrolled": false
   },
   "outputs": [],
   "source": [
    "calculator_name=\"SampleCalc\"\n",
    "calculator_name=\"OriginCalc\"\n",
    "mycalc = myinstrument.calculators[calculator_name]\n",
    "#mycalc.backengine()\n",
    "#myinstrument.run()\n",
    "#print(mycalc.output)"
   ]
  },
  {
   "cell_type": "code",
   "execution_count": null,
   "id": "32567b1b",
   "metadata": {
    "scrolled": true
   },
   "outputs": [],
   "source": [
    "#mycalc = myinstrument.calculators[\"OriginCalc\"]\n",
    "#mycalc = myinstrument.calculators[\"SampleCalc\"]\n",
    "#mycalc.input = myinstrument.calculators[\"OriginCalc\"].output\n",
    "#mycalc.show_diagram()\n",
    "\n",
    "\"sqw_file\" in mycalc.parameters\n"
   ]
  },
  {
   "cell_type": "code",
   "execution_count": null,
   "id": "3f8e0aaa",
   "metadata": {
    "scrolled": false
   },
   "outputs": [],
   "source": [
    "mycalc.show_diagram(analysis=True, variable=None)"
   ]
  },
  {
   "cell_type": "code",
   "execution_count": null,
   "id": "3a051763",
   "metadata": {
    "scrolled": false
   },
   "outputs": [],
   "source": [
    "import mcstasscript as ms\n"
   ]
  },
  {
   "cell_type": "code",
   "execution_count": null,
   "id": "21140401",
   "metadata": {
    "scrolled": true
   },
   "outputs": [],
   "source": [
    "diag = ms.Diagnostics(mycalc)\n",
    "diag.settings(ncount=1e5, suppress_output=True)\n",
    "diag.show_settings()\n",
    "diag.clear_points()\n",
    "\n",
    "\n",
    "for component in diag.instr.component_list:\n",
    "        if component.component_name in [\"Progress_bar\", \"Arm\"]:\n",
    "            continue\n",
    "        if component.component_name in [\"Beamstop\"]:\n",
    "            diag.add_point(before=component.name)\n",
    "            continue\n",
    "        if component.name in [\"VCS\", \"HCS\"]:\n",
    "            diag.add_point(after=component.name)\n",
    "            continue\n",
    "        if component.name in [\"Chopper0\",\"Chopper1\",\"Chopper2\",\"Chopper3\"]:\n",
    "            diag.add_point(before=component.name)\n",
    "            diag.add_point(after=component.name)\n",
    "        else:\n",
    "            #print(\"#\"+component.name+\"#\")\n",
    "            diag.add_point(before=component.name)\n",
    "        \n",
    "\n",
    "\n",
    "\n",
    "if mycalc.name == \"SampleCalc\":\n",
    "    diag.clear_points()\n",
    "    diag.add_point(after=\"Vin\")\n",
    "    diag.add_point(before=\"sqw\")\n",
    "    diag.add_point(after=\"Sample_Out\")\n",
    "    diag.add_point(before=\"after_sample_slit\")\n",
    "    diag.add_point(after=\"after_sample_slit\")\n",
    "\n",
    "#print(diag)\n"
   ]
  },
  {
   "cell_type": "code",
   "execution_count": null,
   "id": "a596e150",
   "metadata": {
    "scrolled": false
   },
   "outputs": [],
   "source": [
    "#mycalc.get_component(\"BC1\").phase=41\n",
    "#ch = mycalc.get_component(\"Chopper3\")\n",
    "#print(ch)\n",
    "diag.settings(ncount=1e6)"
   ]
  },
  {
   "cell_type": "code",
   "execution_count": null,
   "id": "b5cfe2ed",
   "metadata": {
    "scrolled": false
   },
   "outputs": [],
   "source": [
    "diag.run()"
   ]
  },
  {
   "cell_type": "code",
   "execution_count": null,
   "id": "6cb3ca01",
   "metadata": {
    "scrolled": true
   },
   "outputs": [],
   "source": [
    "diag.clear_views()\n",
    "#diag.add_view(\"t\")\n",
    "#diag.add_view(\"x\", bins=50, limits=[-0.04,0.04])\n",
    "#diag.add_view(\"y\", bins=50, same_scale=False, limits=[-0.07,0.07])\n",
    "#diag.add_view(\"x\",\"y\",bins=[30,30])\n",
    "#diag.add_view(\"e\", same_scale=True)\n",
    "diag.add_view(\"l\",same_scale=False)\n",
    "diag.add_view(\"t\",same_scale=False)\n",
    "#diag.add_view(\"dx\",\"dy\")\n",
    "diag.add_view(\"t\",\"x\",same_scale=False)\n",
    "diag.add_view(\"t\",\"y\", same_scale=False)\n",
    "diag.add_view(\"x\",\"y\",same_scale=False)\n",
    "diag.add_view(\"vz\",same_scale=False,left_lim=700)\n",
    "print(diag)"
   ]
  },
  {
   "cell_type": "code",
   "execution_count": null,
   "id": "da0ac372",
   "metadata": {
    "scrolled": true
   },
   "outputs": [],
   "source": [
    "diag.plot()"
   ]
  },
  {
   "cell_type": "code",
   "execution_count": null,
   "id": "640e8c59",
   "metadata": {
    "scrolled": false
   },
   "outputs": [],
   "source": []
  },
  {
   "cell_type": "code",
   "execution_count": null,
   "id": "3fbdef29",
   "metadata": {
    "scrolled": false
   },
   "outputs": [],
   "source": []
  },
  {
   "cell_type": "code",
   "execution_count": null,
   "id": "b4284601",
   "metadata": {
    "scrolled": false
   },
   "outputs": [],
   "source": []
  },
  {
   "cell_type": "code",
   "execution_count": null,
   "id": "7c35a5b1",
   "metadata": {
    "scrolled": false
   },
   "outputs": [],
   "source": []
  },
  {
   "cell_type": "code",
   "execution_count": null,
   "id": "7af8b77e",
   "metadata": {
    "scrolled": false
   },
   "outputs": [],
   "source": [
    "\"detpos\" in myinstrument.master"
   ]
  },
  {
   "cell_type": "code",
   "execution_count": null,
   "id": "9c63ffad",
   "metadata": {
    "scrolled": false
   },
   "outputs": [],
   "source": [
    "%matplotlib widget\n",
    "import mcstasscript.jb_interface as ms_widget\n",
    "#ms_widget.show(data_empty)"
   ]
  },
  {
   "cell_type": "code",
   "execution_count": null,
   "id": "a9fbcdea",
   "metadata": {
    "scrolled": false
   },
   "outputs": [],
   "source": [
    "#myinstrument.sample.set_SPLIT(60)\n",
    "#myinstrument.sample"
   ]
  },
  {
   "cell_type": "code",
   "execution_count": null,
   "id": "1bc44a6f",
   "metadata": {
    "scrolled": false
   },
   "outputs": [],
   "source": [
    "#slit=myinstrument.calculators[\"SampleCalc\"].get_component(\"after_sample_slit\")\n",
    "#slit.EXTEND=\"\"\n",
    "#slit.append_EXTEND(\"if(p<1e-1) ABSORB;\")\n",
    "#slit\n"
   ]
  },
  {
   "cell_type": "code",
   "execution_count": null,
   "id": "3f95946d",
   "metadata": {
    "scrolled": false
   },
   "outputs": [],
   "source": [
    "#myinstrument.run()"
   ]
  },
  {
   "cell_type": "code",
   "execution_count": null,
   "id": "af03f0bf",
   "metadata": {
    "scrolled": false
   },
   "outputs": [],
   "source": [
    "data=myinstrument.output\n",
    "#print(data)\n",
    "calcname_data=\"DetectorCalc_data\"\n",
    "calcname_data=\"OriginCalc_data\"\n",
    "detectors=data[calcname_data].get_data()[\"data\"]"
   ]
  },
  {
   "cell_type": "code",
   "execution_count": null,
   "id": "899c7352",
   "metadata": {
    "scrolled": false
   },
   "outputs": [],
   "source": [
    "#print(data[calcname_data])\n",
    "\n",
    "#print()\n",
    "for detector in detectors:\n",
    "    print(detector, \"\\n\\t I = \",detector.Intensity, \"\\n\\t E =\", detector.Error, \"\\n\\t N =\", detector.Ncount)"
   ]
  },
  {
   "cell_type": "code",
   "execution_count": null,
   "id": "e224effe",
   "metadata": {
    "scrolled": false
   },
   "outputs": [],
   "source": [
    "print(detectors)\n",
    "#help(detector)\n",
    "import mcstasscript as ms\n",
    "ms.make_sub_plot(detectors[-3:])"
   ]
  },
  {
   "cell_type": "code",
   "execution_count": null,
   "id": "1c005a59",
   "metadata": {},
   "outputs": [],
   "source": [
    "detector = detectors[3]\n",
    "print(detector.Intensity)\n",
    "import numpy as np\n",
    "help(detector.Intensity)"
   ]
  },
  {
   "cell_type": "code",
   "execution_count": null,
   "id": "8fd110ad",
   "metadata": {
    "scrolled": false
   },
   "outputs": [],
   "source": [
    "wmins=[\"1e-5\", \"1e-4\", \"1e-3\", \"1e-2\", \"1e-1\"]\n",
    "detectors=[]\n",
    "for w_min in wmins:\n",
    "    slit=myinstrument.calculators[\"SampleCalc\"].get_component(\"after_sample_slit\")\n",
    "    slit.EXTEND=\"\"\n",
    "    slit.append_EXTEND(f\"if(p<{w_min}) ABSORB;\")\n",
    "    myinstrument.run()\n",
    "    data=myinstrument.output\n",
    "    detector=(data[\"DetectorCalc_data\"].get_data()[\"data\"][0])\n",
    "    detectors.append(detector)"
   ]
  },
  {
   "cell_type": "code",
   "execution_count": null,
   "id": "52bf6d4f",
   "metadata": {
    "scrolled": false
   },
   "outputs": [],
   "source": [
    "detectors"
   ]
  },
  {
   "cell_type": "code",
   "execution_count": null,
   "id": "6064814b",
   "metadata": {
    "scrolled": false
   },
   "outputs": [],
   "source": [
    "import numpy as np\n",
    "diags = []\n",
    "RHs = list(np.arange(2.6,4,0.3))\n",
    "RVs = list(np.arange(1,3,0.3))\n",
    "RVs.append(1.88)\n",
    "RHs.append(3.31)\n",
    "print(RHs)\n",
    "print(RVs)"
   ]
  },
  {
   "cell_type": "code",
   "execution_count": null,
   "id": "f787ba8e",
   "metadata": {
    "scrolled": false
   },
   "outputs": [],
   "source": [
    "for RH in RHs:\n",
    "    print(RH)\n",
    "    mycalc.parameters[\"RHmono\"]=RH\n",
    "    diag = ms.Diagnostics(mycalc)\n",
    "    diag.settings(ncount=1e6, suppress_output=True,force_compile=False)\n",
    "    diag.clear_points()\n",
    "    diag.add_point(after=\"before_sample_slit\")\n",
    "#    diag.add_point(before=\"sqw\")\n",
    "    diag.run()\n",
    "    diags.append(diag)\n",
    "\n",
    "#(RHmono,RVmono) = (3.31,1.88)\n",
    "#lambda: 4.05\n",
    "#lambda: 4.05 +/- 0.04\n",
    "#energy: 4.98 +/- 0.10\n",
    "#(RHanalyzer,RVanalyzer) = (4.17,0.77)\n",
    "#'Monochromator', 'counter', 'before_sample_slit', 'sqw', 'after_sample_slit', 'analyzer', 'slit', 'detector_all']"
   ]
  },
  {
   "cell_type": "code",
   "execution_count": null,
   "id": "833d4920",
   "metadata": {
    "scrolled": false
   },
   "outputs": [],
   "source": [
    "for diag in diags:\n",
    "    diag.clear_views()\n",
    "    diag.add_view(\"x\", bins=50, limits=[-0.04,0.04])\n",
    "    diag.add_view(\"y\", bins=50, same_scale=False, limits=[-0.07,0.07])\n",
    "    #diag.add_view(\"x\",\"y\",bins=[30,30])\n",
    "    #diag.add_view(\"dx\",\"dy\")\n",
    "    diag.add_view(\"dx\")\n",
    "    diag.add_view(\"dy\")\n",
    "    diag.plot()"
   ]
  },
  {
   "cell_type": "code",
   "execution_count": null,
   "id": "076601d1",
   "metadata": {
    "scrolled": false
   },
   "outputs": [],
   "source": [
    "RVdiags = []\n",
    "\n",
    "\n",
    "print(RVs)\n",
    "for RV in RVs:\n",
    "    print(RV)\n",
    "    mycalc.parameters[\"RVmono\"]=RV\n",
    "    diag = ms.Diagnostics(mycalc)\n",
    "    diag.settings(ncount=1e6, suppress_output=True,force_compile=False)\n",
    "    diag.clear_points()\n",
    "    diag.add_point(after=\"before_sample_slit\")\n",
    "#    diag.add_point(before=\"sqw\")\n",
    "    diag.run()\n",
    "    RVdiags.append(diag)"
   ]
  },
  {
   "cell_type": "code",
   "execution_count": null,
   "id": "31a5b68b",
   "metadata": {
    "scrolled": false
   },
   "outputs": [],
   "source": [
    "for diag in RVdiags:\n",
    "    diag.clear_views()\n",
    "    diag.add_view(\"x\", bins=50, limits=[-0.04,0.04])\n",
    "    diag.add_view(\"y\", bins=50, same_scale=False, limits=[-0.07,0.07])\n",
    "    #diag.add_view(\"x\",\"y\",bins=[30,30])\n",
    "    #diag.add_view(\"dx\",\"dy\")\n",
    "    diag.add_view(\"dx\")\n",
    "    diag.add_view(\"dy\")\n",
    "    diag.plot()"
   ]
  },
  {
   "cell_type": "code",
   "execution_count": null,
   "id": "5d830ade",
   "metadata": {
    "scrolled": false
   },
   "outputs": [],
   "source": [
    "myinstrument.force_compile(False)\n",
    "myinstrument.sim_neutrons(1e5)\n",
    "counter=[]\n",
    "detector=[]\n",
    "mycalc = myinstrument.calculators[\"OriginCalc\"]\n",
    "for RV in RVs:\n",
    "    for RH in RHs:\n",
    "        mycalc.parameters[\"RHmono\"].value = RH\n",
    "        mycalc.parameters[\"RVmono\"].value = RV\n",
    "        #print(mycalc.parameters)\n",
    "        myinstrument.run()\n",
    "        counter.append(myinstrument.output[\"OriginCalc_data\"].get_data()[\"data\"])"
   ]
  },
  {
   "cell_type": "code",
   "execution_count": null,
   "id": "67b8c8d6",
   "metadata": {
    "scrolled": false
   },
   "outputs": [],
   "source": [
    "i=0\n",
    "i_det=1\n",
    "for RV in RVs:\n",
    "    for RH in RHs:\n",
    "        c = counter[i]\n",
    "        det=c[1]\n",
    "        print(i, \"\\t\" , RV, RH, \"\\t\\t\" , det.Intensity, det.Error, det.Ncount)\n",
    "        i=i+1"
   ]
  },
  {
   "cell_type": "code",
   "execution_count": null,
   "id": "e1798cb5",
   "metadata": {
    "scrolled": false
   },
   "outputs": [],
   "source": [
    "mycalc.output"
   ]
  },
  {
   "cell_type": "code",
   "execution_count": null,
   "id": "acd58fe9",
   "metadata": {
    "scrolled": false
   },
   "outputs": [],
   "source": [
    "print(myinstrument.output)"
   ]
  },
  {
   "cell_type": "code",
   "execution_count": null,
   "id": "4bd7a273",
   "metadata": {
    "scrolled": false
   },
   "outputs": [],
   "source": [
    "RHs = list(np.arange(1.5,3,0.2))\n",
    "RVs = list(np.arange(0.3,1.2,0.2))\n",
    "RVs.append(0.51)\n",
    "RHs.append(1.41)\n",
    "print(RHs)\n",
    "print(RVs)\n",
    "\n",
    "myinstrument.force_compile(False)\n",
    "myinstrument.sim_neutrons(1e5)\n",
    "counter=[]\n",
    "\n",
    "mycalc = myinstrument.calculators[\"OriginCalc\"]\n",
    "for RV in RVs:\n",
    "    for RH in RHs:\n",
    "        mycalc.parameters[\"RHanalyzer\"].value = RH\n",
    "        mycalc.parameters[\"RVanalyzer\"].value = RV\n",
    "        #print(mycalc.parameters)\n",
    "        myinstrument.run()\n",
    "        counter.append(myinstrument.output[\"OriginCalc_data\"].get_data()[\"data\"])"
   ]
  },
  {
   "cell_type": "code",
   "execution_count": null,
   "id": "24d1d3ec",
   "metadata": {
    "scrolled": false
   },
   "outputs": [],
   "source": [
    "i=0\n",
    "i_det=1\n",
    "intensities = []\n",
    "counts = []\n",
    "for RV in RVs:\n",
    "    for RH in RHs:\n",
    "        c = counter[i]\n",
    "        det=c[1]\n",
    "        #print(i, \"\\t\" , RV, RH, \"\\t\\t\" , det.Intensity, det.Error, det.Ncount)\n",
    "        intensities.append(det.Intensity)\n",
    "        counts.append(det.Ncount)\n",
    "        i=i+1"
   ]
  },
  {
   "cell_type": "code",
   "execution_count": null,
   "id": "6cdcc95a",
   "metadata": {
    "scrolled": false
   },
   "outputs": [],
   "source": [
    "max(intensities)"
   ]
  },
  {
   "cell_type": "code",
   "execution_count": null,
   "id": "cfdb106f",
   "metadata": {
    "scrolled": false
   },
   "outputs": [],
   "source": [
    "max(counts)"
   ]
  },
  {
   "cell_type": "code",
   "execution_count": null,
   "id": "d4090a1b",
   "metadata": {
    "scrolled": false
   },
   "outputs": [],
   "source": [
    "intensities.index(max(intensities))"
   ]
  },
  {
   "cell_type": "code",
   "execution_count": null,
   "id": "e5201171",
   "metadata": {
    "scrolled": false
   },
   "outputs": [],
   "source": [
    "counts.index(max(counts))"
   ]
  },
  {
   "cell_type": "code",
   "execution_count": null,
   "id": "88f54a79",
   "metadata": {
    "scrolled": false
   },
   "outputs": [],
   "source": [
    "i=0\n",
    "for RV in RVs:\n",
    "    for RH in RHs:\n",
    "        print(RV, RH, counts[i])\n",
    "        if i==counts.index(max(counts)):\n",
    "            print(\"---> \",RV, RH)\n",
    "        i=i+1"
   ]
  },
  {
   "cell_type": "code",
   "execution_count": null,
   "id": "100a7451",
   "metadata": {
    "scrolled": false
   },
   "outputs": [],
   "source": [
    "RVs"
   ]
  },
  {
   "cell_type": "code",
   "execution_count": null,
   "id": "b6653053",
   "metadata": {
    "scrolled": false
   },
   "outputs": [],
   "source": [
    "RHs"
   ]
  },
  {
   "cell_type": "code",
   "execution_count": null,
   "id": "17ddad58",
   "metadata": {
    "scrolled": false
   },
   "outputs": [],
   "source": [
    "dist_sample_ana = 1.260\n",
    "dist_ana_det = 0.640\n",
    "import math\n",
    "ana_focus = 1.0 / (1.0 / dist_sample_ana + 1.0 / dist_ana_det)"
   ]
  },
  {
   "cell_type": "code",
   "execution_count": null,
   "id": "b9bb0a25",
   "metadata": {
    "scrolled": false
   },
   "outputs": [],
   "source": [
    "\n",
    "def rh(ana_focus):\n",
    "    return 2*ana_focus/math.sin(math.pi/180*myinstrument.master[\"a6\"].value/2)\n",
    "def rv(ana_focus):\n",
    "    return 2*ana_focus*math.sin(math.pi/180*myinstrument.master[\"a6\"].value/2)\n"
   ]
  },
  {
   "cell_type": "code",
   "execution_count": null,
   "id": "0275cde3",
   "metadata": {
    "scrolled": false
   },
   "outputs": [],
   "source": [
    "print(rv(ana_focus),rh(ana_focus))"
   ]
  },
  {
   "cell_type": "code",
   "execution_count": null,
   "id": "10289531",
   "metadata": {
    "scrolled": false
   },
   "outputs": [],
   "source": [
    "ana_focus=dist_ana_det\n",
    "print(rv(ana_focus),rh(ana_focus))"
   ]
  },
  {
   "cell_type": "code",
   "execution_count": null,
   "id": "a4cfb70b",
   "metadata": {
    "scrolled": false
   },
   "outputs": [],
   "source": []
  },
  {
   "cell_type": "code",
   "execution_count": null,
   "id": "2e2d80c9",
   "metadata": {
    "scrolled": false
   },
   "outputs": [],
   "source": []
  }
 ],
 "metadata": {
  "kernelspec": {
   "display_name": "Python 3 (ipykernel)",
   "language": "python",
   "name": "python3"
  },
  "language_info": {
   "codemirror_mode": {
    "name": "ipython",
    "version": 3
   },
   "file_extension": ".py",
   "mimetype": "text/x-python",
   "name": "python",
   "nbconvert_exporter": "python",
   "pygments_lexer": "ipython3",
   "version": "3.10.6"
  }
 },
 "nbformat": 4,
 "nbformat_minor": 5
}
