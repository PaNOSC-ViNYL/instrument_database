{
 "cells": [
  {
   "cell_type": "code",
   "execution_count": 1,
   "id": "fe05f337",
   "metadata": {
    "scrolled": false
   },
   "outputs": [],
   "source": [
    "from instrumentdatabaseapi import instrumentdatabaseapi as API\n",
    "repo = API.Repository(local_repo=\".\")"
   ]
  },
  {
   "cell_type": "code",
   "execution_count": 2,
   "id": "e7361d79",
   "metadata": {
    "scrolled": false
   },
   "outputs": [
    {
     "name": "stdout",
     "output_type": "stream",
     "text": [
      "URL: https://github.com/PaNOSC-ViNYL/instrument_database.git\n",
      "local_dir: ./\n"
     ]
    }
   ],
   "source": [
    "print(repo)"
   ]
  },
  {
   "cell_type": "markdown",
   "id": "35e75700",
   "metadata": {},
   "source": [
    "Load the instrument configuration providing:\n",
    " - name of the institute\n",
    " - name of the instrument\n",
    " - version of the instrument description (HEAD is the most recent)\n",
    " - name of the simulation program"
   ]
  },
  {
   "cell_type": "code",
   "execution_count": 3,
   "id": "ed79abb5",
   "metadata": {
    "scrolled": false
   },
   "outputs": [
    {
     "name": "stdout",
     "output_type": "stream",
     "text": [
      " - EuXFEL\n",
      " - ILL\n",
      " - test_institute\n"
     ]
    }
   ],
   "source": [
    "repo.ls_institutes()"
   ]
  },
  {
   "cell_type": "code",
   "execution_count": 4,
   "id": "7d780aed",
   "metadata": {},
   "outputs": [
    {
     "name": "stdout",
     "output_type": "stream",
     "text": [
      "Available instruments for ILL:\n",
      " -  ILL/D22\n",
      " -  ILL/Panther\n",
      " -  ILL/ThALES\n",
      " -  ILL/IN5\n",
      " -  ILL/D11\n"
     ]
    }
   ],
   "source": [
    "repo.ls_instruments(\"ILL\")"
   ]
  },
  {
   "cell_type": "code",
   "execution_count": 5,
   "id": "495cae4b",
   "metadata": {
    "scrolled": false
   },
   "outputs": [],
   "source": [
    "instrument_name=\"Panther\"\n",
    "#instrument_name=\"ThALES\"\n",
    "#instrument_name=\"IN5\"\n",
    "#instrument_name=\"D11\""
   ]
  },
  {
   "cell_type": "code",
   "execution_count": 6,
   "id": "1490bb0d",
   "metadata": {
    "scrolled": false
   },
   "outputs": [
    {
     "name": "stdout",
     "output_type": "stream",
     "text": [
      "Available versions for instrument Panther:\n",
      " -  HEAD\n"
     ]
    }
   ],
   "source": [
    "repo.ls_versions(\"ILL\",instrument_name)"
   ]
  },
  {
   "cell_type": "code",
   "execution_count": 7,
   "id": "acf32222",
   "metadata": {
    "scrolled": false
   },
   "outputs": [
    {
     "name": "stdout",
     "output_type": "stream",
     "text": [
      "Instrument Panther from institute ILL is implemented with the following programs:\n",
      " -  mcstas\n"
     ]
    }
   ],
   "source": [
    "repo.ls_simulation_programs(\"ILL\",instrument_name,\"HEAD\")"
   ]
  },
  {
   "cell_type": "code",
   "execution_count": 8,
   "id": "c6ab7b51",
   "metadata": {
    "scrolled": false
   },
   "outputs": [
    {
     "name": "stdout",
     "output_type": "stream",
     "text": [
      "Available flavours for instrument Panther:\n",
      " -  None\n",
      " -  nosection\n",
      " -  quick\n",
      " -  quicknosection\n"
     ]
    }
   ],
   "source": [
    "repo.ls_flavours(\"ILL\",instrument_name,\"HEAD\",\"mcstas\")"
   ]
  },
  {
   "cell_type": "code",
   "execution_count": 9,
   "id": "1a94bd7a",
   "metadata": {
    "scrolled": false
   },
   "outputs": [],
   "source": [
    "flavour=\"full\"\n",
    "flavour=\"nosection\"\n",
    "flavour=\"quicknosection\"\n",
    "flavour=\"quick\"\n",
    "myinstrument = repo.load(\"ILL\", instrument_name, \"HEAD\", \"mcstas\", flavour, dep=False)"
   ]
  },
  {
   "cell_type": "code",
   "execution_count": 10,
   "id": "89328333",
   "metadata": {
    "scrolled": false
   },
   "outputs": [
    {
     "data": {
      "text/plain": [
       "{'OriginCalc': <mcstasscript.interface.instr.McStas_instr at 0x7f41c5c5fd60>,\n",
       " 'SampleCalc': <mcstasscript.interface.instr.McStas_instr at 0x7f41c5b39f00>,\n",
       " 'DetectorCalc': <mcstasscript.interface.instr.McStas_instr at 0x7f41c5b4ace0>}"
      ]
     },
     "execution_count": 10,
     "metadata": {},
     "output_type": "execute_result"
    }
   ],
   "source": [
    "myinstrument.calculators"
   ]
  },
  {
   "cell_type": "code",
   "execution_count": 11,
   "id": "79b04730",
   "metadata": {
    "scrolled": false
   },
   "outputs": [
    {
     "name": "stdout",
     "output_type": "stream",
     "text": [
      "######## Instrument Panther\n",
      "- Instrument: Panther -\n",
      "Calculators:\n",
      "OriginCalc\n",
      "SampleCalc\n",
      "DetectorCalc\n",
      "- ParametersCollection object -\n",
      "  Master Parameters\n",
      "  energy                              0          [millielectron_volt]  Initial neutron energy   \n",
      "\n",
      "   OriginCalc\n",
      "    - Parameters object -\n",
      "   mono_index                          -1                              Monochromator index. -1 = auto: based on the energy   (-1, 0, 1, 2, 3, 4)\n",
      "   a2                                  0          [degree]             Angle between beam reflected by monochromator and incident beam   L[36.0 degree, 58.97 degree](0 degree)\n",
      "   chopper_rpm                         0                               Fermi chopper speed   L[6000, 30000](0)\n",
      "   chopper_ratio                       1                                  (1, 2)\n",
      "   Ei                                  15         [millielectron_volt]  Initial neutron energy   L[7.5 millielectron_volt, 130 millielectron_volt]\n",
      "   dE                                  0.1        [millielectron_volt]  Initial neutron energy dispertion   \n",
      "   Efoc                                0          [millielectron_volt]  Focusing energy   \n",
      "   before_sample_slit_width            0.2        [meter]              Horizontal width of the slit opening   \n",
      "   before_sample_slit_height           0.2        [meter]              Vertical height of the slit opening   \n",
      "\n",
      "   SampleCalc\n",
      "    - Parameters object -\n",
      "   vin_filename                        \"none\"                             \n",
      "   sample_y_rotation                   0          [degree]             sample table rotation angle   \n",
      "   sample_width                        0.0        [meter]              width of the sample if shape is box   \n",
      "   sample_height                       0.0        [meter]              height of the sample if shape is box or cylinder   \n",
      "   sample_depth                        0.0        [meter]              depth of the sample if shape is box   \n",
      "   sample_radius                       0.0        [meter]              radius of the sample if shape is sphere or cylinder   \n",
      "   sample_thickness                    0.0        [meter]              thickness of the sample if it is hollow   \n",
      "   sample_holder_width                 0.0        [meter]              width of the sample if shape is box   \n",
      "   sample_holder_height                0.0        [meter]              height of the sample if shape is box or cylinder   \n",
      "   sample_holder_depth                 0.0        [meter]              depth of the sample if shape is box   \n",
      "   sample_holder_radius                0.0        [meter]              radius of the sample if shape is sphere or cylinder   \n",
      "   sample_holder_thickness             0.0        [meter]              thickness of the sample if it is hollow   \n",
      "\n",
      "   DetectorCalc\n",
      "    - Parameters object -\n",
      "   vin_filename                        \"none\"                             \n",
      "\n",
      "############\n"
     ]
    }
   ],
   "source": [
    "print(myinstrument)"
   ]
  },
  {
   "cell_type": "code",
   "execution_count": 12,
   "id": "c2b955ba",
   "metadata": {
    "scrolled": false
   },
   "outputs": [],
   "source": [
    "# setting the base directory for the simulation output\n",
    "basedir = \"/tmp/\"+instrument_name+\"/\"\n",
    "import os \n",
    "os.makedirs(basedir, exist_ok=True)\n",
    "myinstrument.set_instrument_base_dir(basedir)"
   ]
  },
  {
   "cell_type": "code",
   "execution_count": 13,
   "id": "bf583b30",
   "metadata": {
    "scrolled": false
   },
   "outputs": [
    {
     "data": {
      "text/plain": [
       " - Parameters object -\n",
       "energy                              0          [millielectron_volt]  Initial neutron energy   "
      ]
     },
     "execution_count": 13,
     "metadata": {},
     "output_type": "execute_result"
    }
   ],
   "source": [
    "myinstrument.master"
   ]
  },
  {
   "cell_type": "code",
   "execution_count": 14,
   "id": "5e7d0e97",
   "metadata": {
    "scrolled": false
   },
   "outputs": [
    {
     "data": {
      "text/plain": [
       "['None', 'vanadium', 'H2O', 'D2O', 'sqw']"
      ]
     },
     "execution_count": 14,
     "metadata": {},
     "output_type": "execute_result"
    }
   ],
   "source": [
    "myinstrument.samples"
   ]
  },
  {
   "cell_type": "code",
   "execution_count": 15,
   "id": "a4dc4b8f",
   "metadata": {
    "scrolled": false
   },
   "outputs": [],
   "source": [
    "#myinstrument.set_sample_by_name(\"sqw\")\n",
    "#myinstrument.master[\"sqw_file\"]='\"/users/nourbakhsh/digitaltwin/instrument_database/institutes/ILL/instruments/D11/HEAD/mcstas/data/simul_5711.dat\"'\n",
    "#myinstrument.set_sample_by_name(\"None\")"
   ]
  },
  {
   "cell_type": "code",
   "execution_count": 16,
   "id": "6c52b68a",
   "metadata": {},
   "outputs": [],
   "source": [
    "#myinstrument.sample_holder(material=\"quartz\", shape=\"box\",w=0.02, h=0.03, d=0.0135, th=0.00125)"
   ]
  },
  {
   "cell_type": "code",
   "execution_count": 17,
   "id": "e5f12935",
   "metadata": {
    "scrolled": false
   },
   "outputs": [],
   "source": [
    "#myinstrument.sample_box_shape(0.02, 0.03,0.0035-2*0.00125)\n",
    "#myinstrument.sample_shape(\"holder\")\n",
    "#help(myinstrument.sample_shape)"
   ]
  },
  {
   "cell_type": "code",
   "execution_count": 18,
   "id": "9a69d1a4",
   "metadata": {
    "scrolled": false
   },
   "outputs": [],
   "source": [
    "import pint\n",
    "ureg = pint.get_application_registry()\n",
    "\n",
    "test_number = 2 #None 1 or 2\n",
    "if instrument_name == \"ThALES\":\n",
    "    myinstrument.master[\"a2\"] = myinstrument.energy_to_angle(4.98 * ureg.meV)\n",
    "    myinstrument.master[\"a4\"] = 60 * ureg.degree\n",
    "    myinstrument.master[\"a6\"] = myinstrument.master[\"a2\"].pint_value\n",
    "elif instrument_name == \"Panther\":\n",
    "    myinstrument.master[\"energy\"]=19 * ureg.meV\n",
    "    myinstrument.master[\"energy\"]=30 * ureg.meV\n",
    "    \n",
    "    myinstrument.set_sample_by_name(\"vanadium\")\n",
    "    myinstrument.sample_shape(\"box\", w=0.02, h=0.04, d=0.01)\n",
    "    myinstrument.calculators[\"OriginCalc\"].parameters[\"chopper_rpm\"]=0\n",
    "    if flavour.find(\"quick\")<0:\n",
    "        myinstrument.calculators[\"OriginCalc\"].parameters[\"a2\"]=0\n",
    "        # there is a problem with RV and RH\n",
    "        myinstrument.calculators[\"OriginCalc\"].parameters[\"mono_rv\"]=1\n",
    "        myinstrument.calculators[\"OriginCalc\"].parameters[\"mono_rh\"]=2\n",
    "        myinstrument.calculators[\"OriginCalc\"].parameters[\"dch\"]=0.05\n",
    "        \n",
    "    myinstrument.calculators[\"OriginCalc\"].parameters[\"before_sample_slit_width\"]=0.5\n",
    "    myinstrument.calculators[\"OriginCalc\"].parameters[\"before_sample_slit_height\"]=0.5\n",
    "    comp=myinstrument.calculators[\"OriginCalc\"].get_component(\"fermi_chopper\")\n",
    "    comp.zero_time=2\n",
    "    \n",
    "\n",
    "    \n",
    "\n",
    "elif instrument_name == \"D11\":\n",
    "    myinstrument.set_test(test_number)\n",
    "    myinstrument.set_sample_by_name(\"H2O\")\n",
    "else:\n",
    "    myinstrument.sample_holder(material=\"quartz\", shape=\"box\",w=0.02, h=0.03, d=0.0135, th=0.00125)\n",
    "    myinstrument.sample_shape(\"holder\")"
   ]
  },
  {
   "cell_type": "code",
   "execution_count": 19,
   "id": "17ab1a80",
   "metadata": {
    "scrolled": false
   },
   "outputs": [],
   "source": [
    "myinstrument.sim_neutrons(5e5)\n",
    "myinstrument.set_seed(654321)\n",
    "myinstrument.custom_flags(\"-I mcstas/components\")"
   ]
  },
  {
   "cell_type": "code",
   "execution_count": 20,
   "id": "83e6432c",
   "metadata": {},
   "outputs": [
    {
     "name": "stdout",
     "output_type": "stream",
     "text": [
      " - Parameters object -\n",
      "mono_index                          -1                              Monochromator index. -1 = auto: based on the energy   (-1, 0, 1, 2, 3, 4)\n",
      "a2                                  0          [degree]             Angle between beam reflected by monochromator and incident beam   L[36.0 degree, 58.97 degree](0 degree)\n",
      "chopper_rpm                         0                               Fermi chopper speed   L[6000, 30000](0)\n",
      "chopper_ratio                       1                                  (1, 2)\n",
      "Ei                                  30         [millielectron_volt]  Initial neutron energy   L[7.5 millielectron_volt, 130 millielectron_volt]\n",
      "dE                                  0.1        [millielectron_volt]  Initial neutron energy dispertion   \n",
      "Efoc                                0          [millielectron_volt]  Focusing energy   \n",
      "before_sample_slit_width            0.5        [meter]              Horizontal width of the slit opening   \n",
      "before_sample_slit_height           0.5        [meter]              Vertical height of the slit opening   \n",
      "\n"
     ]
    }
   ],
   "source": [
    "calc =myinstrument.calculators[\"OriginCalc\"]\n",
    "#calc.settings(mpi=6)\n",
    "print(calc.parameters)"
   ]
  },
  {
   "cell_type": "markdown",
   "id": "afc301e9",
   "metadata": {},
   "source": [
    "### Diagnostics of the beam for one calculator"
   ]
  },
  {
   "cell_type": "code",
   "execution_count": 21,
   "id": "7cf72254",
   "metadata": {
    "scrolled": false
   },
   "outputs": [],
   "source": [
    "calculator_name=\"SampleCalc\"\n",
    "calculator_name=\"OriginCalc\"\n",
    "mycalc = myinstrument.calculators[calculator_name]\n",
    "#mycalc.backengine()\n",
    "#myinstrument.run()\n",
    "#print(mycalc.output)"
   ]
  },
  {
   "cell_type": "code",
   "execution_count": 22,
   "id": "3f8e0aaa",
   "metadata": {
    "scrolled": false
   },
   "outputs": [
    {
     "data": {
      "image/png": "[encoded data removed]",
      "text/plain": [
       "<Figure size 620x220 with 1 Axes>"
      ]
     },
     "metadata": {},
     "output_type": "display_data"
    },
    {
     "data": {
      "image/png": "[encoded data removed]",
      "text/plain": [
       "<Figure size 861.6x360 with 3 Axes>"
      ]
     },
     "metadata": {},
     "output_type": "display_data"
    }
   ],
   "source": [
    "if flavour.find(\"quick\")<0:\n",
    "    for dch in [0]: #[0.05, 0.06, 0.04, 0]:\n",
    "        print(dch)\n",
    "        myinstrument.calculators[\"OriginCalc\"].parameters[\"dch\"]=dch\n",
    "        mycalc.show_diagram(analysis=True, variable=None)\n",
    "#else:\n",
    "mycalc.show_diagram(analysis=True, variable=None)        "
   ]
  },
  {
   "cell_type": "code",
   "execution_count": 23,
   "id": "f64d9c18",
   "metadata": {},
   "outputs": [
    {
     "name": "stdout",
     "output_type": "stream",
     "text": [
      "COMPONENT fermi_chopper = FermiChopper(\n",
      "  \u001b[1mradius\u001b[0m = \u001b[1m\u001b[92m0.035468295701936395\u001b[0m\u001b[0m, // [m]\n",
      "  \u001b[1mnu\u001b[0m = \u001b[1m\u001b[92mchopper_rpm/60\u001b[0m\u001b[0m, // [Hz]\n",
      "  \u001b[1mw\u001b[0m = \u001b[1m\u001b[92m0.0006\u001b[0m\u001b[0m, // [m]\n",
      "  \u001b[1mnslit\u001b[0m = \u001b[1m\u001b[92m45\u001b[0m\u001b[0m, // [1]\n",
      "  \u001b[1mR0\u001b[0m = \u001b[1m\u001b[92m0\u001b[0m\u001b[0m, // [1]\n",
      "  \u001b[1mm\u001b[0m = \u001b[1m\u001b[92m0\u001b[0m\u001b[0m, // [1]\n",
      "  \u001b[1mlength\u001b[0m = \u001b[1m\u001b[92m0.023\u001b[0m\u001b[0m, // [m]\n",
      "  \u001b[1meff\u001b[0m = \u001b[1m\u001b[92m0.6880000000000001\u001b[0m\u001b[0m, // [1]\n",
      "  \u001b[1mzero_time\u001b[0m = \u001b[1m\u001b[92m2\u001b[0m\u001b[0m, // [1]\n",
      "  \u001b[1mverbose\u001b[0m = \u001b[1m\u001b[92m2\u001b[0m\u001b[0m, // [1]\n",
      "  \u001b[1myheight\u001b[0m = \u001b[1m\u001b[92m0.113\u001b[0m\u001b[0m // [m]\n",
      ")\n",
      "AT (0, 0, 1.7) RELATIVE Monochromator_Out\n"
     ]
    }
   ],
   "source": [
    "comp=mycalc.get_component(\"fermi_chopper\")\n",
    "#comp.zero_time=2\n",
    "print(comp)\n",
    "#mycalc.remove_component(\"detector\")"
   ]
  },
  {
   "cell_type": "code",
   "execution_count": 24,
   "id": "574abf5f",
   "metadata": {},
   "outputs": [
    {
     "name": "stdout",
     "output_type": "stream",
     "text": [
      " - Parameters object -\n",
      "mono_index                          -1                              Monochromator index. -1 = auto: based on the energy   (-1, 0, 1, 2, 3, 4)\n",
      "a2                                  0          [degree]             Angle between beam reflected by monochromator and incident beam   L[36.0 degree, 58.97 degree](0 degree)\n",
      "chopper_rpm                         0                               Fermi chopper speed   L[6000, 30000](0)\n",
      "chopper_ratio                       1                                  (1, 2)\n",
      "Ei                                  30         [millielectron_volt]  Initial neutron energy   L[7.5 millielectron_volt, 130 millielectron_volt]\n",
      "dE                                  0.1        [millielectron_volt]  Initial neutron energy dispertion   \n",
      "Efoc                                0          [millielectron_volt]  Focusing energy   \n",
      "before_sample_slit_width            0.5        [meter]              Horizontal width of the slit opening   \n",
      "before_sample_slit_height           0.5        [meter]              Vertical height of the slit opening   \n",
      "\n"
     ]
    }
   ],
   "source": [
    "#mycalc.parameters[\"chopper_rpm\"]=0\n",
    "#mycalc.parameters[\"Ei\"]=30 *ureg.meV\n",
    "print(mycalc.parameters)"
   ]
  },
  {
   "cell_type": "code",
   "execution_count": 25,
   "id": "21140401",
   "metadata": {
    "scrolled": true
   },
   "outputs": [
    {
     "name": "stdout",
     "output_type": "stream",
     "text": [
      "Instrument settings:\n",
      "  ncount:           1.00e+05\n",
      "  seed:             654321\n",
      "  output_path:      /tmp/Panther/OriginCalc\n",
      "  run_path:         ./\n",
      "  package_path:     /usr/share/mcstas/3.3\n",
      "  executable_path:  /usr/share/mcstas/3.3/bin/\n",
      "  executable:       mcrun\n",
      "  force_compile:    True\n"
     ]
    }
   ],
   "source": [
    "import mcstasscript as ms\n",
    "diag = ms.Diagnostics(mycalc)\n",
    "diag.settings(ncount=1e5, suppress_output=False)\n",
    "diag.show_settings()\n",
    "diag.clear_points()\n",
    "\n",
    "\n",
    "for component in diag.instr.component_list:\n",
    "        if component.component_name in [\"Progress_bar\", \"Arm\"]:\n",
    "            continue\n",
    "        if component.component_name in [\"Beamstop\"]:\n",
    "            diag.add_point(before=component.name)\n",
    "            continue\n",
    "        if component.name in [\"VCS\", \"HCS\"]:\n",
    "            diag.add_point(after=component.name)\n",
    "            continue\n",
    "        if component.component_name in [\"Disk_Chopper\", \"Slit\",\"Monochromator_curved\",\"Fermi_chopper\"]:\n",
    "            diag.add_point(before=component.name)\n",
    "            diag.add_point(after=component.name)\n",
    "        else:\n",
    "            #print(\"#\"+component.name+\"#\")\n",
    "            diag.add_point(before=component.name)\n",
    "        \n",
    "\n",
    "\n",
    "\n",
    "if mycalc.name == \"SampleCalc\":\n",
    "    diag.clear_points()\n",
    "    diag.add_point(after=\"Vin\")\n",
    "    diag.add_point(before=\"sqw\")\n",
    "    diag.add_point(after=\"Sample_Out\")\n",
    "    diag.add_point(before=\"after_sample_slit\")\n",
    "    diag.add_point(after=\"after_sample_slit\")\n",
    "\n",
    "#print(diag)\n"
   ]
  },
  {
   "cell_type": "code",
   "execution_count": 26,
   "id": "a596e150",
   "metadata": {
    "scrolled": false
   },
   "outputs": [],
   "source": [
    "#mycalc.get_component(\"BC1\").phase=41\n",
    "#ch = mycalc.get_component(\"Chopper3\")\n",
    "#print(ch)\n",
    "diag.settings(ncount=1e5)"
   ]
  },
  {
   "cell_type": "code",
   "execution_count": 27,
   "id": "3a3964b2",
   "metadata": {},
   "outputs": [
    {
     "ename": "NameError",
     "evalue": "No component was found with name \"sqw\"!",
     "output_type": "error",
     "traceback": [
      "\u001b[0;31m---------------------------------------------------------------------------\u001b[0m",
      "\u001b[0;31mNameError\u001b[0m                                 Traceback (most recent call last)",
      "Cell \u001b[0;32mIn[27], line 6\u001b[0m\n\u001b[1;32m      4\u001b[0m diag\u001b[38;5;241m.\u001b[39madd_point(before\u001b[38;5;241m=\u001b[39m\u001b[38;5;124m\"\u001b[39m\u001b[38;5;124mbefore_sample_diaphragm\u001b[39m\u001b[38;5;124m\"\u001b[39m)\n\u001b[1;32m      5\u001b[0m diag\u001b[38;5;241m.\u001b[39madd_point(after\u001b[38;5;241m=\u001b[39m\u001b[38;5;124m\"\u001b[39m\u001b[38;5;124mbefore_sample_diaphragm\u001b[39m\u001b[38;5;124m\"\u001b[39m)\n\u001b[0;32m----> 6\u001b[0m \u001b[43mdiag\u001b[49m\u001b[38;5;241;43m.\u001b[39;49m\u001b[43madd_point\u001b[49m\u001b[43m(\u001b[49m\u001b[43mbefore\u001b[49m\u001b[38;5;241;43m=\u001b[39;49m\u001b[38;5;124;43m\"\u001b[39;49m\u001b[38;5;124;43msqw\u001b[39;49m\u001b[38;5;124;43m\"\u001b[39;49m\u001b[43m)\u001b[49m\n\u001b[1;32m      7\u001b[0m diag\u001b[38;5;241m.\u001b[39madd_point(before\u001b[38;5;241m=\u001b[39m\u001b[38;5;124m\"\u001b[39m\u001b[38;5;124mcollimator\u001b[39m\u001b[38;5;124m\"\u001b[39m)\n\u001b[1;32m      8\u001b[0m diag\u001b[38;5;241m.\u001b[39madd_point(after\u001b[38;5;241m=\u001b[39m\u001b[38;5;124m\"\u001b[39m\u001b[38;5;124mcollimator\u001b[39m\u001b[38;5;124m\"\u001b[39m)\n",
      "File \u001b[0;32m~/digitaltwin/instrument_database/McStasScript/mcstasscript/instrument_diagnostics/beam_diagnostics.py:179\u001b[0m, in \u001b[0;36mBeamDiagnostics.add_point\u001b[0;34m(self, before, after, rays)\u001b[0m\n\u001b[1;32m    176\u001b[0m     \u001b[38;5;28;01mraise\u001b[39;00m \u001b[38;5;167;01mValueError\u001b[39;00m(\u001b[38;5;124m\"\u001b[39m\u001b[38;5;124mSpecify either before or after with component name.\u001b[39m\u001b[38;5;124m\"\u001b[39m)\n\u001b[1;32m    178\u001b[0m \u001b[38;5;28;01mif\u001b[39;00m before \u001b[38;5;129;01mis\u001b[39;00m \u001b[38;5;129;01mnot\u001b[39;00m \u001b[38;5;28;01mNone\u001b[39;00m:\n\u001b[0;32m--> 179\u001b[0m     \u001b[38;5;28;43mself\u001b[39;49m\u001b[38;5;241;43m.\u001b[39;49m\u001b[43m_add_diagnostics_point\u001b[49m\u001b[43m(\u001b[49m\u001b[43mcomp_name\u001b[49m\u001b[38;5;241;43m=\u001b[39;49m\u001b[43mbefore\u001b[49m\u001b[43m,\u001b[49m\u001b[43m \u001b[49m\u001b[43mbefore\u001b[49m\u001b[38;5;241;43m=\u001b[39;49m\u001b[38;5;28;43;01mTrue\u001b[39;49;00m\u001b[43m,\u001b[49m\u001b[43m \u001b[49m\u001b[43mrays\u001b[49m\u001b[38;5;241;43m=\u001b[39;49m\u001b[43mrays\u001b[49m\u001b[43m)\u001b[49m\n\u001b[1;32m    181\u001b[0m \u001b[38;5;28;01mif\u001b[39;00m after \u001b[38;5;129;01mis\u001b[39;00m \u001b[38;5;129;01mnot\u001b[39;00m \u001b[38;5;28;01mNone\u001b[39;00m:\n\u001b[1;32m    182\u001b[0m     \u001b[38;5;28mself\u001b[39m\u001b[38;5;241m.\u001b[39m_add_diagnostics_point(comp_name\u001b[38;5;241m=\u001b[39mafter, before\u001b[38;5;241m=\u001b[39m\u001b[38;5;28;01mFalse\u001b[39;00m, rays\u001b[38;5;241m=\u001b[39mrays)\n",
      "File \u001b[0;32m~/digitaltwin/instrument_database/McStasScript/mcstasscript/instrument_diagnostics/beam_diagnostics.py:188\u001b[0m, in \u001b[0;36mBeamDiagnostics._add_diagnostics_point\u001b[0;34m(self, comp_name, before, rays)\u001b[0m\n\u001b[1;32m    184\u001b[0m \u001b[38;5;28;01mdef\u001b[39;00m \u001b[38;5;21m_add_diagnostics_point\u001b[39m(\u001b[38;5;28mself\u001b[39m, comp_name, before, rays):\n\u001b[1;32m    185\u001b[0m \u001b[38;5;250m    \u001b[39m\u001b[38;5;124;03m\"\"\"\u001b[39;00m\n\u001b[1;32m    186\u001b[0m \u001b[38;5;124;03m    Internal function to add the DiagnosticsPoint to list\u001b[39;00m\n\u001b[1;32m    187\u001b[0m \u001b[38;5;124;03m    \"\"\"\u001b[39;00m\n\u001b[0;32m--> 188\u001b[0m     point \u001b[38;5;241m=\u001b[39m \u001b[43mDiagnosticsPoint\u001b[49m\u001b[43m(\u001b[49m\u001b[38;5;28;43mself\u001b[39;49m\u001b[38;5;241;43m.\u001b[39;49m\u001b[43minstr\u001b[49m\u001b[43m,\u001b[49m\u001b[43m \u001b[49m\u001b[43mcomp_name\u001b[49m\u001b[38;5;241;43m=\u001b[39;49m\u001b[43mcomp_name\u001b[49m\u001b[43m,\u001b[49m\u001b[43m \u001b[49m\u001b[43mbefore\u001b[49m\u001b[38;5;241;43m=\u001b[39;49m\u001b[43mbefore\u001b[49m\u001b[43m,\u001b[49m\u001b[43m \u001b[49m\u001b[43mrays\u001b[49m\u001b[38;5;241;43m=\u001b[39;49m\u001b[43mrays\u001b[49m\u001b[43m)\u001b[49m\n\u001b[1;32m    189\u001b[0m     \u001b[38;5;28;01mif\u001b[39;00m point \u001b[38;5;129;01min\u001b[39;00m \u001b[38;5;28mself\u001b[39m\u001b[38;5;241m.\u001b[39mpoints:\n\u001b[1;32m    190\u001b[0m         \u001b[38;5;66;03m# overwrite that point\u001b[39;00m\n\u001b[1;32m    191\u001b[0m         index \u001b[38;5;241m=\u001b[39m \u001b[38;5;28mself\u001b[39m\u001b[38;5;241m.\u001b[39mpoints\u001b[38;5;241m.\u001b[39mindex(point)\n",
      "File \u001b[0;32m~/digitaltwin/instrument_database/McStasScript/mcstasscript/instrument_diagnostics/beam_diagnostics.py:22\u001b[0m, in \u001b[0;36mDiagnosticsPoint.__init__\u001b[0;34m(self, instr, comp_name, before, rays)\u001b[0m\n\u001b[1;32m     20\u001b[0m comp_name \u001b[38;5;241m=\u001b[39m sanitise_comp_name(comp_name)\n\u001b[1;32m     21\u001b[0m \u001b[38;5;28;01mtry\u001b[39;00m:\n\u001b[0;32m---> 22\u001b[0m     \u001b[43minstr\u001b[49m\u001b[38;5;241;43m.\u001b[39;49m\u001b[43mget_component\u001b[49m\u001b[43m(\u001b[49m\u001b[43mcomp_name\u001b[49m\u001b[43m)\u001b[49m\n\u001b[1;32m     23\u001b[0m \u001b[38;5;28;01mexcept\u001b[39;00m \u001b[38;5;167;01mKeyError\u001b[39;00m:\n\u001b[1;32m     24\u001b[0m     \u001b[38;5;28;01mraise\u001b[39;00m \u001b[38;5;167;01mKeyError\u001b[39;00m(\u001b[38;5;124m\"\u001b[39m\u001b[38;5;124mComponent \u001b[39m\u001b[38;5;124m'\u001b[39m\u001b[38;5;124m\"\u001b[39m \u001b[38;5;241m+\u001b[39m comp_name \u001b[38;5;241m+\u001b[39m \u001b[38;5;124m\"\u001b[39m\u001b[38;5;124m'\u001b[39m\u001b[38;5;124m not found in instrument.\u001b[39m\u001b[38;5;124m\"\u001b[39m)\n",
      "File \u001b[0;32m~/digitaltwin/instrument_database/McStasScript/mcstasscript/interface/instr.py:1579\u001b[0m, in \u001b[0;36mMcCode_instr.get_component\u001b[0;34m(self, name)\u001b[0m\n\u001b[1;32m   1577\u001b[0m     \u001b[38;5;28;01mreturn\u001b[39;00m \u001b[38;5;28mself\u001b[39m\u001b[38;5;241m.\u001b[39mcomponent_list[index]\n\u001b[1;32m   1578\u001b[0m \u001b[38;5;28;01melse\u001b[39;00m:\n\u001b[0;32m-> 1579\u001b[0m     \u001b[38;5;28;01mraise\u001b[39;00m \u001b[38;5;167;01mNameError\u001b[39;00m((\u001b[38;5;124m\"\u001b[39m\u001b[38;5;124mNo component was found with name \u001b[39m\u001b[38;5;130;01m\\\"\u001b[39;00m\u001b[38;5;124m\"\u001b[39m\n\u001b[1;32m   1580\u001b[0m                      \u001b[38;5;241m+\u001b[39m \u001b[38;5;28mstr\u001b[39m(name) \u001b[38;5;241m+\u001b[39m \u001b[38;5;124m\"\u001b[39m\u001b[38;5;130;01m\\\"\u001b[39;00m\u001b[38;5;124m!\u001b[39m\u001b[38;5;124m\"\u001b[39m))\n",
      "\u001b[0;31mNameError\u001b[0m: No component was found with name \"sqw\"!"
     ]
    }
   ],
   "source": [
    "diag.clear_points()\n",
    "diag.add_point(before=\"fermi_chopper\")\n",
    "diag.add_point(after=\"fermi_chopper\")\n",
    "diag.add_point(before=\"before_sample_diaphragm\")\n",
    "diag.add_point(after=\"before_sample_diaphragm\")\n",
    "diag.add_point(before=\"sqw\")\n",
    "diag.add_point(before=\"collimator\")\n",
    "diag.add_point(after=\"collimator\")\n",
    "diag.add_point(before=\"detector\")\n",
    "diag.settings(ncount=1e5)\n"
   ]
  },
  {
   "cell_type": "code",
   "execution_count": null,
   "id": "a20038f8",
   "metadata": {},
   "outputs": [],
   "source": [
    "mycalc.parameters"
   ]
  },
  {
   "cell_type": "code",
   "execution_count": null,
   "id": "b5cfe2ed",
   "metadata": {
    "scrolled": false
   },
   "outputs": [],
   "source": [
    "diag.run()"
   ]
  },
  {
   "cell_type": "code",
   "execution_count": null,
   "id": "6cb3ca01",
   "metadata": {},
   "outputs": [],
   "source": [
    "diag.clear_views()\n",
    "#diag.add_view(\"t\")\n",
    "diag.add_view(\"x\", bins=50) #, limits=[-0.04,0.04])\n",
    "diag.add_view(\"y\", bins=50) #, same_scale=False, limits=[-0.07,0.07])\n",
    "#diag.add_view(\"x\",\"y\",bins=[30,30])\n",
    "#diag.add_view(\"e\", same_scale=True)\n",
    "#diag.add_view(\"l\",same_scale=False)\n",
    "#diag.add_view(\"t\",same_scale=False)\n",
    "#diag.add_view(\"t\",\"x\",same_scale=False, log=True)\n",
    "#diag.add_view(\"t\",\"y\", same_scale=False)\n",
    "diag.add_view(\"x\",\"y\",same_scale=False, log=True)\n",
    "#diag.add_view(\"dx\",\"dy\",same_scale=False,log=True) #, limits=[-50,-10],left_min=-45,right_lim=-20,bins=100)\n",
    "#diag.add_view(\"dx\",\"x\",same_scale=False,log=True) #, limits=[-50,-10],left_min=-45,right_lim=-20,bins=100)\n",
    "diag.add_view(\"dx\",\"y\",same_scale=False,log=True) #, limits=[-50,-10],left_min=-45,right_lim=-20,bins=100)\n",
    "\n",
    "#diag.add_view(\"vz\",same_scale=True)\n",
    "print(diag)"
   ]
  },
  {
   "cell_type": "code",
   "execution_count": null,
   "id": "da0ac372",
   "metadata": {},
   "outputs": [],
   "source": [
    "diag.plot()"
   ]
  },
  {
   "cell_type": "code",
   "execution_count": null,
   "id": "640e8c59",
   "metadata": {
    "scrolled": false
   },
   "outputs": [],
   "source": []
  },
  {
   "cell_type": "code",
   "execution_count": null,
   "id": "3fbdef29",
   "metadata": {
    "scrolled": false
   },
   "outputs": [],
   "source": [
    "#myinstrument.show_instrument()"
   ]
  },
  {
   "cell_type": "code",
   "execution_count": null,
   "id": "b4284601",
   "metadata": {
    "scrolled": false
   },
   "outputs": [],
   "source": []
  },
  {
   "cell_type": "code",
   "execution_count": null,
   "id": "7c35a5b1",
   "metadata": {
    "scrolled": false
   },
   "outputs": [],
   "source": []
  },
  {
   "cell_type": "code",
   "execution_count": null,
   "id": "7af8b77e",
   "metadata": {
    "scrolled": false
   },
   "outputs": [],
   "source": [
    "\"detpos\" in myinstrument.master"
   ]
  },
  {
   "cell_type": "code",
   "execution_count": null,
   "id": "9c63ffad",
   "metadata": {
    "scrolled": false
   },
   "outputs": [],
   "source": [
    "%matplotlib widget\n",
    "import mcstasscript.jb_interface as ms_widget\n",
    "#ms_widget.show(data_empty)"
   ]
  },
  {
   "cell_type": "code",
   "execution_count": null,
   "id": "a9fbcdea",
   "metadata": {
    "scrolled": false
   },
   "outputs": [],
   "source": [
    "#myinstrument.sample.set_SPLIT(60)\n",
    "#myinstrument.sample"
   ]
  },
  {
   "cell_type": "code",
   "execution_count": null,
   "id": "1bc44a6f",
   "metadata": {
    "scrolled": false
   },
   "outputs": [],
   "source": [
    "#slit=myinstrument.calculators[\"SampleCalc\"].get_component(\"after_sample_slit\")\n",
    "#slit.EXTEND=\"\"\n",
    "#slit.append_EXTEND(\"if(p<1e-1) ABSORB;\")\n",
    "#slit\n"
   ]
  },
  {
   "cell_type": "code",
   "execution_count": null,
   "id": "3f95946d",
   "metadata": {},
   "outputs": [],
   "source": [
    "myinstrument.sim_neutrons(5e5)\n",
    "#myinstrument.set_sample_by_name(\"H2O\")\n",
    "#myinstrument.master[\"bs_index\"]=-1\n",
    "myinstrument.run()"
   ]
  },
  {
   "cell_type": "code",
   "execution_count": null,
   "id": "af03f0bf",
   "metadata": {
    "scrolled": false
   },
   "outputs": [],
   "source": [
    "data=myinstrument.output\n",
    "#print(data)\n",
    "calcname_data=\"DetectorCalc_data\"\n",
    "calcname_data=\"OriginCalc_data\"\n",
    "detectors=data[calcname_data].get_data()[\"data\"]"
   ]
  },
  {
   "cell_type": "code",
   "execution_count": null,
   "id": "899c7352",
   "metadata": {
    "scrolled": false
   },
   "outputs": [],
   "source": [
    "#print(data[calcname_data])\n",
    "\n",
    "#print()\n",
    "for detector in detectors:\n",
    "    print(detector, \"\\n\\t I = \",detector.Intensity, \"\\n\\t E =\", detector.Error, \"\\n\\t N =\", detector.Ncount)"
   ]
  },
  {
   "cell_type": "code",
   "execution_count": null,
   "id": "e224effe",
   "metadata": {
    "scrolled": false
   },
   "outputs": [],
   "source": [
    "print(detectors)\n",
    "#help(detector)\n",
    "import mcstasscript as ms\n",
    "ms.make_sub_plot(detectors[-3:], log=True)"
   ]
  },
  {
   "cell_type": "code",
   "execution_count": null,
   "id": "9e22c0ea",
   "metadata": {},
   "outputs": [],
   "source": [
    "detector = detectors[3]\n",
    "print(detector.Intensity)\n",
    "import numpy as np\n",
    "help(detector.Intensity)"
   ]
  },
  {
   "cell_type": "code",
   "execution_count": null,
   "id": "8fd110ad",
   "metadata": {
    "scrolled": false
   },
   "outputs": [],
   "source": [
    "wmins=[\"1e-5\", \"1e-4\", \"1e-3\", \"1e-2\", \"1e-1\"]\n",
    "detectors=[]\n",
    "for w_min in wmins:\n",
    "    slit=myinstrument.calculators[\"SampleCalc\"].get_component(\"after_sample_slit\")\n",
    "    slit.EXTEND=\"\"\n",
    "    slit.append_EXTEND(f\"if(p<{w_min}) ABSORB;\")\n",
    "    myinstrument.run()\n",
    "    data=myinstrument.output\n",
    "    detector=(data[\"DetectorCalc_data\"].get_data()[\"data\"][0])\n",
    "    detectors.append(detector)"
   ]
  },
  {
   "cell_type": "code",
   "execution_count": null,
   "id": "52bf6d4f",
   "metadata": {
    "scrolled": false
   },
   "outputs": [],
   "source": [
    "detectors"
   ]
  },
  {
   "cell_type": "code",
   "execution_count": null,
   "id": "6064814b",
   "metadata": {
    "scrolled": false
   },
   "outputs": [],
   "source": [
    "import numpy as np\n",
    "\n",
    "RHs = [0,1.75,2,2.25]#list() #np.arange(-1,4,1))\n",
    "RVs = [0,1,2, 2.5,3] #list(np.arange(1,3,0.3))\n",
    "#RVs.append(1.88)\n",
    "#RHs.append(3.31)\n",
    "print(RHs)\n",
    "print(RVs)\n",
    "diag_opt_component=\"before_sample_diaphragm\"\n",
    "diag_opt_component=\"fermi_chopper\"\n",
    "#mycalc.parameters[\"mono_rv\"]=0\n",
    "#mycalc.parameters[\"mono_rh\"]=0"
   ]
  },
  {
   "cell_type": "code",
   "execution_count": null,
   "id": "266fedf2",
   "metadata": {},
   "outputs": [],
   "source": [
    "#diag = ms.Diagnostics(mycalc)\n",
    "#diag.settings(ncount=1e2, suppress_output=True,force_compile=True)\n",
    "#diag.run()\n",
    "diag.settings(ncount=1e5, suppress_output=True,force_compile=False)\n",
    "diag.clear_points()\n",
    "diag.add_point(before=diag_opt_component)\n",
    "diag.add_point(after=diag_opt_component)\n",
    "diag.clear_views()\n",
    "diag.add_view(\"x\",\"y\",same_scale=True)\n",
    "diag.add_view(\"dx\",\"dy\")\n",
    "print(diag)"
   ]
  },
  {
   "cell_type": "code",
   "execution_count": null,
   "id": "d5255779",
   "metadata": {},
   "outputs": [],
   "source": [
    "help(diag)"
   ]
  },
  {
   "cell_type": "code",
   "execution_count": null,
   "id": "f787ba8e",
   "metadata": {
    "scrolled": false
   },
   "outputs": [],
   "source": [
    "diag.set_parameters(mono_rh=RHs[0])\n",
    "\n",
    "for RV in RVs:\n",
    "    print(RV)\n",
    "    diag.instr.parameters[\"mono_rv\"]=RV\n",
    "    diag.set_parameters(mono_rv=RV)\n",
    "    diag.run()\n",
    "    diag.plot()\n",
    "#(RHmono,RVmono) = (3.31,1.88)\n",
    "#lambda: 4.05\n",
    "#lambda: 4.05 +/- 0.04\n",
    "#energy: 4.98 +/- 0.10\n",
    "#(RHanalyzer,RVanalyzer) = (4.17,0.77)\n",
    "#'Monochromator', 'counter', 'before_sample_slit', 'sqw', 'after_sample_slit', 'analyzer', 'slit', 'detector_all']"
   ]
  },
  {
   "cell_type": "code",
   "execution_count": null,
   "id": "37d32f3f",
   "metadata": {},
   "outputs": [],
   "source": [
    "diag.set_parameters(mono_rv=RVs[0])\n",
    "\n",
    "for RH in RHs:\n",
    "    print(RH)\n",
    "    diag.set_parameters(mono_rh=RH)\n",
    "    diag.run()\n",
    "    print(diag)\n",
    "    diag.plot()\n"
   ]
  },
  {
   "cell_type": "code",
   "execution_count": null,
   "id": "833d4920",
   "metadata": {
    "scrolled": false
   },
   "outputs": [],
   "source": [
    "print(diag)"
   ]
  },
  {
   "cell_type": "code",
   "execution_count": null,
   "id": "076601d1",
   "metadata": {
    "scrolled": false
   },
   "outputs": [],
   "source": [
    "diags= [] \n",
    "\n",
    "print(RHs)\n",
    "for RH in RHs:\n",
    "    print(RH)\n",
    "    mycalc.parameters[\"mono_rh\"]=RH\n",
    "    diag = ms.Diagnostics(mycalc)\n",
    "    diag.settings(ncount=1e5, suppress_output=True,force_compile=False)\n",
    "    diag.clear_points()\n",
    "    diag.add_point(after=diag_opt_component)\n",
    "#    diag.add_point(before=\"sqw\")\n",
    "    diag.run()\n",
    "    diags.append(diag)"
   ]
  },
  {
   "cell_type": "code",
   "execution_count": null,
   "id": "acce6086",
   "metadata": {},
   "outputs": [],
   "source": [
    "print(diag)"
   ]
  },
  {
   "cell_type": "code",
   "execution_count": null,
   "id": "cf005938",
   "metadata": {
    "scrolled": false
   },
   "outputs": [],
   "source": [
    "for diag in diags:\n",
    "    diag.clear_views()\n",
    "    #diag.add_view(\"x\", bins=50, limits=[-0.04,0.04])\n",
    "    #diag.add_view(\"y\", bins=50, same_scale=False, limits=[-0.07,0.07])\n",
    "    diag.add_view(\"x\",\"y\")\n",
    "    diag.add_view(\"dx\",\"dy\")\n",
    "    #diag.add_view(\"dx\")\n",
    "    #diag.add_view(\"dy\")\n",
    "    diag.plot()\n",
    "    print(diag)"
   ]
  },
  {
   "cell_type": "code",
   "execution_count": null,
   "id": "31a5b68b",
   "metadata": {
    "scrolled": false
   },
   "outputs": [],
   "source": [
    "for diag in diags:\n",
    "    diag.clear_views()\n",
    "    diag.add_view(\"x\", bins=50, limits=[-0.04,0.04])\n",
    "    diag.add_view(\"y\", bins=50, same_scale=False, limits=[-0.07,0.07])\n",
    "    #diag.add_view(\"x\",\"y\",bins=[30,30])\n",
    "    #diag.add_view(\"dx\",\"dy\")\n",
    "    diag.add_view(\"dx\")\n",
    "    diag.add_view(\"dy\")\n",
    "    diag.plot()"
   ]
  },
  {
   "cell_type": "code",
   "execution_count": null,
   "id": "5d830ade",
   "metadata": {
    "scrolled": false
   },
   "outputs": [],
   "source": [
    "myinstrument.force_compile(False)\n",
    "myinstrument.sim_neutrons(1e5)\n",
    "counter=[]\n",
    "detector=[]\n",
    "mycalc = myinstrument.calculators[\"OriginCalc\"]\n",
    "for RV in RVs:\n",
    "    for RH in RHs:\n",
    "        mycalc.parameters[\"RHmono\"].value = RH\n",
    "        mycalc.parameters[\"RVmono\"].value = RV\n",
    "        #print(mycalc.parameters)\n",
    "        myinstrument.run()\n",
    "        counter.append(myinstrument.output[\"OriginCalc_data\"].get_data()[\"data\"])"
   ]
  },
  {
   "cell_type": "code",
   "execution_count": null,
   "id": "67b8c8d6",
   "metadata": {
    "scrolled": false
   },
   "outputs": [],
   "source": [
    "i=0\n",
    "i_det=1\n",
    "for RV in RVs:\n",
    "    for RH in RHs:\n",
    "        c = counter[i]\n",
    "        det=c[1]\n",
    "        print(i, \"\\t\" , RV, RH, \"\\t\\t\" , det.Intensity, det.Error, det.Ncount)\n",
    "        i=i+1"
   ]
  },
  {
   "cell_type": "code",
   "execution_count": null,
   "id": "e1798cb5",
   "metadata": {
    "scrolled": false
   },
   "outputs": [],
   "source": [
    "mycalc.output"
   ]
  },
  {
   "cell_type": "code",
   "execution_count": null,
   "id": "acd58fe9",
   "metadata": {
    "scrolled": false
   },
   "outputs": [],
   "source": [
    "print(myinstrument.output)"
   ]
  },
  {
   "cell_type": "code",
   "execution_count": null,
   "id": "4bd7a273",
   "metadata": {
    "scrolled": false
   },
   "outputs": [],
   "source": [
    "RHs = list(np.arange(1.5,3,0.2))\n",
    "RVs = list(np.arange(0.3,1.2,0.2))\n",
    "RVs.append(0.51)\n",
    "RHs.append(1.41)\n",
    "print(RHs)\n",
    "print(RVs)\n",
    "\n",
    "myinstrument.force_compile(False)\n",
    "myinstrument.sim_neutrons(1e5)\n",
    "counter=[]\n",
    "\n",
    "mycalc = myinstrument.calculators[\"OriginCalc\"]\n",
    "for RV in RVs:\n",
    "    for RH in RHs:\n",
    "        mycalc.parameters[\"RHanalyzer\"].value = RH\n",
    "        mycalc.parameters[\"RVanalyzer\"].value = RV\n",
    "        #print(mycalc.parameters)\n",
    "        myinstrument.run()\n",
    "        counter.append(myinstrument.output[\"OriginCalc_data\"].get_data()[\"data\"])"
   ]
  },
  {
   "cell_type": "code",
   "execution_count": null,
   "id": "24d1d3ec",
   "metadata": {
    "scrolled": false
   },
   "outputs": [],
   "source": [
    "i=0\n",
    "i_det=1\n",
    "intensities = []\n",
    "counts = []\n",
    "for RV in RVs:\n",
    "    for RH in RHs:\n",
    "        c = counter[i]\n",
    "        det=c[1]\n",
    "        #print(i, \"\\t\" , RV, RH, \"\\t\\t\" , det.Intensity, det.Error, det.Ncount)\n",
    "        intensities.append(det.Intensity)\n",
    "        counts.append(det.Ncount)\n",
    "        i=i+1"
   ]
  },
  {
   "cell_type": "code",
   "execution_count": null,
   "id": "6cdcc95a",
   "metadata": {
    "scrolled": false
   },
   "outputs": [],
   "source": [
    "max(intensities)"
   ]
  },
  {
   "cell_type": "code",
   "execution_count": null,
   "id": "cfdb106f",
   "metadata": {
    "scrolled": false
   },
   "outputs": [],
   "source": [
    "max(counts)"
   ]
  },
  {
   "cell_type": "code",
   "execution_count": null,
   "id": "d4090a1b",
   "metadata": {
    "scrolled": false
   },
   "outputs": [],
   "source": [
    "intensities.index(max(intensities))"
   ]
  },
  {
   "cell_type": "code",
   "execution_count": null,
   "id": "e5201171",
   "metadata": {
    "scrolled": false
   },
   "outputs": [],
   "source": [
    "counts.index(max(counts))"
   ]
  },
  {
   "cell_type": "code",
   "execution_count": null,
   "id": "88f54a79",
   "metadata": {
    "scrolled": false
   },
   "outputs": [],
   "source": [
    "i=0\n",
    "for RV in RVs:\n",
    "    for RH in RHs:\n",
    "        print(RV, RH, counts[i])\n",
    "        if i==counts.index(max(counts)):\n",
    "            print(\"---> \",RV, RH)\n",
    "        i=i+1"
   ]
  },
  {
   "cell_type": "code",
   "execution_count": null,
   "id": "100a7451",
   "metadata": {
    "scrolled": false
   },
   "outputs": [],
   "source": [
    "RVs"
   ]
  },
  {
   "cell_type": "code",
   "execution_count": null,
   "id": "b6653053",
   "metadata": {
    "scrolled": false
   },
   "outputs": [],
   "source": [
    "RHs"
   ]
  },
  {
   "cell_type": "code",
   "execution_count": null,
   "id": "17ddad58",
   "metadata": {
    "scrolled": false
   },
   "outputs": [],
   "source": [
    "dist_sample_ana = 1.260\n",
    "dist_ana_det = 0.640\n",
    "import math\n",
    "ana_focus = 1.0 / (1.0 / dist_sample_ana + 1.0 / dist_ana_det)"
   ]
  },
  {
   "cell_type": "code",
   "execution_count": null,
   "id": "b9bb0a25",
   "metadata": {
    "scrolled": false
   },
   "outputs": [],
   "source": [
    "\n",
    "def rh(ana_focus):\n",
    "    return 2*ana_focus/math.sin(math.pi/180*myinstrument.master[\"a6\"].value/2)\n",
    "def rv(ana_focus):\n",
    "    return 2*ana_focus*math.sin(math.pi/180*myinstrument.master[\"a6\"].value/2)\n"
   ]
  },
  {
   "cell_type": "code",
   "execution_count": null,
   "id": "0275cde3",
   "metadata": {
    "scrolled": false
   },
   "outputs": [],
   "source": [
    "print(rv(ana_focus),rh(ana_focus))"
   ]
  },
  {
   "cell_type": "code",
   "execution_count": null,
   "id": "10289531",
   "metadata": {
    "scrolled": false
   },
   "outputs": [],
   "source": [
    "ana_focus=dist_ana_det\n",
    "print(rv(ana_focus),rh(ana_focus))"
   ]
  },
  {
   "cell_type": "code",
   "execution_count": null,
   "id": "a4cfb70b",
   "metadata": {
    "scrolled": false
   },
   "outputs": [],
   "source": [
    "flavour.find(\"quicka\")"
   ]
  },
  {
   "cell_type": "code",
   "execution_count": null,
   "id": "2e2d80c9",
   "metadata": {
    "scrolled": false
   },
   "outputs": [],
   "source": []
  },
  {
   "cell_type": "code",
   "execution_count": null,
   "id": "f4803704",
   "metadata": {},
   "outputs": [],
   "source": []
  },
  {
   "cell_type": "code",
   "execution_count": null,
   "id": "94561599",
   "metadata": {},
   "outputs": [],
   "source": [
    "import mcstasscript as ms\n",
    "import math\n",
    "instrument = ms.McStas_instr(\"test\")\n",
    "\n",
    "source = instrument.add_component(\"source\", \"Source_simple\")\n",
    "source.set_parameters(xwidth=0.05, yheight=0.03, dlambda=0.02,\n",
    "                      dist=1.7, focus_xw=0.3, focus_yh=0.05)\n",
    "#source.lambda0 = instrument.add_parameter(\"wavelength\", value=2.0)\n",
    "source.E0=6\n",
    "\n",
    "slit = instrument.add_component(\"slit\",\"Slit\", AT=1.60, RELATIVE=source)\n",
    "\n",
    "#fermi=instrument.add_component(\"fermi\",\"Arm\", AT=5, RELATIVE=source)\n",
    "fermi = instrument.add_component(\"fermi\", \"FermiChopper\", AT=1.700, RELATIVE=source)\n",
    "        # L_bc5_fermi = L_bc5_fermi + fermi.AT_data[2]\n",
    "        # print(L_bc5_fermi)\n",
    "\n",
    "fermi.set_parameters(\n",
    "            radius=math.sqrt((0.0006 * 45) ** 2 + 0.023 ** 2),\n",
    "            nslit=45,\n",
    "            length=0.023,\n",
    "            w=0.0006,\n",
    "            yheight=0.113,\n",
    "            nu=500,\n",
    "            verbose=2,\n",
    "            eff=0.86 * 0.8,\n",
    "            m=0,\n",
    "            R0=0,  # no super mirror\n",
    "            zero_time=2,\n",
    "            # delay=0.007,\n",
    "            # delay=str(L_bc5_fermi) + \" / neutron_velocity\",\n",
    "            #            delay=0.0065,\n",
    "            # phase=-23.1209 * 2,\n",
    "        )\n",
    "print(fermi.radius)\n",
    "slit.xwidth=fermi.radius*2*0.9\n",
    "slit.yheight=fermi.yheight\n",
    "class sample:\n",
    "    \"\"\"\"\"\"\n",
    "    radius=0.1\n",
    "    yheight=0.1\n",
    "    \n",
    "mon = instrument.add_component(\"PSD\", \"PSD_monitor\")\n",
    "mon.set_AT(0.1, RELATIVE=fermi)\n",
    "mon.set_parameters(nx=100, ny=100, filename='\"psd.dat\"',\n",
    "                   xwidth=5*sample.radius, yheight=2*sample.yheight, restore_neutron=1)\n"
   ]
  },
  {
   "cell_type": "code",
   "execution_count": null,
   "id": "d0b0fbbb",
   "metadata": {},
   "outputs": [],
   "source": [
    "diag = ms.Diagnostics(instrument)\n",
    "diag.settings(ncount=1e5, suppress_output=False)\n",
    "diag.show_settings()\n",
    "diag.clear_points()\n",
    "#diag.add_point(before=\"slit\")\n",
    "#diag.add_point(after=\"slit\")\n",
    "\n",
    "diag.add_point(after=\"fermi\")\n",
    "\n",
    "diag.run()\n"
   ]
  },
  {
   "cell_type": "code",
   "execution_count": null,
   "id": "48f9daba",
   "metadata": {},
   "outputs": [],
   "source": [
    "diag.clear_views()\n",
    "diag.add_view(\"x\",\"y\",same_scale=True, log=True)\n",
    "diag.add_view(\"t\",\"x\",same_scale=False, log=True)\n",
    "diag.plot()"
   ]
  },
  {
   "cell_type": "code",
   "execution_count": null,
   "id": "72a442c0",
   "metadata": {},
   "outputs": [],
   "source": [
    "instrument.show_diagram(analysis=True, variable=None)"
   ]
  },
  {
   "cell_type": "code",
   "execution_count": null,
   "id": "0ff41a1a",
   "metadata": {},
   "outputs": [],
   "source": []
  }
 ],
 "metadata": {
  "kernelspec": {
   "display_name": "Python 3 (ipykernel)",
   "language": "python",
   "name": "python3"
  },
  "language_info": {
   "codemirror_mode": {
    "name": "ipython",
    "version": 3
   },
   "file_extension": ".py",
   "mimetype": "text/x-python",
   "name": "python",
   "nbconvert_exporter": "python",
   "pygments_lexer": "ipython3",
   "version": "3.10.6"
  }
 },
 "nbformat": 4,
 "nbformat_minor": 5
}
