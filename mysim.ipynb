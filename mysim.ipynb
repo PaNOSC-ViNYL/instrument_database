{
 "cells": [
  {
   "cell_type": "code",
   "execution_count": 1,
   "id": "fe05f337",
   "metadata": {
    "scrolled": false
   },
   "outputs": [],
   "source": [
    "from instrumentdatabaseapi import instrumentdatabaseapi as API\n",
    "repo = API.Repository(local_repo=\".\")"
   ]
  },
  {
   "cell_type": "code",
   "execution_count": 2,
   "id": "e7361d79",
   "metadata": {
    "scrolled": false
   },
   "outputs": [
    {
     "name": "stdout",
     "output_type": "stream",
     "text": [
      "URL: https://github.com/PaNOSC-ViNYL/instrument_database.git\n",
      "local_dir: ./\n"
     ]
    }
   ],
   "source": [
    "print(repo)"
   ]
  },
  {
   "cell_type": "markdown",
   "id": "35e75700",
   "metadata": {},
   "source": [
    "Load the instrument configuration providing:\n",
    " - name of the institute\n",
    " - name of the instrument\n",
    " - version of the instrument description (HEAD is the most recent)\n",
    " - name of the simulation program"
   ]
  },
  {
   "cell_type": "code",
   "execution_count": 3,
   "id": "ed79abb5",
   "metadata": {
    "scrolled": false
   },
   "outputs": [
    {
     "name": "stdout",
     "output_type": "stream",
     "text": [
      " - EuXFEL\n",
      " - ILL\n",
      " - test_institute\n"
     ]
    }
   ],
   "source": [
    "repo.ls_institutes()"
   ]
  },
  {
   "cell_type": "code",
   "execution_count": 4,
   "id": "7d780aed",
   "metadata": {},
   "outputs": [
    {
     "name": "stdout",
     "output_type": "stream",
     "text": [
      "Available instruments for ILL:\n",
      " -  ILL/D22\n",
      " -  ILL/Panther\n",
      " -  ILL/ThALES\n",
      " -  ILL/IN5\n",
      " -  ILL/D11\n"
     ]
    }
   ],
   "source": [
    "repo.ls_instruments(\"ILL\")"
   ]
  },
  {
   "cell_type": "code",
   "execution_count": 5,
   "id": "495cae4b",
   "metadata": {
    "scrolled": false
   },
   "outputs": [],
   "source": [
    "instrument_name=\"Panther\"\n",
    "#instrument_name=\"ThALES\"\n",
    "#instrument_name=\"IN5\"\n",
    "#instrument_name=\"D11\""
   ]
  },
  {
   "cell_type": "code",
   "execution_count": 6,
   "id": "1490bb0d",
   "metadata": {
    "scrolled": false
   },
   "outputs": [
    {
     "name": "stdout",
     "output_type": "stream",
     "text": [
      "Available versions for instrument Panther:\n",
      " -  HEAD\n"
     ]
    }
   ],
   "source": [
    "repo.ls_versions(\"ILL\",instrument_name)"
   ]
  },
  {
   "cell_type": "code",
   "execution_count": 7,
   "id": "acf32222",
   "metadata": {
    "scrolled": false
   },
   "outputs": [
    {
     "name": "stdout",
     "output_type": "stream",
     "text": [
      "Instrument Panther from institute ILL is implemented with the following programs:\n",
      " -  mcstas\n"
     ]
    }
   ],
   "source": [
    "repo.ls_simulation_programs(\"ILL\",instrument_name,\"HEAD\")"
   ]
  },
  {
   "cell_type": "code",
   "execution_count": 8,
   "id": "c6ab7b51",
   "metadata": {
    "scrolled": false
   },
   "outputs": [
    {
     "name": "stdout",
     "output_type": "stream",
     "text": [
      "Available flavours for instrument Panther:\n",
      " -  None\n",
      " -  nosection\n",
      " -  quick\n",
      " -  quicknosection\n"
     ]
    }
   ],
   "source": [
    "repo.ls_flavours(\"ILL\",instrument_name,\"HEAD\",\"mcstas\")"
   ]
  },
  {
   "cell_type": "code",
   "execution_count": 9,
   "id": "1a94bd7a",
   "metadata": {
    "scrolled": false
   },
   "outputs": [],
   "source": [
    "flavour=\"full\"\n",
    "flavour=\"nosection\"\n",
    "flavour=\"quicknosection\"\n",
    "myinstrument = repo.load(\"ILL\", instrument_name, \"HEAD\", \"mcstas\", flavour, dep=False)"
   ]
  },
  {
   "cell_type": "code",
   "execution_count": 10,
   "id": "89328333",
   "metadata": {
    "scrolled": false
   },
   "outputs": [
    {
     "data": {
      "text/plain": [
       "{'OriginCalc': <mcstasscript.interface.instr.McStas_instr at 0x7f225667bbe0>}"
      ]
     },
     "execution_count": 10,
     "metadata": {},
     "output_type": "execute_result"
    }
   ],
   "source": [
    "myinstrument.calculators"
   ]
  },
  {
   "cell_type": "code",
   "execution_count": 11,
   "id": "79b04730",
   "metadata": {
    "scrolled": false
   },
   "outputs": [
    {
     "name": "stdout",
     "output_type": "stream",
     "text": [
      "######## Instrument Panther\n",
      "- Instrument: Panther -\n",
      "Calculators:\n",
      "OriginCalc\n",
      "- ParametersCollection object -\n",
      "  Master Parameters\n",
      "  energy                              0          [millielectron_volt]  Initial neutron energy   \n",
      "\n",
      "   OriginCalc\n",
      "    - Parameters object -\n",
      "   mono_index                          -1                              Monochromator index. -1 = auto: based on the energy   (-1, 0, 1, 2, 3, 4)\n",
      "   a2                                  0          [degree]             Angle between beam reflected by monochromator and incident beam   L[36.0 degree, 58.97 degree](0 degree)\n",
      "   chopper_rpm                         0                               Fermi chopper speed   L[6000, 30000](0)\n",
      "   chopper_ratio                       1                                  (1, 2)\n",
      "   Ei                                  15         [millielectron_volt]  Initial neutron energy   L[7.5 millielectron_volt, 130 millielectron_volt]\n",
      "   dE                                  0.1        [millielectron_volt]  Initial neutron energy dispertion   \n",
      "   Efoc                                0          [millielectron_volt]  Focusing energy   \n",
      "   before_sample_slit_width            0.2        [meter]              Horizontal width of the slit opening   \n",
      "   before_sample_slit_height           0.2        [meter]              Vertical height of the slit opening   \n",
      "   sample_y_rotation                   0          [degree]             sample table rotation angle   \n",
      "   sample_width                        0.0        [meter]              width of the sample if shape is box   \n",
      "   sample_height                       0.0        [meter]              height of the sample if shape is box or cylinder   \n",
      "   sample_depth                        0.0        [meter]              depth of the sample if shape is box   \n",
      "   sample_radius                       0.0        [meter]              radius of the sample if shape is sphere or cylinder   \n",
      "   sample_thickness                    0.0        [meter]              thickness of the sample if it is hollow   \n",
      "   sample_holder_width                 0.0        [meter]              width of the sample if shape is box   \n",
      "   sample_holder_height                0.0        [meter]              height of the sample if shape is box or cylinder   \n",
      "   sample_holder_depth                 0.0        [meter]              depth of the sample if shape is box   \n",
      "   sample_holder_radius                0.0        [meter]              radius of the sample if shape is sphere or cylinder   \n",
      "   sample_holder_thickness             0.0        [meter]              thickness of the sample if it is hollow   \n",
      "\n",
      "############\n"
     ]
    }
   ],
   "source": [
    "print(myinstrument)"
   ]
  },
  {
   "cell_type": "code",
   "execution_count": 12,
   "id": "c2b955ba",
   "metadata": {
    "scrolled": false
   },
   "outputs": [],
   "source": [
    "# setting the base directory for the simulation output\n",
    "basedir = \"/tmp/\"+instrument_name+\"/\"\n",
    "import os \n",
    "os.makedirs(basedir, exist_ok=True)\n",
    "myinstrument.set_instrument_base_dir(basedir)"
   ]
  },
  {
   "cell_type": "code",
   "execution_count": 13,
   "id": "bf583b30",
   "metadata": {
    "scrolled": false
   },
   "outputs": [
    {
     "data": {
      "text/plain": [
       " - Parameters object -\n",
       "energy                              0          [millielectron_volt]  Initial neutron energy   "
      ]
     },
     "execution_count": 13,
     "metadata": {},
     "output_type": "execute_result"
    }
   ],
   "source": [
    "myinstrument.master"
   ]
  },
  {
   "cell_type": "code",
   "execution_count": 14,
   "id": "5e7d0e97",
   "metadata": {
    "scrolled": false
   },
   "outputs": [
    {
     "data": {
      "text/plain": [
       "['None', 'vanadium', 'H2O', 'D2O', 'sqw']"
      ]
     },
     "execution_count": 14,
     "metadata": {},
     "output_type": "execute_result"
    }
   ],
   "source": [
    "myinstrument.samples"
   ]
  },
  {
   "cell_type": "code",
   "execution_count": 15,
   "id": "a4dc4b8f",
   "metadata": {
    "scrolled": false
   },
   "outputs": [],
   "source": [
    "#myinstrument.set_sample_by_name(\"sqw\")\n",
    "#myinstrument.master[\"sqw_file\"]='\"/users/nourbakhsh/digitaltwin/instrument_database/institutes/ILL/instruments/D11/HEAD/mcstas/data/simul_5711.dat\"'\n",
    "#myinstrument.set_sample_by_name(\"None\")"
   ]
  },
  {
   "cell_type": "code",
   "execution_count": 16,
   "id": "6c52b68a",
   "metadata": {},
   "outputs": [],
   "source": [
    "#myinstrument.sample_holder(material=\"quartz\", shape=\"box\",w=0.02, h=0.03, d=0.0135, th=0.00125)"
   ]
  },
  {
   "cell_type": "code",
   "execution_count": 17,
   "id": "e5f12935",
   "metadata": {
    "scrolled": false
   },
   "outputs": [],
   "source": [
    "#myinstrument.sample_box_shape(0.02, 0.03,0.0035-2*0.00125)\n",
    "#myinstrument.sample_shape(\"holder\")\n",
    "#help(myinstrument.sample_shape)"
   ]
  },
  {
   "cell_type": "code",
   "execution_count": 18,
   "id": "9a69d1a4",
   "metadata": {
    "scrolled": false
   },
   "outputs": [],
   "source": [
    "import pint\n",
    "ureg = pint.get_application_registry()\n",
    "\n",
    "test_number = 2 #None 1 or 2\n",
    "if instrument_name == \"ThALES\":\n",
    "    myinstrument.master[\"a2\"] = myinstrument.energy_to_angle(4.98 * ureg.meV)\n",
    "    myinstrument.master[\"a4\"] = 60 * ureg.degree\n",
    "    myinstrument.master[\"a6\"] = myinstrument.master[\"a2\"].pint_value\n",
    "elif instrument_name == \"Panther\":\n",
    "    myinstrument.master[\"energy\"]=19 * ureg.meV\n",
    "    myinstrument.master[\"energy\"]=30 * ureg.meV\n",
    "    \n",
    "    myinstrument.set_sample_by_name(\"vanadium\")\n",
    "    myinstrument.sample_shape(\"shere\", r=0.01)\n",
    "    myinstrument.calculators[\"OriginCalc\"].parameters[\"chopper_rpm\"]=0\n",
    "    if flavour.find(\"quick\")<0:\n",
    "        myinstrument.calculators[\"OriginCalc\"].parameters[\"a2\"]=0\n",
    "        # there is a problem with RV and RH\n",
    "        myinstrument.calculators[\"OriginCalc\"].parameters[\"mono_rv\"]=1\n",
    "        myinstrument.calculators[\"OriginCalc\"].parameters[\"mono_rh\"]=2\n",
    "        myinstrument.calculators[\"OriginCalc\"].parameters[\"dch\"]=0.05\n",
    "        \n",
    "    myinstrument.calculators[\"OriginCalc\"].parameters[\"before_sample_slit_width\"]=0.5\n",
    "    myinstrument.calculators[\"OriginCalc\"].parameters[\"before_sample_slit_height\"]=0.5\n",
    "    comp=myinstrument.calculators[\"OriginCalc\"].get_component(\"fermi_chopper\")\n",
    "    comp.zero_time=2\n",
    "    \n",
    "\n",
    "    \n",
    "\n",
    "elif instrument_name == \"D11\":\n",
    "    myinstrument.set_test(test_number)\n",
    "    myinstrument.set_sample_by_name(\"H2O\")\n",
    "else:\n",
    "    myinstrument.sample_holder(material=\"quartz\", shape=\"box\",w=0.02, h=0.03, d=0.0135, th=0.00125)\n",
    "    myinstrument.sample_shape(\"holder\")"
   ]
  },
  {
   "cell_type": "code",
   "execution_count": 19,
   "id": "17ab1a80",
   "metadata": {
    "scrolled": false
   },
   "outputs": [],
   "source": [
    "myinstrument.sim_neutrons(5e6)\n",
    "myinstrument.set_seed(654321)\n",
    "myinstrument.custom_flags(\"-I mcstas/components\")"
   ]
  },
  {
   "cell_type": "code",
   "execution_count": 20,
   "id": "83e6432c",
   "metadata": {},
   "outputs": [
    {
     "name": "stdout",
     "output_type": "stream",
     "text": [
      " - Parameters object -\n",
      "mono_index                          -1                              Monochromator index. -1 = auto: based on the energy   (-1, 0, 1, 2, 3, 4)\n",
      "a2                                  0          [degree]             Angle between beam reflected by monochromator and incident beam   L[36.0 degree, 58.97 degree](0 degree)\n",
      "chopper_rpm                         0                               Fermi chopper speed   L[6000, 30000](0)\n",
      "chopper_ratio                       1                                  (1, 2)\n",
      "Ei                                  30         [millielectron_volt]  Initial neutron energy   L[7.5 millielectron_volt, 130 millielectron_volt]\n",
      "dE                                  0.1        [millielectron_volt]  Initial neutron energy dispertion   \n",
      "Efoc                                0          [millielectron_volt]  Focusing energy   \n",
      "before_sample_slit_width            0.5        [meter]              Horizontal width of the slit opening   \n",
      "before_sample_slit_height           0.5        [meter]              Vertical height of the slit opening   \n",
      "sample_y_rotation                   0          [degree]             sample table rotation angle   \n",
      "sample_width                        0          [meter]              width of the sample if shape is box   \n",
      "sample_height                       0          [meter]              height of the sample if shape is box or cylinder   \n",
      "sample_depth                        0          [meter]              depth of the sample if shape is box   \n",
      "sample_radius                       0.01       [meter]              radius of the sample if shape is sphere or cylinder   \n",
      "sample_thickness                    0          [meter]              thickness of the sample if it is hollow   \n",
      "sample_holder_width                 0.0        [meter]              width of the sample if shape is box   \n",
      "sample_holder_height                0.0        [meter]              height of the sample if shape is box or cylinder   \n",
      "sample_holder_depth                 0.0        [meter]              depth of the sample if shape is box   \n",
      "sample_holder_radius                0.0        [meter]              radius of the sample if shape is sphere or cylinder   \n",
      "sample_holder_thickness             0.0        [meter]              thickness of the sample if it is hollow   \n",
      "\n"
     ]
    }
   ],
   "source": [
    "calc =myinstrument.calculators[\"OriginCalc\"]\n",
    "#calc.settings(mpi=6)\n",
    "print(calc.parameters)"
   ]
  },
  {
   "cell_type": "markdown",
   "id": "afc301e9",
   "metadata": {},
   "source": [
    "### Diagnostics of the beam for one calculator"
   ]
  },
  {
   "cell_type": "code",
   "execution_count": 21,
   "id": "7cf72254",
   "metadata": {
    "scrolled": false
   },
   "outputs": [],
   "source": [
    "calculator_name=\"SampleCalc\"\n",
    "calculator_name=\"OriginCalc\"\n",
    "mycalc = myinstrument.calculators[calculator_name]\n",
    "#mycalc.backengine()\n",
    "#myinstrument.run()\n",
    "#print(mycalc.output)"
   ]
  },
  {
   "cell_type": "code",
   "execution_count": 22,
   "id": "3f8e0aaa",
   "metadata": {
    "scrolled": false
   },
   "outputs": [
    {
     "data": {
      "image/png": "[encoded data removed]",
      "text/plain": [
       "<Figure size 620x220 with 1 Axes>"
      ]
     },
     "metadata": {},
     "output_type": "display_data"
    },
    {
     "data": {
      "image/png": "[encoded data removed]",
      "text/plain": [
       "<Figure size 861.6x600 with 3 Axes>"
      ]
     },
     "metadata": {},
     "output_type": "display_data"
    }
   ],
   "source": [
    "if flavour.find(\"quick\")<0:\n",
    "    for dch in [0]: #[0.05, 0.06, 0.04, 0]:\n",
    "        print(dch)\n",
    "        myinstrument.calculators[\"OriginCalc\"].parameters[\"dch\"]=dch\n",
    "        mycalc.show_diagram(analysis=True, variable=None)\n",
    "#else:\n",
    "mycalc.show_diagram(analysis=True, variable=None)        "
   ]
  },
  {
   "cell_type": "code",
   "execution_count": 23,
   "id": "5ea6bcaa",
   "metadata": {},
   "outputs": [
    {
     "name": "stdout",
     "output_type": "stream",
     "text": [
      "COMPONENT fermi_chopper = FermiChopper(\n",
      "  \u001b[1mradius\u001b[0m = \u001b[1m\u001b[92m0.035468295701936395\u001b[0m\u001b[0m, // [m]\n",
      "  \u001b[1mnu\u001b[0m = \u001b[1m\u001b[92mchopper_rpm/60\u001b[0m\u001b[0m, // [Hz]\n",
      "  \u001b[1mw\u001b[0m = \u001b[1m\u001b[92m0.0006\u001b[0m\u001b[0m, // [m]\n",
      "  \u001b[1mnslit\u001b[0m = \u001b[1m\u001b[92m45\u001b[0m\u001b[0m, // [1]\n",
      "  \u001b[1mR0\u001b[0m = \u001b[1m\u001b[92m0\u001b[0m\u001b[0m, // [1]\n",
      "  \u001b[1mm\u001b[0m = \u001b[1m\u001b[92m0\u001b[0m\u001b[0m, // [1]\n",
      "  \u001b[1mlength\u001b[0m = \u001b[1m\u001b[92m0.023\u001b[0m\u001b[0m, // [m]\n",
      "  \u001b[1meff\u001b[0m = \u001b[1m\u001b[92m0.6880000000000001\u001b[0m\u001b[0m, // [1]\n",
      "  \u001b[1mzero_time\u001b[0m = \u001b[1m\u001b[92m2\u001b[0m\u001b[0m, // [1]\n",
      "  \u001b[1mverbose\u001b[0m = \u001b[1m\u001b[92m2\u001b[0m\u001b[0m, // [1]\n",
      "  \u001b[1myheight\u001b[0m = \u001b[1m\u001b[92m0.113\u001b[0m\u001b[0m // [m]\n",
      ")\n",
      "AT (0, 0, 1.7) RELATIVE Monochromator_Out\n"
     ]
    }
   ],
   "source": [
    "comp=mycalc.get_component(\"fermi_chopper\")\n",
    "#comp.zero_time=2\n",
    "print(comp)\n",
    "#mycalc.remove_component(\"detector\")"
   ]
  },
  {
   "cell_type": "code",
   "execution_count": 24,
   "id": "1bc1c547",
   "metadata": {},
   "outputs": [
    {
     "name": "stdout",
     "output_type": "stream",
     "text": [
      " - Parameters object -\n",
      "mono_index                          -1                              Monochromator index. -1 = auto: based on the energy   (-1, 0, 1, 2, 3, 4)\n",
      "a2                                  0          [degree]             Angle between beam reflected by monochromator and incident beam   L[36.0 degree, 58.97 degree](0 degree)\n",
      "chopper_rpm                         0                               Fermi chopper speed   L[6000, 30000](0)\n",
      "chopper_ratio                       1                                  (1, 2)\n",
      "Ei                                  30         [millielectron_volt]  Initial neutron energy   L[7.5 millielectron_volt, 130 millielectron_volt]\n",
      "dE                                  0.1        [millielectron_volt]  Initial neutron energy dispertion   \n",
      "Efoc                                0          [millielectron_volt]  Focusing energy   \n",
      "before_sample_slit_width            0.5        [meter]              Horizontal width of the slit opening   \n",
      "before_sample_slit_height           0.5        [meter]              Vertical height of the slit opening   \n",
      "sample_y_rotation                   0          [degree]             sample table rotation angle   \n",
      "sample_width                        0          [meter]              width of the sample if shape is box   \n",
      "sample_height                       0          [meter]              height of the sample if shape is box or cylinder   \n",
      "sample_depth                        0          [meter]              depth of the sample if shape is box   \n",
      "sample_radius                       0.01       [meter]              radius of the sample if shape is sphere or cylinder   \n",
      "sample_thickness                    0          [meter]              thickness of the sample if it is hollow   \n",
      "sample_holder_width                 0.0        [meter]              width of the sample if shape is box   \n",
      "sample_holder_height                0.0        [meter]              height of the sample if shape is box or cylinder   \n",
      "sample_holder_depth                 0.0        [meter]              depth of the sample if shape is box   \n",
      "sample_holder_radius                0.0        [meter]              radius of the sample if shape is sphere or cylinder   \n",
      "sample_holder_thickness             0.0        [meter]              thickness of the sample if it is hollow   \n",
      "\n"
     ]
    }
   ],
   "source": [
    "#mycalc.parameters[\"chopper_rpm\"]=0\n",
    "#mycalc.parameters[\"Ei\"]=30 *ureg.meV\n",
    "print(mycalc.parameters)"
   ]
  },
  {
   "cell_type": "code",
   "execution_count": 25,
   "id": "21140401",
   "metadata": {
    "scrolled": true
   },
   "outputs": [
    {
     "name": "stdout",
     "output_type": "stream",
     "text": [
      "Instrument settings:\n",
      "  ncount:           1.00e+05\n",
      "  seed:             654321\n",
      "  output_path:      /tmp/Panther/OriginCalc\n",
      "  run_path:         ./\n",
      "  package_path:     /usr/share/mcstas/3.3\n",
      "  executable_path:  /usr/share/mcstas/3.3/bin/\n",
      "  executable:       mcrun\n",
      "  force_compile:    True\n"
     ]
    }
   ],
   "source": [
    "import mcstasscript as ms\n",
    "diag = ms.Diagnostics(mycalc)\n",
    "diag.settings(ncount=1e5, suppress_output=False)\n",
    "diag.show_settings()\n",
    "diag.clear_points()\n",
    "\n",
    "\n",
    "for component in diag.instr.component_list:\n",
    "        if component.component_name in [\"Progress_bar\", \"Arm\"]:\n",
    "            continue\n",
    "        if component.component_name in [\"Beamstop\"]:\n",
    "            diag.add_point(before=component.name)\n",
    "            continue\n",
    "        if component.name in [\"VCS\", \"HCS\"]:\n",
    "            diag.add_point(after=component.name)\n",
    "            continue\n",
    "        if component.component_name in [\"Disk_Chopper\", \"Slit\",\"Monochromator_curved\",\"Fermi_chopper\"]:\n",
    "            diag.add_point(before=component.name)\n",
    "            diag.add_point(after=component.name)\n",
    "        else:\n",
    "            #print(\"#\"+component.name+\"#\")\n",
    "            diag.add_point(before=component.name)\n",
    "        \n",
    "\n",
    "\n",
    "\n",
    "if mycalc.name == \"SampleCalc\":\n",
    "    diag.clear_points()\n",
    "    diag.add_point(after=\"Vin\")\n",
    "    diag.add_point(before=\"sqw\")\n",
    "    diag.add_point(after=\"Sample_Out\")\n",
    "    diag.add_point(before=\"after_sample_slit\")\n",
    "    diag.add_point(after=\"after_sample_slit\")\n",
    "\n",
    "#print(diag)\n"
   ]
  },
  {
   "cell_type": "code",
   "execution_count": 26,
   "id": "a596e150",
   "metadata": {
    "scrolled": false
   },
   "outputs": [],
   "source": [
    "#mycalc.get_component(\"BC1\").phase=41\n",
    "#ch = mycalc.get_component(\"Chopper3\")\n",
    "#print(ch)\n",
    "diag.settings(ncount=1e5)"
   ]
  },
  {
   "cell_type": "code",
   "execution_count": 27,
   "id": "7c2f8a73",
   "metadata": {},
   "outputs": [],
   "source": [
    "diag.clear_points()\n",
    "diag.add_point(before=\"fermi_chopper\")\n",
    "diag.add_point(after=\"fermi_chopper\")\n",
    "diag.add_point(before=\"before_sample_diaphragm\")\n",
    "diag.add_point(after=\"before_sample_diaphragm\")\n",
    "#diag.add_point(after=\"sample\")\n",
    "diag.add_point(before=\"collimator\")\n",
    "diag.add_point(after=\"collimator\")\n",
    "diag.add_point(before=\"detector\")\n",
    "diag.settings(ncount=1e5)\n"
   ]
  },
  {
   "cell_type": "code",
   "execution_count": 28,
   "id": "171c4af6",
   "metadata": {},
   "outputs": [
    {
     "data": {
      "text/plain": [
       " - Parameters object -\n",
       "mono_index                          -1                              Monochromator index. -1 = auto: based on the energy   (-1, 0, 1, 2, 3, 4)\n",
       "a2                                  0          [degree]             Angle between beam reflected by monochromator and incident beam   L[36.0 degree, 58.97 degree](0 degree)\n",
       "chopper_rpm                         0                               Fermi chopper speed   L[6000, 30000](0)\n",
       "chopper_ratio                       1                                  (1, 2)\n",
       "Ei                                  30         [millielectron_volt]  Initial neutron energy   L[7.5 millielectron_volt, 130 millielectron_volt]\n",
       "dE                                  0.1        [millielectron_volt]  Initial neutron energy dispertion   \n",
       "Efoc                                0          [millielectron_volt]  Focusing energy   \n",
       "before_sample_slit_width            0.5        [meter]              Horizontal width of the slit opening   \n",
       "before_sample_slit_height           0.5        [meter]              Vertical height of the slit opening   \n",
       "sample_y_rotation                   0          [degree]             sample table rotation angle   \n",
       "sample_width                        0          [meter]              width of the sample if shape is box   \n",
       "sample_height                       0          [meter]              height of the sample if shape is box or cylinder   \n",
       "sample_depth                        0          [meter]              depth of the sample if shape is box   \n",
       "sample_radius                       0.01       [meter]              radius of the sample if shape is sphere or cylinder   \n",
       "sample_thickness                    0          [meter]              thickness of the sample if it is hollow   \n",
       "sample_holder_width                 0.0        [meter]              width of the sample if shape is box   \n",
       "sample_holder_height                0.0        [meter]              height of the sample if shape is box or cylinder   \n",
       "sample_holder_depth                 0.0        [meter]              depth of the sample if shape is box   \n",
       "sample_holder_radius                0.0        [meter]              radius of the sample if shape is sphere or cylinder   \n",
       "sample_holder_thickness             0.0        [meter]              thickness of the sample if it is hollow   "
      ]
     },
     "execution_count": 28,
     "metadata": {},
     "output_type": "execute_result"
    }
   ],
   "source": [
    "mycalc.parameters"
   ]
  },
  {
   "cell_type": "code",
   "execution_count": 29,
   "id": "b5cfe2ed",
   "metadata": {
    "scrolled": false
   },
   "outputs": [
    {
     "name": "stdout",
     "output_type": "stream",
     "text": [
      "\n",
      "loading system configuration\n",
      "INFO: Using directory: \"/tmp/Panther/OriginCalc_59\"\n",
      "INFO: Regenerating c-file: OriginCalc.c\n",
      "CFLAGS=\n",
      "      \n",
      "WARNING:\n",
      " The parameter powder_format of sqw is initialized \n",
      " using a static {,,,} vector.\n",
      "  -> Such static vectors support literal numbers ONLY.\n",
      "  -> Any vector use of variables or defines must happen via a \n",
      "     DECLARE/INITIALIZE pointer.\n",
      "\n",
      "\n",
      "-----------------------------------------------------------\n",
      "\n",
      "Generating single GPU kernel or single CPU section layout: \n",
      "-> SPLIT N at component sqw\n",
      "\n",
      "-----------------------------------------------------------\n",
      "\n",
      "Generating GPU/CPU -DFUNNEL layout:\n",
      "-> SPLIT within buffer at component sqw\n",
      "\n",
      "-----------------------------------------------------------\n",
      "INFO: Recompiling: ./OriginCalc.out\n",
      "./OriginCalc.c: In function ‘init’:\n",
      "./OriginCalc.c:16013:10: warning: format ‘%d’ expects argument of type ‘int’, but argument 2 has type ‘long int’ [-Wformat=]\n",
      "16013 | printf(\"%d\\n\", mono_index);\n",
      "      |         ~^\n",
      "      |          |\n",
      "      |          int\n",
      "      |         %ld\n",
      "./OriginCalc.c:16029:23: warning: format ‘%d’ expects argument of type ‘int’, but argument 2 has type ‘long int’ [-Wformat=]\n",
      "16029 | printf(\"mono_index = %d\\n\", mono_index);\n",
      "      |                      ~^\n",
      "      |                       |\n",
      "      |                       int\n",
      "      |                      %ld\n",
      "./OriginCalc.c: In function ‘class_Monitor_nD_trace’:\n",
      "./OriginCalc.c:16579:72: warning: unknown conversion type character ‘\\x0a’ in format [-Wformat=]\n",
      "16579 |                 printf(\"Cylinder_intersect returned unexpected value %l\\n\", intersect);\n",
      "      |                                                                        ^~\n",
      "./OriginCalc.c:16579:24: warning: too many arguments for format [-Wformat-extra-args]\n",
      "16579 |                 printf(\"Cylinder_intersect returned unexpected value %l\\n\", intersect);\n",
      "      |                        ^~~~~~~~~~~~~~~~~~~~~~~~~~~~~~~~~~~~~~~~~~~~~~~~~~~\n",
      "./OriginCalc.c: In function ‘detector_import’:\n",
      "./OriginCalc.c:2296:57: warning: ‘ ’ directive output may be truncated writing 1 byte into a region of size between 0 and 1023 [-Wformat-truncation=]\n",
      " 2296 |     snprintf(detector.variables, CHAR_BUF_LENGTH, \"%s %s %s_err N\", detector.xvar, c, c);\n",
      "      |                                                         ^\n",
      "In file included from /usr/include/stdio.h:894,\n",
      "                 from ./OriginCalc.c:231:\n",
      "/usr/include/x86_64-linux-gnu/bits/stdio2.h:71:10: note: ‘__builtin___snprintf_chk’ output 9 or more bytes (assuming 1032) into a destination of size 1024\n",
      "   71 |   return __builtin___snprintf_chk (__s, __n, __USE_FORTIFY_LEVEL - 1,\n",
      "      |          ^~~~~~~~~~~~~~~~~~~~~~~~~~~~~~~~~~~~~~~~~~~~~~~~~~~~~~~~~~~~\n",
      "   72 |                                    __glibc_objsize (__s), __fmt,\n",
      "      |                                    ~~~~~~~~~~~~~~~~~~~~~~~~~~~~~\n",
      "   73 |                                    __va_arg_pack ());\n",
      "      |                                    ~~~~~~~~~~~~~~~~~\n",
      "./OriginCalc.c: In function ‘class_Cyl_TOF_save.part.0’:\n",
      "./OriginCalc.c:19247:18: warning: ‘%s’ directive writing up to 16383 bytes into a region of size 256 [-Wformat-overflow=]\n",
      "19247 |     sprintf(ff, \"%s_%03i\",filename,iphi);\n",
      "      |                  ^~\n",
      "./OriginCalc.c:19247:17: note: directive argument in the range [0, 2147483647]\n",
      "19247 |     sprintf(ff, \"%s_%03i\",filename,iphi);\n",
      "      |                 ^~~~~~~~~\n",
      "In file included from /usr/include/stdio.h:894,\n",
      "                 from ./OriginCalc.c:231:\n",
      "/usr/include/x86_64-linux-gnu/bits/stdio2.h:38:10: note: ‘__builtin___sprintf_chk’ output between 5 and 16395 bytes into a destination of size 256\n",
      "   38 |   return __builtin___sprintf_chk (__s, __USE_FORTIFY_LEVEL - 1,\n",
      "      |          ^~~~~~~~~~~~~~~~~~~~~~~~~~~~~~~~~~~~~~~~~~~~~~~~~~~~~~\n",
      "   39 |                                   __glibc_objsize (__s), __fmt,\n",
      "      |                                   ~~~~~~~~~~~~~~~~~~~~~~~~~~~~~\n",
      "   40 |                                   __va_arg_pack ());\n",
      "      |                                   ~~~~~~~~~~~~~~~~~\n",
      "./OriginCalc.c: In function ‘Monitor_nD_Init’:\n",
      "./OriginCalc.c:6639:33: warning: ‘%li’ directive writing between 1 and 20 bytes into a region of size between 0 and 127 [-Wformat-overflow=]\n",
      " 6639 |     sprintf(Vars->Mon_File, \"%s_%li\", Vars->compcurname, t);\n",
      "      |                                 ^~~\n",
      "In file included from /usr/include/stdio.h:894,\n",
      "                 from ./OriginCalc.c:231:\n",
      "/usr/include/x86_64-linux-gnu/bits/stdio2.h:38:10: note: ‘__builtin___sprintf_chk’ output between 3 and 149 bytes into a destination of size 128\n",
      "   38 |   return __builtin___sprintf_chk (__s, __USE_FORTIFY_LEVEL - 1,\n",
      "      |          ^~~~~~~~~~~~~~~~~~~~~~~~~~~~~~~~~~~~~~~~~~~~~~~~~~~~~~\n",
      "   39 |                                   __glibc_objsize (__s), __fmt,\n",
      "      |                                   ~~~~~~~~~~~~~~~~~~~~~~~~~~~~~\n",
      "   40 |                                   __va_arg_pack ());\n",
      "      |                                   ~~~~~~~~~~~~~~~~~\n",
      "./OriginCalc.c: In function ‘Open_File’:\n",
      "./OriginCalc.c:8590:41: warning: ‘__builtin___snprintf_chk’ output may be truncated before the last format character [-Wformat-truncation=]\n",
      " 8590 |             snprintf(path, 1024, \"%s%c%s\", dir, MC_PATHSEP_C, File);\n",
      "      |                                         ^\n",
      "In file included from /usr/include/stdio.h:894,\n",
      "                 from ./OriginCalc.c:231:\n",
      "/usr/include/x86_64-linux-gnu/bits/stdio2.h:71:10: note: ‘__builtin___snprintf_chk’ output 2 or more bytes (assuming 1025) into a destination of size 1024\n",
      "   71 |   return __builtin___snprintf_chk (__s, __n, __USE_FORTIFY_LEVEL - 1,\n",
      "      |          ^~~~~~~~~~~~~~~~~~~~~~~~~~~~~~~~~~~~~~~~~~~~~~~~~~~~~~~~~~~~\n",
      "   72 |                                    __glibc_objsize (__s), __fmt,\n",
      "      |                                    ~~~~~~~~~~~~~~~~~~~~~~~~~~~~~\n",
      "   73 |                                    __va_arg_pack ());\n",
      "      |                                    ~~~~~~~~~~~~~~~~~\n",
      "./OriginCalc.c:8605:41: warning: ‘__builtin___snprintf_chk’ output may be truncated before the last format character [-Wformat-truncation=]\n",
      " 8605 |             snprintf(path, 1024, \"%s%c%s\", dir, MC_PATHSEP_C, File);\n",
      "      |                                         ^\n",
      "In file included from /usr/include/stdio.h:894,\n",
      "                 from ./OriginCalc.c:231:\n",
      "/usr/include/x86_64-linux-gnu/bits/stdio2.h:71:10: note: ‘__builtin___snprintf_chk’ output 2 or more bytes (assuming 1025) into a destination of size 1024\n",
      "   71 |   return __builtin___snprintf_chk (__s, __n, __USE_FORTIFY_LEVEL - 1,\n",
      "      |          ^~~~~~~~~~~~~~~~~~~~~~~~~~~~~~~~~~~~~~~~~~~~~~~~~~~~~~~~~~~~\n",
      "   72 |                                    __glibc_objsize (__s), __fmt,\n",
      "      |                                    ~~~~~~~~~~~~~~~~~~~~~~~~~~~~~\n",
      "   73 |                                    __va_arg_pack ());\n",
      "      |                                    ~~~~~~~~~~~~~~~~~\n",
      "./OriginCalc.c:8613:37: warning: ‘__builtin___snprintf_chk’ output may be truncated before the last format character [-Wformat-truncation=]\n",
      " 8613 |         snprintf(path, 1024, \"%s%c%s\", dir, MC_PATHSEP_C, File);\n",
      "      |                                     ^\n",
      "In file included from /usr/include/stdio.h:894,\n",
      "                 from ./OriginCalc.c:231:\n",
      "/usr/include/x86_64-linux-gnu/bits/stdio2.h:71:10: note: ‘__builtin___snprintf_chk’ output 2 or more bytes (assuming 1025) into a destination of size 1024\n",
      "   71 |   return __builtin___snprintf_chk (__s, __n, __USE_FORTIFY_LEVEL - 1,\n",
      "      |          ^~~~~~~~~~~~~~~~~~~~~~~~~~~~~~~~~~~~~~~~~~~~~~~~~~~~~~~~~~~~\n",
      "   72 |                                    __glibc_objsize (__s), __fmt,\n",
      "      |                                    ~~~~~~~~~~~~~~~~~~~~~~~~~~~~~\n",
      "   73 |                                    __va_arg_pack ());\n",
      "      |                                    ~~~~~~~~~~~~~~~~~\n",
      "./OriginCalc.c:8619:35: warning: ‘%s’ directive output may be truncated writing 4 bytes into a region of size between 0 and 1023 [-Wformat-truncation=]\n",
      " 8619 |         snprintf(path, 1024, \"%s%c%s%c%s\", dir, MC_PATHSEP_C, \"data\", MC_PATHSEP_C, File);\n",
      "      |                                   ^~                          ~~~~~~\n",
      "In file included from /usr/include/stdio.h:894,\n",
      "                 from ./OriginCalc.c:231:\n",
      "/usr/include/x86_64-linux-gnu/bits/stdio2.h:71:10: note: ‘__builtin___snprintf_chk’ output 7 or more bytes (assuming 1030) into a destination of size 1024\n",
      "   71 |   return __builtin___snprintf_chk (__s, __n, __USE_FORTIFY_LEVEL - 1,\n",
      "      |          ^~~~~~~~~~~~~~~~~~~~~~~~~~~~~~~~~~~~~~~~~~~~~~~~~~~~~~~~~~~~\n",
      "   72 |                                    __glibc_objsize (__s), __fmt,\n",
      "      |                                    ~~~~~~~~~~~~~~~~~~~~~~~~~~~~~\n",
      "   73 |                                    __va_arg_pack ());\n",
      "      |                                    ~~~~~~~~~~~~~~~~~\n",
      "./OriginCalc.c:8625:35: warning: ‘%s’ directive output may be truncated writing 7 bytes into a region of size between 0 and 1023 [-Wformat-truncation=]\n",
      " 8625 |         snprintf(path, 1024, \"%s%c%s%c%s\", dir, MC_PATHSEP_C, \"contrib\", MC_PATHSEP_C, File);\n",
      "      |                                   ^~                          ~~~~~~~~~\n",
      "In file included from /usr/include/stdio.h:894,\n",
      "                 from ./OriginCalc.c:231:\n",
      "/usr/include/x86_64-linux-gnu/bits/stdio2.h:71:10: note: ‘__builtin___snprintf_chk’ output 10 or more bytes (assuming 1033) into a destination of size 1024\n",
      "   71 |   return __builtin___snprintf_chk (__s, __n, __USE_FORTIFY_LEVEL - 1,\n",
      "      |          ^~~~~~~~~~~~~~~~~~~~~~~~~~~~~~~~~~~~~~~~~~~~~~~~~~~~~~~~~~~~\n",
      "   72 |                                    __glibc_objsize (__s), __fmt,\n",
      "      |                                    ~~~~~~~~~~~~~~~~~~~~~~~~~~~~~\n",
      "   73 |                                    __va_arg_pack ());\n",
      "      |                                    ~~~~~~~~~~~~~~~~~\n",
      "./OriginCalc.c: In function ‘off_display’:\n",
      "./OriginCalc.c:11158:30: warning: ‘%g’ directive writing between 1 and 13 bytes into a region of size between 0 and 1023 [-Wformat-overflow=]\n",
      "11158 |       sprintf(pixelinfo, \"%s,%g,%g,%g\", pixelinfo, x2-cmx, y2-cmy, z2-cmz);\n",
      "      |                              ^~\n",
      "./OriginCalc.c:11158:26: note: assuming directive output of 12 bytes\n",
      "11158 |       sprintf(pixelinfo, \"%s,%g,%g,%g\", pixelinfo, x2-cmx, y2-cmy, z2-cmz);\n",
      "      |                          ^~~~~~~~~~~~~\n",
      "./OriginCalc.c:11158:26: note: assuming directive output of 12 bytes\n",
      "./OriginCalc.c:11158:26: note: assuming directive output of 12 bytes\n",
      "In file included from /usr/include/stdio.h:894,\n",
      "                 from ./OriginCalc.c:231:\n",
      "/usr/include/x86_64-linux-gnu/bits/stdio2.h:38:10: note: ‘__builtin___sprintf_chk’ output between 7 and 1066 bytes into a destination of size 1024\n",
      "   38 |   return __builtin___sprintf_chk (__s, __USE_FORTIFY_LEVEL - 1,\n",
      "      |          ^~~~~~~~~~~~~~~~~~~~~~~~~~~~~~~~~~~~~~~~~~~~~~~~~~~~~~\n",
      "   39 |                                   __glibc_objsize (__s), __fmt,\n",
      "      |                                   ~~~~~~~~~~~~~~~~~~~~~~~~~~~~~\n",
      "   40 |                                   __va_arg_pack ());\n",
      "      |                                   ~~~~~~~~~~~~~~~~~\n",
      "INFO: ===\n",
      "nv = 2395.702112\n",
      "lambda = 1.65\n",
      "-1\n",
      "Selecting monochromator...mono_d = 3.3550\n",
      "a2 = 28.49\n",
      "mono_d = 1.6775\n",
      "a2 = 58.97\n",
      "mono_d = 1.6775\n",
      "a2 = 58.97\n",
      "mono_index = 2\n",
      "Chopper_rpm = 19915.34\n",
      "Neutron velocity: 2395.70\n",
      "E_focus: 0.00\n",
      "[OriginCalc] Initialize\n",
      "FermiChopper: fermi_chopper: Frequency nu=331.922 [Hz] 19915.3 [rpm], time frame=0.00602551 [s] phase=0 [deg]\n",
      "Isotropic_Sqw: sqw: is a sphere: radius=0.010000 thickness=0.000000\n",
      "Isotropic_Sqw: sqw: Using Isotropic elastic incoherent scattering (sigma=4.935 [barns])\n",
      "Isotropic_Sqw: sqw: Focusing can only apply for single\n",
      "               scattering. Setting to order=1.\n",
      "Collimator_radial: collimator: divergence 28.5804 [min] oscillating. Total opening [-5:136] [deg]\n",
      "    Using 296 Soller channels of width 0.83139 [cm] with 1 slits of width 8.3139 [mm] pitch 0.47634 [deg].\n",
      "phibinwidth = 0.81*** TRACE end *** \n",
      "\n",
      "Save [OriginCalc]\n",
      "Events:   \"Diag_before_fermi_chopper_diag_list.p.n.x.y.z.vx.vy.vz.t\"\n",
      "FermiChopper: fermi_chopper\n",
      "              Mean velocity     v     = 2392.62 [m/s]\n",
      "              Mean wavelength   lambda= 1.65343 [Angs]\n",
      "              Mean energy       omega = 29.9228 [meV]\n",
      "              Mean arrival time t     = 0.000698271 [s]\n",
      "              Mean phase              = 85.2091 [deg] (set automatically)\n",
      "              Slit pack divergence    = 2.98867 [deg] (full width)\n",
      "              Opening time      dt    = 0.00143305 [s]\n",
      "              Intensity reaching FC   = 7.2129e+09 [n/s]\n",
      "              Intensity passing  FC   = 4.34475e+08 [n/s]\n",
      "FermiChopper: fermi_chopper: Lost events anaylsis\n",
      "              Already inside:            0\n",
      "              By Top/Bottom of cylinder: 138\n",
      "              At cylinder entrance:      13307\n",
      "              Hit cyl. entrance sides:   0\n",
      "              Can't prop. to slit pack:  0\n",
      "              At slit pack entrance:     1732\n",
      "              On absorbing slit coating: 29965\n",
      "              Exiting slit pack:         0\n",
      "              Too many iterations:       0\n",
      "              Prop. in wrong direction : 0\n",
      "              Mad neutron (no control):  0\n",
      "              At cylinder exit:          49\n",
      "Events:   \"Diag_after_fermi_chopper_diag_list.p.n.x.y.z.vx.vy.vz.t\"\n",
      "Events:   \"Diag_before_before_sample_diaphragm_diag_list.p.n.x.y.z.vx.vy.vz.t\"\n",
      "Events:   \"Diag_after_before_sample_diaphragm_diag_list.p.n.x.y.z.vx.vy.vz.t\"\n",
      "Events:   \"Diag_before_collimator_diag_list.p.n.x.y.z.vx.vy.vz.t\"\n",
      "Events:   \"Diag_after_collimator_diag_list.p.n.x.y.z.vx.vy.vz.t\"\n",
      "Events:   \"Diag_before_detector_diag_list.p.n.x.y.z.vx.vy.vz.t\"\n",
      "Detector: detector_I=8792.58 detector_ERR=2616.02 detector_N=12 \"Cyl_TOF_000.dat\"\n",
      "Detector: detector_I=7267.81 detector_ERR=2588.48 detector_N=8 \"Cyl_TOF_001.dat\"\n",
      "Detector: detector_I=10761.8 detector_ERR=2951.07 detector_N=15 \"Cyl_TOF_002.dat\"\n",
      "Detector: detector_I=7571.04 detector_ERR=2524.86 detector_N=10 \"Cyl_TOF_003.dat\"\n",
      "Detector: detector_I=5194.98 detector_ERR=2080.49 detector_N=7 \"Cyl_TOF_004.dat\"\n",
      "Detector: detector_I=6651.11 detector_ERR=2296.19 detector_N=10 \"Cyl_TOF_005.dat\"\n",
      "Detector: detector_I=8241.04 detector_ERR=2636.66 detector_N=11 \"Cyl_TOF_006.dat\"\n",
      "Detector: detector_I=5617.59 detector_ERR=2230.14 detector_N=7 \"Cyl_TOF_007.dat\"\n",
      "Detector: detector_I=8953.5 detector_ERR=2819.45 detector_N=11 \"Cyl_TOF_008.dat\"\n",
      "Detector: detector_I=2983.77 detector_ERR=1558.73 detector_N=4 \"Cyl_TOF_009.dat\"\n",
      "Detector: detector_I=9834.84 detector_ERR=2983.8 detector_N=11 \"Cyl_TOF_010.dat\"\n",
      "Detector: detector_I=4.41616e+06 detector_ERR=177937 detector_N=619 \"Cyl_TOF_011.dat\"\n",
      "Detector: detector_I=3.6033e+07 detector_ERR=510273 detector_N=5000 \"Cyl_TOF_012.dat\"\n",
      "Detector: detector_I=7.00334e+07 detector_ERR=717553 detector_N=9602 \"Cyl_TOF_013.dat\"\n",
      "Detector: detector_I=4.85363e+07 detector_ERR=596166 detector_N=6675 \"Cyl_TOF_014.dat\"\n",
      "Detector: detector_I=7.2238e+06 detector_ERR=228442 detector_N=1012 \"Cyl_TOF_015.dat\"\n",
      "Detector: detector_I=10053.6 detector_ERR=2939.34 detector_N=13 \"Cyl_TOF_016.dat\"\n",
      "Detector: detector_I=4525.27 detector_ERR=1925.05 detector_N=6 \"Cyl_TOF_017.dat\"\n",
      "Detector: detector_I=12172.7 detector_ERR=3213.75 detector_N=15 \"Cyl_TOF_018.dat\"\n",
      "Detector: detector_I=10594.2 detector_ERR=3021.85 detector_N=13 \"Cyl_TOF_019.dat\"\n",
      "Detector: detector_I=6216.17 detector_ERR=2101.33 detector_N=10 \"Cyl_TOF_020.dat\"\n",
      "Detector: detector_I=8563.17 detector_ERR=2781.83 detector_N=10 \"Cyl_TOF_021.dat\"\n",
      "Detector: detector_I=5778.88 detector_ERR=2367.65 detector_N=6 \"Cyl_TOF_022.dat\"\n",
      "Detector: detector_I=7214.97 detector_ERR=2478.72 detector_N=9 \"Cyl_TOF_023.dat\"\n",
      "Detector: detector_I=5448.45 detector_ERR=2283.64 detector_N=6 \"Cyl_TOF_024.dat\"\n",
      "Detector: detector_I=6277.06 detector_ERR=2396.78 detector_N=7 \"Cyl_TOF_025.dat\"\n",
      "Detector: detector_I=10204 detector_ERR=2946.95 detector_N=13 \"Cyl_TOF_026.dat\"\n",
      "Detector: detector_I=8011.8 detector_ERR=2584.06 detector_N=10 \"Cyl_TOF_027.dat\"\n",
      "Detector: detector_I=4572.95 detector_ERR=1998.04 detector_N=6 \"Cyl_TOF_028.dat\"\n",
      "Detector: detector_I=11218.6 detector_ERR=3072.13 detector_N=14 \"Cyl_TOF_029.dat\"\n",
      "Detector: detector_I=5355 detector_ERR=2195.64 detector_N=6 \"Cyl_TOF_030.dat\"\n",
      "Detector: detector_I=5433.75 detector_ERR=2225.11 detector_N=6 \"Cyl_TOF_031.dat\"\n",
      "Detector: detector_I=6246.6 detector_ERR=2374.28 detector_N=7 \"Cyl_TOF_032.dat\"\n",
      "Detector: detector_I=10694.7 detector_ERR=3039.88 detector_N=13 \"Cyl_TOF_033.dat\"\n",
      "Detector: detector_I=7824.28 detector_ERR=2496.18 detector_N=11 \"Cyl_TOF_034.dat\"\n",
      "Detector: detector_I=5473.02 detector_ERR=2119.39 detector_N=8 \"Cyl_TOF_035.dat\"\n",
      "Detector: detector_I=3269.1 detector_ERR=1767.15 detector_N=4 \"Cyl_TOF_036.dat\"\n",
      "Detector: detector_I=6974.7 detector_ERR=2432.47 detector_N=9 \"Cyl_TOF_037.dat\"\n",
      "Detector: detector_I=11272.9 detector_ERR=3286.69 detector_N=12 \"Cyl_TOF_038.dat\"\n",
      "Detector: detector_I=5333.52 detector_ERR=2034.39 detector_N=8 \"Cyl_TOF_039.dat\"\n",
      "Detector: detector_I=5936.95 detector_ERR=2265.33 detector_N=7 \"Cyl_TOF_040.dat\"\n",
      "Detector: detector_I=6819.46 detector_ERR=2475.45 detector_N=8 \"Cyl_TOF_041.dat\"\n",
      "Detector: detector_I=5117.77 detector_ERR=2148.85 detector_N=6 \"Cyl_TOF_042.dat\"\n",
      "Detector: detector_I=7029.21 detector_ERR=2358.2 detector_N=10 \"Cyl_TOF_043.dat\"\n",
      "Detector: detector_I=1803.62 detector_ERR=1276.53 detector_N=2 \"Cyl_TOF_044.dat\"\n",
      "Detector: detector_I=13451.2 detector_ERR=3331.89 detector_N=17 \"Cyl_TOF_045.dat\"\n",
      "Detector: detector_I=5053.43 detector_ERR=1995.81 detector_N=7 \"Cyl_TOF_046.dat\"\n",
      "Detector: detector_I=6192.96 detector_ERR=2301.78 detector_N=8 \"Cyl_TOF_047.dat\"\n",
      "Detector: detector_I=6912.39 detector_ERR=2399.92 detector_N=9 \"Cyl_TOF_048.dat\"\n",
      "Detector: detector_I=2299.04 detector_ERR=1384.89 detector_N=3 \"Cyl_TOF_049.dat\"\n",
      "Detector: detector_I=4682.63 detector_ERR=2102.73 detector_N=5 \"Cyl_TOF_050.dat\"\n",
      "Detector: detector_I=7334.89 detector_ERR=2531.83 detector_N=9 \"Cyl_TOF_051.dat\"\n",
      "Detector: detector_I=9445.86 detector_ERR=2927.44 detector_N=11 \"Cyl_TOF_052.dat\"\n",
      "Detector: detector_I=7232.25 detector_ERR=2596.08 detector_N=8 \"Cyl_TOF_053.dat\"\n",
      "Detector: detector_I=11813 detector_ERR=3272.23 detector_N=14 \"Cyl_TOF_054.dat\"\n",
      "Detector: detector_I=5932.22 detector_ERR=2212.94 detector_N=8 \"Cyl_TOF_055.dat\"\n",
      "Detector: detector_I=8982.39 detector_ERR=2867.6 detector_N=10 \"Cyl_TOF_056.dat\"\n",
      "Detector: detector_I=1945.09 detector_ERR=1378.56 detector_N=2 \"Cyl_TOF_057.dat\"\n",
      "Detector: detector_I=4692.43 detector_ERR=1986.6 detector_N=6 \"Cyl_TOF_058.dat\"\n",
      "Detector: detector_I=7679.41 detector_ERR=2721.52 detector_N=8 \"Cyl_TOF_059.dat\"\n",
      "Detector: detector_I=6021.51 detector_ERR=2213.82 detector_N=8 \"Cyl_TOF_060.dat\"\n",
      "Detector: detector_I=10899.4 detector_ERR=3162.98 detector_N=12 \"Cyl_TOF_061.dat\"\n",
      "Detector: detector_I=10298.7 detector_ERR=3008.27 detector_N=12 \"Cyl_TOF_062.dat\"\n",
      "Detector: detector_I=9250.64 detector_ERR=2872.71 detector_N=11 \"Cyl_TOF_063.dat\"\n",
      "Detector: detector_I=4392.14 detector_ERR=1818.51 detector_N=6 \"Cyl_TOF_064.dat\"\n",
      "Detector: detector_I=9710.5 detector_ERR=2886.11 detector_N=12 \"Cyl_TOF_065.dat\"\n",
      "Detector: detector_I=8557.43 detector_ERR=2655.36 detector_N=11 \"Cyl_TOF_066.dat\"\n",
      "Detector: detector_I=6422.68 detector_ERR=2331.65 detector_N=8 \"Cyl_TOF_067.dat\"\n",
      "Detector: detector_I=9350.7 detector_ERR=2825.72 detector_N=12 \"Cyl_TOF_068.dat\"\n",
      "Detector: detector_I=8087.43 detector_ERR=2651.13 detector_N=10 \"Cyl_TOF_069.dat\"\n",
      "Detector: detector_I=4677.21 detector_ERR=1918.8 detector_N=7 \"Cyl_TOF_070.dat\"\n",
      "Detector: detector_I=7060.25 detector_ERR=2523.09 detector_N=8 \"Cyl_TOF_071.dat\"\n",
      "Detector: detector_I=3706.53 detector_ERR=1855.68 detector_N=4 \"Cyl_TOF_072.dat\"\n",
      "Detector: detector_I=6129.11 detector_ERR=2358.13 detector_N=7 \"Cyl_TOF_073.dat\"\n",
      "Detector: detector_I=11226.5 detector_ERR=3113.34 detector_N=14 \"Cyl_TOF_074.dat\"\n",
      "Detector: detector_I=10523.7 detector_ERR=3073.28 detector_N=12 \"Cyl_TOF_075.dat\"\n",
      "Detector: detector_I=2396.23 detector_ERR=1418.35 detector_N=3 \"Cyl_TOF_076.dat\"\n",
      "Detector: detector_I=6350.71 detector_ERR=2404.67 detector_N=7 \"Cyl_TOF_077.dat\"\n",
      "Detector: detector_I=12027.3 detector_ERR=3179.73 detector_N=15 \"Cyl_TOF_078.dat\"\n",
      "Detector: detector_I=5196.04 detector_ERR=1974.4 detector_N=8 \"Cyl_TOF_079.dat\"\n",
      "Detector: detector_I=7009.81 detector_ERR=2511.21 detector_N=8 \"Cyl_TOF_080.dat\"\n",
      "Detector: detector_I=10380.7 detector_ERR=3064.81 detector_N=12 \"Cyl_TOF_081.dat\"\n",
      "Detector: detector_I=11448.2 detector_ERR=3121.7 detector_N=14 \"Cyl_TOF_082.dat\"\n",
      "Detector: detector_I=3404.82 detector_ERR=1608.15 detector_N=5 \"Cyl_TOF_083.dat\"\n",
      "Detector: detector_I=6437.04 detector_ERR=2442.81 detector_N=7 \"Cyl_TOF_084.dat\"\n",
      "Detector: detector_I=7912.93 detector_ERR=2670.9 detector_N=9 \"Cyl_TOF_085.dat\"\n",
      "Detector: detector_I=5955.64 detector_ERR=2254.86 detector_N=8 \"Cyl_TOF_086.dat\"\n",
      "Detector: detector_I=11650.4 detector_ERR=3089.13 detector_N=16 \"Cyl_TOF_087.dat\"\n",
      "Detector: detector_I=3656.02 detector_ERR=1837.66 detector_N=4 \"Cyl_TOF_088.dat\"\n",
      "Detector: detector_I=5353.47 detector_ERR=2198.98 detector_N=6 \"Cyl_TOF_089.dat\"\n",
      "Detector: detector_I=9232.42 detector_ERR=2851.52 detector_N=11 \"Cyl_TOF_090.dat\"\n",
      "Detector: detector_I=3923.19 detector_ERR=1807.93 detector_N=5 \"Cyl_TOF_091.dat\"\n",
      "Detector: detector_I=7146.07 detector_ERR=2389.51 detector_N=10 \"Cyl_TOF_092.dat\"\n",
      "Detector: detector_I=5743.11 detector_ERR=2295.36 detector_N=7 \"Cyl_TOF_093.dat\"\n",
      "Detector: detector_I=5310.75 detector_ERR=2042.11 detector_N=7 \"Cyl_TOF_094.dat\"\n",
      "Detector: detector_I=7532.16 detector_ERR=2505.26 detector_N=10 \"Cyl_TOF_095.dat\"\n",
      "Detector: detector_I=6825.33 detector_ERR=2394.5 detector_N=9 \"Cyl_TOF_096.dat\"\n",
      "Detector: detector_I=7942.61 detector_ERR=2583.58 detector_N=10 \"Cyl_TOF_097.dat\"\n",
      "Detector: detector_I=7815.87 detector_ERR=2591.15 detector_N=10 \"Cyl_TOF_098.dat\"\n",
      "Detector: detector_I=9994.02 detector_ERR=2956.41 detector_N=12 \"Cyl_TOF_099.dat\"\n",
      "Detector: detector_I=5869.19 detector_ERR=2176.32 detector_N=8 \"Cyl_TOF_100.dat\"\n",
      "Detector: detector_I=3515.83 detector_ERR=1677.08 detector_N=5 \"Cyl_TOF_101.dat\"\n",
      "Detector: detector_I=9242.98 detector_ERR=2848.11 detector_N=11 \"Cyl_TOF_102.dat\"\n",
      "Detector: detector_I=4795.29 detector_ERR=1899.91 detector_N=7 \"Cyl_TOF_103.dat\"\n",
      "Detector: detector_I=3028.79 detector_ERR=1543.32 detector_N=5 \"Cyl_TOF_104.dat\"\n",
      "Detector: detector_I=8459.46 detector_ERR=2846.89 detector_N=9 \"Cyl_TOF_105.dat\"\n",
      "Detector: detector_I=6287.94 detector_ERR=2127.28 detector_N=10 \"Cyl_TOF_106.dat\"\n",
      "Detector: detector_I=6908.46 detector_ERR=2385.02 detector_N=9 \"Cyl_TOF_107.dat\"\n",
      "Detector: detector_I=5697.5 detector_ERR=2233.38 detector_N=7 \"Cyl_TOF_108.dat\"\n",
      "Detector: detector_I=5896.57 detector_ERR=2102.78 detector_N=9 \"Cyl_TOF_109.dat\"\n",
      "Detector: detector_I=5686.17 detector_ERR=2207.51 detector_N=7 \"Cyl_TOF_110.dat\"\n",
      "Detector: detector_I=9715.72 detector_ERR=2866.7 detector_N=12 \"Cyl_TOF_111.dat\"\n",
      "Detector: detector_I=8159.17 detector_ERR=2520.51 detector_N=11 \"Cyl_TOF_112.dat\"\n",
      "Detector: detector_I=8543.6 detector_ERR=2661.38 detector_N=11 \"Cyl_TOF_113.dat\"\n",
      "Detector: detector_I=8321.66 detector_ERR=2679.71 detector_N=10 \"Cyl_TOF_114.dat\"\n",
      "Detector: detector_I=7552.19 detector_ERR=2548.19 detector_N=9 \"Cyl_TOF_115.dat\"\n",
      "Detector: detector_I=5931.15 detector_ERR=2207.69 detector_N=8 \"Cyl_TOF_116.dat\"\n",
      "Detector: detector_I=2020.32 detector_ERR=1310.75 detector_N=3 \"Cyl_TOF_117.dat\"\n",
      "Detector: detector_I=5479.03 detector_ERR=2100.5 detector_N=7 \"Cyl_TOF_118.dat\"\n",
      "Detector: detector_I=3880.57 detector_ERR=1841.34 detector_N=6 \"Cyl_TOF_119.dat\"\n",
      "Detector: detector_I=4516.8 detector_ERR=2029.4 detector_N=5 \"Cyl_TOF_120.dat\"\n",
      "Detector: detector_I=6129.05 detector_ERR=2189.92 detector_N=8 \"Cyl_TOF_121.dat\"\n",
      "Detector: detector_I=7832.33 detector_ERR=2536.58 detector_N=10 \"Cyl_TOF_122.dat\"\n",
      "Detector: detector_I=9163.67 detector_ERR=2913.72 detector_N=10 \"Cyl_TOF_123.dat\"\n",
      "Detector: detector_I=6681.45 detector_ERR=2402.61 detector_N=8 \"Cyl_TOF_124.dat\"\n",
      "Detector: detector_I=3938.85 detector_ERR=1805.77 detector_N=5 \"Cyl_TOF_125.dat\"\n",
      "Detector: detector_I=6874.87 detector_ERR=2422.72 detector_N=9 \"Cyl_TOF_126.dat\"\n",
      "Detector: detector_I=5286.11 detector_ERR=2170.7 detector_N=6 \"Cyl_TOF_127.dat\"\n",
      "Detector: detector_I=6296.53 detector_ERR=2282.53 detector_N=8 \"Cyl_TOF_128.dat\"\n",
      "Detector: detector_I=8949.25 detector_ERR=2785.59 detector_N=11 \"Cyl_TOF_129.dat\"\n",
      "Detector: detector_I=10012 detector_ERR=2899.28 detector_N=13 \"Cyl_TOF_130.dat\"\n",
      "Detector: detector_I=4842.61 detector_ERR=1906.55 detector_N=7 \"Cyl_TOF_131.dat\"\n",
      "Detector: detector_I=10160.6 detector_ERR=3032.72 detector_N=12 \"Cyl_TOF_132.dat\"\n",
      "Detector: detector_I=5948.39 detector_ERR=2316.22 detector_N=7 \"Cyl_TOF_133.dat\"\n",
      "Detector: detector_I=4083.25 detector_ERR=1761.21 detector_N=6 \"Cyl_TOF_134.dat\"\n",
      "Detector: detector_I=5222.82 detector_ERR=2088.99 detector_N=7 \"Cyl_TOF_135.dat\"\n",
      "Detector: detector_I=8802.87 detector_ERR=2683.15 detector_N=12 \"Cyl_TOF_136.dat\"\n",
      "Detector: detector_I=5622.54 detector_ERR=2166.26 detector_N=7 \"Cyl_TOF_137.dat\"\n",
      "Detector: detector_I=4188.07 detector_ERR=1620.76 detector_N=7 \"Cyl_TOF_138.dat\"\n",
      "Detector: detector_I=5667.72 detector_ERR=2161.78 detector_N=9 \"Cyl_TOF_139.dat\"\n",
      "Detector: detector_I=6892.33 detector_ERR=2330.09 detector_N=10 \"Cyl_TOF_140.dat\"\n",
      "Detector: detector_I=10296.5 detector_ERR=2927.83 detector_N=13 \"Cyl_TOF_141.dat\"\n",
      "Detector: detector_I=4880.14 detector_ERR=2050.93 detector_N=6 \"Cyl_TOF_142.dat\"\n",
      "Detector: detector_I=8797.71 detector_ERR=2809.23 detector_N=10 \"Cyl_TOF_143.dat\"\n",
      "Detector: detector_I=8573.5 detector_ERR=2679.16 detector_N=11 \"Cyl_TOF_144.dat\"\n",
      "Detector: detector_I=4425.55 detector_ERR=1777.23 detector_N=7 \"Cyl_TOF_145.dat\"\n",
      "Detector: detector_I=8870.66 detector_ERR=2826.55 detector_N=10 \"Cyl_TOF_146.dat\"\n",
      "Detector: detector_I=5721.68 detector_ERR=2221.07 detector_N=7 \"Cyl_TOF_147.dat\"\n",
      "Detector: detector_I=10349.7 detector_ERR=2816.6 detector_N=15 \"Cyl_TOF_148.dat\"\n",
      "Detector: detector_I=7252.23 detector_ERR=2360.81 detector_N=10 \"Cyl_TOF_149.dat\"\n",
      "Detector: detector_I=8654.7 detector_ERR=2696.32 detector_N=11 \"Cyl_TOF_150.dat\"\n",
      "Detector: detector_I=7637.84 detector_ERR=2551.73 detector_N=9 \"Cyl_TOF_151.dat\"\n",
      "Detector: detector_I=8472.13 detector_ERR=2590.23 detector_N=11 \"Cyl_TOF_152.dat\"\n",
      "Detector: detector_I=6955.06 detector_ERR=2407.19 detector_N=10 \"Cyl_TOF_153.dat\"\n",
      "Detector: detector_I=4408.15 detector_ERR=1987.72 detector_N=5 \"Cyl_TOF_154.dat\"\n",
      "Detector: detector_I=5271.49 detector_ERR=2097.1 detector_N=7 \"Cyl_TOF_155.dat\"\n",
      "Detector: detector_I=4483.66 detector_ERR=2023.06 detector_N=6 \"Cyl_TOF_156.dat\"\n",
      "Detector: detector_I=5073.59 detector_ERR=2051.31 detector_N=7 \"Cyl_TOF_157.dat\"\n",
      "Detector: detector_I=7176.84 detector_ERR=2457.65 detector_N=9 \"Cyl_TOF_158.dat\"\n",
      "Detector: detector_I=6008.48 detector_ERR=2291.54 detector_N=7 \"Cyl_TOF_159.dat\"\n",
      "Detector: detector_I=6868.6 detector_ERR=2507.21 detector_N=8 \"Cyl_TOF_160.dat\"\n",
      "Detector: detector_I=6325.56 detector_ERR=2405.86 detector_N=7 \"Cyl_TOF_161.dat\"\n",
      "Detector: detector_I=6596.72 detector_ERR=2316.94 detector_N=9 \"Cyl_TOF_162.dat\"\n",
      "Detector: detector_I=8525.8 detector_ERR=2745.5 detector_N=10 \"Cyl_TOF_163.dat\"\n",
      "Detector: detector_I=7514.23 detector_ERR=2401.02 detector_N=11 \"Cyl_TOF_164.dat\"\n",
      "Detector: detector_I=7135.81 detector_ERR=2408.18 detector_N=10 \"Cyl_TOF_165.dat\"\n",
      "Detector: detector_I=4723.04 detector_ERR=1937.76 detector_N=7 \"Cyl_TOF_166.dat\"\n",
      "Detector: detector_I=8815.77 detector_ERR=2837 detector_N=10 \"Cyl_TOF_167.dat\"\n",
      "Detector: detector_I=7332.33 detector_ERR=2464.38 detector_N=11 \"Cyl_TOF_168.dat\"\n",
      "Detector: detector_I=6287.89 detector_ERR=2271.52 detector_N=8 \"Cyl_TOF_169.dat\"\n",
      "Detector: detector_I=9221.61 detector_ERR=2836.23 detector_N=11 \"Cyl_TOF_170.dat\"\n",
      "Detector: detector_I=6683.84 detector_ERR=2317.89 detector_N=9 \"Cyl_TOF_171.dat\"\n",
      "Detector: detector_I=8168.03 detector_ERR=2493.51 detector_N=12 \"Cyl_TOF_172.dat\"\n",
      "Detector: detector_I=5292.98 detector_ERR=2208.88 detector_N=6 \"Cyl_TOF_173.dat\"\n",
      "Detector: detector_I=5335.03 detector_ERR=2106.99 detector_N=7 \"Cyl_TOF_174.dat\"\n",
      "Detector: detector_I=7989.79 detector_ERR=2674.04 detector_N=9 \"Cyl_TOF_175.dat\"\n",
      "Detector: detector_I=5437.18 detector_ERR=2089.11 detector_N=7 \"Cyl_TOF_176.dat\"\n",
      "Detector: detector_I=2939.25 detector_ERR=1510.04 detector_N=4 \"Cyl_TOF_177.dat\"\n",
      "Detector: detector_I=8897.6 detector_ERR=2727.65 detector_N=11 \"Cyl_TOF_178.dat\"\n",
      "Detector: detector_I=8392.06 detector_ERR=2623.02 detector_N=11 \"Cyl_TOF_179.dat\"\n",
      "\n",
      "Finally [OriginCalc: /tmp/Panther/OriginCalc_59]. Time: 15 [s] \n",
      "Isotropic_Sqw: sqw: Scattering fraction=0.372581 of incoming intensity\n",
      "               Absorption fraction           =0.486856\n",
      "               Single   scattering intensity =4.92939e+06 (coh=0 inc=4.92939e+06)\n",
      "               Multiple scattering intensity =0\n",
      "INFO: Placing instr file copy OriginCalc.instr in dataset /tmp/Panther/OriginCalc_59\n",
      "\n"
     ]
    }
   ],
   "source": [
    "diag.run()"
   ]
  },
  {
   "cell_type": "code",
   "execution_count": 30,
   "id": "6cb3ca01",
   "metadata": {},
   "outputs": [
    {
     "name": "stdout",
     "output_type": "stream",
     "text": [
      "Instrument diagnostics for: OriginCalc\n",
      "Diagnostics points: \n",
      "  Diagnostics point before: fermi_chopper             - rays: 49668 / 50000\n",
      "  Diagnostics point after:  fermi_chopper             - rays: 4477 / 50000\n",
      "  Diagnostics point before: before_sample_diaphragm   - rays: 4477 / 50000\n",
      "  Diagnostics point after:  before_sample_diaphragm   - rays: 4477 / 50000\n",
      "  Diagnostics point before: collimator                - rays: 50000 / 50000\n",
      "  Diagnostics point after:  collimator                - rays: 24501 / 50000\n",
      "  Diagnostics point before: detector                  - rays: 50001 / 50000\n",
      "Views: \n",
      "  View (dx, y)              bins: 100\n",
      "Does contain simulated data\n"
     ]
    }
   ],
   "source": [
    "diag.clear_views()\n",
    "#diag.add_view(\"t\")\n",
    "#diag.add_view(\"x\", bins=50, limits=[-0.04,0.04])\n",
    "#diag.add_view(\"y\", bins=50, same_scale=False, limits=[-0.07,0.07])\n",
    "#diag.add_view(\"x\",\"y\",bins=[30,30])\n",
    "#diag.add_view(\"e\", same_scale=True)\n",
    "#diag.add_view(\"l\",same_scale=False)\n",
    "#diag.add_view(\"t\",same_scale=False)\n",
    "#diag.add_view(\"t\",\"x\",same_scale=False, log=True)\n",
    "#diag.add_view(\"t\",\"y\", same_scale=False)\n",
    "#diag.add_view(\"x\",\"y\",same_scale=False, log=True)\n",
    "#diag.add_view(\"dx\",\"dy\",same_scale=False,log=True) #, limits=[-50,-10],left_min=-45,right_lim=-20,bins=100)\n",
    "#diag.add_view(\"dx\",\"x\",same_scale=False,log=True) #, limits=[-50,-10],left_min=-45,right_lim=-20,bins=100)\n",
    "diag.add_view(\"dx\",\"y\",same_scale=False,log=True) #, limits=[-50,-10],left_min=-45,right_lim=-20,bins=100)\n",
    "\n",
    "#diag.add_view(\"vz\",same_scale=True)\n",
    "print(diag)"
   ]
  },
  {
   "cell_type": "code",
   "execution_count": 31,
   "id": "da0ac372",
   "metadata": {
    "scrolled": true
   },
   "outputs": [
    {
     "name": "stderr",
     "output_type": "stream",
     "text": [
      "/users/nourbakhsh/digitaltwin/instrument_database/McStasScript/mcstasscript/data/data.py:811: RuntimeWarning: invalid value encountered in true_divide\n",
      "  return np.arctan(vx/vz) * 180 / np.pi\n"
     ]
    },
    {
     "ename": "ValueError",
     "evalue": "autodetected range of [nan, nan] is not finite",
     "output_type": "error",
     "traceback": [
      "\u001b[0;31m---------------------------------------------------------------------------\u001b[0m",
      "\u001b[0;31mValueError\u001b[0m                                Traceback (most recent call last)",
      "Cell \u001b[0;32mIn[31], line 1\u001b[0m\n\u001b[0;32m----> 1\u001b[0m \u001b[43mdiag\u001b[49m\u001b[38;5;241;43m.\u001b[39;49m\u001b[43mplot\u001b[49m\u001b[43m(\u001b[49m\u001b[43m)\u001b[49m\n",
      "File \u001b[0;32m~/digitaltwin/instrument_database/McStasScript/mcstasscript/instrument_diagnostics/beam_diagnostics.py:416\u001b[0m, in \u001b[0;36mBeamDiagnostics.plot\u001b[0;34m(self)\u001b[0m\n\u001b[1;32m    413\u001b[0m         \u001b[38;5;28mprint\u001b[39m(\u001b[38;5;124m\"\u001b[39m\u001b[38;5;124mNo data to plot! Use the run method to generate data.\u001b[39m\u001b[38;5;124m\"\u001b[39m)\n\u001b[1;32m    415\u001b[0m overview \u001b[38;5;241m=\u001b[39m PlotOverview(\u001b[38;5;28mself\u001b[39m\u001b[38;5;241m.\u001b[39mevent_plotters, \u001b[38;5;28mself\u001b[39m\u001b[38;5;241m.\u001b[39mviews)\n\u001b[0;32m--> 416\u001b[0m \u001b[43moverview\u001b[49m\u001b[38;5;241;43m.\u001b[39;49m\u001b[43mplot_all\u001b[49m\u001b[43m(\u001b[49m\u001b[43m)\u001b[49m\n",
      "File \u001b[0;32m~/digitaltwin/instrument_database/McStasScript/mcstasscript/instrument_diagnostics/plot_overview.py:54\u001b[0m, in \u001b[0;36mPlotOverview.plot_all\u001b[0;34m(self, figsize, same_scale)\u001b[0m\n\u001b[1;32m     52\u001b[0m major_label_set \u001b[38;5;241m=\u001b[39m \u001b[38;5;28;01mFalse\u001b[39;00m\n\u001b[1;32m     53\u001b[0m \u001b[38;5;28;01mfor\u001b[39;00m view, ax \u001b[38;5;129;01min\u001b[39;00m \u001b[38;5;28mzip\u001b[39m(\u001b[38;5;28mself\u001b[39m\u001b[38;5;241m.\u001b[39mviews, ax_row):\n\u001b[0;32m---> 54\u001b[0m     \u001b[43mplotter\u001b[49m\u001b[38;5;241;43m.\u001b[39;49m\u001b[43mplot\u001b[49m\u001b[43m(\u001b[49m\u001b[43mview\u001b[49m\u001b[38;5;241;43m=\u001b[39;49m\u001b[43mview\u001b[49m\u001b[43m,\u001b[49m\u001b[43m \u001b[49m\u001b[43mfig\u001b[49m\u001b[38;5;241;43m=\u001b[39;49m\u001b[43mfig\u001b[49m\u001b[43m,\u001b[49m\u001b[43m \u001b[49m\u001b[43max\u001b[49m\u001b[38;5;241;43m=\u001b[39;49m\u001b[43max\u001b[49m\u001b[43m)\u001b[49m\n\u001b[1;32m     56\u001b[0m     \u001b[38;5;28;01mif\u001b[39;00m \u001b[38;5;129;01mnot\u001b[39;00m major_label_set:\n\u001b[1;32m     57\u001b[0m         ylabel \u001b[38;5;241m=\u001b[39m ax\u001b[38;5;241m.\u001b[39mget_ylabel()\n",
      "File \u001b[0;32m~/digitaltwin/instrument_database/McStasScript/mcstasscript/instrument_diagnostics/event_plotter.py:105\u001b[0m, in \u001b[0;36mEventPlotter.plot\u001b[0;34m(self, view, fig, ax)\u001b[0m\n\u001b[1;32m    102\u001b[0m     data\u001b[38;5;241m.\u001b[39mset_plot_options(\u001b[38;5;241m*\u001b[39m\u001b[38;5;241m*\u001b[39mview\u001b[38;5;241m.\u001b[39mplot_options)\n\u001b[1;32m    104\u001b[0m \u001b[38;5;28;01melse\u001b[39;00m:\n\u001b[0;32m--> 105\u001b[0m     data \u001b[38;5;241m=\u001b[39m \u001b[38;5;28;43mself\u001b[39;49m\u001b[38;5;241;43m.\u001b[39;49m\u001b[43mdata\u001b[49m\u001b[38;5;241;43m.\u001b[39;49m\u001b[43mmake_2d\u001b[49m\u001b[43m(\u001b[49m\u001b[43maxis1\u001b[49m\u001b[38;5;241;43m=\u001b[39;49m\u001b[43mview\u001b[49m\u001b[38;5;241;43m.\u001b[39;49m\u001b[43maxis1\u001b[49m\u001b[43m,\u001b[49m\u001b[43m \u001b[49m\u001b[43maxis2\u001b[49m\u001b[38;5;241;43m=\u001b[39;49m\u001b[43mview\u001b[49m\u001b[38;5;241;43m.\u001b[39;49m\u001b[43maxis2\u001b[49m\u001b[43m,\u001b[49m\u001b[43m \u001b[49m\u001b[43mn_bins\u001b[49m\u001b[38;5;241;43m=\u001b[39;49m\u001b[43mview\u001b[49m\u001b[38;5;241;43m.\u001b[39;49m\u001b[43mbins\u001b[49m\u001b[43m,\u001b[49m\u001b[43m \u001b[49m\u001b[43mflag_info\u001b[49m\u001b[38;5;241;43m=\u001b[39;49m\u001b[38;5;28;43mself\u001b[39;49m\u001b[38;5;241;43m.\u001b[39;49m\u001b[43mflag_info\u001b[49m\u001b[43m)\u001b[49m\n\u001b[1;32m    106\u001b[0m     data\u001b[38;5;241m.\u001b[39mset_plot_options(show_colorbar\u001b[38;5;241m=\u001b[39m\u001b[38;5;28;01mFalse\u001b[39;00m)\n\u001b[1;32m    107\u001b[0m     data\u001b[38;5;241m.\u001b[39mset_title(\u001b[38;5;124m\"\u001b[39m\u001b[38;5;124m\"\u001b[39m)\n",
      "File \u001b[0;32m~/digitaltwin/instrument_database/McStasScript/mcstasscript/data/data.py:899\u001b[0m, in \u001b[0;36mMcStasDataEvent.make_2d\u001b[0;34m(self, axis1, axis2, n_bins, flag_info)\u001b[0m\n\u001b[1;32m    896\u001b[0m     n_bins\u001b[38;5;241m.\u001b[39mreverse()\n\u001b[1;32m    898\u001b[0m weights \u001b[38;5;241m=\u001b[39m \u001b[38;5;28mself\u001b[39m\u001b[38;5;241m.\u001b[39mget_data_column(\u001b[38;5;124m\"\u001b[39m\u001b[38;5;124mp\u001b[39m\u001b[38;5;124m\"\u001b[39m, flag_info)\n\u001b[0;32m--> 899\u001b[0m intensity, edges2, edges1 \u001b[38;5;241m=\u001b[39m \u001b[43mnp\u001b[49m\u001b[38;5;241;43m.\u001b[39;49m\u001b[43mhistogram2d\u001b[49m\u001b[43m(\u001b[49m\u001b[43mdata2\u001b[49m\u001b[43m,\u001b[49m\u001b[43m \u001b[49m\u001b[43mdata1\u001b[49m\u001b[43m,\u001b[49m\u001b[43m \u001b[49m\u001b[43mbins\u001b[49m\u001b[38;5;241;43m=\u001b[39;49m\u001b[43mn_bins\u001b[49m\u001b[43m,\u001b[49m\u001b[43m \u001b[49m\u001b[43mweights\u001b[49m\u001b[38;5;241;43m=\u001b[39;49m\u001b[43mweights\u001b[49m\u001b[43m)\u001b[49m\n\u001b[1;32m    900\u001b[0m error_squared, edges2, edges1 \u001b[38;5;241m=\u001b[39m np\u001b[38;5;241m.\u001b[39mhistogram2d(data2, data1, bins\u001b[38;5;241m=\u001b[39mn_bins, weights\u001b[38;5;241m=\u001b[39mweights\u001b[38;5;241m*\u001b[39m\u001b[38;5;241m*\u001b[39m\u001b[38;5;241m2\u001b[39m)\n\u001b[1;32m    901\u001b[0m error \u001b[38;5;241m=\u001b[39m np\u001b[38;5;241m.\u001b[39msqrt(error_squared)\n",
      "File \u001b[0;32m<__array_function__ internals>:5\u001b[0m, in \u001b[0;36mhistogram2d\u001b[0;34m(*args, **kwargs)\u001b[0m\n",
      "File \u001b[0;32m/usr/lib/python3/dist-packages/numpy/lib/twodim_base.py:751\u001b[0m, in \u001b[0;36mhistogram2d\u001b[0;34m(x, y, bins, range, normed, weights, density)\u001b[0m\n\u001b[1;32m    749\u001b[0m     xedges \u001b[38;5;241m=\u001b[39m yedges \u001b[38;5;241m=\u001b[39m asarray(bins)\n\u001b[1;32m    750\u001b[0m     bins \u001b[38;5;241m=\u001b[39m [xedges, yedges]\n\u001b[0;32m--> 751\u001b[0m hist, edges \u001b[38;5;241m=\u001b[39m \u001b[43mhistogramdd\u001b[49m\u001b[43m(\u001b[49m\u001b[43m[\u001b[49m\u001b[43mx\u001b[49m\u001b[43m,\u001b[49m\u001b[43m \u001b[49m\u001b[43my\u001b[49m\u001b[43m]\u001b[49m\u001b[43m,\u001b[49m\u001b[43m \u001b[49m\u001b[43mbins\u001b[49m\u001b[43m,\u001b[49m\u001b[43m \u001b[49m\u001b[38;5;28;43mrange\u001b[39;49m\u001b[43m,\u001b[49m\u001b[43m \u001b[49m\u001b[43mnormed\u001b[49m\u001b[43m,\u001b[49m\u001b[43m \u001b[49m\u001b[43mweights\u001b[49m\u001b[43m,\u001b[49m\u001b[43m \u001b[49m\u001b[43mdensity\u001b[49m\u001b[43m)\u001b[49m\n\u001b[1;32m    752\u001b[0m \u001b[38;5;28;01mreturn\u001b[39;00m hist, edges[\u001b[38;5;241m0\u001b[39m], edges[\u001b[38;5;241m1\u001b[39m]\n",
      "File \u001b[0;32m<__array_function__ internals>:5\u001b[0m, in \u001b[0;36mhistogramdd\u001b[0;34m(*args, **kwargs)\u001b[0m\n",
      "File \u001b[0;32m/usr/lib/python3/dist-packages/numpy/lib/histograms.py:1050\u001b[0m, in \u001b[0;36mhistogramdd\u001b[0;34m(sample, bins, range, normed, weights, density)\u001b[0m\n\u001b[1;32m   1047\u001b[0m \u001b[38;5;28;01mif\u001b[39;00m bins[i] \u001b[38;5;241m<\u001b[39m \u001b[38;5;241m1\u001b[39m:\n\u001b[1;32m   1048\u001b[0m     \u001b[38;5;28;01mraise\u001b[39;00m \u001b[38;5;167;01mValueError\u001b[39;00m(\n\u001b[1;32m   1049\u001b[0m         \u001b[38;5;124m'\u001b[39m\u001b[38;5;124m`bins[\u001b[39m\u001b[38;5;132;01m{}\u001b[39;00m\u001b[38;5;124m]` must be positive, when an integer\u001b[39m\u001b[38;5;124m'\u001b[39m\u001b[38;5;241m.\u001b[39mformat(i))\n\u001b[0;32m-> 1050\u001b[0m smin, smax \u001b[38;5;241m=\u001b[39m \u001b[43m_get_outer_edges\u001b[49m\u001b[43m(\u001b[49m\u001b[43msample\u001b[49m\u001b[43m[\u001b[49m\u001b[43m:\u001b[49m\u001b[43m,\u001b[49m\u001b[43mi\u001b[49m\u001b[43m]\u001b[49m\u001b[43m,\u001b[49m\u001b[43m \u001b[49m\u001b[38;5;28;43mrange\u001b[39;49m\u001b[43m[\u001b[49m\u001b[43mi\u001b[49m\u001b[43m]\u001b[49m\u001b[43m)\u001b[49m\n\u001b[1;32m   1051\u001b[0m \u001b[38;5;28;01mtry\u001b[39;00m:\n\u001b[1;32m   1052\u001b[0m     n \u001b[38;5;241m=\u001b[39m operator\u001b[38;5;241m.\u001b[39mindex(bins[i])\n",
      "File \u001b[0;32m/usr/lib/python3/dist-packages/numpy/lib/histograms.py:323\u001b[0m, in \u001b[0;36m_get_outer_edges\u001b[0;34m(a, range)\u001b[0m\n\u001b[1;32m    321\u001b[0m     first_edge, last_edge \u001b[38;5;241m=\u001b[39m a\u001b[38;5;241m.\u001b[39mmin(), a\u001b[38;5;241m.\u001b[39mmax()\n\u001b[1;32m    322\u001b[0m     \u001b[38;5;28;01mif\u001b[39;00m \u001b[38;5;129;01mnot\u001b[39;00m (np\u001b[38;5;241m.\u001b[39misfinite(first_edge) \u001b[38;5;129;01mand\u001b[39;00m np\u001b[38;5;241m.\u001b[39misfinite(last_edge)):\n\u001b[0;32m--> 323\u001b[0m         \u001b[38;5;28;01mraise\u001b[39;00m \u001b[38;5;167;01mValueError\u001b[39;00m(\n\u001b[1;32m    324\u001b[0m             \u001b[38;5;124m\"\u001b[39m\u001b[38;5;124mautodetected range of [\u001b[39m\u001b[38;5;132;01m{}\u001b[39;00m\u001b[38;5;124m, \u001b[39m\u001b[38;5;132;01m{}\u001b[39;00m\u001b[38;5;124m] is not finite\u001b[39m\u001b[38;5;124m\"\u001b[39m\u001b[38;5;241m.\u001b[39mformat(first_edge, last_edge))\n\u001b[1;32m    326\u001b[0m \u001b[38;5;66;03m# expand empty range to avoid divide by zero\u001b[39;00m\n\u001b[1;32m    327\u001b[0m \u001b[38;5;28;01mif\u001b[39;00m first_edge \u001b[38;5;241m==\u001b[39m last_edge:\n",
      "\u001b[0;31mValueError\u001b[0m: autodetected range of [nan, nan] is not finite"
     ]
    },
    {
     "data": {
      "image/png": "[encoded data removed]",
      "text/plain": [
       "<Figure size 400x2100 with 7 Axes>"
      ]
     },
     "metadata": {},
     "output_type": "display_data"
    }
   ],
   "source": [
    "diag.plot()"
   ]
  },
  {
   "cell_type": "code",
   "execution_count": null,
   "id": "640e8c59",
   "metadata": {
    "scrolled": false
   },
   "outputs": [],
   "source": []
  },
  {
   "cell_type": "code",
   "execution_count": null,
   "id": "3fbdef29",
   "metadata": {
    "scrolled": false
   },
   "outputs": [],
   "source": [
    "#myinstrument.show_instrument()"
   ]
  },
  {
   "cell_type": "code",
   "execution_count": null,
   "id": "b4284601",
   "metadata": {
    "scrolled": false
   },
   "outputs": [],
   "source": []
  },
  {
   "cell_type": "code",
   "execution_count": null,
   "id": "7c35a5b1",
   "metadata": {
    "scrolled": false
   },
   "outputs": [],
   "source": []
  },
  {
   "cell_type": "code",
   "execution_count": null,
   "id": "7af8b77e",
   "metadata": {
    "scrolled": false
   },
   "outputs": [],
   "source": [
    "\"detpos\" in myinstrument.master"
   ]
  },
  {
   "cell_type": "code",
   "execution_count": null,
   "id": "9c63ffad",
   "metadata": {
    "scrolled": false
   },
   "outputs": [],
   "source": [
    "%matplotlib widget\n",
    "import mcstasscript.jb_interface as ms_widget\n",
    "#ms_widget.show(data_empty)"
   ]
  },
  {
   "cell_type": "code",
   "execution_count": null,
   "id": "a9fbcdea",
   "metadata": {
    "scrolled": false
   },
   "outputs": [],
   "source": [
    "#myinstrument.sample.set_SPLIT(60)\n",
    "#myinstrument.sample"
   ]
  },
  {
   "cell_type": "code",
   "execution_count": null,
   "id": "1bc44a6f",
   "metadata": {
    "scrolled": false
   },
   "outputs": [],
   "source": [
    "#slit=myinstrument.calculators[\"SampleCalc\"].get_component(\"after_sample_slit\")\n",
    "#slit.EXTEND=\"\"\n",
    "#slit.append_EXTEND(\"if(p<1e-1) ABSORB;\")\n",
    "#slit\n"
   ]
  },
  {
   "cell_type": "code",
   "execution_count": null,
   "id": "3f95946d",
   "metadata": {},
   "outputs": [],
   "source": [
    "myinstrument.sim_neutrons(5e5)\n",
    "#myinstrument.set_sample_by_name(\"H2O\")\n",
    "#myinstrument.master[\"bs_index\"]=-1\n",
    "myinstrument.run()"
   ]
  },
  {
   "cell_type": "code",
   "execution_count": null,
   "id": "af03f0bf",
   "metadata": {
    "scrolled": false
   },
   "outputs": [],
   "source": [
    "data=myinstrument.output\n",
    "#print(data)\n",
    "calcname_data=\"DetectorCalc_data\"\n",
    "calcname_data=\"OriginCalc_data\"\n",
    "detectors=data[calcname_data].get_data()[\"data\"]"
   ]
  },
  {
   "cell_type": "code",
   "execution_count": null,
   "id": "899c7352",
   "metadata": {
    "scrolled": false
   },
   "outputs": [],
   "source": [
    "#print(data[calcname_data])\n",
    "\n",
    "#print()\n",
    "for detector in detectors:\n",
    "    print(detector, \"\\n\\t I = \",detector.Intensity, \"\\n\\t E =\", detector.Error, \"\\n\\t N =\", detector.Ncount)"
   ]
  },
  {
   "cell_type": "code",
   "execution_count": null,
   "id": "e224effe",
   "metadata": {
    "scrolled": false
   },
   "outputs": [],
   "source": [
    "print(detectors)\n",
    "#help(detector)\n",
    "import mcstasscript as ms\n",
    "ms.make_sub_plot(detectors[-3:], log=True)"
   ]
  },
  {
   "cell_type": "code",
   "execution_count": null,
   "id": "9e22c0ea",
   "metadata": {},
   "outputs": [],
   "source": [
    "detector = detectors[3]\n",
    "print(detector.Intensity)\n",
    "import numpy as np\n",
    "help(detector.Intensity)"
   ]
  },
  {
   "cell_type": "code",
   "execution_count": null,
   "id": "8fd110ad",
   "metadata": {
    "scrolled": false
   },
   "outputs": [],
   "source": [
    "wmins=[\"1e-5\", \"1e-4\", \"1e-3\", \"1e-2\", \"1e-1\"]\n",
    "detectors=[]\n",
    "for w_min in wmins:\n",
    "    slit=myinstrument.calculators[\"SampleCalc\"].get_component(\"after_sample_slit\")\n",
    "    slit.EXTEND=\"\"\n",
    "    slit.append_EXTEND(f\"if(p<{w_min}) ABSORB;\")\n",
    "    myinstrument.run()\n",
    "    data=myinstrument.output\n",
    "    detector=(data[\"DetectorCalc_data\"].get_data()[\"data\"][0])\n",
    "    detectors.append(detector)"
   ]
  },
  {
   "cell_type": "code",
   "execution_count": null,
   "id": "52bf6d4f",
   "metadata": {
    "scrolled": false
   },
   "outputs": [],
   "source": [
    "detectors"
   ]
  },
  {
   "cell_type": "code",
   "execution_count": null,
   "id": "6064814b",
   "metadata": {
    "scrolled": false
   },
   "outputs": [],
   "source": [
    "import numpy as np\n",
    "\n",
    "RHs = [0,1.75,2,2.25]#list() #np.arange(-1,4,1))\n",
    "RVs = [0,1,2, 2.5,3] #list(np.arange(1,3,0.3))\n",
    "#RVs.append(1.88)\n",
    "#RHs.append(3.31)\n",
    "print(RHs)\n",
    "print(RVs)\n",
    "diag_opt_component=\"before_sample_diaphragm\"\n",
    "diag_opt_component=\"fermi_chopper\"\n",
    "#mycalc.parameters[\"mono_rv\"]=0\n",
    "#mycalc.parameters[\"mono_rh\"]=0"
   ]
  },
  {
   "cell_type": "code",
   "execution_count": null,
   "id": "c738a537",
   "metadata": {},
   "outputs": [],
   "source": [
    "#diag = ms.Diagnostics(mycalc)\n",
    "#diag.settings(ncount=1e2, suppress_output=True,force_compile=True)\n",
    "#diag.run()\n",
    "diag.settings(ncount=1e5, suppress_output=True,force_compile=False)\n",
    "diag.clear_points()\n",
    "diag.add_point(before=diag_opt_component)\n",
    "diag.add_point(after=diag_opt_component)\n",
    "diag.clear_views()\n",
    "diag.add_view(\"x\",\"y\",same_scale=True)\n",
    "diag.add_view(\"dx\",\"dy\")\n",
    "print(diag)"
   ]
  },
  {
   "cell_type": "code",
   "execution_count": null,
   "id": "2d59aefd",
   "metadata": {},
   "outputs": [],
   "source": [
    "help(diag)"
   ]
  },
  {
   "cell_type": "code",
   "execution_count": null,
   "id": "f787ba8e",
   "metadata": {
    "scrolled": false
   },
   "outputs": [],
   "source": [
    "diag.set_parameters(mono_rh=RHs[0])\n",
    "\n",
    "for RV in RVs:\n",
    "    print(RV)\n",
    "    diag.instr.parameters[\"mono_rv\"]=RV\n",
    "    diag.set_parameters(mono_rv=RV)\n",
    "    diag.run()\n",
    "    diag.plot()\n",
    "#(RHmono,RVmono) = (3.31,1.88)\n",
    "#lambda: 4.05\n",
    "#lambda: 4.05 +/- 0.04\n",
    "#energy: 4.98 +/- 0.10\n",
    "#(RHanalyzer,RVanalyzer) = (4.17,0.77)\n",
    "#'Monochromator', 'counter', 'before_sample_slit', 'sqw', 'after_sample_slit', 'analyzer', 'slit', 'detector_all']"
   ]
  },
  {
   "cell_type": "code",
   "execution_count": null,
   "id": "3921c176",
   "metadata": {},
   "outputs": [],
   "source": [
    "diag.set_parameters(mono_rv=RVs[0])\n",
    "\n",
    "for RH in RHs:\n",
    "    print(RH)\n",
    "    diag.set_parameters(mono_rh=RH)\n",
    "    diag.run()\n",
    "    print(diag)\n",
    "    diag.plot()\n"
   ]
  },
  {
   "cell_type": "code",
   "execution_count": null,
   "id": "833d4920",
   "metadata": {
    "scrolled": false
   },
   "outputs": [],
   "source": [
    "print(diag)"
   ]
  },
  {
   "cell_type": "code",
   "execution_count": null,
   "id": "076601d1",
   "metadata": {
    "scrolled": false
   },
   "outputs": [],
   "source": [
    "diags= [] \n",
    "\n",
    "print(RHs)\n",
    "for RH in RHs:\n",
    "    print(RH)\n",
    "    mycalc.parameters[\"mono_rh\"]=RH\n",
    "    diag = ms.Diagnostics(mycalc)\n",
    "    diag.settings(ncount=1e5, suppress_output=True,force_compile=False)\n",
    "    diag.clear_points()\n",
    "    diag.add_point(after=diag_opt_component)\n",
    "#    diag.add_point(before=\"sqw\")\n",
    "    diag.run()\n",
    "    diags.append(diag)"
   ]
  },
  {
   "cell_type": "code",
   "execution_count": null,
   "id": "120b2e93",
   "metadata": {},
   "outputs": [],
   "source": [
    "print(diag)"
   ]
  },
  {
   "cell_type": "code",
   "execution_count": null,
   "id": "31fdcd13",
   "metadata": {
    "scrolled": false
   },
   "outputs": [],
   "source": [
    "for diag in diags:\n",
    "    diag.clear_views()\n",
    "    #diag.add_view(\"x\", bins=50, limits=[-0.04,0.04])\n",
    "    #diag.add_view(\"y\", bins=50, same_scale=False, limits=[-0.07,0.07])\n",
    "    diag.add_view(\"x\",\"y\")\n",
    "    diag.add_view(\"dx\",\"dy\")\n",
    "    #diag.add_view(\"dx\")\n",
    "    #diag.add_view(\"dy\")\n",
    "    diag.plot()\n",
    "    print(diag)"
   ]
  },
  {
   "cell_type": "code",
   "execution_count": null,
   "id": "31a5b68b",
   "metadata": {
    "scrolled": false
   },
   "outputs": [],
   "source": [
    "for diag in diags:\n",
    "    diag.clear_views()\n",
    "    diag.add_view(\"x\", bins=50, limits=[-0.04,0.04])\n",
    "    diag.add_view(\"y\", bins=50, same_scale=False, limits=[-0.07,0.07])\n",
    "    #diag.add_view(\"x\",\"y\",bins=[30,30])\n",
    "    #diag.add_view(\"dx\",\"dy\")\n",
    "    diag.add_view(\"dx\")\n",
    "    diag.add_view(\"dy\")\n",
    "    diag.plot()"
   ]
  },
  {
   "cell_type": "code",
   "execution_count": null,
   "id": "5d830ade",
   "metadata": {
    "scrolled": false
   },
   "outputs": [],
   "source": [
    "myinstrument.force_compile(False)\n",
    "myinstrument.sim_neutrons(1e5)\n",
    "counter=[]\n",
    "detector=[]\n",
    "mycalc = myinstrument.calculators[\"OriginCalc\"]\n",
    "for RV in RVs:\n",
    "    for RH in RHs:\n",
    "        mycalc.parameters[\"RHmono\"].value = RH\n",
    "        mycalc.parameters[\"RVmono\"].value = RV\n",
    "        #print(mycalc.parameters)\n",
    "        myinstrument.run()\n",
    "        counter.append(myinstrument.output[\"OriginCalc_data\"].get_data()[\"data\"])"
   ]
  },
  {
   "cell_type": "code",
   "execution_count": null,
   "id": "67b8c8d6",
   "metadata": {
    "scrolled": false
   },
   "outputs": [],
   "source": [
    "i=0\n",
    "i_det=1\n",
    "for RV in RVs:\n",
    "    for RH in RHs:\n",
    "        c = counter[i]\n",
    "        det=c[1]\n",
    "        print(i, \"\\t\" , RV, RH, \"\\t\\t\" , det.Intensity, det.Error, det.Ncount)\n",
    "        i=i+1"
   ]
  },
  {
   "cell_type": "code",
   "execution_count": null,
   "id": "e1798cb5",
   "metadata": {
    "scrolled": false
   },
   "outputs": [],
   "source": [
    "mycalc.output"
   ]
  },
  {
   "cell_type": "code",
   "execution_count": null,
   "id": "acd58fe9",
   "metadata": {
    "scrolled": false
   },
   "outputs": [],
   "source": [
    "print(myinstrument.output)"
   ]
  },
  {
   "cell_type": "code",
   "execution_count": null,
   "id": "4bd7a273",
   "metadata": {
    "scrolled": false
   },
   "outputs": [],
   "source": [
    "RHs = list(np.arange(1.5,3,0.2))\n",
    "RVs = list(np.arange(0.3,1.2,0.2))\n",
    "RVs.append(0.51)\n",
    "RHs.append(1.41)\n",
    "print(RHs)\n",
    "print(RVs)\n",
    "\n",
    "myinstrument.force_compile(False)\n",
    "myinstrument.sim_neutrons(1e5)\n",
    "counter=[]\n",
    "\n",
    "mycalc = myinstrument.calculators[\"OriginCalc\"]\n",
    "for RV in RVs:\n",
    "    for RH in RHs:\n",
    "        mycalc.parameters[\"RHanalyzer\"].value = RH\n",
    "        mycalc.parameters[\"RVanalyzer\"].value = RV\n",
    "        #print(mycalc.parameters)\n",
    "        myinstrument.run()\n",
    "        counter.append(myinstrument.output[\"OriginCalc_data\"].get_data()[\"data\"])"
   ]
  },
  {
   "cell_type": "code",
   "execution_count": null,
   "id": "24d1d3ec",
   "metadata": {
    "scrolled": false
   },
   "outputs": [],
   "source": [
    "i=0\n",
    "i_det=1\n",
    "intensities = []\n",
    "counts = []\n",
    "for RV in RVs:\n",
    "    for RH in RHs:\n",
    "        c = counter[i]\n",
    "        det=c[1]\n",
    "        #print(i, \"\\t\" , RV, RH, \"\\t\\t\" , det.Intensity, det.Error, det.Ncount)\n",
    "        intensities.append(det.Intensity)\n",
    "        counts.append(det.Ncount)\n",
    "        i=i+1"
   ]
  },
  {
   "cell_type": "code",
   "execution_count": null,
   "id": "6cdcc95a",
   "metadata": {
    "scrolled": false
   },
   "outputs": [],
   "source": [
    "max(intensities)"
   ]
  },
  {
   "cell_type": "code",
   "execution_count": null,
   "id": "cfdb106f",
   "metadata": {
    "scrolled": false
   },
   "outputs": [],
   "source": [
    "max(counts)"
   ]
  },
  {
   "cell_type": "code",
   "execution_count": null,
   "id": "d4090a1b",
   "metadata": {
    "scrolled": false
   },
   "outputs": [],
   "source": [
    "intensities.index(max(intensities))"
   ]
  },
  {
   "cell_type": "code",
   "execution_count": null,
   "id": "e5201171",
   "metadata": {
    "scrolled": false
   },
   "outputs": [],
   "source": [
    "counts.index(max(counts))"
   ]
  },
  {
   "cell_type": "code",
   "execution_count": null,
   "id": "88f54a79",
   "metadata": {
    "scrolled": false
   },
   "outputs": [],
   "source": [
    "i=0\n",
    "for RV in RVs:\n",
    "    for RH in RHs:\n",
    "        print(RV, RH, counts[i])\n",
    "        if i==counts.index(max(counts)):\n",
    "            print(\"---> \",RV, RH)\n",
    "        i=i+1"
   ]
  },
  {
   "cell_type": "code",
   "execution_count": null,
   "id": "100a7451",
   "metadata": {
    "scrolled": false
   },
   "outputs": [],
   "source": [
    "RVs"
   ]
  },
  {
   "cell_type": "code",
   "execution_count": null,
   "id": "b6653053",
   "metadata": {
    "scrolled": false
   },
   "outputs": [],
   "source": [
    "RHs"
   ]
  },
  {
   "cell_type": "code",
   "execution_count": null,
   "id": "17ddad58",
   "metadata": {
    "scrolled": false
   },
   "outputs": [],
   "source": [
    "dist_sample_ana = 1.260\n",
    "dist_ana_det = 0.640\n",
    "import math\n",
    "ana_focus = 1.0 / (1.0 / dist_sample_ana + 1.0 / dist_ana_det)"
   ]
  },
  {
   "cell_type": "code",
   "execution_count": null,
   "id": "b9bb0a25",
   "metadata": {
    "scrolled": false
   },
   "outputs": [],
   "source": [
    "\n",
    "def rh(ana_focus):\n",
    "    return 2*ana_focus/math.sin(math.pi/180*myinstrument.master[\"a6\"].value/2)\n",
    "def rv(ana_focus):\n",
    "    return 2*ana_focus*math.sin(math.pi/180*myinstrument.master[\"a6\"].value/2)\n"
   ]
  },
  {
   "cell_type": "code",
   "execution_count": null,
   "id": "0275cde3",
   "metadata": {
    "scrolled": false
   },
   "outputs": [],
   "source": [
    "print(rv(ana_focus),rh(ana_focus))"
   ]
  },
  {
   "cell_type": "code",
   "execution_count": null,
   "id": "10289531",
   "metadata": {
    "scrolled": false
   },
   "outputs": [],
   "source": [
    "ana_focus=dist_ana_det\n",
    "print(rv(ana_focus),rh(ana_focus))"
   ]
  },
  {
   "cell_type": "code",
   "execution_count": null,
   "id": "a4cfb70b",
   "metadata": {
    "scrolled": false
   },
   "outputs": [],
   "source": [
    "flavour.find(\"quicka\")"
   ]
  },
  {
   "cell_type": "code",
   "execution_count": null,
   "id": "2e2d80c9",
   "metadata": {
    "scrolled": false
   },
   "outputs": [],
   "source": []
  },
  {
   "cell_type": "code",
   "execution_count": null,
   "id": "13b7e9bb",
   "metadata": {},
   "outputs": [],
   "source": []
  },
  {
   "cell_type": "code",
   "execution_count": null,
   "id": "0c99eaf8",
   "metadata": {},
   "outputs": [],
   "source": [
    "import mcstasscript as ms\n",
    "import math\n",
    "instrument = ms.McStas_instr(\"test\")\n",
    "\n",
    "source = instrument.add_component(\"source\", \"Source_simple\")\n",
    "source.set_parameters(xwidth=0.05, yheight=0.03, dlambda=0.02,\n",
    "                      dist=1.7, focus_xw=0.3, focus_yh=0.05)\n",
    "#source.lambda0 = instrument.add_parameter(\"wavelength\", value=2.0)\n",
    "source.E0=6\n",
    "\n",
    "slit = instrument.add_component(\"slit\",\"Slit\", AT=1.60, RELATIVE=source)\n",
    "\n",
    "#fermi=instrument.add_component(\"fermi\",\"Arm\", AT=5, RELATIVE=source)\n",
    "fermi = instrument.add_component(\"fermi\", \"FermiChopper\", AT=1.700, RELATIVE=source)\n",
    "        # L_bc5_fermi = L_bc5_fermi + fermi.AT_data[2]\n",
    "        # print(L_bc5_fermi)\n",
    "\n",
    "fermi.set_parameters(\n",
    "            radius=math.sqrt((0.0006 * 45) ** 2 + 0.023 ** 2),\n",
    "            nslit=45,\n",
    "            length=0.023,\n",
    "            w=0.0006,\n",
    "            yheight=0.113,\n",
    "            nu=500,\n",
    "            verbose=2,\n",
    "            eff=0.86 * 0.8,\n",
    "            m=0,\n",
    "            R0=0,  # no super mirror\n",
    "            zero_time=2,\n",
    "            # delay=0.007,\n",
    "            # delay=str(L_bc5_fermi) + \" / neutron_velocity\",\n",
    "            #            delay=0.0065,\n",
    "            # phase=-23.1209 * 2,\n",
    "        )\n",
    "print(fermi.radius)\n",
    "slit.xwidth=fermi.radius*2*0.9\n",
    "slit.yheight=fermi.yheight\n",
    "class sample:\n",
    "    \"\"\"\"\"\"\n",
    "    radius=0.1\n",
    "    yheight=0.1\n",
    "    \n",
    "mon = instrument.add_component(\"PSD\", \"PSD_monitor\")\n",
    "mon.set_AT(0.1, RELATIVE=fermi)\n",
    "mon.set_parameters(nx=100, ny=100, filename='\"psd.dat\"',\n",
    "                   xwidth=5*sample.radius, yheight=2*sample.yheight, restore_neutron=1)\n"
   ]
  },
  {
   "cell_type": "code",
   "execution_count": null,
   "id": "b3638cab",
   "metadata": {},
   "outputs": [],
   "source": [
    "diag = ms.Diagnostics(instrument)\n",
    "diag.settings(ncount=1e5, suppress_output=False)\n",
    "diag.show_settings()\n",
    "diag.clear_points()\n",
    "#diag.add_point(before=\"slit\")\n",
    "#diag.add_point(after=\"slit\")\n",
    "\n",
    "diag.add_point(after=\"fermi\")\n",
    "\n",
    "diag.run()\n"
   ]
  },
  {
   "cell_type": "code",
   "execution_count": null,
   "id": "0037d816",
   "metadata": {},
   "outputs": [],
   "source": [
    "diag.clear_views()\n",
    "diag.add_view(\"x\",\"y\",same_scale=True, log=True)\n",
    "diag.add_view(\"t\",\"x\",same_scale=False, log=True)\n",
    "diag.plot()"
   ]
  },
  {
   "cell_type": "code",
   "execution_count": null,
   "id": "859c73a7",
   "metadata": {},
   "outputs": [],
   "source": [
    "instrument.show_diagram(analysis=True, variable=None)"
   ]
  },
  {
   "cell_type": "code",
   "execution_count": null,
   "id": "b0fa6473",
   "metadata": {},
   "outputs": [],
   "source": []
  }
 ],
 "metadata": {
  "kernelspec": {
   "display_name": "Python 3 (ipykernel)",
   "language": "python",
   "name": "python3"
  },
  "language_info": {
   "codemirror_mode": {
    "name": "ipython",
    "version": 3
   },
   "file_extension": ".py",
   "mimetype": "text/x-python",
   "name": "python",
   "nbconvert_exporter": "python",
   "pygments_lexer": "ipython3",
   "version": "3.10.6"
  }
 },
 "nbformat": 4,
 "nbformat_minor": 5
}
