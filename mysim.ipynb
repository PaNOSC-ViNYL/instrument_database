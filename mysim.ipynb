{
 "cells": [
  {
   "cell_type": "code",
   "execution_count": 1,
   "id": "fe05f337",
   "metadata": {
    "scrolled": false
   },
   "outputs": [],
   "source": [
    "from instrumentdatabaseapi import instrumentdatabaseapi as API\n",
    "repo = API.Repository(local_repo=\".\")"
   ]
  },
  {
   "cell_type": "code",
   "execution_count": 2,
   "id": "e7361d79",
   "metadata": {
    "scrolled": false
   },
   "outputs": [
    {
     "name": "stdout",
     "output_type": "stream",
     "text": [
      "URL: https://github.com/PaNOSC-ViNYL/instrument_database.git\n",
      "local_dir: ./\n"
     ]
    }
   ],
   "source": [
    "print(repo)"
   ]
  },
  {
   "cell_type": "markdown",
   "id": "35e75700",
   "metadata": {},
   "source": [
    "Load the instrument configuration providing:\n",
    " - name of the institute\n",
    " - name of the instrument\n",
    " - version of the instrument description (HEAD is the most recent)\n",
    " - name of the simulation program"
   ]
  },
  {
   "cell_type": "code",
   "execution_count": 3,
   "id": "8027f017",
   "metadata": {
    "scrolled": false
   },
   "outputs": [],
   "source": [
    "#help(repo)"
   ]
  },
  {
   "cell_type": "code",
   "execution_count": 4,
   "id": "ed79abb5",
   "metadata": {
    "scrolled": false
   },
   "outputs": [
    {
     "name": "stdout",
     "output_type": "stream",
     "text": [
      " - EuXFEL\n",
      " - ILL\n",
      " - test_institute\n"
     ]
    }
   ],
   "source": [
    "repo.ls_institutes()"
   ]
  },
  {
   "cell_type": "code",
   "execution_count": 5,
   "id": "495cae4b",
   "metadata": {
    "scrolled": false
   },
   "outputs": [
    {
     "name": "stdout",
     "output_type": "stream",
     "text": [
      "Available instruments for ILL:\n",
      " -  ILL/D22\n",
      " -  ILL/Panther\n",
      " -  ILL/ThALES\n",
      " -  ILL/IN5\n",
      " -  ILL/D11\n"
     ]
    }
   ],
   "source": [
    "repo.ls_instruments(\"ILL\")\n",
    "instrument_name=\"Panther\"\n",
    "#instrument_name=\"ThALES\"\n",
    "#instrument_name=\"IN5\"\n",
    "instrument_name=\"D11\""
   ]
  },
  {
   "cell_type": "code",
   "execution_count": 6,
   "id": "1490bb0d",
   "metadata": {
    "scrolled": false
   },
   "outputs": [
    {
     "name": "stdout",
     "output_type": "stream",
     "text": [
      "Available versions for instrument D11:\n",
      " -  HEAD\n"
     ]
    }
   ],
   "source": [
    "repo.ls_versions(\"ILL\",instrument_name)"
   ]
  },
  {
   "cell_type": "code",
   "execution_count": 7,
   "id": "acf32222",
   "metadata": {
    "scrolled": false
   },
   "outputs": [
    {
     "name": "stdout",
     "output_type": "stream",
     "text": [
      "Instrument D11 from institute ILL is implemented with the following programs:\n",
      " -  mcstas\n"
     ]
    }
   ],
   "source": [
    "repo.ls_simulation_programs(\"ILL\",instrument_name,\"HEAD\")"
   ]
  },
  {
   "cell_type": "code",
   "execution_count": 8,
   "id": "c6ab7b51",
   "metadata": {
    "scrolled": false
   },
   "outputs": [
    {
     "name": "stdout",
     "output_type": "stream",
     "text": [
      "Available flavours for instrument D11:\n",
      " -  None\n",
      " -  full\n",
      " -  nosection\n",
      " -  Borkron_1972\n",
      " -  Borkron_2003\n",
      " -  Borofloat_2001\n",
      " -  simple\n"
     ]
    }
   ],
   "source": [
    "repo.ls_flavours(\"ILL\",instrument_name,\"HEAD\",\"mcstas\")"
   ]
  },
  {
   "cell_type": "code",
   "execution_count": 9,
   "id": "1a94bd7a",
   "metadata": {
    "scrolled": false
   },
   "outputs": [
    {
     "name": "stdout",
     "output_type": "stream",
     "text": [
      "The following components are found in the work_directory / input_path:\n",
      "     Cyl_TOF.comp\n",
      "These definitions will be used instead of the installed versions.\n",
      "The following components are found in the work_directory / input_path:\n",
      "     Cyl_TOF.comp\n",
      "These definitions will be used instead of the installed versions.\n",
      "The following components are found in the work_directory / input_path:\n",
      "     Cyl_TOF.comp\n",
      "These definitions will be used instead of the installed versions.\n"
     ]
    }
   ],
   "source": [
    "flavour=\"full\"\n",
    "#flavour=\"nosection\"\n",
    "flavour=\"simple\"\n",
    "myinstrument = repo.load(\"ILL\", instrument_name, \"HEAD\", \"mcstas\", flavour, dep=False)"
   ]
  },
  {
   "cell_type": "code",
   "execution_count": 10,
   "id": "89328333",
   "metadata": {
    "scrolled": false
   },
   "outputs": [
    {
     "name": "stdout",
     "output_type": "stream",
     "text": [
      "- Instrument: IN5 -\n",
      "Calculators:\n",
      "OriginCalc\n",
      "SampleCalc\n",
      "DetectorCalc\n",
      "\n"
     ]
    }
   ],
   "source": [
    "myinstrument.list_calculators()"
   ]
  },
  {
   "cell_type": "code",
   "execution_count": 11,
   "id": "79b04730",
   "metadata": {
    "scrolled": false
   },
   "outputs": [
    {
     "name": "stdout",
     "output_type": "stream",
     "text": [
      "######## Instrument IN5\n",
      "- Instrument: IN5 -\n",
      "Calculators:\n",
      "OriginCalc\n",
      "SampleCalc\n",
      "DetectorCalc\n",
      "- ParametersCollection object -\n",
      "\n",
      "   OriginCalc\n",
      "    - Parameters object -\n",
      "   lambda                              6          [angstrom]              L[0.12 angstrom, 12 angstrom]\n",
      "   dlambda                             0.1        [angstrom]              \n",
      "   Vrpm                                4000                            velocity selector RPM   I[-inf dimensionless, 3100 dimensionless]I[28300, inf]I[9000, 11900]\n",
      "\n",
      "   SampleCalc\n",
      "    - Parameters object -\n",
      "   vin_filename                        \"none\"                             \n",
      "   sample_y_rotation                   0          [degree]             sample table rotation angle   \n",
      "   sample_width                        0.02       [meter]              width of the sample if shape is box   \n",
      "   sample_height                       0.03       [meter]              height of the sample if shape is box or cylinder   \n",
      "   sample_depth                        0.0035     [meter]              depth of the sample if shape is box   \n",
      "   sample_radius                       0          [meter]              radius of the sample if shape is sphere or cylinder   \n",
      "   sample_thickness                    0.00125    [meter]              thickness of the sample if it is hollow   \n",
      "\n",
      "   DetectorCalc\n",
      "    - Parameters object -\n",
      "   vin_filename                        \"none\"                             \n",
      "   detpos                              1          [meter]              Detector distance   L[0 meter, 40 meter]\n",
      "   bs_x                                0          [meter]              Beamstop x position   \n",
      "   bs_y                                0          [meter]              Beamstop y position   \n",
      "\n",
      "############\n"
     ]
    }
   ],
   "source": [
    "print(myinstrument)"
   ]
  },
  {
   "cell_type": "code",
   "execution_count": 12,
   "id": "c2b955ba",
   "metadata": {
    "scrolled": false
   },
   "outputs": [],
   "source": [
    "# setting the base directory for the simulation output\n",
    "basedir = \"/tmp/\"+instrument_name+\"/\"\n",
    "myinstrument.set_instrument_base_dir(basedir)\n",
    "import os \n",
    "#os.mkdir(basedir)\n"
   ]
  },
  {
   "cell_type": "code",
   "execution_count": 13,
   "id": "bf583b30",
   "metadata": {
    "scrolled": false
   },
   "outputs": [
    {
     "data": {
      "text/plain": [
       " - Parameters object -"
      ]
     },
     "execution_count": 13,
     "metadata": {},
     "output_type": "execute_result"
    }
   ],
   "source": [
    "myinstrument.master"
   ]
  },
  {
   "cell_type": "code",
   "execution_count": 14,
   "id": "9a69d1a4",
   "metadata": {
    "scrolled": false
   },
   "outputs": [],
   "source": [
    "import pint\n",
    "ureg = pint.get_application_registry()\n",
    "\n",
    "if instrument_name == \"ThALES\":\n",
    "    myinstrument.master[\"a2\"] = myinstrument.energy_to_angle(4.98 * ureg.meV)\n",
    "    myinstrument.master[\"a4\"] = 60 * ureg.degree\n",
    "    myinstrument.master[\"a6\"] = myinstrument.master[\"a2\"].pint_value\n",
    "if instrument_name == \"Panther\":\n",
    "    myinstrument.master[\"energy\"]=19 * ureg.meV"
   ]
  },
  {
   "cell_type": "code",
   "execution_count": 15,
   "id": "5e7d0e97",
   "metadata": {
    "scrolled": false
   },
   "outputs": [
    {
     "data": {
      "text/plain": [
       "['None', 'vanadium', 'H2O', 'D2O', 'sqw']"
      ]
     },
     "execution_count": 15,
     "metadata": {},
     "output_type": "execute_result"
    }
   ],
   "source": [
    "myinstrument.samples"
   ]
  },
  {
   "cell_type": "code",
   "execution_count": 16,
   "id": "a4dc4b8f",
   "metadata": {
    "scrolled": false
   },
   "outputs": [
    {
     "data": {
      "text/plain": [
       "SPLIT 14 COMPONENT sqw = Isotropic_Sqw(\n",
       "  \u001b[1mSqw_coh\u001b[0m = \u001b[1m\u001b[92m0\u001b[0m\u001b[0m, // [str]\n",
       "  \u001b[1mSqw_inc\u001b[0m = \u001b[1m\u001b[92m0\u001b[0m\u001b[0m, // [str]\n",
       "  \u001b[1mradius\u001b[0m = \u001b[1m\u001b[92msample_radius\u001b[0m\u001b[0m, // [m]\n",
       "  \u001b[1mthickness\u001b[0m = \u001b[1m\u001b[92msample_thickness\u001b[0m\u001b[0m, // [m]\n",
       "  \u001b[1mxwidth\u001b[0m = \u001b[1m\u001b[92msample_width\u001b[0m\u001b[0m, // [m]\n",
       "  \u001b[1myheight\u001b[0m = \u001b[1m\u001b[92msample_height\u001b[0m\u001b[0m, // [m]\n",
       "  \u001b[1mverbose\u001b[0m = \u001b[1m\u001b[92m2\u001b[0m\u001b[0m, // [1]\n",
       "  \u001b[1md_phi\u001b[0m = \u001b[1m\u001b[92m21.23931055231027\u001b[0m\u001b[0m, // [deg]\n",
       "  \u001b[1mrho\u001b[0m = \u001b[1m\u001b[92m0.07232226802632531\u001b[0m\u001b[0m, // [AA-3]\n",
       "  \u001b[1msigma_abs\u001b[0m = \u001b[1m\u001b[92m5.08\u001b[0m\u001b[0m, // [barns]\n",
       "  \u001b[1msigma_coh\u001b[0m = \u001b[1m\u001b[92m0\u001b[0m\u001b[0m, // [barns]\n",
       "  \u001b[1msigma_inc\u001b[0m = \u001b[1m\u001b[92m4.935\u001b[0m\u001b[0m, // [barns]\n",
       "  \u001b[1mp_interact\u001b[0m = \u001b[1m\u001b[92m1\u001b[0m\u001b[0m // [1]\n",
       ")\n",
       "AT (0, 0, 0) RELATIVE sample_arm"
      ]
     },
     "execution_count": 16,
     "metadata": {},
     "output_type": "execute_result"
    }
   ],
   "source": [
    "myinstrument.set_sample_by_name(\"vanadium\")"
   ]
  },
  {
   "cell_type": "code",
   "execution_count": 17,
   "id": "e5f12935",
   "metadata": {
    "scrolled": false
   },
   "outputs": [],
   "source": [
    "myinstrument.sample_cylinder_shape(0.005, 0.01)"
   ]
  },
  {
   "cell_type": "code",
   "execution_count": 18,
   "id": "17ab1a80",
   "metadata": {
    "scrolled": false
   },
   "outputs": [],
   "source": [
    "myinstrument.sim_neutrons(5e5)\n",
    "myinstrument.set_seed(654321)\n",
    "myinstrument.custom_flags(\"-I mcstas/components\")"
   ]
  },
  {
   "cell_type": "code",
   "execution_count": 19,
   "id": "20da6717",
   "metadata": {
    "scrolled": false
   },
   "outputs": [],
   "source": [
    "#myinstrument.run()"
   ]
  },
  {
   "cell_type": "markdown",
   "id": "afc301e9",
   "metadata": {},
   "source": [
    "### Diagnostics of the beam for one calculator"
   ]
  },
  {
   "cell_type": "code",
   "execution_count": 20,
   "id": "7cf72254",
   "metadata": {
    "scrolled": false
   },
   "outputs": [],
   "source": [
    "calculator_name=\"SampleCalc\"\n",
    "calculator_name=\"OriginCalc\"\n",
    "mycalc = myinstrument.calculators[calculator_name]\n",
    "#mycalc.backengine()\n",
    "#myinstrument.run()\n",
    "#print(mycalc.output)"
   ]
  },
  {
   "cell_type": "code",
   "execution_count": 21,
   "id": "32567b1b",
   "metadata": {
    "scrolled": true
   },
   "outputs": [],
   "source": [
    "#mycalc = myinstrument.calculators[\"OriginCalc\"]\n",
    "#mycalc = myinstrument.calculators[\"SampleCalc\"]\n",
    "#mycalc.input = myinstrument.calculators[\"OriginCalc\"].output\n",
    "#mycalc.show_diagram()\n"
   ]
  },
  {
   "cell_type": "code",
   "execution_count": 22,
   "id": "3f8e0aaa",
   "metadata": {
    "scrolled": false
   },
   "outputs": [
    {
     "ename": "NameError",
     "evalue": "Required parameter named w1 in component named sg30 not set.",
     "output_type": "error",
     "traceback": [
      "\u001b[0;31m---------------------------------------------------------------------------\u001b[0m",
      "\u001b[0;31mNameError\u001b[0m                                 Traceback (most recent call last)",
      "Cell \u001b[0;32mIn[22], line 1\u001b[0m\n\u001b[0;32m----> 1\u001b[0m \u001b[43mmycalc\u001b[49m\u001b[38;5;241;43m.\u001b[39;49m\u001b[43mshow_diagram\u001b[49m\u001b[43m(\u001b[49m\u001b[43manalysis\u001b[49m\u001b[38;5;241;43m=\u001b[39;49m\u001b[38;5;28;43;01mTrue\u001b[39;49;00m\u001b[43m,\u001b[49m\u001b[43m \u001b[49m\u001b[43mvariable\u001b[49m\u001b[38;5;241;43m=\u001b[39;49m\u001b[38;5;28;43;01mNone\u001b[39;49;00m\u001b[43m)\u001b[49m\n",
      "File \u001b[0;32m~/digitaltwin/instrument_database/McStasScript/mcstasscript/interface/instr.py:2744\u001b[0m, in \u001b[0;36mMcCode_instr.show_diagram\u001b[0;34m(self, analysis, variable, limits)\u001b[0m\n\u001b[1;32m   2741\u001b[0m \u001b[38;5;28;01mif\u001b[39;00m variable \u001b[38;5;129;01mis\u001b[39;00m \u001b[38;5;129;01mnot\u001b[39;00m \u001b[38;5;28;01mNone\u001b[39;00m:\n\u001b[1;32m   2742\u001b[0m     analysis \u001b[38;5;241m=\u001b[39m \u001b[38;5;28;01mTrue\u001b[39;00m\n\u001b[0;32m-> 2744\u001b[0m \u001b[43minstrument_diagram\u001b[49m\u001b[43m(\u001b[49m\u001b[38;5;28;43mself\u001b[39;49m\u001b[43m,\u001b[49m\u001b[43m \u001b[49m\u001b[43manalysis\u001b[49m\u001b[38;5;241;43m=\u001b[39;49m\u001b[43manalysis\u001b[49m\u001b[43m,\u001b[49m\u001b[43m \u001b[49m\u001b[43mvariable\u001b[49m\u001b[38;5;241;43m=\u001b[39;49m\u001b[43mvariable\u001b[49m\u001b[43m,\u001b[49m\u001b[43m \u001b[49m\u001b[43mlimits\u001b[49m\u001b[38;5;241;43m=\u001b[39;49m\u001b[43mlimits\u001b[49m\u001b[43m)\u001b[49m\n\u001b[1;32m   2746\u001b[0m \u001b[38;5;28;01mif\u001b[39;00m \u001b[38;5;28mself\u001b[39m\u001b[38;5;241m.\u001b[39m_run_settings[\u001b[38;5;124m\"\u001b[39m\u001b[38;5;124mchecks\u001b[39m\u001b[38;5;124m\"\u001b[39m]:\n\u001b[1;32m   2747\u001b[0m     \u001b[38;5;28mself\u001b[39m\u001b[38;5;241m.\u001b[39mcheck_for_errors()\n",
      "File \u001b[0;32m~/digitaltwin/instrument_database/McStasScript/mcstasscript/instrument_diagram/make_diagram.py:94\u001b[0m, in \u001b[0;36minstrument_diagram\u001b[0;34m(instrument, analysis, variable, limits)\u001b[0m\n\u001b[1;32m     87\u001b[0m canvas \u001b[38;5;241m=\u001b[39m DiagramCanvas(AT_arrows \u001b[38;5;241m+\u001b[39m ROTATED_arrows, component_boxes,\n\u001b[1;32m     88\u001b[0m                        JUMP_arrows \u001b[38;5;241m+\u001b[39m target_index_arrows \u001b[38;5;241m+\u001b[39m GROUP_arrows \u001b[38;5;241m+\u001b[39m Union_arrows,\n\u001b[1;32m     89\u001b[0m                        component_categories\u001b[38;5;241m=\u001b[39mcomponent_categories, colors\u001b[38;5;241m=\u001b[39mcolor_choices,\n\u001b[1;32m     90\u001b[0m                        intensity_diagnostics\u001b[38;5;241m=\u001b[39mintensity_diagnostics, variable\u001b[38;5;241m=\u001b[39mvariable,\n\u001b[1;32m     91\u001b[0m                        limits\u001b[38;5;241m=\u001b[39mlimits)\n\u001b[1;32m     93\u001b[0m \u001b[38;5;66;03m# Plot diagram\u001b[39;00m\n\u001b[0;32m---> 94\u001b[0m \u001b[43mcanvas\u001b[49m\u001b[38;5;241;43m.\u001b[39;49m\u001b[43mplot\u001b[49m\u001b[43m(\u001b[49m\u001b[43m)\u001b[49m\n",
      "File \u001b[0;32m~/digitaltwin/instrument_database/McStasScript/mcstasscript/instrument_diagram/canvas.py:412\u001b[0m, in \u001b[0;36mDiagramCanvas.plot\u001b[0;34m(self)\u001b[0m\n\u001b[1;32m    409\u001b[0m     ax\u001b[38;5;241m.\u001b[39mset_zorder(\u001b[38;5;241m4\u001b[39m)\n\u001b[1;32m    411\u001b[0m     \u001b[38;5;66;03m# Plot graph, convey tick positions and ylimits to match main diagram\u001b[39;00m\n\u001b[0;32m--> 412\u001b[0m     \u001b[38;5;28;43mself\u001b[39;49m\u001b[38;5;241;43m.\u001b[39;49m\u001b[43mintensity_diagnostics\u001b[49m\u001b[38;5;241;43m.\u001b[39;49m\u001b[43mrun_general\u001b[49m\u001b[43m(\u001b[49m\u001b[43mvariable\u001b[49m\u001b[38;5;241;43m=\u001b[39;49m\u001b[38;5;28;43mself\u001b[39;49m\u001b[38;5;241;43m.\u001b[39;49m\u001b[43mvariable\u001b[49m\u001b[43m,\u001b[49m\u001b[43m \u001b[49m\u001b[43mlimits\u001b[49m\u001b[38;5;241;43m=\u001b[39;49m\u001b[38;5;28;43mself\u001b[39;49m\u001b[38;5;241;43m.\u001b[39;49m\u001b[43mlimits\u001b[49m\u001b[43m)\u001b[49m\n\u001b[1;32m    413\u001b[0m     \u001b[38;5;28mself\u001b[39m\u001b[38;5;241m.\u001b[39mintensity_diagnostics\u001b[38;5;241m.\u001b[39mplot(ax\u001b[38;5;241m=\u001b[39minset_ax, fig\u001b[38;5;241m=\u001b[39mfig,\n\u001b[1;32m    414\u001b[0m                                     y_tick_positions\u001b[38;5;241m=\u001b[39my_positions,\n\u001b[1;32m    415\u001b[0m                                     ylimits\u001b[38;5;241m=\u001b[39m[lower_y_lim, upper_y_lim],\n\u001b[1;32m    416\u001b[0m                                     show_comp_names\u001b[38;5;241m=\u001b[39m\u001b[38;5;28;01mFalse\u001b[39;00m)\n\u001b[1;32m    419\u001b[0m \u001b[38;5;66;03m# Create anotation box that will be shown when hovering the mouse over a box\u001b[39;00m\n",
      "File \u001b[0;32m~/digitaltwin/instrument_database/McStasScript/mcstasscript/instrument_diagnostics/intensity_diagnostics.py:60\u001b[0m, in \u001b[0;36mIntensityDiagnostics.run_general\u001b[0;34m(self, variable, limits)\u001b[0m\n\u001b[1;32m     56\u001b[0m     \u001b[38;5;28mself\u001b[39m\u001b[38;5;241m.\u001b[39mmonitors\u001b[38;5;241m.\u001b[39mappend((mon_name, comp\u001b[38;5;241m.\u001b[39mname))\n\u001b[1;32m     58\u001b[0m \u001b[38;5;28mself\u001b[39m\u001b[38;5;241m.\u001b[39mcorrect_target_index()\n\u001b[0;32m---> 60\u001b[0m \u001b[38;5;28mself\u001b[39m\u001b[38;5;241m.\u001b[39mdata \u001b[38;5;241m=\u001b[39m \u001b[38;5;28;43mself\u001b[39;49m\u001b[38;5;241;43m.\u001b[39;49m\u001b[43minstr\u001b[49m\u001b[38;5;241;43m.\u001b[39;49m\u001b[43mbackengine\u001b[49m\u001b[43m(\u001b[49m\u001b[43m)\u001b[49m\n",
      "File \u001b[0;32m~/digitaltwin/instrument_database/McStasScript/mcstasscript/interface/instr.py:2490\u001b[0m, in \u001b[0;36mMcCode_instr.backengine\u001b[0;34m(self)\u001b[0m\n\u001b[1;32m   2488\u001b[0m instrument_path \u001b[38;5;241m=\u001b[39m os\u001b[38;5;241m.\u001b[39mpath\u001b[38;5;241m.\u001b[39mjoin(\u001b[38;5;28mself\u001b[39m\u001b[38;5;241m.\u001b[39minput_path, \u001b[38;5;28mself\u001b[39m\u001b[38;5;241m.\u001b[39mname \u001b[38;5;241m+\u001b[39m \u001b[38;5;124m\"\u001b[39m\u001b[38;5;124m.instr\u001b[39m\u001b[38;5;124m\"\u001b[39m)\n\u001b[1;32m   2489\u001b[0m \u001b[38;5;28;01mif\u001b[39;00m \u001b[38;5;129;01mnot\u001b[39;00m os\u001b[38;5;241m.\u001b[39mpath\u001b[38;5;241m.\u001b[39mexists(instrument_path) \u001b[38;5;129;01mor\u001b[39;00m \u001b[38;5;28mself\u001b[39m\u001b[38;5;241m.\u001b[39m_run_settings[\u001b[38;5;124m\"\u001b[39m\u001b[38;5;124mforce_compile\u001b[39m\u001b[38;5;124m\"\u001b[39m]:\n\u001b[0;32m-> 2490\u001b[0m     \u001b[38;5;28;43mself\u001b[39;49m\u001b[38;5;241;43m.\u001b[39;49m\u001b[43mwrite_full_instrument\u001b[49m\u001b[43m(\u001b[49m\u001b[43m)\u001b[49m\n\u001b[1;32m   2492\u001b[0m parameters \u001b[38;5;241m=\u001b[39m {}\n\u001b[1;32m   2493\u001b[0m \u001b[38;5;28;01mfor\u001b[39;00m parameter \u001b[38;5;129;01min\u001b[39;00m \u001b[38;5;28mself\u001b[39m\u001b[38;5;241m.\u001b[39mparameters:\n",
      "File \u001b[0;32m~/digitaltwin/instrument_database/McStasScript/mcstasscript/interface/instr.py:2139\u001b[0m, in \u001b[0;36mMcCode_instr.write_full_instrument\u001b[0;34m(self)\u001b[0m\n\u001b[1;32m   2136\u001b[0m fo\u001b[38;5;241m.\u001b[39mwrite(\u001b[38;5;124m\"\u001b[39m\u001b[38;5;124mTRACE \u001b[39m\u001b[38;5;130;01m\\n\u001b[39;00m\u001b[38;5;124m\"\u001b[39m)\n\u001b[1;32m   2138\u001b[0m \u001b[38;5;28;01mfor\u001b[39;00m component \u001b[38;5;129;01min\u001b[39;00m \u001b[38;5;28mself\u001b[39m\u001b[38;5;241m.\u001b[39mmake_component_subset():\n\u001b[0;32m-> 2139\u001b[0m     \u001b[43mcomponent\u001b[49m\u001b[38;5;241;43m.\u001b[39;49m\u001b[43mwrite_component\u001b[49m\u001b[43m(\u001b[49m\u001b[43mfo\u001b[49m\u001b[43m)\u001b[49m\n\u001b[1;32m   2141\u001b[0m \u001b[38;5;66;03m# Write finally\u001b[39;00m\n\u001b[1;32m   2142\u001b[0m fo\u001b[38;5;241m.\u001b[39mwrite(\u001b[38;5;124m\"\u001b[39m\u001b[38;5;124mFINALLY \u001b[39m\u001b[38;5;130;01m\\n\u001b[39;00m\u001b[38;5;124m%\u001b[39m\u001b[38;5;124m{\u001b[39m\u001b[38;5;130;01m\\n\u001b[39;00m\u001b[38;5;124m\"\u001b[39m)\n",
      "File \u001b[0;32m~/digitaltwin/instrument_database/McStasScript/mcstasscript/helper/mcstas_objects.py:1036\u001b[0m, in \u001b[0;36mComponent.write_component\u001b[0;34m(self, fo)\u001b[0m\n\u001b[1;32m   1034\u001b[0m \u001b[38;5;28;01mif\u001b[39;00m val \u001b[38;5;129;01mis\u001b[39;00m \u001b[38;5;28;01mNone\u001b[39;00m:\n\u001b[1;32m   1035\u001b[0m     \u001b[38;5;28;01mif\u001b[39;00m \u001b[38;5;28mself\u001b[39m\u001b[38;5;241m.\u001b[39mparameter_defaults[key] \u001b[38;5;129;01mis\u001b[39;00m \u001b[38;5;28;01mNone\u001b[39;00m:\n\u001b[0;32m-> 1036\u001b[0m         \u001b[38;5;28;01mraise\u001b[39;00m \u001b[38;5;167;01mNameError\u001b[39;00m(\u001b[38;5;124m\"\u001b[39m\u001b[38;5;124mRequired parameter named \u001b[39m\u001b[38;5;124m\"\u001b[39m\n\u001b[1;32m   1037\u001b[0m                         \u001b[38;5;241m+\u001b[39m key\n\u001b[1;32m   1038\u001b[0m                         \u001b[38;5;241m+\u001b[39m \u001b[38;5;124m\"\u001b[39m\u001b[38;5;124m in component named \u001b[39m\u001b[38;5;124m\"\u001b[39m\n\u001b[1;32m   1039\u001b[0m                         \u001b[38;5;241m+\u001b[39m \u001b[38;5;28mself\u001b[39m\u001b[38;5;241m.\u001b[39mname\n\u001b[1;32m   1040\u001b[0m                         \u001b[38;5;241m+\u001b[39m \u001b[38;5;124m\"\u001b[39m\u001b[38;5;124m not set.\u001b[39m\u001b[38;5;124m\"\u001b[39m)\n\u001b[1;32m   1041\u001b[0m     \u001b[38;5;28;01melse\u001b[39;00m:\n\u001b[1;32m   1042\u001b[0m         \u001b[38;5;28;01mcontinue\u001b[39;00m\n",
      "\u001b[0;31mNameError\u001b[0m: Required parameter named w1 in component named sg30 not set."
     ]
    },
    {
     "data": {
      "image/png": "[encoded data removed]",
      "text/plain": [
       "<Figure size 620x220 with 1 Axes>"
      ]
     },
     "metadata": {},
     "output_type": "display_data"
    },
    {
     "data": {
      "image/png": "[encoded data removed]",
      "text/plain": [
       "<Figure size 898.2x1240 with 2 Axes>"
      ]
     },
     "metadata": {},
     "output_type": "display_data"
    }
   ],
   "source": [
    "mycalc.show_diagram(analysis=True, variable=None)"
   ]
  },
  {
   "cell_type": "code",
   "execution_count": null,
   "id": "3a051763",
   "metadata": {
    "scrolled": false
   },
   "outputs": [],
   "source": [
    "import mcstasscript as ms\n"
   ]
  },
  {
   "cell_type": "code",
   "execution_count": null,
   "id": "21140401",
   "metadata": {
    "scrolled": true
   },
   "outputs": [],
   "source": [
    "diag = ms.Diagnostics(mycalc)\n",
    "diag.settings(ncount=1e5, suppress_output=True)\n",
    "diag.show_settings()\n",
    "diag.clear_points()\n",
    "\n",
    "\n",
    "for component in diag.instr.component_list:\n",
    "        if component.component_name in [\"Progress_bar\", \"Arm\"]:\n",
    "            continue\n",
    "        if component.component_name in [\"Beamstop\"]:\n",
    "            diag.add_point(before=component.name)\n",
    "            continue\n",
    "        if component.name in [\"VCS\", \"HCS\"]:\n",
    "            diag.add_point(after=component.name)\n",
    "            continue\n",
    "        if component.name in [\"Chopper0\",\"Chopper1\",\"Chopper2\",\"Chopper3\"]:\n",
    "            diag.add_point(before=component.name)\n",
    "            diag.add_point(after=component.name)\n",
    "        else:\n",
    "            print(\"#\"+component.name+\"#\")\n",
    "            diag.add_point(before=component.name)\n",
    "        \n",
    "\n",
    "\n",
    "\n",
    "if mycalc.name == \"SampleCalc\":\n",
    "    diag.clear_points()\n",
    "    diag.add_point(after=\"Vin\")\n",
    "    diag.add_point(before=\"sqw\")\n",
    "    diag.add_point(after=\"Sample_Out\")\n",
    "    diag.add_point(before=\"after_sample_slit\")\n",
    "    diag.add_point(after=\"after_sample_slit\")\n",
    "\n",
    "print(diag)\n"
   ]
  },
  {
   "cell_type": "code",
   "execution_count": null,
   "id": "a596e150",
   "metadata": {
    "scrolled": false
   },
   "outputs": [],
   "source": [
    "#mycalc.get_component(\"BC1\").phase=41\n",
    "#ch = mycalc.get_component(\"Chopper3\")\n",
    "#print(ch)\n",
    "diag.settings(ncount=1e6)"
   ]
  },
  {
   "cell_type": "code",
   "execution_count": null,
   "id": "b5cfe2ed",
   "metadata": {
    "scrolled": false
   },
   "outputs": [],
   "source": [
    "diag.run()"
   ]
  },
  {
   "cell_type": "code",
   "execution_count": null,
   "id": "6cb3ca01",
   "metadata": {
    "scrolled": true
   },
   "outputs": [],
   "source": [
    "diag.clear_views()\n",
    "#diag.add_view(\"t\")\n",
    "#diag.add_view(\"x\", bins=50, limits=[-0.04,0.04])\n",
    "#diag.add_view(\"y\", bins=50, same_scale=False, limits=[-0.07,0.07])\n",
    "#diag.add_view(\"x\",\"y\",bins=[30,30])\n",
    "#diag.add_view(\"e\", same_scale=True)\n",
    "diag.add_view(\"l\",same_scale=False)\n",
    "diag.add_view(\"t\",same_scale=False)\n",
    "#diag.add_view(\"dx\",\"dy\")\n",
    "diag.add_view(\"t\",\"x\")\n",
    "diag.add_view(\"t\",\"y\")\n",
    "diag.add_view(\"x\",\"y\",same_scale=False)\n",
    "diag.add_view(\"vz\",same_scale=True,left_lim=700)\n",
    "print(diag)"
   ]
  },
  {
   "cell_type": "code",
   "execution_count": null,
   "id": "da0ac372",
   "metadata": {
    "scrolled": true
   },
   "outputs": [],
   "source": [
    "diag.plot()"
   ]
  },
  {
   "cell_type": "code",
   "execution_count": null,
   "id": "640e8c59",
   "metadata": {
    "scrolled": false
   },
   "outputs": [],
   "source": [
    "mycalc.print_component(\"BC1\")\n",
    "mycalc.print_component(\"BC2\")\n",
    "\n",
    "#help(mycalc)\n",
    "mycalc.component_help(\"DiskChopper\")"
   ]
  },
  {
   "cell_type": "code",
   "execution_count": null,
   "id": "3fbdef29",
   "metadata": {
    "scrolled": false
   },
   "outputs": [],
   "source": [
    "mycalc.show_instrument()"
   ]
  },
  {
   "cell_type": "code",
   "execution_count": null,
   "id": "b4284601",
   "metadata": {
    "scrolled": false
   },
   "outputs": [],
   "source": [
    "ms.make_sub_plot(data_empty[55:59])"
   ]
  },
  {
   "cell_type": "code",
   "execution_count": null,
   "id": "7c35a5b1",
   "metadata": {
    "scrolled": false
   },
   "outputs": [],
   "source": []
  },
  {
   "cell_type": "code",
   "execution_count": null,
   "id": "7af8b77e",
   "metadata": {
    "scrolled": false
   },
   "outputs": [],
   "source": [
    "ms.make_sub_plot(data_empty[65:69])"
   ]
  },
  {
   "cell_type": "code",
   "execution_count": null,
   "id": "9c63ffad",
   "metadata": {
    "scrolled": false
   },
   "outputs": [],
   "source": [
    "%matplotlib widget\n",
    "import mcstasscript.jb_interface as ms_widget\n",
    "ms_widget.show(data_empty)"
   ]
  },
  {
   "cell_type": "code",
   "execution_count": null,
   "id": "a9fbcdea",
   "metadata": {
    "scrolled": false
   },
   "outputs": [],
   "source": [
    "myinstrument.sample.set_SPLIT(60)\n",
    "myinstrument.sample"
   ]
  },
  {
   "cell_type": "code",
   "execution_count": null,
   "id": "1bc44a6f",
   "metadata": {
    "scrolled": false
   },
   "outputs": [],
   "source": [
    "slit=myinstrument.calculators[\"SampleCalc\"].get_component(\"after_sample_slit\")\n",
    "slit.EXTEND=\"\"\n",
    "slit.append_EXTEND(\"if(p<1e-1) ABSORB;\")\n",
    "slit\n"
   ]
  },
  {
   "cell_type": "code",
   "execution_count": null,
   "id": "3f95946d",
   "metadata": {
    "scrolled": false
   },
   "outputs": [],
   "source": [
    "myinstrument.run()"
   ]
  },
  {
   "cell_type": "code",
   "execution_count": null,
   "id": "af03f0bf",
   "metadata": {
    "scrolled": false
   },
   "outputs": [],
   "source": [
    "data=myinstrument.output\n",
    "print(data)\n",
    "calcname_data=\"OriginCalc_data\""
   ]
  },
  {
   "cell_type": "code",
   "execution_count": null,
   "id": "899c7352",
   "metadata": {
    "scrolled": false
   },
   "outputs": [],
   "source": [
    "print(data[calcname_data])\n",
    "for detector in data[calcname_data].get_data()[\"data\"]:\n",
    "    print(detector.Intensity, detector.Error, detector.Ncount)"
   ]
  },
  {
   "cell_type": "code",
   "execution_count": null,
   "id": "e224effe",
   "metadata": {
    "scrolled": false
   },
   "outputs": [],
   "source": [
    "(data[calcname_data]).get_data()[\"data\"][0].Intensity"
   ]
  },
  {
   "cell_type": "code",
   "execution_count": null,
   "id": "8fd110ad",
   "metadata": {
    "scrolled": false
   },
   "outputs": [],
   "source": [
    "wmins=[\"1e-5\", \"1e-4\", \"1e-3\", \"1e-2\", \"1e-1\"]\n",
    "detectors=[]\n",
    "for w_min in wmins:\n",
    "    slit=myinstrument.calculators[\"SampleCalc\"].get_component(\"after_sample_slit\")\n",
    "    slit.EXTEND=\"\"\n",
    "    slit.append_EXTEND(f\"if(p<{w_min}) ABSORB;\")\n",
    "    myinstrument.run()\n",
    "    data=myinstrument.output\n",
    "    detector=(data[\"DetectorCalc_data\"].get_data()[\"data\"][0])\n",
    "    detectors.append(detector)"
   ]
  },
  {
   "cell_type": "code",
   "execution_count": null,
   "id": "52bf6d4f",
   "metadata": {
    "scrolled": false
   },
   "outputs": [],
   "source": [
    "detectors"
   ]
  },
  {
   "cell_type": "code",
   "execution_count": null,
   "id": "6064814b",
   "metadata": {
    "scrolled": false
   },
   "outputs": [],
   "source": [
    "import numpy as np\n",
    "diags = []\n",
    "RHs = list(np.arange(2.6,4,0.3))\n",
    "RVs = list(np.arange(1,3,0.3))\n",
    "RVs.append(1.88)\n",
    "RHs.append(3.31)\n",
    "print(RHs)\n",
    "print(RVs)"
   ]
  },
  {
   "cell_type": "code",
   "execution_count": null,
   "id": "f787ba8e",
   "metadata": {
    "scrolled": false
   },
   "outputs": [],
   "source": [
    "for RH in RHs:\n",
    "    print(RH)\n",
    "    mycalc.parameters[\"RHmono\"]=RH\n",
    "    diag = ms.Diagnostics(mycalc)\n",
    "    diag.settings(ncount=1e6, suppress_output=True,force_compile=False)\n",
    "    diag.clear_points()\n",
    "    diag.add_point(after=\"before_sample_slit\")\n",
    "#    diag.add_point(before=\"sqw\")\n",
    "    diag.run()\n",
    "    diags.append(diag)\n",
    "\n",
    "#(RHmono,RVmono) = (3.31,1.88)\n",
    "#lambda: 4.05\n",
    "#lambda: 4.05 +/- 0.04\n",
    "#energy: 4.98 +/- 0.10\n",
    "#(RHanalyzer,RVanalyzer) = (4.17,0.77)\n",
    "#'Monochromator', 'counter', 'before_sample_slit', 'sqw', 'after_sample_slit', 'analyzer', 'slit', 'detector_all']"
   ]
  },
  {
   "cell_type": "code",
   "execution_count": null,
   "id": "833d4920",
   "metadata": {
    "scrolled": false
   },
   "outputs": [],
   "source": [
    "for diag in diags:\n",
    "    diag.clear_views()\n",
    "    diag.add_view(\"x\", bins=50, limits=[-0.04,0.04])\n",
    "    diag.add_view(\"y\", bins=50, same_scale=False, limits=[-0.07,0.07])\n",
    "    #diag.add_view(\"x\",\"y\",bins=[30,30])\n",
    "    #diag.add_view(\"dx\",\"dy\")\n",
    "    diag.add_view(\"dx\")\n",
    "    diag.add_view(\"dy\")\n",
    "    diag.plot()"
   ]
  },
  {
   "cell_type": "code",
   "execution_count": null,
   "id": "076601d1",
   "metadata": {
    "scrolled": false
   },
   "outputs": [],
   "source": [
    "RVdiags = []\n",
    "\n",
    "\n",
    "print(RVs)\n",
    "for RV in RVs:\n",
    "    print(RV)\n",
    "    mycalc.parameters[\"RVmono\"]=RV\n",
    "    diag = ms.Diagnostics(mycalc)\n",
    "    diag.settings(ncount=1e6, suppress_output=True,force_compile=False)\n",
    "    diag.clear_points()\n",
    "    diag.add_point(after=\"before_sample_slit\")\n",
    "#    diag.add_point(before=\"sqw\")\n",
    "    diag.run()\n",
    "    RVdiags.append(diag)"
   ]
  },
  {
   "cell_type": "code",
   "execution_count": null,
   "id": "31a5b68b",
   "metadata": {
    "scrolled": false
   },
   "outputs": [],
   "source": [
    "for diag in RVdiags:\n",
    "    diag.clear_views()\n",
    "    diag.add_view(\"x\", bins=50, limits=[-0.04,0.04])\n",
    "    diag.add_view(\"y\", bins=50, same_scale=False, limits=[-0.07,0.07])\n",
    "    #diag.add_view(\"x\",\"y\",bins=[30,30])\n",
    "    #diag.add_view(\"dx\",\"dy\")\n",
    "    diag.add_view(\"dx\")\n",
    "    diag.add_view(\"dy\")\n",
    "    diag.plot()"
   ]
  },
  {
   "cell_type": "code",
   "execution_count": null,
   "id": "5d830ade",
   "metadata": {
    "scrolled": false
   },
   "outputs": [],
   "source": [
    "myinstrument.force_compile(False)\n",
    "myinstrument.sim_neutrons(1e5)\n",
    "counter=[]\n",
    "detector=[]\n",
    "mycalc = myinstrument.calculators[\"OriginCalc\"]\n",
    "for RV in RVs:\n",
    "    for RH in RHs:\n",
    "        mycalc.parameters[\"RHmono\"].value = RH\n",
    "        mycalc.parameters[\"RVmono\"].value = RV\n",
    "        #print(mycalc.parameters)\n",
    "        myinstrument.run()\n",
    "        counter.append(myinstrument.output[\"OriginCalc_data\"].get_data()[\"data\"])"
   ]
  },
  {
   "cell_type": "code",
   "execution_count": null,
   "id": "67b8c8d6",
   "metadata": {
    "scrolled": false
   },
   "outputs": [],
   "source": [
    "i=0\n",
    "i_det=1\n",
    "for RV in RVs:\n",
    "    for RH in RHs:\n",
    "        c = counter[i]\n",
    "        det=c[1]\n",
    "        print(i, \"\\t\" , RV, RH, \"\\t\\t\" , det.Intensity, det.Error, det.Ncount)\n",
    "        i=i+1"
   ]
  },
  {
   "cell_type": "code",
   "execution_count": null,
   "id": "e1798cb5",
   "metadata": {
    "scrolled": false
   },
   "outputs": [],
   "source": [
    "mycalc.output"
   ]
  },
  {
   "cell_type": "code",
   "execution_count": null,
   "id": "acd58fe9",
   "metadata": {
    "scrolled": false
   },
   "outputs": [],
   "source": [
    "print(myinstrument.output)"
   ]
  },
  {
   "cell_type": "code",
   "execution_count": null,
   "id": "4bd7a273",
   "metadata": {
    "scrolled": false
   },
   "outputs": [],
   "source": [
    "RHs = list(np.arange(1.5,3,0.2))\n",
    "RVs = list(np.arange(0.3,1.2,0.2))\n",
    "RVs.append(0.51)\n",
    "RHs.append(1.41)\n",
    "print(RHs)\n",
    "print(RVs)\n",
    "\n",
    "myinstrument.force_compile(False)\n",
    "myinstrument.sim_neutrons(1e5)\n",
    "counter=[]\n",
    "\n",
    "mycalc = myinstrument.calculators[\"OriginCalc\"]\n",
    "for RV in RVs:\n",
    "    for RH in RHs:\n",
    "        mycalc.parameters[\"RHanalyzer\"].value = RH\n",
    "        mycalc.parameters[\"RVanalyzer\"].value = RV\n",
    "        #print(mycalc.parameters)\n",
    "        myinstrument.run()\n",
    "        counter.append(myinstrument.output[\"OriginCalc_data\"].get_data()[\"data\"])"
   ]
  },
  {
   "cell_type": "code",
   "execution_count": null,
   "id": "24d1d3ec",
   "metadata": {
    "scrolled": false
   },
   "outputs": [],
   "source": [
    "i=0\n",
    "i_det=1\n",
    "intensities = []\n",
    "counts = []\n",
    "for RV in RVs:\n",
    "    for RH in RHs:\n",
    "        c = counter[i]\n",
    "        det=c[1]\n",
    "        #print(i, \"\\t\" , RV, RH, \"\\t\\t\" , det.Intensity, det.Error, det.Ncount)\n",
    "        intensities.append(det.Intensity)\n",
    "        counts.append(det.Ncount)\n",
    "        i=i+1"
   ]
  },
  {
   "cell_type": "code",
   "execution_count": null,
   "id": "6cdcc95a",
   "metadata": {
    "scrolled": false
   },
   "outputs": [],
   "source": [
    "max(intensities)"
   ]
  },
  {
   "cell_type": "code",
   "execution_count": null,
   "id": "cfdb106f",
   "metadata": {
    "scrolled": false
   },
   "outputs": [],
   "source": [
    "max(counts)"
   ]
  },
  {
   "cell_type": "code",
   "execution_count": null,
   "id": "d4090a1b",
   "metadata": {
    "scrolled": false
   },
   "outputs": [],
   "source": [
    "intensities.index(max(intensities))"
   ]
  },
  {
   "cell_type": "code",
   "execution_count": null,
   "id": "e5201171",
   "metadata": {
    "scrolled": false
   },
   "outputs": [],
   "source": [
    "counts.index(max(counts))"
   ]
  },
  {
   "cell_type": "code",
   "execution_count": null,
   "id": "88f54a79",
   "metadata": {
    "scrolled": false
   },
   "outputs": [],
   "source": [
    "i=0\n",
    "for RV in RVs:\n",
    "    for RH in RHs:\n",
    "        print(RV, RH, counts[i])\n",
    "        if i==counts.index(max(counts)):\n",
    "            print(\"---> \",RV, RH)\n",
    "        i=i+1"
   ]
  },
  {
   "cell_type": "code",
   "execution_count": null,
   "id": "100a7451",
   "metadata": {
    "scrolled": false
   },
   "outputs": [],
   "source": [
    "RVs"
   ]
  },
  {
   "cell_type": "code",
   "execution_count": null,
   "id": "b6653053",
   "metadata": {
    "scrolled": false
   },
   "outputs": [],
   "source": [
    "RHs"
   ]
  },
  {
   "cell_type": "code",
   "execution_count": null,
   "id": "17ddad58",
   "metadata": {
    "scrolled": false
   },
   "outputs": [],
   "source": [
    "dist_sample_ana = 1.260\n",
    "dist_ana_det = 0.640\n",
    "import math\n",
    "ana_focus = 1.0 / (1.0 / dist_sample_ana + 1.0 / dist_ana_det)"
   ]
  },
  {
   "cell_type": "code",
   "execution_count": null,
   "id": "b9bb0a25",
   "metadata": {
    "scrolled": false
   },
   "outputs": [],
   "source": [
    "\n",
    "def rh(ana_focus):\n",
    "    return 2*ana_focus/math.sin(math.pi/180*myinstrument.master[\"a6\"].value/2)\n",
    "def rv(ana_focus):\n",
    "    return 2*ana_focus*math.sin(math.pi/180*myinstrument.master[\"a6\"].value/2)\n"
   ]
  },
  {
   "cell_type": "code",
   "execution_count": null,
   "id": "0275cde3",
   "metadata": {
    "scrolled": false
   },
   "outputs": [],
   "source": [
    "print(rv(ana_focus),rh(ana_focus))"
   ]
  },
  {
   "cell_type": "code",
   "execution_count": null,
   "id": "10289531",
   "metadata": {
    "scrolled": false
   },
   "outputs": [],
   "source": [
    "ana_focus=dist_ana_det\n",
    "print(rv(ana_focus),rh(ana_focus))"
   ]
  },
  {
   "cell_type": "code",
   "execution_count": null,
   "id": "a4cfb70b",
   "metadata": {
    "scrolled": false
   },
   "outputs": [],
   "source": []
  },
  {
   "cell_type": "code",
   "execution_count": null,
   "id": "2e2d80c9",
   "metadata": {
    "scrolled": false
   },
   "outputs": [],
   "source": []
  }
 ],
 "metadata": {
  "kernelspec": {
   "display_name": "Python 3 (ipykernel)",
   "language": "python",
   "name": "python3"
  },
  "language_info": {
   "codemirror_mode": {
    "name": "ipython",
    "version": 3
   },
   "file_extension": ".py",
   "mimetype": "text/x-python",
   "name": "python",
   "nbconvert_exporter": "python",
   "pygments_lexer": "ipython3",
   "version": "3.10.6"
  }
 },
 "nbformat": 4,
 "nbformat_minor": 5
}
