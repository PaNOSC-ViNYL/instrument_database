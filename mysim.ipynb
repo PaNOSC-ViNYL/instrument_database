{
 "cells": [
  {
   "cell_type": "code",
   "execution_count": 1,
   "id": "fe05f337",
   "metadata": {},
   "outputs": [],
   "source": [
    "from instrumentdatabaseapi import instrumentdatabaseapi as API\n",
    "\n",
    "repo = API.Repository(local_repo=\".\")"
   ]
  },
  {
   "cell_type": "code",
   "execution_count": 2,
   "id": "e7361d79",
   "metadata": {},
   "outputs": [
    {
     "name": "stdout",
     "output_type": "stream",
     "text": [
      "URL: https://github.com/PaNOSC-ViNYL/instrument_database.git\n",
      "local_dir: ./\n"
     ]
    }
   ],
   "source": [
    "print(repo)\n"
   ]
  },
  {
   "cell_type": "markdown",
   "id": "35e75700",
   "metadata": {},
   "source": [
    "Load the instrument configuration providing:\n",
    " - name of the institute\n",
    " - name of the instrument\n",
    " - version of the instrument description (HEAD is the most recent)\n",
    " - name of the simulation program"
   ]
  },
  {
   "cell_type": "code",
   "execution_count": 3,
   "id": "8027f017",
   "metadata": {},
   "outputs": [],
   "source": [
    "#help(repo)"
   ]
  },
  {
   "cell_type": "code",
   "execution_count": 4,
   "id": "ed79abb5",
   "metadata": {},
   "outputs": [
    {
     "name": "stdout",
     "output_type": "stream",
     "text": [
      " - EuXFEL\n",
      " - ILL\n",
      " - test_institute\n"
     ]
    }
   ],
   "source": [
    "repo.ls_institutes()"
   ]
  },
  {
   "cell_type": "code",
   "execution_count": 5,
   "id": "495cae4b",
   "metadata": {},
   "outputs": [
    {
     "name": "stdout",
     "output_type": "stream",
     "text": [
      "Available instruments for ILL:\n",
      " -  ILL/D22\n",
      " -  ILL/Panther\n",
      " -  ILL/ThALES\n",
      " -  ILL/IN5\n"
     ]
    }
   ],
   "source": [
    "repo.ls_instruments(\"ILL\")\n",
    "instrument_name=\"Panther\"\n",
    "#instrument_name=\"ThALES\"\n",
    "instrument_name=\"IN5\""
   ]
  },
  {
   "cell_type": "code",
   "execution_count": 6,
   "id": "1490bb0d",
   "metadata": {},
   "outputs": [
    {
     "name": "stdout",
     "output_type": "stream",
     "text": [
      "Available versions for instrument IN5:\n",
      " -  HEAD\n"
     ]
    }
   ],
   "source": [
    "repo.ls_versions(\"ILL\",instrument_name)"
   ]
  },
  {
   "cell_type": "code",
   "execution_count": 7,
   "id": "acf32222",
   "metadata": {},
   "outputs": [
    {
     "name": "stdout",
     "output_type": "stream",
     "text": [
      "Instrument IN5 from institute ILL is implemented with the following programs:\n",
      " -  mcstas\n"
     ]
    }
   ],
   "source": [
    "repo.ls_simulation_programs(\"ILL\",instrument_name,\"HEAD\")"
   ]
  },
  {
   "cell_type": "code",
   "execution_count": 8,
   "id": "c6ab7b51",
   "metadata": {},
   "outputs": [
    {
     "name": "stdout",
     "output_type": "stream",
     "text": [
      "Available flavours for instrument IN5:\n",
      " -  None\n",
      " -  nosection\n"
     ]
    }
   ],
   "source": [
    "repo.ls_flavours(\"ILL\",instrument_name,\"HEAD\",\"mcstas\")"
   ]
  },
  {
   "cell_type": "code",
   "execution_count": 9,
   "id": "1a94bd7a",
   "metadata": {},
   "outputs": [
    {
     "name": "stdout",
     "output_type": "stream",
     "text": [
      "L = 5.3083\n",
      "L = 6.1633000000000004\n",
      "L = 13.2739\n",
      "L = 14.0814\n",
      "L = 14.8964\n",
      "L = 15.7114\n",
      "Chopper0 L=0\n",
      "Chopper1 L=5.3083\n",
      "Chopper2 L=6.1633000000000004\n",
      "Chopper3 L=13.2739\n",
      "Chopper4 L=14.0814\n",
      "Chopper5 L=14.8964\n",
      "Chopper6 L=15.7114\n"
     ]
    }
   ],
   "source": [
    "flavour=\"full\"\n",
    "flavour=\"nosection\"\n",
    "\n",
    "myinstrument = repo.load(\"ILL\", instrument_name, \"HEAD\", \"mcstas\", flavour, dep=False)"
   ]
  },
  {
   "cell_type": "code",
   "execution_count": 10,
   "id": "89328333",
   "metadata": {},
   "outputs": [
    {
     "name": "stdout",
     "output_type": "stream",
     "text": [
      "- Instrument: IN5 -\n",
      "Calculators:\n",
      "OriginCalc\n",
      "\n"
     ]
    }
   ],
   "source": [
    "myinstrument.list_calculators()"
   ]
  },
  {
   "cell_type": "code",
   "execution_count": 11,
   "id": "79b04730",
   "metadata": {},
   "outputs": [
    {
     "name": "stdout",
     "output_type": "stream",
     "text": [
      "######## Instrument IN5\n",
      "- Instrument: IN5 -\n",
      "Calculators:\n",
      "OriginCalc\n",
      "- ParametersCollection object -\n",
      "\n",
      "   OriginCalc\n",
      "    - Parameters object -\n",
      "   nu                                  141        [hertz]              Rotation frequency of disk choppers   L[33.333333333333336 hertz, 283.3333333333333 hertz]\n",
      "   ratio                               0.5                                \n",
      "   housing                             \"Fe.laz\"                           \n",
      "   lambda                              4.5        [angstrom]              \n",
      "   dlambda                             0          [angstrom]              \n",
      "   sample_y_rotation                   0          [degree]             sample table rotation angle   \n",
      "   sample_width                        0.0        [meter]              width of the sample if shape is box   \n",
      "   sample_height                       0.0        [meter]              height of the sample if shape is box or cylinder   \n",
      "   sample_depth                        0.0        [meter]              depth of the sample if shape is box   \n",
      "   sample_radius                       0.0        [meter]              radius of the sample if shape is sphere or cylinder   \n",
      "   sample_thickness                    0.0        [meter]              thickness of the sample if it is hollow   \n",
      "\n",
      "############\n"
     ]
    }
   ],
   "source": [
    "print(myinstrument)"
   ]
  },
  {
   "cell_type": "code",
   "execution_count": 12,
   "id": "c2b955ba",
   "metadata": {},
   "outputs": [
    {
     "ename": "FileExistsError",
     "evalue": "[Errno 17] File exists: '/tmp/IN5/'",
     "output_type": "error",
     "traceback": [
      "\u001b[0;31m---------------------------------------------------------------------------\u001b[0m",
      "\u001b[0;31mFileExistsError\u001b[0m                           Traceback (most recent call last)",
      "Cell \u001b[0;32mIn[12], line 5\u001b[0m\n\u001b[1;32m      3\u001b[0m myinstrument\u001b[38;5;241m.\u001b[39mset_instrument_base_dir(basedir)\n\u001b[1;32m      4\u001b[0m \u001b[38;5;28;01mimport\u001b[39;00m \u001b[38;5;21;01mos\u001b[39;00m \n\u001b[0;32m----> 5\u001b[0m \u001b[43mos\u001b[49m\u001b[38;5;241;43m.\u001b[39;49m\u001b[43mmkdir\u001b[49m\u001b[43m(\u001b[49m\u001b[43mbasedir\u001b[49m\u001b[43m)\u001b[49m\n",
      "\u001b[0;31mFileExistsError\u001b[0m: [Errno 17] File exists: '/tmp/IN5/'"
     ]
    }
   ],
   "source": [
    "# setting the base directory for the simulation output\n",
    "basedir = \"/tmp/\"+instrument_name+\"/\"\n",
    "myinstrument.set_instrument_base_dir(basedir)\n",
    "import os \n",
    "os.mkdir(basedir)\n"
   ]
  },
  {
   "cell_type": "code",
   "execution_count": 13,
   "id": "bf583b30",
   "metadata": {},
   "outputs": [
    {
     "data": {
      "text/plain": [
       " - Parameters object -"
      ]
     },
     "execution_count": 13,
     "metadata": {},
     "output_type": "execute_result"
    }
   ],
   "source": [
    "myinstrument.master"
   ]
  },
  {
   "cell_type": "code",
   "execution_count": 14,
   "id": "9a69d1a4",
   "metadata": {},
   "outputs": [],
   "source": [
    "import pint\n",
    "ureg = pint.get_application_registry()\n",
    "\n",
    "if instrument_name == \"ThALES\":\n",
    "    myinstrument.master[\"a2\"] = myinstrument.energy_to_angle(4.98 * ureg.meV)\n",
    "    myinstrument.master[\"a4\"] = 60 * ureg.degree\n",
    "    myinstrument.master[\"a6\"] = myinstrument.master[\"a2\"].pint_value\n",
    "if instrument_name == \"Panther\":\n",
    "    myinstrument.master[\"energy\"]=19 * ureg.meV"
   ]
  },
  {
   "cell_type": "code",
   "execution_count": 15,
   "id": "5e7d0e97",
   "metadata": {},
   "outputs": [
    {
     "data": {
      "text/plain": [
       "['None', 'vanadium', 'H2O', 'D2O', 'sqw']"
      ]
     },
     "execution_count": 15,
     "metadata": {},
     "output_type": "execute_result"
    }
   ],
   "source": [
    "myinstrument.samples"
   ]
  },
  {
   "cell_type": "code",
   "execution_count": 16,
   "id": "a4dc4b8f",
   "metadata": {},
   "outputs": [
    {
     "data": {
      "text/plain": [
       "SPLIT 14 COMPONENT sqw = Isotropic_Sqw(\n",
       "  \u001b[1mSqw_coh\u001b[0m = \u001b[1m\u001b[92m0\u001b[0m\u001b[0m, // [str]\n",
       "  \u001b[1mSqw_inc\u001b[0m = \u001b[1m\u001b[92m0\u001b[0m\u001b[0m, // [str]\n",
       "  \u001b[1mradius\u001b[0m = \u001b[1m\u001b[92msample_radius\u001b[0m\u001b[0m, // [m]\n",
       "  \u001b[1mthickness\u001b[0m = \u001b[1m\u001b[92msample_thickness\u001b[0m\u001b[0m, // [m]\n",
       "  \u001b[1mxwidth\u001b[0m = \u001b[1m\u001b[92msample_width\u001b[0m\u001b[0m, // [m]\n",
       "  \u001b[1myheight\u001b[0m = \u001b[1m\u001b[92msample_height\u001b[0m\u001b[0m, // [m]\n",
       "  \u001b[1mverbose\u001b[0m = \u001b[1m\u001b[92m2\u001b[0m\u001b[0m, // [1]\n",
       "  \u001b[1md_phi\u001b[0m = \u001b[1m\u001b[92m21.23931055231027\u001b[0m\u001b[0m, // [deg]\n",
       "  \u001b[1mrho\u001b[0m = \u001b[1m\u001b[92m0.07232226802632531\u001b[0m\u001b[0m, // [AA-3]\n",
       "  \u001b[1msigma_abs\u001b[0m = \u001b[1m\u001b[92m5.08\u001b[0m\u001b[0m, // [barns]\n",
       "  \u001b[1msigma_coh\u001b[0m = \u001b[1m\u001b[92m0\u001b[0m\u001b[0m, // [barns]\n",
       "  \u001b[1msigma_inc\u001b[0m = \u001b[1m\u001b[92m4.935\u001b[0m\u001b[0m, // [barns]\n",
       "  \u001b[1mp_interact\u001b[0m = \u001b[1m\u001b[92m1\u001b[0m\u001b[0m // [1]\n",
       ")\n",
       "AT (0, 0, 0) RELATIVE sample_arm"
      ]
     },
     "execution_count": 16,
     "metadata": {},
     "output_type": "execute_result"
    }
   ],
   "source": [
    "myinstrument.set_sample_by_name(\"vanadium\")"
   ]
  },
  {
   "cell_type": "code",
   "execution_count": 17,
   "id": "e5f12935",
   "metadata": {},
   "outputs": [],
   "source": [
    "myinstrument.sample_cylinder_shape(0.005, 0.01)"
   ]
  },
  {
   "cell_type": "code",
   "execution_count": 18,
   "id": "17ab1a80",
   "metadata": {},
   "outputs": [],
   "source": [
    "myinstrument.sim_neutrons(5e6)\n",
    "myinstrument.set_seed(654321)\n",
    "myinstrument.custom_flags(\"-I mcstas/\")"
   ]
  },
  {
   "cell_type": "code",
   "execution_count": 19,
   "id": "20da6717",
   "metadata": {},
   "outputs": [
    {
     "name": "stdout",
     "output_type": "stream",
     "text": [
      "\n",
      "loading system configuration\n",
      "INFO: Using directory: \"/tmp/IN5/OriginCalc_28\"\n",
      "INFO: Regenerating c-file: OriginCalc.c\n",
      "Info:    'PSD_Detector' is a contributed component.\n",
      "CFLAGS=\n",
      "      \n",
      "WARNING:\n",
      " The parameter powder_format of sqw is initialized \n",
      " using a static {,,,} vector.\n",
      "  -> Such static vectors support literal numbers ONLY.\n",
      "  -> Any vector use of variables or defines must happen via a \n",
      "     DECLARE/INITIALIZE pointer.\n",
      "\n",
      "\n",
      "WARNING:\n",
      " The parameter format of hous is initialized \n",
      " using a static {,,,} vector.\n",
      "  -> Such static vectors support literal numbers ONLY.\n",
      "  -> Any vector use of variables or defines must happen via a \n",
      "     DECLARE/INITIALIZE pointer.\n",
      "\n",
      "\n",
      "-----------------------------------------------------------\n",
      "\n",
      "Generating single GPU kernel or single CPU section layout: \n",
      "-> SPLIT N at component sqw\n",
      "\n",
      "-----------------------------------------------------------\n",
      "\n",
      "Generating GPU/CPU -DFUNNEL layout:\n",
      "-> SPLIT within buffer at component sqw\n",
      "\n",
      "-----------------------------------------------------------\n",
      "INFO: Recompiling: ./OriginCalc.out\n",
      "./OriginCalc.c: In function ‘class_Monitor_nD_trace’:\n",
      "./OriginCalc.c:18204:72: warning: unknown conversion type character ‘\\x0a’ in format [-Wformat=]\n",
      "18204 |                 printf(\"Cylinder_intersect returned unexpected value %l\\n\", intersect);\n",
      "      |                                                                        ^~\n",
      "./OriginCalc.c:18204:24: warning: too many arguments for format [-Wformat-extra-args]\n",
      "18204 |                 printf(\"Cylinder_intersect returned unexpected value %l\\n\", intersect);\n",
      "      |                        ^~~~~~~~~~~~~~~~~~~~~~~~~~~~~~~~~~~~~~~~~~~~~~~~~~~\n",
      "./OriginCalc.c: In function ‘class_PSD_Detector_trace’:\n",
      "./OriginCalc.c:19526: warning: \"HUGE_VAL\" redefined\n",
      "19526 |   #define HUGE_VAL DBL_MAX\n",
      "      | \n",
      "In file included from ./OriginCalc.c:252:\n",
      "/usr/include/math.h:48: note: this is the location of the previous definition\n",
      "   48 | # define HUGE_VAL (__builtin_huge_val ())\n",
      "      | \n",
      "./OriginCalc.c: In function ‘detector_import’:\n",
      "./OriginCalc.c:2296:57: warning: ‘ ’ directive output may be truncated writing 1 byte into a region of size between 0 and 1023 [-Wformat-truncation=]\n",
      " 2296 |     snprintf(detector.variables, CHAR_BUF_LENGTH, \"%s %s %s_err N\", detector.xvar, c, c);\n",
      "      |                                                         ^\n",
      "In file included from /usr/include/stdio.h:894,\n",
      "                 from ./OriginCalc.c:231:\n",
      "/usr/include/x86_64-linux-gnu/bits/stdio2.h:71:10: note: ‘__builtin___snprintf_chk’ output 9 or more bytes (assuming 1032) into a destination of size 1024\n",
      "   71 |   return __builtin___snprintf_chk (__s, __n, __USE_FORTIFY_LEVEL - 1,\n",
      "      |          ^~~~~~~~~~~~~~~~~~~~~~~~~~~~~~~~~~~~~~~~~~~~~~~~~~~~~~~~~~~~\n",
      "   72 |                                    __glibc_objsize (__s), __fmt,\n",
      "      |                                    ~~~~~~~~~~~~~~~~~~~~~~~~~~~~~\n",
      "   73 |                                    __va_arg_pack ());\n",
      "      |                                    ~~~~~~~~~~~~~~~~~\n",
      "./OriginCalc.c: In function ‘Open_File’:\n",
      "./OriginCalc.c:6529:41: warning: ‘__builtin___snprintf_chk’ output may be truncated before the last format character [-Wformat-truncation=]\n",
      " 6529 |             snprintf(path, 1024, \"%s%c%s\", dir, MC_PATHSEP_C, File);\n",
      "      |                                         ^\n",
      "In file included from /usr/include/stdio.h:894,\n",
      "                 from ./OriginCalc.c:231:\n",
      "/usr/include/x86_64-linux-gnu/bits/stdio2.h:71:10: note: ‘__builtin___snprintf_chk’ output 2 or more bytes (assuming 1025) into a destination of size 1024\n",
      "   71 |   return __builtin___snprintf_chk (__s, __n, __USE_FORTIFY_LEVEL - 1,\n",
      "      |          ^~~~~~~~~~~~~~~~~~~~~~~~~~~~~~~~~~~~~~~~~~~~~~~~~~~~~~~~~~~~\n",
      "   72 |                                    __glibc_objsize (__s), __fmt,\n",
      "      |                                    ~~~~~~~~~~~~~~~~~~~~~~~~~~~~~\n",
      "   73 |                                    __va_arg_pack ());\n",
      "      |                                    ~~~~~~~~~~~~~~~~~\n",
      "./OriginCalc.c:6544:41: warning: ‘__builtin___snprintf_chk’ output may be truncated before the last format character [-Wformat-truncation=]\n",
      " 6544 |             snprintf(path, 1024, \"%s%c%s\", dir, MC_PATHSEP_C, File);\n",
      "      |                                         ^\n",
      "In file included from /usr/include/stdio.h:894,\n",
      "                 from ./OriginCalc.c:231:\n",
      "/usr/include/x86_64-linux-gnu/bits/stdio2.h:71:10: note: ‘__builtin___snprintf_chk’ output 2 or more bytes (assuming 1025) into a destination of size 1024\n",
      "   71 |   return __builtin___snprintf_chk (__s, __n, __USE_FORTIFY_LEVEL - 1,\n",
      "      |          ^~~~~~~~~~~~~~~~~~~~~~~~~~~~~~~~~~~~~~~~~~~~~~~~~~~~~~~~~~~~\n",
      "   72 |                                    __glibc_objsize (__s), __fmt,\n",
      "      |                                    ~~~~~~~~~~~~~~~~~~~~~~~~~~~~~\n",
      "   73 |                                    __va_arg_pack ());\n",
      "      |                                    ~~~~~~~~~~~~~~~~~\n",
      "./OriginCalc.c:6552:37: warning: ‘__builtin___snprintf_chk’ output may be truncated before the last format character [-Wformat-truncation=]\n",
      " 6552 |         snprintf(path, 1024, \"%s%c%s\", dir, MC_PATHSEP_C, File);\n",
      "      |                                     ^\n",
      "In file included from /usr/include/stdio.h:894,\n",
      "                 from ./OriginCalc.c:231:\n",
      "/usr/include/x86_64-linux-gnu/bits/stdio2.h:71:10: note: ‘__builtin___snprintf_chk’ output 2 or more bytes (assuming 1025) into a destination of size 1024\n",
      "   71 |   return __builtin___snprintf_chk (__s, __n, __USE_FORTIFY_LEVEL - 1,\n",
      "      |          ^~~~~~~~~~~~~~~~~~~~~~~~~~~~~~~~~~~~~~~~~~~~~~~~~~~~~~~~~~~~\n",
      "   72 |                                    __glibc_objsize (__s), __fmt,\n",
      "      |                                    ~~~~~~~~~~~~~~~~~~~~~~~~~~~~~\n",
      "   73 |                                    __va_arg_pack ());\n",
      "      |                                    ~~~~~~~~~~~~~~~~~\n",
      "./OriginCalc.c:6558:35: warning: ‘%s’ directive output may be truncated writing 4 bytes into a region of size between 0 and 1023 [-Wformat-truncation=]\n",
      " 6558 |         snprintf(path, 1024, \"%s%c%s%c%s\", dir, MC_PATHSEP_C, \"data\", MC_PATHSEP_C, File);\n",
      "      |                                   ^~                          ~~~~~~\n",
      "In file included from /usr/include/stdio.h:894,\n",
      "                 from ./OriginCalc.c:231:\n",
      "/usr/include/x86_64-linux-gnu/bits/stdio2.h:71:10: note: ‘__builtin___snprintf_chk’ output 7 or more bytes (assuming 1030) into a destination of size 1024\n",
      "   71 |   return __builtin___snprintf_chk (__s, __n, __USE_FORTIFY_LEVEL - 1,\n",
      "      |          ^~~~~~~~~~~~~~~~~~~~~~~~~~~~~~~~~~~~~~~~~~~~~~~~~~~~~~~~~~~~\n",
      "   72 |                                    __glibc_objsize (__s), __fmt,\n",
      "      |                                    ~~~~~~~~~~~~~~~~~~~~~~~~~~~~~\n",
      "   73 |                                    __va_arg_pack ());\n",
      "      |                                    ~~~~~~~~~~~~~~~~~\n",
      "./OriginCalc.c:6564:35: warning: ‘%s’ directive output may be truncated writing 7 bytes into a region of size between 0 and 1023 [-Wformat-truncation=]\n",
      " 6564 |         snprintf(path, 1024, \"%s%c%s%c%s\", dir, MC_PATHSEP_C, \"contrib\", MC_PATHSEP_C, File);\n",
      "      |                                   ^~                          ~~~~~~~~~\n",
      "In file included from /usr/include/stdio.h:894,\n",
      "                 from ./OriginCalc.c:231:\n",
      "/usr/include/x86_64-linux-gnu/bits/stdio2.h:71:10: note: ‘__builtin___snprintf_chk’ output 10 or more bytes (assuming 1033) into a destination of size 1024\n",
      "   71 |   return __builtin___snprintf_chk (__s, __n, __USE_FORTIFY_LEVEL - 1,\n",
      "      |          ^~~~~~~~~~~~~~~~~~~~~~~~~~~~~~~~~~~~~~~~~~~~~~~~~~~~~~~~~~~~\n",
      "   72 |                                    __glibc_objsize (__s), __fmt,\n",
      "      |                                    ~~~~~~~~~~~~~~~~~~~~~~~~~~~~~\n",
      "   73 |                                    __va_arg_pack ());\n",
      "      |                                    ~~~~~~~~~~~~~~~~~\n",
      "./OriginCalc.c: In function ‘Monitor_nD_Init’:\n",
      "./OriginCalc.c:8374:33: warning: ‘%li’ directive writing between 1 and 20 bytes into a region of size between 0 and 127 [-Wformat-overflow=]\n",
      " 8374 |     sprintf(Vars->Mon_File, \"%s_%li\", Vars->compcurname, t);\n",
      "      |                                 ^~~\n",
      "In file included from /usr/include/stdio.h:894,\n",
      "                 from ./OriginCalc.c:231:\n",
      "/usr/include/x86_64-linux-gnu/bits/stdio2.h:38:10: note: ‘__builtin___sprintf_chk’ output between 3 and 149 bytes into a destination of size 128\n",
      "   38 |   return __builtin___sprintf_chk (__s, __USE_FORTIFY_LEVEL - 1,\n",
      "      |          ^~~~~~~~~~~~~~~~~~~~~~~~~~~~~~~~~~~~~~~~~~~~~~~~~~~~~~\n",
      "   39 |                                   __glibc_objsize (__s), __fmt,\n",
      "      |                                   ~~~~~~~~~~~~~~~~~~~~~~~~~~~~~\n",
      "   40 |                                   __va_arg_pack ());\n",
      "      |                                   ~~~~~~~~~~~~~~~~~\n",
      "./OriginCalc.c: In function ‘off_display’:\n",
      "./OriginCalc.c:11414:30: warning: ‘%g’ directive writing between 1 and 13 bytes into a region of size between 0 and 1023 [-Wformat-overflow=]\n",
      "11414 |       sprintf(pixelinfo, \"%s,%g,%g,%g\", pixelinfo, x2-cmx, y2-cmy, z2-cmz);\n",
      "      |                              ^~\n",
      "./OriginCalc.c:11414:26: note: assuming directive output of 12 bytes\n",
      "11414 |       sprintf(pixelinfo, \"%s,%g,%g,%g\", pixelinfo, x2-cmx, y2-cmy, z2-cmz);\n",
      "      |                          ^~~~~~~~~~~~~\n",
      "./OriginCalc.c:11414:26: note: assuming directive output of 12 bytes\n",
      "./OriginCalc.c:11414:26: note: assuming directive output of 12 bytes\n",
      "In file included from /usr/include/stdio.h:894,\n",
      "                 from ./OriginCalc.c:231:\n",
      "/usr/include/x86_64-linux-gnu/bits/stdio2.h:38:10: note: ‘__builtin___sprintf_chk’ output between 7 and 1066 bytes into a destination of size 1024\n",
      "   38 |   return __builtin___sprintf_chk (__s, __USE_FORTIFY_LEVEL - 1,\n",
      "      |          ^~~~~~~~~~~~~~~~~~~~~~~~~~~~~~~~~~~~~~~~~~~~~~~~~~~~~~\n",
      "   39 |                                   __glibc_objsize (__s), __fmt,\n",
      "      |                                   ~~~~~~~~~~~~~~~~~~~~~~~~~~~~~\n",
      "   40 |                                   __va_arg_pack ());\n",
      "      |                                   ~~~~~~~~~~~~~~~~~\n",
      "./OriginCalc.c: In function ‘class_PSD_Detector_init’:\n",
      "./OriginCalc.c:17025:35: warning: ‘%s’ directive writing up to 16383 bytes into a region of size 245 [-Wformat-overflow=]\n",
      "17025 |         sprintf(tmp, \"Gas_tables%s%s\", MC_PATHSEP_S, FN_Conv);\n",
      "      |                                   ^~\n",
      "In file included from /usr/include/stdio.h:894,\n",
      "                 from ./OriginCalc.c:231:\n",
      "/usr/include/x86_64-linux-gnu/bits/stdio2.h:38:10: note: ‘__builtin___sprintf_chk’ output between 12 and 16395 bytes into a destination of size 256\n",
      "   38 |   return __builtin___sprintf_chk (__s, __USE_FORTIFY_LEVEL - 1,\n",
      "      |          ^~~~~~~~~~~~~~~~~~~~~~~~~~~~~~~~~~~~~~~~~~~~~~~~~~~~~~\n",
      "   39 |                                   __glibc_objsize (__s), __fmt,\n",
      "      |                                   ~~~~~~~~~~~~~~~~~~~~~~~~~~~~~\n",
      "   40 |                                   __va_arg_pack ());\n",
      "      |                                   ~~~~~~~~~~~~~~~~~\n",
      "./OriginCalc.c:17030:35: warning: ‘%s’ directive writing up to 16383 bytes into a region of size 245 [-Wformat-overflow=]\n",
      "17030 |         sprintf(tmp, \"Gas_tables%s%s\", MC_PATHSEP_S, FN_Stop);\n",
      "      |                                   ^~\n",
      "In file included from /usr/include/stdio.h:894,\n",
      "                 from ./OriginCalc.c:231:\n",
      "/usr/include/x86_64-linux-gnu/bits/stdio2.h:38:10: note: ‘__builtin___sprintf_chk’ output between 12 and 16395 bytes into a destination of size 256\n",
      "   38 |   return __builtin___sprintf_chk (__s, __USE_FORTIFY_LEVEL - 1,\n",
      "      |          ^~~~~~~~~~~~~~~~~~~~~~~~~~~~~~~~~~~~~~~~~~~~~~~~~~~~~~\n",
      "   39 |                                   __glibc_objsize (__s), __fmt,\n",
      "      |                                   ~~~~~~~~~~~~~~~~~~~~~~~~~~~~~\n",
      "   40 |                                   __va_arg_pack ());\n",
      "      |                                   ~~~~~~~~~~~~~~~~~\n",
      "./OriginCalc.c:17035:31: warning: ‘%s’ directive writing up to 16383 bytes into a region of size 245 [-Wformat-overflow=]\n",
      "17035 |     sprintf(tmp, \"Gas_tables%s%s\", MC_PATHSEP_S, FN_Conv);\n",
      "      |                               ^~\n",
      "In file included from /usr/include/stdio.h:894,\n",
      "                 from ./OriginCalc.c:231:\n",
      "/usr/include/x86_64-linux-gnu/bits/stdio2.h:38:10: note: ‘__builtin___sprintf_chk’ output between 12 and 16395 bytes into a destination of size 256\n",
      "   38 |   return __builtin___sprintf_chk (__s, __USE_FORTIFY_LEVEL - 1,\n",
      "      |          ^~~~~~~~~~~~~~~~~~~~~~~~~~~~~~~~~~~~~~~~~~~~~~~~~~~~~~\n",
      "   39 |                                   __glibc_objsize (__s), __fmt,\n",
      "      |                                   ~~~~~~~~~~~~~~~~~~~~~~~~~~~~~\n",
      "   40 |                                   __va_arg_pack ());\n",
      "      |                                   ~~~~~~~~~~~~~~~~~\n",
      "./OriginCalc.c:17040:31: warning: ‘%s’ directive writing up to 16383 bytes into a region of size 245 [-Wformat-overflow=]\n",
      "17040 |     sprintf(tmp, \"Gas_tables%s%s\", MC_PATHSEP_S, FN_Stop);\n",
      "      |                               ^~\n",
      "In file included from /usr/include/stdio.h:894,\n",
      "                 from ./OriginCalc.c:231:\n",
      "/usr/include/x86_64-linux-gnu/bits/stdio2.h:38:10: note: ‘__builtin___sprintf_chk’ output between 12 and 16395 bytes into a destination of size 256\n",
      "   38 |   return __builtin___sprintf_chk (__s, __USE_FORTIFY_LEVEL - 1,\n",
      "      |          ^~~~~~~~~~~~~~~~~~~~~~~~~~~~~~~~~~~~~~~~~~~~~~~~~~~~~~\n",
      "   39 |                                   __glibc_objsize (__s), __fmt,\n",
      "      |                                   ~~~~~~~~~~~~~~~~~~~~~~~~~~~~~\n",
      "   40 |                                   __va_arg_pack ());\n",
      "      |                                   ~~~~~~~~~~~~~~~~~\n",
      "./OriginCalc.c:17188:31: warning: ‘%s’ directive writing up to 16383 bytes into a region of size 245 [-Wformat-overflow=]\n",
      "17188 |     sprintf(tmp, \"Gas_tables%s%s\", MC_PATHSEP_S, FN_Conv);\n",
      "      |                               ^~\n",
      "In file included from /usr/include/stdio.h:894,\n",
      "                 from ./OriginCalc.c:231:\n",
      "/usr/include/x86_64-linux-gnu/bits/stdio2.h:38:10: note: ‘__builtin___sprintf_chk’ output between 12 and 16395 bytes into a destination of size 256\n",
      "   38 |   return __builtin___sprintf_chk (__s, __USE_FORTIFY_LEVEL - 1,\n",
      "      |          ^~~~~~~~~~~~~~~~~~~~~~~~~~~~~~~~~~~~~~~~~~~~~~~~~~~~~~\n",
      "   39 |                                   __glibc_objsize (__s), __fmt,\n",
      "      |                                   ~~~~~~~~~~~~~~~~~~~~~~~~~~~~~\n",
      "   40 |                                   __va_arg_pack ());\n",
      "      |                                   ~~~~~~~~~~~~~~~~~\n",
      "./OriginCalc.c:17201:31: warning: ‘%s’ directive writing up to 16383 bytes into a region of size 245 [-Wformat-overflow=]\n",
      "17201 |     sprintf(tmp, \"Gas_tables%s%s\", MC_PATHSEP_S, FN_Stop);\n",
      "      |                               ^~\n",
      "In file included from /usr/include/stdio.h:894,\n",
      "                 from ./OriginCalc.c:231:\n",
      "/usr/include/x86_64-linux-gnu/bits/stdio2.h:38:10: note: ‘__builtin___sprintf_chk’ output between 12 and 16395 bytes into a destination of size 256\n",
      "   38 |   return __builtin___sprintf_chk (__s, __USE_FORTIFY_LEVEL - 1,\n",
      "      |          ^~~~~~~~~~~~~~~~~~~~~~~~~~~~~~~~~~~~~~~~~~~~~~~~~~~~~~\n",
      "   39 |                                   __glibc_objsize (__s), __fmt,\n",
      "      |                                   ~~~~~~~~~~~~~~~~~~~~~~~~~~~~~\n",
      "   40 |                                   __va_arg_pack ());\n",
      "      |                                   ~~~~~~~~~~~~~~~~~\n",
      "./OriginCalc.c: In function ‘class_PSD_Detector_save’:\n",
      "./OriginCalc.c:21437:22: warning: ‘%s’ directive writing up to 255 bytes into a region of size 128 [-Wformat-overflow=]\n",
      "21437 |       sprintf(file, \"%s.dat\", NAME_CURRENT_COMP);\n",
      "      |                      ^~\n",
      "In file included from /usr/include/stdio.h:894,\n",
      "                 from ./OriginCalc.c:231:\n",
      "/usr/include/x86_64-linux-gnu/bits/stdio2.h:38:10: note: ‘__builtin___sprintf_chk’ output between 5 and 260 bytes into a destination of size 128\n",
      "   38 |   return __builtin___sprintf_chk (__s, __USE_FORTIFY_LEVEL - 1,\n",
      "      |          ^~~~~~~~~~~~~~~~~~~~~~~~~~~~~~~~~~~~~~~~~~~~~~~~~~~~~~\n",
      "   39 |                                   __glibc_objsize (__s), __fmt,\n",
      "      |                                   ~~~~~~~~~~~~~~~~~~~~~~~~~~~~~\n",
      "   40 |                                   __va_arg_pack ());\n",
      "      |                                   ~~~~~~~~~~~~~~~~~\n",
      "./OriginCalc.c:21464:26: warning: ‘%s’ directive output may be truncated writing up to 16383 bytes into a region of size 128 [-Wformat-truncation=]\n",
      "21464 |     snprintf(file, 128, \"%s.en\",\n",
      "      |                          ^~\n",
      "In file included from /usr/include/stdio.h:894,\n",
      "                 from ./OriginCalc.c:231:\n",
      "/usr/include/x86_64-linux-gnu/bits/stdio2.h:71:10: note: ‘__builtin___snprintf_chk’ output between 4 and 16387 bytes into a destination of size 128\n",
      "   71 |   return __builtin___snprintf_chk (__s, __n, __USE_FORTIFY_LEVEL - 1,\n",
      "      |          ^~~~~~~~~~~~~~~~~~~~~~~~~~~~~~~~~~~~~~~~~~~~~~~~~~~~~~~~~~~~\n",
      "   72 |                                    __glibc_objsize (__s), __fmt,\n",
      "      |                                    ~~~~~~~~~~~~~~~~~~~~~~~~~~~~~\n",
      "   73 |                                    __va_arg_pack ());\n",
      "      |                                    ~~~~~~~~~~~~~~~~~\n",
      "INFO: ===\n",
      "lambda = 4.50\n",
      "[OriginCalc] Initialize\n",
      "Isotropic_Sqw: sqw: is a cylinder: radius=0.005000 thickness=0.000000 height=0.010000 [J Comp Phys 228 (2009) 5251]\n",
      "Isotropic_Sqw: sqw: Using Isotropic elastic incoherent scattering (sigma=4.935 [barns])\n",
      "Isotropic_Sqw: sqw: Focusing can only apply for single\n",
      "               scattering. Setting to order=1.\n",
      "Opening input file '/usr/share/mcstas/3.3/tools/Python/mcrun/../mccodelib/../../../data/Fe.laz' (Table_Read_Offset)\n",
      "Table from file 'Fe.laz' (block 1) is 17 x 18 (x=1:5), constant step. interpolation: linear\n",
      "  '# TITLE *Iron-Fe-[IM3-M] Swanson, H.E.;Tatge, E.[1954] [Iron alpha phase];# ...'\n",
      "PowderN: hous: Reading 17 rows from Fe.laz\n",
      "PowderN: hous: Read 17 reflections from file 'Fe.laz'\n",
      "PowderN: hous: Vc=24.04 [Angs] sigma_abs=5.12 [barn] sigma_inc=0.8 [barn] reflections=Fe.laz\n",
      "Opening input file '/usr/share/mcstas/3.3/tools/Python/mcrun/../mccodelib/../../../contrib/Gas_tables/He3inHe.table' (Table_Read_Offset)\n",
      "Opening input file '/usr/share/mcstas/3.3/tools/Python/mcrun/../mccodelib/../../../contrib/Gas_tables/He3inCF4.table' (Table_Read_Offset)\n",
      "Opening input file '/usr/share/mcstas/3.3/tools/Python/mcrun/../mccodelib/../../../contrib/Gas_tables/He3inCF4.table' (Table_Read_Offset)\n",
      "Opening input file '/usr/share/mcstas/3.3/tools/Python/mcrun/../mccodelib/../../../contrib/Gas_tables/He3inHe.table' (Table_Read_Offset)\n",
      "*** TRACE end *** \n",
      "\n",
      "Save [OriginCalc]\n",
      "Detector: Detector_I=0 Detector_ERR=0 Detector_N=0 \"Detector_1688036227.t\"\n",
      "Detector: Det_ideal_ay_I=0 Det_ideal_ay_ERR=0 Det_ideal_ay_N=0 \"Det_ideal_ay_1688036227.th_y\"\n",
      "Detector: Det_PSD_I=0 Det_PSD_ERR=0 Det_PSD_N=0 \"in5det.dat\"\n",
      "Detector: in5_t_I=0 in5_t_ERR=0 in5_t_N=0 \"in5_t_1688036227.t\"\n",
      "\n",
      "Finally [OriginCalc: /tmp/IN5/OriginCalc_28]. Time: 1 [s] \n",
      "INFO: Placing instr file copy OriginCalc.instr in dataset /tmp/IN5/OriginCalc_28\n",
      "\n"
     ]
    }
   ],
   "source": [
    "myinstrument.run()"
   ]
  },
  {
   "cell_type": "markdown",
   "id": "afc301e9",
   "metadata": {},
   "source": [
    "### Diagnostics of the beam for one calculator"
   ]
  },
  {
   "cell_type": "code",
   "execution_count": null,
   "id": "7cf72254",
   "metadata": {},
   "outputs": [],
   "source": [
    "calculator_name=\"SampleCalc\"\n",
    "calculator_name=\"OriginCalc\"\n",
    "mycalc = myinstrument.calculators[calculator_name]\n",
    "mycalc.backengine()\n",
    "#myinstrument.run()\n",
    "print(mycalc.output)"
   ]
  },
  {
   "cell_type": "code",
   "execution_count": null,
   "id": "32567b1b",
   "metadata": {},
   "outputs": [],
   "source": [
    "#mycalc = myinstrument.calculators[\"OriginCalc\"]\n",
    "#mycalc = myinstrument.calculators[\"SampleCalc\"]\n",
    "#mycalc.input = myinstrument.calculators[\"OriginCalc\"].output\n",
    "mycalc.show_diagram()\n"
   ]
  },
  {
   "cell_type": "code",
   "execution_count": null,
   "id": "3f8e0aaa",
   "metadata": {},
   "outputs": [],
   "source": [
    "mycalc.show_diagram(analysis=True, variable=\"t\")"
   ]
  },
  {
   "cell_type": "code",
   "execution_count": null,
   "id": "3a051763",
   "metadata": {},
   "outputs": [],
   "source": [
    "import mcstasscript as ms\n"
   ]
  },
  {
   "cell_type": "code",
   "execution_count": null,
   "id": "21140401",
   "metadata": {},
   "outputs": [],
   "source": [
    "diag = ms.Diagnostics(mycalc)\n",
    "diag.settings(ncount=1e7, suppress_output=True)\n",
    "diag.show_settings()\n",
    "diag.clear_points()\n",
    "\n",
    "elements = []\n",
    "if len(elements) == 0:\n",
    "    for component in diag.instr.component_list:\n",
    "        if component.component_name in [\"Progress_bar\", \"Arm\"]:\n",
    "            continue\n",
    "        if component.component_name in [\"Beamstop\"]:\n",
    "            diag.add_point(before=component.name)\n",
    "            continue\n",
    "        elements.append(component.name)\n",
    "        diag.add_point(before=component.name)\n",
    "        diag.add_point(after=component.name)\n",
    "        \n",
    "\n",
    "print(elements)\n",
    "\n",
    "\n",
    "if mycalc.name == \"SampleCalc\":\n",
    "    diag.clear_points()\n",
    "    diag.add_point(after=\"Vin\")\n",
    "    diag.add_point(before=\"sqw\")\n",
    "    diag.add_point(after=\"Sample_Out\")\n",
    "    diag.add_point(before=\"after_sample_slit\")\n",
    "    diag.add_point(after=\"after_sample_slit\")\n",
    "\n",
    "print(diag)\n"
   ]
  },
  {
   "cell_type": "code",
   "execution_count": null,
   "id": "b5cfe2ed",
   "metadata": {},
   "outputs": [],
   "source": [
    "#mycalc.get_component(\"BC1\").phase=41\n",
    "#mycalc.get_component(\"Chopper0\").delay=0.01\n",
    "diag.run()"
   ]
  },
  {
   "cell_type": "code",
   "execution_count": null,
   "id": "6cb3ca01",
   "metadata": {},
   "outputs": [],
   "source": [
    "diag.clear_views()\n",
    "#diag.add_view(\"t\")\n",
    "#diag.add_view(\"x\", bins=50, limits=[-0.04,0.04])\n",
    "#diag.add_view(\"y\", bins=50, same_scale=False, limits=[-0.07,0.07])\n",
    "#diag.add_view(\"x\",\"y\",bins=[30,30])\n",
    "#diag.add_view(\"e\", same_scale=True)\n",
    "diag.add_view(\"t\",same_scale=False)\n",
    "#diag.add_view(\"dx\",\"dy\")\n",
    "diag.add_view(\"t\",\"x\")\n",
    "diag.add_view(\"t\",\"y\")\n",
    "print(diag)"
   ]
  },
  {
   "cell_type": "code",
   "execution_count": null,
   "id": "da0ac372",
   "metadata": {},
   "outputs": [],
   "source": [
    "diag.plot()"
   ]
  },
  {
   "cell_type": "code",
   "execution_count": null,
   "id": "640e8c59",
   "metadata": {},
   "outputs": [],
   "source": [
    "mycalc.print_component(\"BC1\")\n",
    "mycalc.print_component(\"BC2\")\n",
    "\n",
    "#help(mycalc)\n",
    "mycalc.component_help(\"DiskChopper\")"
   ]
  },
  {
   "cell_type": "code",
   "execution_count": null,
   "id": "3fbdef29",
   "metadata": {},
   "outputs": [],
   "source": [
    "mycalc.show_instrument()"
   ]
  },
  {
   "cell_type": "code",
   "execution_count": null,
   "id": "b4284601",
   "metadata": {},
   "outputs": [],
   "source": [
    "ms.make_sub_plot(data_empty[55:59])"
   ]
  },
  {
   "cell_type": "code",
   "execution_count": null,
   "id": "7c35a5b1",
   "metadata": {},
   "outputs": [],
   "source": []
  },
  {
   "cell_type": "code",
   "execution_count": null,
   "id": "7af8b77e",
   "metadata": {},
   "outputs": [],
   "source": [
    "ms.make_sub_plot(data_empty[65:69])"
   ]
  },
  {
   "cell_type": "code",
   "execution_count": null,
   "id": "9c63ffad",
   "metadata": {},
   "outputs": [],
   "source": [
    "%matplotlib widget\n",
    "import mcstasscript.jb_interface as ms_widget\n",
    "ms_widget.show(data_empty)"
   ]
  },
  {
   "cell_type": "code",
   "execution_count": null,
   "id": "a9fbcdea",
   "metadata": {},
   "outputs": [],
   "source": [
    "myinstrument.sample.set_SPLIT(60)\n",
    "myinstrument.sample"
   ]
  },
  {
   "cell_type": "code",
   "execution_count": null,
   "id": "1bc44a6f",
   "metadata": {},
   "outputs": [],
   "source": [
    "slit=myinstrument.calculators[\"SampleCalc\"].get_component(\"after_sample_slit\")\n",
    "slit.EXTEND=\"\"\n",
    "slit.append_EXTEND(\"if(p<1e-1) ABSORB;\")\n",
    "slit\n"
   ]
  },
  {
   "cell_type": "code",
   "execution_count": null,
   "id": "3f95946d",
   "metadata": {},
   "outputs": [],
   "source": [
    "myinstrument.run()"
   ]
  },
  {
   "cell_type": "code",
   "execution_count": null,
   "id": "af03f0bf",
   "metadata": {},
   "outputs": [],
   "source": [
    "data=myinstrument.output\n",
    "print(data)\n",
    "calcname_data=\"OriginCalc_data\""
   ]
  },
  {
   "cell_type": "code",
   "execution_count": null,
   "id": "899c7352",
   "metadata": {},
   "outputs": [],
   "source": [
    "print(data[calcname_data])\n",
    "for detector in data[calcname_data].get_data()[\"data\"]:\n",
    "    print(detector.Intensity, detector.Error, detector.Ncount)"
   ]
  },
  {
   "cell_type": "code",
   "execution_count": null,
   "id": "e224effe",
   "metadata": {},
   "outputs": [],
   "source": [
    "(data[calcname_data]).get_data()[\"data\"][0].Intensity"
   ]
  },
  {
   "cell_type": "code",
   "execution_count": null,
   "id": "8fd110ad",
   "metadata": {},
   "outputs": [],
   "source": [
    "wmins=[\"1e-5\", \"1e-4\", \"1e-3\", \"1e-2\", \"1e-1\"]\n",
    "detectors=[]\n",
    "for w_min in wmins:\n",
    "    slit=myinstrument.calculators[\"SampleCalc\"].get_component(\"after_sample_slit\")\n",
    "    slit.EXTEND=\"\"\n",
    "    slit.append_EXTEND(f\"if(p<{w_min}) ABSORB;\")\n",
    "    myinstrument.run()\n",
    "    data=myinstrument.output\n",
    "    detector=(data[\"DetectorCalc_data\"].get_data()[\"data\"][0])\n",
    "    detectors.append(detector)"
   ]
  },
  {
   "cell_type": "code",
   "execution_count": null,
   "id": "52bf6d4f",
   "metadata": {},
   "outputs": [],
   "source": [
    "detectors"
   ]
  },
  {
   "cell_type": "code",
   "execution_count": null,
   "id": "6064814b",
   "metadata": {},
   "outputs": [],
   "source": [
    "import numpy as np\n",
    "diags = []\n",
    "RHs = list(np.arange(2.6,4,0.3))\n",
    "RVs = list(np.arange(1,3,0.3))\n",
    "RVs.append(1.88)\n",
    "RHs.append(3.31)\n",
    "print(RHs)\n",
    "print(RVs)"
   ]
  },
  {
   "cell_type": "code",
   "execution_count": null,
   "id": "f787ba8e",
   "metadata": {},
   "outputs": [],
   "source": [
    "for RH in RHs:\n",
    "    print(RH)\n",
    "    mycalc.parameters[\"RHmono\"]=RH\n",
    "    diag = ms.Diagnostics(mycalc)\n",
    "    diag.settings(ncount=1e6, suppress_output=True,force_compile=False)\n",
    "    diag.clear_points()\n",
    "    diag.add_point(after=\"before_sample_slit\")\n",
    "#    diag.add_point(before=\"sqw\")\n",
    "    diag.run()\n",
    "    diags.append(diag)\n",
    "\n",
    "#(RHmono,RVmono) = (3.31,1.88)\n",
    "#lambda: 4.05\n",
    "#lambda: 4.05 +/- 0.04\n",
    "#energy: 4.98 +/- 0.10\n",
    "#(RHanalyzer,RVanalyzer) = (4.17,0.77)\n",
    "#'Monochromator', 'counter', 'before_sample_slit', 'sqw', 'after_sample_slit', 'analyzer', 'slit', 'detector_all']"
   ]
  },
  {
   "cell_type": "code",
   "execution_count": null,
   "id": "833d4920",
   "metadata": {},
   "outputs": [],
   "source": [
    "for diag in diags:\n",
    "    diag.clear_views()\n",
    "    diag.add_view(\"x\", bins=50, limits=[-0.04,0.04])\n",
    "    diag.add_view(\"y\", bins=50, same_scale=False, limits=[-0.07,0.07])\n",
    "    #diag.add_view(\"x\",\"y\",bins=[30,30])\n",
    "    #diag.add_view(\"dx\",\"dy\")\n",
    "    diag.add_view(\"dx\")\n",
    "    diag.add_view(\"dy\")\n",
    "    diag.plot()"
   ]
  },
  {
   "cell_type": "code",
   "execution_count": null,
   "id": "076601d1",
   "metadata": {},
   "outputs": [],
   "source": [
    "RVdiags = []\n",
    "\n",
    "\n",
    "print(RVs)\n",
    "for RV in RVs:\n",
    "    print(RV)\n",
    "    mycalc.parameters[\"RVmono\"]=RV\n",
    "    diag = ms.Diagnostics(mycalc)\n",
    "    diag.settings(ncount=1e6, suppress_output=True,force_compile=False)\n",
    "    diag.clear_points()\n",
    "    diag.add_point(after=\"before_sample_slit\")\n",
    "#    diag.add_point(before=\"sqw\")\n",
    "    diag.run()\n",
    "    RVdiags.append(diag)"
   ]
  },
  {
   "cell_type": "code",
   "execution_count": null,
   "id": "31a5b68b",
   "metadata": {},
   "outputs": [],
   "source": [
    "for diag in RVdiags:\n",
    "    diag.clear_views()\n",
    "    diag.add_view(\"x\", bins=50, limits=[-0.04,0.04])\n",
    "    diag.add_view(\"y\", bins=50, same_scale=False, limits=[-0.07,0.07])\n",
    "    #diag.add_view(\"x\",\"y\",bins=[30,30])\n",
    "    #diag.add_view(\"dx\",\"dy\")\n",
    "    diag.add_view(\"dx\")\n",
    "    diag.add_view(\"dy\")\n",
    "    diag.plot()"
   ]
  },
  {
   "cell_type": "code",
   "execution_count": null,
   "id": "5d830ade",
   "metadata": {},
   "outputs": [],
   "source": [
    "myinstrument.force_compile(False)\n",
    "myinstrument.sim_neutrons(1e5)\n",
    "counter=[]\n",
    "detector=[]\n",
    "mycalc = myinstrument.calculators[\"OriginCalc\"]\n",
    "for RV in RVs:\n",
    "    for RH in RHs:\n",
    "        mycalc.parameters[\"RHmono\"].value = RH\n",
    "        mycalc.parameters[\"RVmono\"].value = RV\n",
    "        #print(mycalc.parameters)\n",
    "        myinstrument.run()\n",
    "        counter.append(myinstrument.output[\"OriginCalc_data\"].get_data()[\"data\"])"
   ]
  },
  {
   "cell_type": "code",
   "execution_count": null,
   "id": "67b8c8d6",
   "metadata": {},
   "outputs": [],
   "source": [
    "i=0\n",
    "i_det=1\n",
    "for RV in RVs:\n",
    "    for RH in RHs:\n",
    "        c = counter[i]\n",
    "        det=c[1]\n",
    "        print(i, \"\\t\" , RV, RH, \"\\t\\t\" , det.Intensity, det.Error, det.Ncount)\n",
    "        i=i+1"
   ]
  },
  {
   "cell_type": "code",
   "execution_count": null,
   "id": "e1798cb5",
   "metadata": {},
   "outputs": [],
   "source": [
    "mycalc.output"
   ]
  },
  {
   "cell_type": "code",
   "execution_count": null,
   "id": "acd58fe9",
   "metadata": {},
   "outputs": [],
   "source": [
    "print(myinstrument.output)"
   ]
  },
  {
   "cell_type": "code",
   "execution_count": null,
   "id": "4bd7a273",
   "metadata": {},
   "outputs": [],
   "source": [
    "RHs = list(np.arange(1.5,3,0.2))\n",
    "RVs = list(np.arange(0.3,1.2,0.2))\n",
    "RVs.append(0.51)\n",
    "RHs.append(1.41)\n",
    "print(RHs)\n",
    "print(RVs)\n",
    "\n",
    "myinstrument.force_compile(False)\n",
    "myinstrument.sim_neutrons(1e5)\n",
    "counter=[]\n",
    "\n",
    "mycalc = myinstrument.calculators[\"OriginCalc\"]\n",
    "for RV in RVs:\n",
    "    for RH in RHs:\n",
    "        mycalc.parameters[\"RHanalyzer\"].value = RH\n",
    "        mycalc.parameters[\"RVanalyzer\"].value = RV\n",
    "        #print(mycalc.parameters)\n",
    "        myinstrument.run()\n",
    "        counter.append(myinstrument.output[\"OriginCalc_data\"].get_data()[\"data\"])"
   ]
  },
  {
   "cell_type": "code",
   "execution_count": null,
   "id": "24d1d3ec",
   "metadata": {},
   "outputs": [],
   "source": [
    "i=0\n",
    "i_det=1\n",
    "intensities = []\n",
    "counts = []\n",
    "for RV in RVs:\n",
    "    for RH in RHs:\n",
    "        c = counter[i]\n",
    "        det=c[1]\n",
    "        #print(i, \"\\t\" , RV, RH, \"\\t\\t\" , det.Intensity, det.Error, det.Ncount)\n",
    "        intensities.append(det.Intensity)\n",
    "        counts.append(det.Ncount)\n",
    "        i=i+1"
   ]
  },
  {
   "cell_type": "code",
   "execution_count": null,
   "id": "6cdcc95a",
   "metadata": {},
   "outputs": [],
   "source": [
    "max(intensities)"
   ]
  },
  {
   "cell_type": "code",
   "execution_count": null,
   "id": "cfdb106f",
   "metadata": {},
   "outputs": [],
   "source": [
    "max(counts)"
   ]
  },
  {
   "cell_type": "code",
   "execution_count": null,
   "id": "d4090a1b",
   "metadata": {},
   "outputs": [],
   "source": [
    "intensities.index(max(intensities))"
   ]
  },
  {
   "cell_type": "code",
   "execution_count": null,
   "id": "e5201171",
   "metadata": {},
   "outputs": [],
   "source": [
    "counts.index(max(counts))"
   ]
  },
  {
   "cell_type": "code",
   "execution_count": null,
   "id": "88f54a79",
   "metadata": {},
   "outputs": [],
   "source": [
    "i=0\n",
    "for RV in RVs:\n",
    "    for RH in RHs:\n",
    "        print(RV, RH, counts[i])\n",
    "        if i==counts.index(max(counts)):\n",
    "            print(\"---> \",RV, RH)\n",
    "        i=i+1"
   ]
  },
  {
   "cell_type": "code",
   "execution_count": null,
   "id": "100a7451",
   "metadata": {},
   "outputs": [],
   "source": [
    "RVs"
   ]
  },
  {
   "cell_type": "code",
   "execution_count": null,
   "id": "b6653053",
   "metadata": {},
   "outputs": [],
   "source": [
    "RHs"
   ]
  },
  {
   "cell_type": "code",
   "execution_count": null,
   "id": "17ddad58",
   "metadata": {},
   "outputs": [],
   "source": [
    "dist_sample_ana = 1.260\n",
    "dist_ana_det = 0.640\n",
    "import math\n",
    "ana_focus = 1.0 / (1.0 / dist_sample_ana + 1.0 / dist_ana_det)"
   ]
  },
  {
   "cell_type": "code",
   "execution_count": null,
   "id": "b9bb0a25",
   "metadata": {},
   "outputs": [],
   "source": [
    "\n",
    "def rh(ana_focus):\n",
    "    return 2*ana_focus/math.sin(math.pi/180*myinstrument.master[\"a6\"].value/2)\n",
    "def rv(ana_focus):\n",
    "    return 2*ana_focus*math.sin(math.pi/180*myinstrument.master[\"a6\"].value/2)\n"
   ]
  },
  {
   "cell_type": "code",
   "execution_count": null,
   "id": "0275cde3",
   "metadata": {},
   "outputs": [],
   "source": [
    "print(rv(ana_focus),rh(ana_focus))"
   ]
  },
  {
   "cell_type": "code",
   "execution_count": null,
   "id": "10289531",
   "metadata": {},
   "outputs": [],
   "source": [
    "ana_focus=dist_ana_det\n",
    "print(rv(ana_focus),rh(ana_focus))"
   ]
  },
  {
   "cell_type": "code",
   "execution_count": null,
   "id": "a4cfb70b",
   "metadata": {},
   "outputs": [],
   "source": []
  },
  {
   "cell_type": "code",
   "execution_count": null,
   "id": "2e2d80c9",
   "metadata": {},
   "outputs": [],
   "source": []
  }
 ],
 "metadata": {
  "kernelspec": {
   "display_name": "Python 3 (ipykernel)",
   "language": "python",
   "name": "python3"
  },
  "language_info": {
   "codemirror_mode": {
    "name": "ipython",
    "version": 3
   },
   "file_extension": ".py",
   "mimetype": "text/x-python",
   "name": "python",
   "nbconvert_exporter": "python",
   "pygments_lexer": "ipython3",
   "version": "3.10.6"
  }
 },
 "nbformat": 4,
 "nbformat_minor": 5
}
