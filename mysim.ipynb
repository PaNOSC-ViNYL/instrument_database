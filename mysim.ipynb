{
 "cells": [
  {
   "cell_type": "code",
   "execution_count": 1,
   "id": "fe05f337",
   "metadata": {},
   "outputs": [],
   "source": [
    "from instrumentdatabaseapi import instrumentdatabaseapi as API\n",
    "repo = API.Repository(local_repo=\".\")"
   ]
  },
  {
   "cell_type": "code",
   "execution_count": 2,
   "id": "e7361d79",
   "metadata": {},
   "outputs": [
    {
     "name": "stdout",
     "output_type": "stream",
     "text": [
      "URL: https://github.com/PaNOSC-ViNYL/instrument_database.git\n",
      "local_dir: ./\n"
     ]
    }
   ],
   "source": [
    "print(repo)"
   ]
  },
  {
   "cell_type": "markdown",
   "id": "35e75700",
   "metadata": {},
   "source": [
    "Load the instrument configuration providing:\n",
    " - name of the institute\n",
    " - name of the instrument\n",
    " - version of the instrument description (HEAD is the most recent)\n",
    " - name of the simulation program"
   ]
  },
  {
   "cell_type": "code",
   "execution_count": 3,
   "id": "8027f017",
   "metadata": {},
   "outputs": [],
   "source": [
    "#help(repo)"
   ]
  },
  {
   "cell_type": "code",
   "execution_count": 4,
   "id": "ed79abb5",
   "metadata": {},
   "outputs": [
    {
     "name": "stdout",
     "output_type": "stream",
     "text": [
      " - EuXFEL\n",
      " - ILL\n",
      " - test_institute\n"
     ]
    }
   ],
   "source": [
    "repo.ls_institutes()"
   ]
  },
  {
   "cell_type": "code",
   "execution_count": 5,
   "id": "495cae4b",
   "metadata": {},
   "outputs": [
    {
     "name": "stdout",
     "output_type": "stream",
     "text": [
      "Available instruments for ILL:\n",
      " -  ILL/D22\n",
      " -  ILL/Panther\n",
      " -  ILL/ThALES\n",
      " -  ILL/IN5\n"
     ]
    }
   ],
   "source": [
    "repo.ls_instruments(\"ILL\")\n",
    "instrument_name=\"Panther\"\n",
    "instrument_name=\"ThALES\"\n",
    "instrument_name=\"IN5\""
   ]
  },
  {
   "cell_type": "code",
   "execution_count": 6,
   "id": "1490bb0d",
   "metadata": {},
   "outputs": [
    {
     "name": "stdout",
     "output_type": "stream",
     "text": [
      "Available versions for instrument IN5:\n",
      " -  HEAD\n"
     ]
    }
   ],
   "source": [
    "repo.ls_versions(\"ILL\",instrument_name)"
   ]
  },
  {
   "cell_type": "code",
   "execution_count": 7,
   "id": "acf32222",
   "metadata": {},
   "outputs": [
    {
     "name": "stdout",
     "output_type": "stream",
     "text": [
      "Instrument IN5 from institute ILL is implemented with the following programs:\n",
      " -  mcstas\n"
     ]
    }
   ],
   "source": [
    "repo.ls_simulation_programs(\"ILL\",instrument_name,\"HEAD\")"
   ]
  },
  {
   "cell_type": "code",
   "execution_count": 8,
   "id": "c6ab7b51",
   "metadata": {},
   "outputs": [
    {
     "name": "stdout",
     "output_type": "stream",
     "text": [
      "Available flavours for instrument IN5:\n",
      " -  None\n",
      " -  full\n",
      " -  nosection\n"
     ]
    }
   ],
   "source": [
    "repo.ls_flavours(\"ILL\",instrument_name,\"HEAD\",\"mcstas\")"
   ]
  },
  {
   "cell_type": "code",
   "execution_count": 9,
   "id": "1a94bd7a",
   "metadata": {},
   "outputs": [
    {
     "name": "stdout",
     "output_type": "stream",
     "text": [
      "['/users/nourbakhsh/digitaltwin/instrument_database/mcstas/components']\n",
      "Chopper0 -> Chopper1 : L = 5.3083\n",
      "Chopper0 -> Chopper2 : L = 5.4583\n",
      "Chopper0 -> Chopper3 : L = 12.4289\n",
      "Chopper0 -> Chopper4 : L = 12.4839\n",
      "Chopper0 -> Chopper5 : L = 13.2539\n",
      "Chopper0 -> Chopper6 : L = 13.3089\n",
      "Chopper0 L=0\n",
      "Chopper1 L=0\n",
      "Chopper2 L=0\n",
      "Chopper3 L=0\n",
      "Chopper4 L=0\n",
      "Chopper5 L=0\n",
      "Chopper6 L=0\n"
     ]
    }
   ],
   "source": [
    "flavour=\"full\"\n",
    "#flavour=\"nosection\"\n",
    "\n",
    "myinstrument = repo.load(\"ILL\", instrument_name, \"HEAD\", \"mcstas\", flavour, dep=False)"
   ]
  },
  {
   "cell_type": "code",
   "execution_count": 10,
   "id": "89328333",
   "metadata": {},
   "outputs": [
    {
     "name": "stdout",
     "output_type": "stream",
     "text": [
      "- Instrument: IN5 -\n",
      "Calculators:\n",
      "OriginCalc\n",
      "SampleCalc\n",
      "DetectorCalc\n",
      "\n"
     ]
    }
   ],
   "source": [
    "myinstrument.list_calculators()"
   ]
  },
  {
   "cell_type": "code",
   "execution_count": 11,
   "id": "79b04730",
   "metadata": {},
   "outputs": [
    {
     "name": "stdout",
     "output_type": "stream",
     "text": [
      "######## Instrument IN5\n",
      "- Instrument: IN5 -\n",
      "Calculators:\n",
      "OriginCalc\n",
      "SampleCalc\n",
      "DetectorCalc\n",
      "- ParametersCollection object -\n",
      "  Master Parameters\n",
      "  speed                                                         Rotation frequency of disk choppers RPM   \n",
      "  ratio                                                            \n",
      "  lambda                                   [angstrom]              \n",
      "  nt                                                            Number of time channels   \n",
      "  epchannel                                                     Elastic peak position in number of channels   \n",
      "\n",
      "   OriginCalc\n",
      "    - Parameters object -\n",
      "   speed                               8500                            Rotation frequency of disk choppers RPM   L[2000, 17000]\n",
      "   ratio                               0.5                                \n",
      "   housing                             \"Fe.laz\"                           \n",
      "   lambda                              4.5        [angstrom]              \n",
      "   dlambda                             0          [angstrom]              \n",
      "\n",
      "   SampleCalc\n",
      "    - Parameters object -\n",
      "   vin_filename                        \"none\"                             \n",
      "   sample_y_rotation                   0          [degree]             sample table rotation angle   \n",
      "   sample_width                        0.0        [meter]              width of the sample if shape is box   \n",
      "   sample_height                       0.0        [meter]              height of the sample if shape is box or cylinder   \n",
      "   sample_depth                        0.0        [meter]              depth of the sample if shape is box   \n",
      "   sample_radius                       0.0        [meter]              radius of the sample if shape is sphere or cylinder   \n",
      "   sample_thickness                    0.0        [meter]              thickness of the sample if it is hollow   \n",
      "\n",
      "   DetectorCalc\n",
      "    - Parameters object -\n",
      "   vin_filename                        \"none\"                             \n",
      "   nt                                  512                             Number of time channels   \n",
      "   ny                                  256                             Number of vertical position channels   \n",
      "   epchannel                           295                             Elastic peak position in number of channels   \n",
      "\n",
      "############\n"
     ]
    }
   ],
   "source": [
    "print(myinstrument)"
   ]
  },
  {
   "cell_type": "code",
   "execution_count": 12,
   "id": "c2b955ba",
   "metadata": {},
   "outputs": [],
   "source": [
    "# setting the base directory for the simulation output\n",
    "basedir = \"/tmp/\"+instrument_name+\"/\"\n",
    "myinstrument.set_instrument_base_dir(basedir)\n",
    "import os \n",
    "#os.mkdir(basedir)\n"
   ]
  },
  {
   "cell_type": "code",
   "execution_count": 13,
   "id": "bf583b30",
   "metadata": {},
   "outputs": [
    {
     "data": {
      "text/plain": [
       " - Parameters object -\n",
       "speed                                                         Rotation frequency of disk choppers RPM   \n",
       "ratio                                                            \n",
       "lambda                                   [angstrom]              \n",
       "nt                                                            Number of time channels   \n",
       "epchannel                                                     Elastic peak position in number of channels   "
      ]
     },
     "execution_count": 13,
     "metadata": {},
     "output_type": "execute_result"
    }
   ],
   "source": [
    "myinstrument.master"
   ]
  },
  {
   "cell_type": "code",
   "execution_count": 14,
   "id": "9a69d1a4",
   "metadata": {},
   "outputs": [],
   "source": [
    "import pint\n",
    "ureg = pint.get_application_registry()\n",
    "\n",
    "if instrument_name == \"ThALES\":\n",
    "    myinstrument.master[\"a2\"] = myinstrument.energy_to_angle(4.98 * ureg.meV)\n",
    "    myinstrument.master[\"a4\"] = 60 * ureg.degree\n",
    "    myinstrument.master[\"a6\"] = myinstrument.master[\"a2\"].pint_value\n",
    "if instrument_name == \"Panther\":\n",
    "    myinstrument.master[\"energy\"]=19 * ureg.meV"
   ]
  },
  {
   "cell_type": "code",
   "execution_count": 15,
   "id": "5e7d0e97",
   "metadata": {},
   "outputs": [
    {
     "data": {
      "text/plain": [
       "['None', 'vanadium', 'H2O', 'D2O', 'sqw']"
      ]
     },
     "execution_count": 15,
     "metadata": {},
     "output_type": "execute_result"
    }
   ],
   "source": [
    "myinstrument.samples"
   ]
  },
  {
   "cell_type": "code",
   "execution_count": 16,
   "id": "a4dc4b8f",
   "metadata": {},
   "outputs": [
    {
     "data": {
      "text/plain": [
       "SPLIT 14 COMPONENT sqw = Isotropic_Sqw(\n",
       "  \u001b[1mSqw_coh\u001b[0m = \u001b[1m\u001b[92m0\u001b[0m\u001b[0m, // [str]\n",
       "  \u001b[1mSqw_inc\u001b[0m = \u001b[1m\u001b[92m0\u001b[0m\u001b[0m, // [str]\n",
       "  \u001b[1mradius\u001b[0m = \u001b[1m\u001b[92msample_radius\u001b[0m\u001b[0m, // [m]\n",
       "  \u001b[1mthickness\u001b[0m = \u001b[1m\u001b[92msample_thickness\u001b[0m\u001b[0m, // [m]\n",
       "  \u001b[1mxwidth\u001b[0m = \u001b[1m\u001b[92msample_width\u001b[0m\u001b[0m, // [m]\n",
       "  \u001b[1myheight\u001b[0m = \u001b[1m\u001b[92msample_height\u001b[0m\u001b[0m, // [m]\n",
       "  \u001b[1mverbose\u001b[0m = \u001b[1m\u001b[92m2\u001b[0m\u001b[0m, // [1]\n",
       "  \u001b[1md_phi\u001b[0m = \u001b[1m\u001b[92m21.23931055231027\u001b[0m\u001b[0m, // [deg]\n",
       "  \u001b[1mrho\u001b[0m = \u001b[1m\u001b[92m0.07232226802632531\u001b[0m\u001b[0m, // [AA-3]\n",
       "  \u001b[1msigma_abs\u001b[0m = \u001b[1m\u001b[92m5.08\u001b[0m\u001b[0m, // [barns]\n",
       "  \u001b[1msigma_coh\u001b[0m = \u001b[1m\u001b[92m0\u001b[0m\u001b[0m, // [barns]\n",
       "  \u001b[1msigma_inc\u001b[0m = \u001b[1m\u001b[92m4.935\u001b[0m\u001b[0m, // [barns]\n",
       "  \u001b[1mp_interact\u001b[0m = \u001b[1m\u001b[92m1\u001b[0m\u001b[0m // [1]\n",
       ")\n",
       "AT (0, 0, 0) RELATIVE sample_arm"
      ]
     },
     "execution_count": 16,
     "metadata": {},
     "output_type": "execute_result"
    }
   ],
   "source": [
    "myinstrument.set_sample_by_name(\"vanadium\")"
   ]
  },
  {
   "cell_type": "code",
   "execution_count": 17,
   "id": "e5f12935",
   "metadata": {},
   "outputs": [],
   "source": [
    "myinstrument.sample_cylinder_shape(0.005, 0.01)"
   ]
  },
  {
   "cell_type": "code",
   "execution_count": 18,
   "id": "17ab1a80",
   "metadata": {},
   "outputs": [],
   "source": [
    "myinstrument.sim_neutrons(5e6)\n",
    "myinstrument.set_seed(654321)\n",
    "myinstrument.custom_flags(\"-I mcstas/components\")"
   ]
  },
  {
   "cell_type": "code",
   "execution_count": 19,
   "id": "20da6717",
   "metadata": {},
   "outputs": [
    {
     "name": "stdout",
     "output_type": "stream",
     "text": [
      "---- Found 7 places in McStas output with keyword 'error'. \n",
      "\n",
      "./OriginCalc.c:12036:34: \u001b[91merror\u001b[0m: expected expression before ‘int’\n",
      "12036 |   _Chopper0_var._parameters.nu = int ( nu / 60 );\n",
      "      |                                  ^~~\n",
      "./OriginCalc.c: In function ‘_Chopper1_setpos’:\n",
      "----------------------------------------------------------------------\n",
      "./OriginCalc.c:12206:34: \u001b[91merror\u001b[0m: incompatible types when assigning to type ‘MCNUM’ {aka ‘double’} from type ‘char *’\n",
      "12206 |   _Chopper1_var._parameters.nu = \"int(nu/60)\";\n",
      "      |                                  ^~~~~~~~~~~~\n",
      "./OriginCalc.c: In function ‘_Chopper2_setpos’:\n",
      "----------------------------------------------------------------------\n",
      "./OriginCalc.c:12317:34: \u001b[91merror\u001b[0m: incompatible types when assigning to type ‘MCNUM’ {aka ‘double’} from type ‘char *’\n",
      "12317 |   _Chopper2_var._parameters.nu = \"int(nu/60)\";\n",
      "      |                                  ^~~~~~~~~~~~\n",
      "./OriginCalc.c: In function ‘_Chopper3_setpos’:\n",
      "----------------------------------------------------------------------\n",
      "./OriginCalc.c:12546:34: \u001b[91merror\u001b[0m: incompatible types when assigning to type ‘MCNUM’ {aka ‘double’} from type ‘char *’\n",
      "12546 |   _Chopper3_var._parameters.nu = \"int(nu/60.0 * ratio)\";\n",
      "      |                                  ^~~~~~~~~~~~~~~~~~~~~~\n",
      "./OriginCalc.c: In function ‘_Chopper4_setpos’:\n",
      "----------------------------------------------------------------------\n",
      "./OriginCalc.c:12657:34: \u001b[91merror\u001b[0m: incompatible types when assigning to type ‘MCNUM’ {aka ‘double’} from type ‘char *’\n",
      "12657 |   _Chopper4_var._parameters.nu = \"int(nu/60.0)\";\n",
      "      |                                  ^~~~~~~~~~~~~~\n",
      "./OriginCalc.c: In function ‘_Chopper5_setpos’:\n",
      "----------------------------------------------------------------------\n",
      "./OriginCalc.c:12768:34: \u001b[91merror\u001b[0m: incompatible types when assigning to type ‘MCNUM’ {aka ‘double’} from type ‘char *’\n",
      "12768 |   _Chopper5_var._parameters.nu = \"int(nu/60.0)\";\n",
      "      |                                  ^~~~~~~~~~~~~~\n",
      "./OriginCalc.c: In function ‘_Chopper6_setpos’:\n",
      "----------------------------------------------------------------------\n",
      "./OriginCalc.c:12879:34: \u001b[91merror\u001b[0m: incompatible types when assigning to type ‘MCNUM’ {aka ‘double’} from type ‘char *’\n",
      "12879 |   _Chopper6_var._parameters.nu = \"int(nu/60.0)\";\n",
      "      |                                  ^~~~~~~~~~~~~~\n",
      "./OriginCalc.c: In function ‘class_Monitor_nD_trace’:\n",
      "./OriginCalc.c:15172:72: warning: unknown conversion type character ‘\\x0a’ in format [-Wformat=]\n",
      "15172 |                 printf(\"Cylinder_intersect returned unexpected value %l\\n\", intersect);\n",
      "      |                                                                        ^~\n",
      "./OriginCalc.c:15172:24: warning: too many arguments for format [-Wformat-extra-args]\n",
      "15172 |                 printf(\"Cylinder_intersect returned unexpected value %l\\n\", intersect);\n",
      "      |                        ^~~~~~~~~~~~~~~~~~~~~~~~~~~~~~~~~~~~~~~~~~~~~~~~~~~\n",
      "----------------------------------------------------------------------\n",
      "\n",
      "loading system configuration\n",
      "INFO: Using directory: \"/tmp/IN5/OriginCalc_12\"\n",
      "INFO: Regenerating c-file: OriginCalc.c\n",
      "CFLAGS= -Wl,-rpath,CMD(mcpl-config --show libdir) -LCMD(mcpl-config --show libdir) -lmcpl -ICMD(mcpl-config --show includedir)\n",
      "      \n",
      "-----------------------------------------------------------\n",
      "\n",
      "Generating single GPU kernel or single CPU section layout: \n",
      "\n",
      "-----------------------------------------------------------\n",
      "\n",
      "Generating GPU/CPU -DFUNNEL layout:\n",
      "\n",
      "-----------------------------------------------------------\n",
      "INFO: Recompiling: ./OriginCalc.out\n",
      "./OriginCalc.c: In function ‘_Chopper0_setpos’:\n",
      "./OriginCalc.c:12036:34: \u001b[91merror\u001b[0m: expected expression before ‘int’\n",
      "12036 |   _Chopper0_var._parameters.nu = int ( nu / 60 );\n",
      "      |                                  ^~~\n",
      "./OriginCalc.c: In function ‘_Chopper1_setpos’:\n",
      "./OriginCalc.c:12206:34: \u001b[91merror\u001b[0m: incompatible types when assigning to type ‘MCNUM’ {aka ‘double’} from type ‘char *’\n",
      "12206 |   _Chopper1_var._parameters.nu = \"int(nu/60)\";\n",
      "      |                                  ^~~~~~~~~~~~\n",
      "./OriginCalc.c: In function ‘_Chopper2_setpos’:\n",
      "./OriginCalc.c:12317:34: \u001b[91merror\u001b[0m: incompatible types when assigning to type ‘MCNUM’ {aka ‘double’} from type ‘char *’\n",
      "12317 |   _Chopper2_var._parameters.nu = \"int(nu/60)\";\n",
      "      |                                  ^~~~~~~~~~~~\n",
      "./OriginCalc.c: In function ‘_Chopper3_setpos’:\n",
      "./OriginCalc.c:12546:34: \u001b[91merror\u001b[0m: incompatible types when assigning to type ‘MCNUM’ {aka ‘double’} from type ‘char *’\n",
      "12546 |   _Chopper3_var._parameters.nu = \"int(nu/60.0 * ratio)\";\n",
      "      |                                  ^~~~~~~~~~~~~~~~~~~~~~\n",
      "./OriginCalc.c: In function ‘_Chopper4_setpos’:\n",
      "./OriginCalc.c:12657:34: \u001b[91merror\u001b[0m: incompatible types when assigning to type ‘MCNUM’ {aka ‘double’} from type ‘char *’\n",
      "12657 |   _Chopper4_var._parameters.nu = \"int(nu/60.0)\";\n",
      "      |                                  ^~~~~~~~~~~~~~\n",
      "./OriginCalc.c: In function ‘_Chopper5_setpos’:\n",
      "./OriginCalc.c:12768:34: \u001b[91merror\u001b[0m: incompatible types when assigning to type ‘MCNUM’ {aka ‘double’} from type ‘char *’\n",
      "12768 |   _Chopper5_var._parameters.nu = \"int(nu/60.0)\";\n",
      "      |                                  ^~~~~~~~~~~~~~\n",
      "./OriginCalc.c: In function ‘_Chopper6_setpos’:\n",
      "./OriginCalc.c:12879:34: \u001b[91merror\u001b[0m: incompatible types when assigning to type ‘MCNUM’ {aka ‘double’} from type ‘char *’\n",
      "12879 |   _Chopper6_var._parameters.nu = \"int(nu/60.0)\";\n",
      "      |                                  ^~~~~~~~~~~~~~\n",
      "./OriginCalc.c: In function ‘class_Monitor_nD_trace’:\n",
      "./OriginCalc.c:15172:72: warning: unknown conversion type character ‘\\x0a’ in format [-Wformat=]\n",
      "15172 |                 printf(\"Cylinder_intersect returned unexpected value %l\\n\", intersect);\n",
      "      |                                                                        ^~\n",
      "./OriginCalc.c:15172:24: warning: too many arguments for format [-Wformat-extra-args]\n",
      "15172 |                 printf(\"Cylinder_intersect returned unexpected value %l\\n\", intersect);\n",
      "      |                        ^~~~~~~~~~~~~~~~~~~~~~~~~~~~~~~~~~~~~~~~~~~~~~~~~~~\n",
      "./OriginCalc.c: In function ‘class_MCPL_output_trace’:\n",
      "./OriginCalc.c:15411:20: warning: format ‘%ld’ expects argument of type ‘long int’, but argument 2 has type ‘long long unsigned int’ [-Wformat=]\n",
      "15411 |       printf(\"id=%ld\\tpdg=2112\\tekin=%g MeV\\tx=%g cm\\ty=%g cm\\tz=%g cm\\tux=%g\\tuy=%g\\tuz=%g\\tt=%g ms\\tweight=%g\\tpolx=%g\\tpoly=%g\\tpolz=%g\\n\",\n",
      "      |                  ~~^\n",
      "      |                    |\n",
      "      |                    long int\n",
      "      |                  %lld\n",
      "15412 |              mcrun_num, particle->ekin, particle->position[0], particle->position[1], particle->position[2],\n",
      "      |              ~~~~~~~~~\n",
      "      |              |\n",
      "      |              long long unsigned int\n",
      "\n",
      "\n"
     ]
    },
    {
     "name": "stderr",
     "output_type": "stream",
     "text": [
      "/users/nourbakhsh/digitaltwin/instrument_database/McStasScript/mcstasscript/helper/managed_mcrun.py:304: UserWarning: Simulation did not create data folder, most likely failed.\n",
      "  warnings.warn(\"Simulation did not create data folder, most likely failed.\")\n"
     ]
    },
    {
     "ename": "RuntimeError",
     "evalue": "MCPL file: /tmp/IN5/OriginCalc_12/SampleCalc.mcpl nor /tmp/IN5/OriginCalc_12/SampleCalc.mcpl.gz not found",
     "output_type": "error",
     "traceback": [
      "\u001b[0;31m---------------------------------------------------------------------------\u001b[0m",
      "\u001b[0;31mRuntimeError\u001b[0m                              Traceback (most recent call last)",
      "Cell \u001b[0;32mIn[19], line 1\u001b[0m\n\u001b[0;32m----> 1\u001b[0m \u001b[43mmyinstrument\u001b[49m\u001b[38;5;241;43m.\u001b[39;49m\u001b[43mrun\u001b[49m\u001b[43m(\u001b[49m\u001b[43m)\u001b[49m\n",
      "File \u001b[0;32m~/digitaltwin/instrument_database/mcstas/McStasInstrumentBase.py:472\u001b[0m, in \u001b[0;36mMcStasInstrumentBase.run\u001b[0;34m(self)\u001b[0m\n\u001b[1;32m    470\u001b[0m \u001b[38;5;28;01mdef\u001b[39;00m \u001b[38;5;21mrun\u001b[39m(\u001b[38;5;28mself\u001b[39m):\n\u001b[1;32m    471\u001b[0m     \u001b[38;5;28mself\u001b[39m\u001b[38;5;241m.\u001b[39m_check_sample_shape()\n\u001b[0;32m--> 472\u001b[0m     \u001b[38;5;28;01mreturn\u001b[39;00m \u001b[38;5;28;43msuper\u001b[39;49m\u001b[43m(\u001b[49m\u001b[43m)\u001b[49m\u001b[38;5;241;43m.\u001b[39;49m\u001b[43mrun\u001b[49m\u001b[43m(\u001b[49m\u001b[43m)\u001b[49m\n",
      "File \u001b[0;32m~/digitaltwin/instrument_database/libpyvinyl/libpyvinyl/Instrument.py:160\u001b[0m, in \u001b[0;36mInstrument.run\u001b[0;34m(self)\u001b[0m\n\u001b[1;32m    155\u001b[0m \u001b[38;5;250m\u001b[39m\u001b[38;5;124;03m\"\"\"\u001b[39;00m\n\u001b[1;32m    156\u001b[0m \u001b[38;5;124;03mRun the entire simulation,\u001b[39;00m\n\u001b[1;32m    157\u001b[0m \u001b[38;5;124;03mi.e. all the calculators in the order they have been provided\u001b[39;00m\n\u001b[1;32m    158\u001b[0m \u001b[38;5;124;03m\"\"\"\u001b[39;00m\n\u001b[1;32m    159\u001b[0m \u001b[38;5;28;01mfor\u001b[39;00m calculator \u001b[38;5;129;01min\u001b[39;00m \u001b[38;5;28mself\u001b[39m\u001b[38;5;241m.\u001b[39mcalculators\u001b[38;5;241m.\u001b[39mvalues():\n\u001b[0;32m--> 160\u001b[0m     \u001b[43mcalculator\u001b[49m\u001b[38;5;241;43m.\u001b[39;49m\u001b[43mbackengine\u001b[49m\u001b[43m(\u001b[49m\u001b[43m)\u001b[49m\n",
      "File \u001b[0;32m~/digitaltwin/instrument_database/McStasScript/mcstasscript/interface/instr.py:2515\u001b[0m, in \u001b[0;36mMcCode_instr.backengine\u001b[0;34m(self)\u001b[0m\n\u001b[1;32m   2508\u001b[0m simulation\u001b[38;5;241m.\u001b[39mrun_simulation(\u001b[38;5;241m*\u001b[39m\u001b[38;5;241m*\u001b[39m\u001b[38;5;28mself\u001b[39m\u001b[38;5;241m.\u001b[39m_run_settings)\n\u001b[1;32m   2510\u001b[0m \u001b[38;5;66;03m# Load data and store in __data\u001b[39;00m\n\u001b[1;32m   2511\u001b[0m \u001b[38;5;66;03m#data = simulation.load_results()\u001b[39;00m\n\u001b[1;32m   2512\u001b[0m \u001b[38;5;66;03m#self._set_data(data)\u001b[39;00m\n\u001b[1;32m   2513\u001b[0m \n\u001b[1;32m   2514\u001b[0m \u001b[38;5;66;03m## look for MCPL_output components and the defined filenames\u001b[39;00m\n\u001b[0;32m-> 2515\u001b[0m \u001b[38;5;28;43mself\u001b[39;49m\u001b[38;5;241;43m.\u001b[39;49m\u001b[43m__add_mcpl_to_output\u001b[49m\u001b[43m(\u001b[49m\u001b[43msimulation\u001b[49m\u001b[43m)\u001b[49m\n\u001b[1;32m   2517\u001b[0m \u001b[38;5;66;03m# simulation results from .dat files loaded as dict\u001b[39;00m\n\u001b[1;32m   2518\u001b[0m data \u001b[38;5;241m=\u001b[39m simulation\u001b[38;5;241m.\u001b[39mload_results()\n",
      "File \u001b[0;32m~/digitaltwin/instrument_database/McStasScript/mcstasscript/interface/instr.py:2569\u001b[0m, in \u001b[0;36mMcCode_instr.__add_mcpl_to_output\u001b[0;34m(self, managed_mcrun)\u001b[0m\n\u001b[1;32m   2567\u001b[0m     absfilepath\u001b[38;5;241m+\u001b[39m\u001b[38;5;241m=\u001b[39m\u001b[38;5;124m\"\u001b[39m\u001b[38;5;124m.gz\u001b[39m\u001b[38;5;124m\"\u001b[39m\n\u001b[1;32m   2568\u001b[0m \u001b[38;5;28;01mif\u001b[39;00m os\u001b[38;5;241m.\u001b[39mpath\u001b[38;5;241m.\u001b[39mexists(absfilepath) \u001b[38;5;129;01mis\u001b[39;00m \u001b[38;5;28;01mFalse\u001b[39;00m:\n\u001b[0;32m-> 2569\u001b[0m     \u001b[38;5;28;01mraise\u001b[39;00m \u001b[38;5;167;01mRuntimeError\u001b[39;00m(\u001b[38;5;124mf\u001b[39m\u001b[38;5;124m\"\u001b[39m\u001b[38;5;124mMCPL file: \u001b[39m\u001b[38;5;132;01m{\u001b[39;00mabsfilepath\u001b[38;5;132;01m}\u001b[39;00m\u001b[38;5;124m nor \u001b[39m\u001b[38;5;132;01m{\u001b[39;00mabsfilepath\u001b[38;5;132;01m}\u001b[39;00m\u001b[38;5;124m.gz not found\u001b[39m\u001b[38;5;124m\"\u001b[39m)\n\u001b[1;32m   2570\u001b[0m mcpl_file \u001b[38;5;241m=\u001b[39m  pyvinylMCPLData\u001b[38;5;241m.\u001b[39mfrom_file(absfilepath)\n\u001b[1;32m   2571\u001b[0m \u001b[38;5;28;01mif\u001b[39;00m num_mcpl_files\u001b[38;5;241m>\u001b[39m\u001b[38;5;241m1\u001b[39m:\n",
      "\u001b[0;31mRuntimeError\u001b[0m: MCPL file: /tmp/IN5/OriginCalc_12/SampleCalc.mcpl nor /tmp/IN5/OriginCalc_12/SampleCalc.mcpl.gz not found"
     ]
    }
   ],
   "source": [
    "myinstrument.run()"
   ]
  },
  {
   "cell_type": "markdown",
   "id": "afc301e9",
   "metadata": {},
   "source": [
    "### Diagnostics of the beam for one calculator"
   ]
  },
  {
   "cell_type": "code",
   "execution_count": null,
   "id": "7cf72254",
   "metadata": {},
   "outputs": [],
   "source": [
    "calculator_name=\"SampleCalc\"\n",
    "calculator_name=\"OriginCalc\"\n",
    "mycalc = myinstrument.calculators[calculator_name]\n",
    "#mycalc.backengine()\n",
    "#myinstrument.run()\n",
    "#print(mycalc.output)"
   ]
  },
  {
   "cell_type": "code",
   "execution_count": null,
   "id": "32567b1b",
   "metadata": {},
   "outputs": [],
   "source": [
    "#mycalc = myinstrument.calculators[\"OriginCalc\"]\n",
    "#mycalc = myinstrument.calculators[\"SampleCalc\"]\n",
    "#mycalc.input = myinstrument.calculators[\"OriginCalc\"].output\n",
    "mycalc.show_diagram()\n"
   ]
  },
  {
   "cell_type": "code",
   "execution_count": null,
   "id": "3f8e0aaa",
   "metadata": {},
   "outputs": [],
   "source": [
    "#mycalc.show_diagram(analysis=True, variable=\"t\")"
   ]
  },
  {
   "cell_type": "code",
   "execution_count": null,
   "id": "3a051763",
   "metadata": {},
   "outputs": [],
   "source": [
    "import mcstasscript as ms\n"
   ]
  },
  {
   "cell_type": "code",
   "execution_count": null,
   "id": "21140401",
   "metadata": {},
   "outputs": [],
   "source": [
    "diag = ms.Diagnostics(mycalc)\n",
    "diag.settings(ncount=1e7, suppress_output=True)\n",
    "diag.show_settings()\n",
    "diag.clear_points()\n",
    "\n",
    "elements = []\n",
    "if len(elements) == 0:\n",
    "    for component in diag.instr.component_list:\n",
    "        if component.component_name in [\"Progress_bar\", \"Arm\"]:\n",
    "            continue\n",
    "        if component.component_name in [\"Beamstop\"]:\n",
    "            diag.add_point(before=component.name)\n",
    "            continue\n",
    "        elements.append(component.name)\n",
    "        if component.component_name in [\"Chopper0\",\"Chopper1\",\"Chopper2\",\"Chopper3\"]:\n",
    "            diag.add_point(before=component.name)\n",
    "            diag.add_point(after=component.name)\n",
    "        else:\n",
    "            diag.add_point(before=component.name)\n",
    "        \n",
    "\n",
    "print(elements)\n",
    "\n",
    "\n",
    "if mycalc.name == \"SampleCalc\":\n",
    "    diag.clear_points()\n",
    "    diag.add_point(after=\"Vin\")\n",
    "    diag.add_point(before=\"sqw\")\n",
    "    diag.add_point(after=\"Sample_Out\")\n",
    "    diag.add_point(before=\"after_sample_slit\")\n",
    "    diag.add_point(after=\"after_sample_slit\")\n",
    "\n",
    "print(diag)\n"
   ]
  },
  {
   "cell_type": "code",
   "execution_count": null,
   "id": "a2f29476",
   "metadata": {},
   "outputs": [],
   "source": [
    "#mycalc.get_component(\"BC1\").phase=41\n",
    "ch = mycalc.get_component(\"Chopper3\")\n",
    "print(ch)\n"
   ]
  },
  {
   "cell_type": "code",
   "execution_count": null,
   "id": "b5cfe2ed",
   "metadata": {},
   "outputs": [],
   "source": [
    "diag.run()"
   ]
  },
  {
   "cell_type": "code",
   "execution_count": null,
   "id": "6cb3ca01",
   "metadata": {},
   "outputs": [],
   "source": [
    "diag.clear_views()\n",
    "#diag.add_view(\"t\")\n",
    "#diag.add_view(\"x\", bins=50, limits=[-0.04,0.04])\n",
    "#diag.add_view(\"y\", bins=50, same_scale=False, limits=[-0.07,0.07])\n",
    "#diag.add_view(\"x\",\"y\",bins=[30,30])\n",
    "#diag.add_view(\"e\", same_scale=True)\n",
    "diag.add_view(\"l\",same_scale=False)\n",
    "diag.add_view(\"t\",same_scale=False)\n",
    "#diag.add_view(\"dx\",\"dy\")\n",
    "diag.add_view(\"t\",\"x\")\n",
    "diag.add_view(\"t\",\"y\")\n",
    "diag.add_view(\"x\",\"y\",same_scale=True)\n",
    "print(diag)"
   ]
  },
  {
   "cell_type": "code",
   "execution_count": null,
   "id": "da0ac372",
   "metadata": {},
   "outputs": [],
   "source": [
    "diag.plot()"
   ]
  },
  {
   "cell_type": "code",
   "execution_count": null,
   "id": "640e8c59",
   "metadata": {},
   "outputs": [],
   "source": [
    "mycalc.print_component(\"BC1\")\n",
    "mycalc.print_component(\"BC2\")\n",
    "\n",
    "#help(mycalc)\n",
    "mycalc.component_help(\"DiskChopper\")"
   ]
  },
  {
   "cell_type": "code",
   "execution_count": null,
   "id": "3fbdef29",
   "metadata": {},
   "outputs": [],
   "source": [
    "mycalc.show_instrument()"
   ]
  },
  {
   "cell_type": "code",
   "execution_count": null,
   "id": "b4284601",
   "metadata": {},
   "outputs": [],
   "source": [
    "ms.make_sub_plot(data_empty[55:59])"
   ]
  },
  {
   "cell_type": "code",
   "execution_count": null,
   "id": "7c35a5b1",
   "metadata": {},
   "outputs": [],
   "source": []
  },
  {
   "cell_type": "code",
   "execution_count": null,
   "id": "7af8b77e",
   "metadata": {},
   "outputs": [],
   "source": [
    "ms.make_sub_plot(data_empty[65:69])"
   ]
  },
  {
   "cell_type": "code",
   "execution_count": null,
   "id": "9c63ffad",
   "metadata": {},
   "outputs": [],
   "source": [
    "%matplotlib widget\n",
    "import mcstasscript.jb_interface as ms_widget\n",
    "ms_widget.show(data_empty)"
   ]
  },
  {
   "cell_type": "code",
   "execution_count": null,
   "id": "a9fbcdea",
   "metadata": {},
   "outputs": [],
   "source": [
    "myinstrument.sample.set_SPLIT(60)\n",
    "myinstrument.sample"
   ]
  },
  {
   "cell_type": "code",
   "execution_count": null,
   "id": "1bc44a6f",
   "metadata": {},
   "outputs": [],
   "source": [
    "slit=myinstrument.calculators[\"SampleCalc\"].get_component(\"after_sample_slit\")\n",
    "slit.EXTEND=\"\"\n",
    "slit.append_EXTEND(\"if(p<1e-1) ABSORB;\")\n",
    "slit\n"
   ]
  },
  {
   "cell_type": "code",
   "execution_count": null,
   "id": "3f95946d",
   "metadata": {},
   "outputs": [],
   "source": [
    "myinstrument.run()"
   ]
  },
  {
   "cell_type": "code",
   "execution_count": null,
   "id": "af03f0bf",
   "metadata": {},
   "outputs": [],
   "source": [
    "data=myinstrument.output\n",
    "print(data)\n",
    "calcname_data=\"OriginCalc_data\""
   ]
  },
  {
   "cell_type": "code",
   "execution_count": null,
   "id": "899c7352",
   "metadata": {},
   "outputs": [],
   "source": [
    "print(data[calcname_data])\n",
    "for detector in data[calcname_data].get_data()[\"data\"]:\n",
    "    print(detector.Intensity, detector.Error, detector.Ncount)"
   ]
  },
  {
   "cell_type": "code",
   "execution_count": null,
   "id": "e224effe",
   "metadata": {},
   "outputs": [],
   "source": [
    "(data[calcname_data]).get_data()[\"data\"][0].Intensity"
   ]
  },
  {
   "cell_type": "code",
   "execution_count": null,
   "id": "8fd110ad",
   "metadata": {},
   "outputs": [],
   "source": [
    "wmins=[\"1e-5\", \"1e-4\", \"1e-3\", \"1e-2\", \"1e-1\"]\n",
    "detectors=[]\n",
    "for w_min in wmins:\n",
    "    slit=myinstrument.calculators[\"SampleCalc\"].get_component(\"after_sample_slit\")\n",
    "    slit.EXTEND=\"\"\n",
    "    slit.append_EXTEND(f\"if(p<{w_min}) ABSORB;\")\n",
    "    myinstrument.run()\n",
    "    data=myinstrument.output\n",
    "    detector=(data[\"DetectorCalc_data\"].get_data()[\"data\"][0])\n",
    "    detectors.append(detector)"
   ]
  },
  {
   "cell_type": "code",
   "execution_count": null,
   "id": "52bf6d4f",
   "metadata": {},
   "outputs": [],
   "source": [
    "detectors"
   ]
  },
  {
   "cell_type": "code",
   "execution_count": null,
   "id": "6064814b",
   "metadata": {},
   "outputs": [],
   "source": [
    "import numpy as np\n",
    "diags = []\n",
    "RHs = list(np.arange(2.6,4,0.3))\n",
    "RVs = list(np.arange(1,3,0.3))\n",
    "RVs.append(1.88)\n",
    "RHs.append(3.31)\n",
    "print(RHs)\n",
    "print(RVs)"
   ]
  },
  {
   "cell_type": "code",
   "execution_count": null,
   "id": "f787ba8e",
   "metadata": {},
   "outputs": [],
   "source": [
    "for RH in RHs:\n",
    "    print(RH)\n",
    "    mycalc.parameters[\"RHmono\"]=RH\n",
    "    diag = ms.Diagnostics(mycalc)\n",
    "    diag.settings(ncount=1e6, suppress_output=True,force_compile=False)\n",
    "    diag.clear_points()\n",
    "    diag.add_point(after=\"before_sample_slit\")\n",
    "#    diag.add_point(before=\"sqw\")\n",
    "    diag.run()\n",
    "    diags.append(diag)\n",
    "\n",
    "#(RHmono,RVmono) = (3.31,1.88)\n",
    "#lambda: 4.05\n",
    "#lambda: 4.05 +/- 0.04\n",
    "#energy: 4.98 +/- 0.10\n",
    "#(RHanalyzer,RVanalyzer) = (4.17,0.77)\n",
    "#'Monochromator', 'counter', 'before_sample_slit', 'sqw', 'after_sample_slit', 'analyzer', 'slit', 'detector_all']"
   ]
  },
  {
   "cell_type": "code",
   "execution_count": null,
   "id": "833d4920",
   "metadata": {},
   "outputs": [],
   "source": [
    "for diag in diags:\n",
    "    diag.clear_views()\n",
    "    diag.add_view(\"x\", bins=50, limits=[-0.04,0.04])\n",
    "    diag.add_view(\"y\", bins=50, same_scale=False, limits=[-0.07,0.07])\n",
    "    #diag.add_view(\"x\",\"y\",bins=[30,30])\n",
    "    #diag.add_view(\"dx\",\"dy\")\n",
    "    diag.add_view(\"dx\")\n",
    "    diag.add_view(\"dy\")\n",
    "    diag.plot()"
   ]
  },
  {
   "cell_type": "code",
   "execution_count": null,
   "id": "076601d1",
   "metadata": {},
   "outputs": [],
   "source": [
    "RVdiags = []\n",
    "\n",
    "\n",
    "print(RVs)\n",
    "for RV in RVs:\n",
    "    print(RV)\n",
    "    mycalc.parameters[\"RVmono\"]=RV\n",
    "    diag = ms.Diagnostics(mycalc)\n",
    "    diag.settings(ncount=1e6, suppress_output=True,force_compile=False)\n",
    "    diag.clear_points()\n",
    "    diag.add_point(after=\"before_sample_slit\")\n",
    "#    diag.add_point(before=\"sqw\")\n",
    "    diag.run()\n",
    "    RVdiags.append(diag)"
   ]
  },
  {
   "cell_type": "code",
   "execution_count": null,
   "id": "31a5b68b",
   "metadata": {},
   "outputs": [],
   "source": [
    "for diag in RVdiags:\n",
    "    diag.clear_views()\n",
    "    diag.add_view(\"x\", bins=50, limits=[-0.04,0.04])\n",
    "    diag.add_view(\"y\", bins=50, same_scale=False, limits=[-0.07,0.07])\n",
    "    #diag.add_view(\"x\",\"y\",bins=[30,30])\n",
    "    #diag.add_view(\"dx\",\"dy\")\n",
    "    diag.add_view(\"dx\")\n",
    "    diag.add_view(\"dy\")\n",
    "    diag.plot()"
   ]
  },
  {
   "cell_type": "code",
   "execution_count": null,
   "id": "5d830ade",
   "metadata": {},
   "outputs": [],
   "source": [
    "myinstrument.force_compile(False)\n",
    "myinstrument.sim_neutrons(1e5)\n",
    "counter=[]\n",
    "detector=[]\n",
    "mycalc = myinstrument.calculators[\"OriginCalc\"]\n",
    "for RV in RVs:\n",
    "    for RH in RHs:\n",
    "        mycalc.parameters[\"RHmono\"].value = RH\n",
    "        mycalc.parameters[\"RVmono\"].value = RV\n",
    "        #print(mycalc.parameters)\n",
    "        myinstrument.run()\n",
    "        counter.append(myinstrument.output[\"OriginCalc_data\"].get_data()[\"data\"])"
   ]
  },
  {
   "cell_type": "code",
   "execution_count": null,
   "id": "67b8c8d6",
   "metadata": {},
   "outputs": [],
   "source": [
    "i=0\n",
    "i_det=1\n",
    "for RV in RVs:\n",
    "    for RH in RHs:\n",
    "        c = counter[i]\n",
    "        det=c[1]\n",
    "        print(i, \"\\t\" , RV, RH, \"\\t\\t\" , det.Intensity, det.Error, det.Ncount)\n",
    "        i=i+1"
   ]
  },
  {
   "cell_type": "code",
   "execution_count": null,
   "id": "e1798cb5",
   "metadata": {},
   "outputs": [],
   "source": [
    "mycalc.output"
   ]
  },
  {
   "cell_type": "code",
   "execution_count": null,
   "id": "acd58fe9",
   "metadata": {},
   "outputs": [],
   "source": [
    "print(myinstrument.output)"
   ]
  },
  {
   "cell_type": "code",
   "execution_count": null,
   "id": "4bd7a273",
   "metadata": {},
   "outputs": [],
   "source": [
    "RHs = list(np.arange(1.5,3,0.2))\n",
    "RVs = list(np.arange(0.3,1.2,0.2))\n",
    "RVs.append(0.51)\n",
    "RHs.append(1.41)\n",
    "print(RHs)\n",
    "print(RVs)\n",
    "\n",
    "myinstrument.force_compile(False)\n",
    "myinstrument.sim_neutrons(1e5)\n",
    "counter=[]\n",
    "\n",
    "mycalc = myinstrument.calculators[\"OriginCalc\"]\n",
    "for RV in RVs:\n",
    "    for RH in RHs:\n",
    "        mycalc.parameters[\"RHanalyzer\"].value = RH\n",
    "        mycalc.parameters[\"RVanalyzer\"].value = RV\n",
    "        #print(mycalc.parameters)\n",
    "        myinstrument.run()\n",
    "        counter.append(myinstrument.output[\"OriginCalc_data\"].get_data()[\"data\"])"
   ]
  },
  {
   "cell_type": "code",
   "execution_count": null,
   "id": "24d1d3ec",
   "metadata": {},
   "outputs": [],
   "source": [
    "i=0\n",
    "i_det=1\n",
    "intensities = []\n",
    "counts = []\n",
    "for RV in RVs:\n",
    "    for RH in RHs:\n",
    "        c = counter[i]\n",
    "        det=c[1]\n",
    "        #print(i, \"\\t\" , RV, RH, \"\\t\\t\" , det.Intensity, det.Error, det.Ncount)\n",
    "        intensities.append(det.Intensity)\n",
    "        counts.append(det.Ncount)\n",
    "        i=i+1"
   ]
  },
  {
   "cell_type": "code",
   "execution_count": null,
   "id": "6cdcc95a",
   "metadata": {},
   "outputs": [],
   "source": [
    "max(intensities)"
   ]
  },
  {
   "cell_type": "code",
   "execution_count": null,
   "id": "cfdb106f",
   "metadata": {},
   "outputs": [],
   "source": [
    "max(counts)"
   ]
  },
  {
   "cell_type": "code",
   "execution_count": null,
   "id": "d4090a1b",
   "metadata": {},
   "outputs": [],
   "source": [
    "intensities.index(max(intensities))"
   ]
  },
  {
   "cell_type": "code",
   "execution_count": null,
   "id": "e5201171",
   "metadata": {},
   "outputs": [],
   "source": [
    "counts.index(max(counts))"
   ]
  },
  {
   "cell_type": "code",
   "execution_count": null,
   "id": "88f54a79",
   "metadata": {},
   "outputs": [],
   "source": [
    "i=0\n",
    "for RV in RVs:\n",
    "    for RH in RHs:\n",
    "        print(RV, RH, counts[i])\n",
    "        if i==counts.index(max(counts)):\n",
    "            print(\"---> \",RV, RH)\n",
    "        i=i+1"
   ]
  },
  {
   "cell_type": "code",
   "execution_count": null,
   "id": "100a7451",
   "metadata": {},
   "outputs": [],
   "source": [
    "RVs"
   ]
  },
  {
   "cell_type": "code",
   "execution_count": null,
   "id": "b6653053",
   "metadata": {},
   "outputs": [],
   "source": [
    "RHs"
   ]
  },
  {
   "cell_type": "code",
   "execution_count": null,
   "id": "17ddad58",
   "metadata": {},
   "outputs": [],
   "source": [
    "dist_sample_ana = 1.260\n",
    "dist_ana_det = 0.640\n",
    "import math\n",
    "ana_focus = 1.0 / (1.0 / dist_sample_ana + 1.0 / dist_ana_det)"
   ]
  },
  {
   "cell_type": "code",
   "execution_count": null,
   "id": "b9bb0a25",
   "metadata": {},
   "outputs": [],
   "source": [
    "\n",
    "def rh(ana_focus):\n",
    "    return 2*ana_focus/math.sin(math.pi/180*myinstrument.master[\"a6\"].value/2)\n",
    "def rv(ana_focus):\n",
    "    return 2*ana_focus*math.sin(math.pi/180*myinstrument.master[\"a6\"].value/2)\n"
   ]
  },
  {
   "cell_type": "code",
   "execution_count": null,
   "id": "0275cde3",
   "metadata": {},
   "outputs": [],
   "source": [
    "print(rv(ana_focus),rh(ana_focus))"
   ]
  },
  {
   "cell_type": "code",
   "execution_count": null,
   "id": "10289531",
   "metadata": {},
   "outputs": [],
   "source": [
    "ana_focus=dist_ana_det\n",
    "print(rv(ana_focus),rh(ana_focus))"
   ]
  },
  {
   "cell_type": "code",
   "execution_count": null,
   "id": "a4cfb70b",
   "metadata": {},
   "outputs": [],
   "source": []
  },
  {
   "cell_type": "code",
   "execution_count": null,
   "id": "2e2d80c9",
   "metadata": {},
   "outputs": [],
   "source": []
  }
 ],
 "metadata": {
  "kernelspec": {
   "display_name": "Python 3 (ipykernel)",
   "language": "python",
   "name": "python3"
  },
  "language_info": {
   "codemirror_mode": {
    "name": "ipython",
    "version": 3
   },
   "file_extension": ".py",
   "mimetype": "text/x-python",
   "name": "python",
   "nbconvert_exporter": "python",
   "pygments_lexer": "ipython3",
   "version": "3.10.6"
  }
 },
 "nbformat": 4,
 "nbformat_minor": 5
}
