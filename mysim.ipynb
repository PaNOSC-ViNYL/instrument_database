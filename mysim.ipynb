{
 "cells": [
  {
   "cell_type": "code",
   "execution_count": 1,
   "id": "fe05f337",
   "metadata": {
    "scrolled": false
   },
   "outputs": [],
   "source": [
    "from instrumentdatabaseapi import instrumentdatabaseapi as API\n",
    "repo = API.Repository(local_repo=\".\")"
   ]
  },
  {
   "cell_type": "code",
   "execution_count": 2,
   "id": "e7361d79",
   "metadata": {
    "scrolled": false
   },
   "outputs": [
    {
     "name": "stdout",
     "output_type": "stream",
     "text": [
      "URL: https://github.com/PaNOSC-ViNYL/instrument_database.git\n",
      "local_dir: ./\n"
     ]
    }
   ],
   "source": [
    "print(repo)"
   ]
  },
  {
   "cell_type": "markdown",
   "id": "35e75700",
   "metadata": {},
   "source": [
    "Load the instrument configuration providing:\n",
    " - name of the institute\n",
    " - name of the instrument\n",
    " - version of the instrument description (HEAD is the most recent)\n",
    " - name of the simulation program"
   ]
  },
  {
   "cell_type": "code",
   "execution_count": 3,
   "id": "8027f017",
   "metadata": {
    "scrolled": false
   },
   "outputs": [],
   "source": [
    "#help(repo)"
   ]
  },
  {
   "cell_type": "code",
   "execution_count": 4,
   "id": "ed79abb5",
   "metadata": {
    "scrolled": false
   },
   "outputs": [
    {
     "name": "stdout",
     "output_type": "stream",
     "text": [
      " - EuXFEL\n",
      " - ILL\n",
      " - test_institute\n"
     ]
    }
   ],
   "source": [
    "repo.ls_institutes()"
   ]
  },
  {
   "cell_type": "code",
   "execution_count": 5,
   "id": "495cae4b",
   "metadata": {
    "scrolled": false
   },
   "outputs": [
    {
     "name": "stdout",
     "output_type": "stream",
     "text": [
      "Available instruments for ILL:\n",
      " -  ILL/D22\n",
      " -  ILL/Panther\n",
      " -  ILL/ThALES\n",
      " -  ILL/IN5\n",
      " -  ILL/D11\n"
     ]
    }
   ],
   "source": [
    "repo.ls_instruments(\"ILL\")\n",
    "instrument_name=\"Panther\"\n",
    "#instrument_name=\"ThALES\"\n",
    "#instrument_name=\"IN5\"\n",
    "instrument_name=\"D11\""
   ]
  },
  {
   "cell_type": "code",
   "execution_count": 6,
   "id": "1490bb0d",
   "metadata": {
    "scrolled": false
   },
   "outputs": [
    {
     "name": "stdout",
     "output_type": "stream",
     "text": [
      "Available versions for instrument D11:\n",
      " -  HEAD\n"
     ]
    }
   ],
   "source": [
    "repo.ls_versions(\"ILL\",instrument_name)"
   ]
  },
  {
   "cell_type": "code",
   "execution_count": 7,
   "id": "acf32222",
   "metadata": {
    "scrolled": false
   },
   "outputs": [
    {
     "name": "stdout",
     "output_type": "stream",
     "text": [
      "Instrument D11 from institute ILL is implemented with the following programs:\n",
      " -  mcstas\n"
     ]
    }
   ],
   "source": [
    "repo.ls_simulation_programs(\"ILL\",instrument_name,\"HEAD\")"
   ]
  },
  {
   "cell_type": "code",
   "execution_count": 8,
   "id": "c6ab7b51",
   "metadata": {
    "scrolled": false
   },
   "outputs": [
    {
     "name": "stdout",
     "output_type": "stream",
     "text": [
      "Available flavours for instrument D11:\n",
      " -  None\n",
      " -  full\n",
      " -  nosection\n",
      " -  Borkron_1972\n",
      " -  Borkron_2003\n",
      " -  Borofloat_2001\n",
      " -  simple\n"
     ]
    }
   ],
   "source": [
    "repo.ls_flavours(\"ILL\",instrument_name,\"HEAD\",\"mcstas\")"
   ]
  },
  {
   "cell_type": "code",
   "execution_count": 9,
   "id": "1a94bd7a",
   "metadata": {
    "scrolled": false
   },
   "outputs": [
    {
     "name": "stdout",
     "output_type": "stream",
     "text": [
      "0 (40.5 - collimation)>0 ? 1 : 0\n",
      "1 (40.0 - collimation)>0 ? 6 : 0\n",
      "2 (34.0 - collimation)>0 ? 6 : 0\n",
      "3 (28.0 - collimation)>0 ? 1 : 0\n",
      "4 (27.5 - collimation)>0 ? 7 : 0\n",
      "5 (20.5 - collimation)>0 ? 4 : 0\n",
      "6 (16.5 - collimation)>0 ? 3 : 0\n",
      "7 (13.5 - collimation)>0 ? 3 : 0\n",
      "8 (10.5 - collimation)>0 ? 2 : 0\n",
      "9 (8.5 - collimation)>0 ? 1 : 0\n",
      "10 (8.0 - collimation)>0 ? 2 : 0\n",
      "11 (6.0 - collimation)>0 ? 1 : 0\n",
      "12 (5.5 - collimation)>0 ? 1 : 0\n",
      "13 (5.0 - collimation)>0 ? 1 : 0\n",
      "14 (4.0 - collimation)>0 ? 1 : 0\n",
      "15 (3.5 - collimation)>0 ? 1 : 0\n",
      "16 (2.5 - collimation)>0 ? 1 : 0\n"
     ]
    }
   ],
   "source": [
    "flavour=\"full\"\n",
    "flavour=\"nosection\"\n",
    "#flavour=\"simple\"\n",
    "myinstrument = repo.load(\"ILL\", instrument_name, \"HEAD\", \"mcstas\", flavour, dep=False)"
   ]
  },
  {
   "cell_type": "code",
   "execution_count": 10,
   "id": "89328333",
   "metadata": {
    "scrolled": false
   },
   "outputs": [
    {
     "name": "stdout",
     "output_type": "stream",
     "text": [
      "- Instrument: IN5 -\n",
      "Calculators:\n",
      "OriginCalc\n",
      "\n"
     ]
    }
   ],
   "source": [
    "myinstrument.list_calculators()"
   ]
  },
  {
   "cell_type": "code",
   "execution_count": 11,
   "id": "79b04730",
   "metadata": {
    "scrolled": false
   },
   "outputs": [
    {
     "name": "stdout",
     "output_type": "stream",
     "text": [
      "######## Instrument IN5\n",
      "- Instrument: IN5 -\n",
      "Calculators:\n",
      "OriginCalc\n",
      "- ParametersCollection object -\n",
      "\n",
      "   OriginCalc\n",
      "    - Parameters object -\n",
      "   lambda                              6          [angstrom]              L[0.12 angstrom, 12 angstrom]\n",
      "   dlambda                             0.1        [angstrom]              \n",
      "   Vrpm                                4000                            velocity selector RPM   I[-inf dimensionless, 3100 dimensionless]I[28300, inf]I[9000, 11900]\n",
      "   collimation                         1.5        [meter]              Collimation length: free path between end of the guide and sample   (40.5 meter, 34 meter, 28 meter, 20.5 meter, 16.5 meter, 13.5 meter, 10.5 meter, 8 meter, 5.5 meter, 4 meter, 2.5 meter, 1.5 meter)\n",
      "   sample_y_rotation                   0          [degree]             sample table rotation angle   \n",
      "   sample_width                        0.02       [meter]              width of the sample if shape is box   \n",
      "   sample_height                       0.03       [meter]              height of the sample if shape is box or cylinder   \n",
      "   sample_depth                        0.0035     [meter]              depth of the sample if shape is box   \n",
      "   sample_radius                       0          [meter]              radius of the sample if shape is sphere or cylinder   \n",
      "   sample_thickness                    0.00125    [meter]              thickness of the sample if it is hollow   \n",
      "   sample_holder_width                 0.0        [meter]              width of the sample if shape is box   \n",
      "   sample_holder_height                0.0        [meter]              height of the sample if shape is box or cylinder   \n",
      "   sample_holder_depth                 0.0        [meter]              depth of the sample if shape is box   \n",
      "   sample_holder_radius                0.0        [meter]              radius of the sample if shape is sphere or cylinder   \n",
      "   sample_holder_thickness             0.0        [meter]              thickness of the sample if it is hollow   \n",
      "   detpos                              2          [meter]              Detector distance   L[1 meter, 28 meter]\n",
      "   bs_x                                0          [meter]              Beamstop x position   \n",
      "   bs_y                                0          [meter]              Beamstop y position   \n",
      "   bs_index                            1                               Index to select the beamspot: 0-> beamstop width = 65mm, height=70mm; 1-> beamstop width = 75mm, height=80mm; 2-> beamstop width = 85mm, height=90mm; 3-> beamstop width = 95mm, height=100mm   (0, 1, 2, 3)\n",
      "\n",
      "############\n"
     ]
    }
   ],
   "source": [
    "print(myinstrument)"
   ]
  },
  {
   "cell_type": "code",
   "execution_count": 12,
   "id": "c2b955ba",
   "metadata": {
    "scrolled": false
   },
   "outputs": [],
   "source": [
    "# setting the base directory for the simulation output\n",
    "basedir = \"/tmp/\"+instrument_name+\"/\"\n",
    "myinstrument.set_instrument_base_dir(basedir)\n",
    "import os \n",
    "#os.mkdir(basedir)\n"
   ]
  },
  {
   "cell_type": "code",
   "execution_count": 13,
   "id": "bf583b30",
   "metadata": {
    "scrolled": false
   },
   "outputs": [
    {
     "data": {
      "text/plain": [
       " - Parameters object -"
      ]
     },
     "execution_count": 13,
     "metadata": {},
     "output_type": "execute_result"
    }
   ],
   "source": [
    "myinstrument.master"
   ]
  },
  {
   "cell_type": "code",
   "execution_count": 14,
   "id": "9a69d1a4",
   "metadata": {
    "scrolled": false
   },
   "outputs": [],
   "source": [
    "import pint\n",
    "ureg = pint.get_application_registry()\n",
    "\n",
    "if instrument_name == \"ThALES\":\n",
    "    myinstrument.master[\"a2\"] = myinstrument.energy_to_angle(4.98 * ureg.meV)\n",
    "    myinstrument.master[\"a4\"] = 60 * ureg.degree\n",
    "    myinstrument.master[\"a6\"] = myinstrument.master[\"a2\"].pint_value\n",
    "if instrument_name == \"Panther\":\n",
    "    myinstrument.master[\"energy\"]=19 * ureg.meV"
   ]
  },
  {
   "cell_type": "code",
   "execution_count": 15,
   "id": "5e7d0e97",
   "metadata": {
    "scrolled": false
   },
   "outputs": [
    {
     "data": {
      "text/plain": [
       "['None', 'vanadium', 'H2O', 'D2O', 'sqw']"
      ]
     },
     "execution_count": 15,
     "metadata": {},
     "output_type": "execute_result"
    }
   ],
   "source": [
    "myinstrument.samples"
   ]
  },
  {
   "cell_type": "code",
   "execution_count": 16,
   "id": "a4dc4b8f",
   "metadata": {
    "scrolled": false
   },
   "outputs": [],
   "source": [
    "myinstrument.set_sample_by_name(\"sqw\")\n",
    "myinstrument.master[\"sqw_file\"]='\"/users/nourbakhsh/digitaltwin/instrument_database/institutes/ILL/instruments/D11/HEAD/mcstas/data/simul_5711.dat\"'"
   ]
  },
  {
   "cell_type": "code",
   "execution_count": 17,
   "id": "ec4a7619",
   "metadata": {},
   "outputs": [
    {
     "name": "stdout",
     "output_type": "stream",
     "text": [
      "COMPONENT sample_holder_in = Isotropic_Sqw(\n",
      "  \u001b[1mSqw_coh\u001b[0m = \u001b[1m\u001b[92m\"SiO2_quartza.laz\"\u001b[0m\u001b[0m, // [str]\n",
      "  \u001b[1mSqw_inc\u001b[0m = \u001b[1m\u001b[92m0\u001b[0m\u001b[0m, // [str]\n",
      "  \u001b[1mradius\u001b[0m = \u001b[1m\u001b[92msample_holder_radius\u001b[0m\u001b[0m, // [m]\n",
      "  \u001b[1mthickness\u001b[0m = \u001b[1m\u001b[92msample_holder_thickness\u001b[0m\u001b[0m, // [m]\n",
      "  \u001b[1mxwidth\u001b[0m = \u001b[1m\u001b[92msample_holder_width\u001b[0m\u001b[0m, // [m]\n",
      "  \u001b[1myheight\u001b[0m = \u001b[1m\u001b[92msample_holder_height\u001b[0m\u001b[0m, // [m]\n",
      "  \u001b[1mzdepth\u001b[0m = \u001b[1m\u001b[92msample_holder_depth\u001b[0m\u001b[0m, // [m]\n",
      "  \u001b[1mverbose\u001b[0m = \u001b[1m\u001b[92m2\u001b[0m\u001b[0m, // [1]\n",
      "  \u001b[1mconcentric\u001b[0m = \u001b[1m\u001b[92m1\u001b[0m\u001b[0m, // [1]\n",
      "  \u001b[1mp_interact\u001b[0m = \u001b[1m\u001b[92m1\u001b[0m\u001b[0m // [1]\n",
      ")\n",
      "AT (0, 0, 0) RELATIVE sample_arm\n",
      "COMPONENT sample_holder_out = Isotropic_Sqw(\n",
      "  \u001b[1mSqw_coh\u001b[0m = \u001b[1m\u001b[92m\"SiO2_quartza.laz\"\u001b[0m\u001b[0m, // [str]\n",
      "  \u001b[1mSqw_inc\u001b[0m = \u001b[1m\u001b[92m0\u001b[0m\u001b[0m, // [str]\n",
      "  \u001b[1mradius\u001b[0m = \u001b[1m\u001b[92msample_holder_radius\u001b[0m\u001b[0m, // [m]\n",
      "  \u001b[1mthickness\u001b[0m = \u001b[1m\u001b[92msample_holder_thickness\u001b[0m\u001b[0m, // [m]\n",
      "  \u001b[1mxwidth\u001b[0m = \u001b[1m\u001b[92msample_holder_width\u001b[0m\u001b[0m, // [m]\n",
      "  \u001b[1myheight\u001b[0m = \u001b[1m\u001b[92msample_holder_height\u001b[0m\u001b[0m, // [m]\n",
      "  \u001b[1mzdepth\u001b[0m = \u001b[1m\u001b[92msample_holder_depth\u001b[0m\u001b[0m, // [m]\n",
      "  \u001b[1mverbose\u001b[0m = \u001b[1m\u001b[92m2\u001b[0m\u001b[0m, // [1]\n",
      "  \u001b[1mconcentric\u001b[0m = \u001b[1m\u001b[92m0\u001b[0m\u001b[0m, // [1]\n",
      "  \u001b[1mp_interact\u001b[0m = \u001b[1m\u001b[92m1\u001b[0m\u001b[0m // [1]\n",
      ")\n",
      "AT (0, 0, 0) RELATIVE sample_arm\n"
     ]
    }
   ],
   "source": [
    "myinstrument.sample_holder(material=\"quartz\", shape=\"box\",w=0.02, h=0.03, d=0.0135, th=0.00125)"
   ]
  },
  {
   "cell_type": "code",
   "execution_count": 18,
   "id": "e5f12935",
   "metadata": {
    "scrolled": false
   },
   "outputs": [],
   "source": [
    "#myinstrument.sample_box_shape(0.02, 0.03,0.0035-2*0.00125)\n",
    "myinstrument.sample_shape(\"holder\")"
   ]
  },
  {
   "cell_type": "code",
   "execution_count": 19,
   "id": "9b28c3f5",
   "metadata": {},
   "outputs": [
    {
     "data": {
      "text/plain": [
       " - Parameters object -\n",
       "lambda                              6          [angstrom]              L[0.12 angstrom, 12 angstrom]\n",
       "dlambda                             0.1        [angstrom]              \n",
       "Vrpm                                4000                            velocity selector RPM   I[-inf dimensionless, 3100 dimensionless]I[28300, inf]I[9000, 11900]\n",
       "collimation                         1.5        [meter]              Collimation length: free path between end of the guide and sample   (40.5 meter, 34 meter, 28 meter, 20.5 meter, 16.5 meter, 13.5 meter, 10.5 meter, 8 meter, 5.5 meter, 4 meter, 2.5 meter, 1.5 meter)\n",
       "sample_y_rotation                   0          [degree]             sample table rotation angle   \n",
       "sample_width                        0.02       [meter]              width of the sample if shape is box   \n",
       "sample_height                       0.03       [meter]              height of the sample if shape is box or cylinder   \n",
       "sample_depth                        0.011      [meter]              depth of the sample if shape is box   \n",
       "sample_radius                       0          [meter]              radius of the sample if shape is sphere or cylinder   \n",
       "sample_thickness                    0          [meter]              thickness of the sample if it is hollow   \n",
       "sample_holder_width                 0.02       [meter]              width of the sample if shape is box   \n",
       "sample_holder_height                0.03       [meter]              height of the sample if shape is box or cylinder   \n",
       "sample_holder_depth                 0.0135     [meter]              depth of the sample if shape is box   \n",
       "sample_holder_radius                0          [meter]              radius of the sample if shape is sphere or cylinder   \n",
       "sample_holder_thickness             0.00125    [meter]              thickness of the sample if it is hollow   \n",
       "detpos                              2          [meter]              Detector distance   L[1 meter, 28 meter]\n",
       "bs_x                                0          [meter]              Beamstop x position   \n",
       "bs_y                                0          [meter]              Beamstop y position   \n",
       "bs_index                            1                               Index to select the beamspot: 0-> beamstop width = 65mm, height=70mm; 1-> beamstop width = 75mm, height=80mm; 2-> beamstop width = 85mm, height=90mm; 3-> beamstop width = 95mm, height=100mm   (0, 1, 2, 3)\n",
       "sqw_file                            \"/users/nourbakhsh/digitaltwin/instrument_database/institutes/ILL/instruments/D11/HEAD/mcstas/data/simul_5711.dat\"                      File of the Sqw in McStas convention   \n",
       "sqw_inc                             \"0\"                             File with incoherent Sqw in McStas convention (disabled by default)   "
      ]
     },
     "execution_count": 19,
     "metadata": {},
     "output_type": "execute_result"
    }
   ],
   "source": [
    "myinstrument.calculators[\"OriginCalc\"].parameters"
   ]
  },
  {
   "cell_type": "code",
   "execution_count": 20,
   "id": "17ab1a80",
   "metadata": {
    "scrolled": false
   },
   "outputs": [],
   "source": [
    "myinstrument.sim_neutrons(5e7)\n",
    "myinstrument.set_seed(654321)\n",
    "myinstrument.custom_flags(\"-I mcstas/components\")"
   ]
  },
  {
   "cell_type": "code",
   "execution_count": 21,
   "id": "9ef862ea",
   "metadata": {},
   "outputs": [
    {
     "name": "stdout",
     "output_type": "stream",
     "text": [
      " - Parameters object -\n",
      "lambda                              6          [angstrom]              L[0.12 angstrom, 12 angstrom]\n",
      "dlambda                             0.1        [angstrom]              \n",
      "Vrpm                                4000                            velocity selector RPM   I[-inf dimensionless, 3100 dimensionless]I[28300, inf]I[9000, 11900]\n",
      "collimation                         1.5        [meter]              Collimation length: free path between end of the guide and sample   (40.5 meter, 34 meter, 28 meter, 20.5 meter, 16.5 meter, 13.5 meter, 10.5 meter, 8 meter, 5.5 meter, 4 meter, 2.5 meter, 1.5 meter)\n",
      "sample_y_rotation                   0          [degree]             sample table rotation angle   \n",
      "sample_width                        0.02       [meter]              width of the sample if shape is box   \n",
      "sample_height                       0.03       [meter]              height of the sample if shape is box or cylinder   \n",
      "sample_depth                        0.011      [meter]              depth of the sample if shape is box   \n",
      "sample_radius                       0          [meter]              radius of the sample if shape is sphere or cylinder   \n",
      "sample_thickness                    0          [meter]              thickness of the sample if it is hollow   \n",
      "sample_holder_width                 0.02       [meter]              width of the sample if shape is box   \n",
      "sample_holder_height                0.03       [meter]              height of the sample if shape is box or cylinder   \n",
      "sample_holder_depth                 0.0135     [meter]              depth of the sample if shape is box   \n",
      "sample_holder_radius                0          [meter]              radius of the sample if shape is sphere or cylinder   \n",
      "sample_holder_thickness             0.00125    [meter]              thickness of the sample if it is hollow   \n",
      "detpos                              2          [meter]              Detector distance   L[1 meter, 28 meter]\n",
      "bs_x                                0          [meter]              Beamstop x position   \n",
      "bs_y                                0          [meter]              Beamstop y position   \n",
      "bs_index                            1                               Index to select the beamspot: 0-> beamstop width = 65mm, height=70mm; 1-> beamstop width = 75mm, height=80mm; 2-> beamstop width = 85mm, height=90mm; 3-> beamstop width = 95mm, height=100mm   (0, 1, 2, 3)\n",
      "sqw_file                            \"/users/nourbakhsh/digitaltwin/instrument_database/institutes/ILL/instruments/D11/HEAD/mcstas/data/simul_5711.dat\"                      File of the Sqw in McStas convention   \n",
      "sqw_inc                             \"0\"                             File with incoherent Sqw in McStas convention (disabled by default)   \n",
      "\n"
     ]
    }
   ],
   "source": [
    "calc =myinstrument.calculators[\"OriginCalc\"]\n",
    "print(calc.parameters)\n",
    "calc.parameters[\"detpos\"]=28"
   ]
  },
  {
   "cell_type": "code",
   "execution_count": 22,
   "id": "20da6717",
   "metadata": {
    "scrolled": false
   },
   "outputs": [
    {
     "name": "stdout",
     "output_type": "stream",
     "text": [
      "---- Found 1 places in McStas output with keyword 'error'. \n",
      "\n",
      "\u001b[91mERROR\u001b[0m          (sigma_coh, sigma_inc).\n",
      "Isotropic_Sqw: sqw: Focusing can only apply for single\n",
      "               scattering. Setting to order=1.\n",
      "Detector: sqw_coh.sq_I=1504.54 sqw_coh.sq_ERR=2.90732 sqw_coh.sq_N=518 \"sqw_coh.sq\"\n",
      "Detector: sqw_coh.sigma_I=494.837 sqw_coh.sigma_ERR=0.956208 sqw_coh.sigma_N=518 \"sqw_coh.sigma\"\n",
      "Isotropic_Sqw: sample_holder_out: is a hollow box: width=0.020000 height=0.030000 depth=0.013500 \n",
      "Opening input file '/usr/share/mcstas/3.3/tools/Python/mcrun/../mccodelib/../../../data/SiO2_quartza.laz' (Table_Read_Offset)\n",
      "Opening input file '/usr/share/mcstas/3.3/tools/Python/mcrun/../mccodelib/../../../data/SiO2_quartza.laz' (Table_Read_Offset)\n",
      "Isotropic_sqw: Converting 625 powder lines from SiO2_quartza.laz into S(q,w) data\n",
      "Isotropic_sqw: q range [0:12.4939], creating 25254 elements vector\n",
      "----------------------------------------------------------------------\n",
      "\n",
      "loading system configuration\n",
      "INFO: Using directory: \"/tmp/D11/OriginCalc_17\"\n",
      "INFO: Regenerating c-file: OriginCalc.c\n",
      "Info:    'Al_window' is a contributed component.\n",
      "CFLAGS=\n",
      "      \n",
      "WARNING:\n",
      " The parameter powder_format of sample_holder_in is initialized \n",
      " using a static {,,,} vector.\n",
      "  -> Such static vectors support literal numbers ONLY.\n",
      "  -> Any vector use of variables or defines must happen via a \n",
      "     DECLARE/INITIALIZE pointer.\n",
      "\n",
      "\n",
      "-----------------------------------------------------------\n",
      "\n",
      "Generating single GPU kernel or single CPU section layout: \n",
      "-> SPLIT N at component sqw\n",
      "\n",
      "-----------------------------------------------------------\n",
      "\n",
      "Generating GPU/CPU -DFUNNEL layout:\n",
      "-> SPLIT within buffer at component sqw\n",
      "\n",
      "-----------------------------------------------------------\n",
      "INFO: Recompiling: ./OriginCalc.out\n",
      "./OriginCalc.c: In function ‘class_Monitor_nD_trace’:\n",
      "./OriginCalc.c:24038:72: warning: unknown conversion type character ‘\\x0a’ in format [-Wformat=]\n",
      "24038 |                 printf(\"Cylinder_intersect returned unexpected value %l\\n\", intersect);\n",
      "      |                                                                        ^~\n",
      "./OriginCalc.c:24038:24: warning: too many arguments for format [-Wformat-extra-args]\n",
      "24038 |                 printf(\"Cylinder_intersect returned unexpected value %l\\n\", intersect);\n",
      "      |                        ^~~~~~~~~~~~~~~~~~~~~~~~~~~~~~~~~~~~~~~~~~~~~~~~~~~\n",
      "./OriginCalc.c: In function ‘detector_import’:\n",
      "./OriginCalc.c:2296:57: warning: ‘ ’ directive output may be truncated writing 1 byte into a region of size between 0 and 1023 [-Wformat-truncation=]\n",
      " 2296 |     snprintf(detector.variables, CHAR_BUF_LENGTH, \"%s %s %s_err N\", detector.xvar, c, c);\n",
      "      |                                                         ^\n",
      "In file included from /usr/include/stdio.h:894,\n",
      "                 from ./OriginCalc.c:231:\n",
      "/usr/include/x86_64-linux-gnu/bits/stdio2.h:71:10: note: ‘__builtin___snprintf_chk’ output 9 or more bytes (assuming 1032) into a destination of size 1024\n",
      "   71 |   return __builtin___snprintf_chk (__s, __n, __USE_FORTIFY_LEVEL - 1,\n",
      "      |          ^~~~~~~~~~~~~~~~~~~~~~~~~~~~~~~~~~~~~~~~~~~~~~~~~~~~~~~~~~~~\n",
      "   72 |                                    __glibc_objsize (__s), __fmt,\n",
      "      |                                    ~~~~~~~~~~~~~~~~~~~~~~~~~~~~~\n",
      "   73 |                                    __va_arg_pack ());\n",
      "      |                                    ~~~~~~~~~~~~~~~~~\n",
      "./OriginCalc.c: In function ‘Open_File’:\n",
      "./OriginCalc.c:6519:41: warning: ‘__builtin___snprintf_chk’ output may be truncated before the last format character [-Wformat-truncation=]\n",
      " 6519 |             snprintf(path, 1024, \"%s%c%s\", dir, MC_PATHSEP_C, File);\n",
      "      |                                         ^\n",
      "In file included from /usr/include/stdio.h:894,\n",
      "                 from ./OriginCalc.c:231:\n",
      "/usr/include/x86_64-linux-gnu/bits/stdio2.h:71:10: note: ‘__builtin___snprintf_chk’ output 2 or more bytes (assuming 1025) into a destination of size 1024\n",
      "   71 |   return __builtin___snprintf_chk (__s, __n, __USE_FORTIFY_LEVEL - 1,\n",
      "      |          ^~~~~~~~~~~~~~~~~~~~~~~~~~~~~~~~~~~~~~~~~~~~~~~~~~~~~~~~~~~~\n",
      "   72 |                                    __glibc_objsize (__s), __fmt,\n",
      "      |                                    ~~~~~~~~~~~~~~~~~~~~~~~~~~~~~\n",
      "   73 |                                    __va_arg_pack ());\n",
      "      |                                    ~~~~~~~~~~~~~~~~~\n",
      "./OriginCalc.c:6534:41: warning: ‘__builtin___snprintf_chk’ output may be truncated before the last format character [-Wformat-truncation=]\n",
      " 6534 |             snprintf(path, 1024, \"%s%c%s\", dir, MC_PATHSEP_C, File);\n",
      "      |                                         ^\n",
      "In file included from /usr/include/stdio.h:894,\n",
      "                 from ./OriginCalc.c:231:\n",
      "/usr/include/x86_64-linux-gnu/bits/stdio2.h:71:10: note: ‘__builtin___snprintf_chk’ output 2 or more bytes (assuming 1025) into a destination of size 1024\n",
      "   71 |   return __builtin___snprintf_chk (__s, __n, __USE_FORTIFY_LEVEL - 1,\n",
      "      |          ^~~~~~~~~~~~~~~~~~~~~~~~~~~~~~~~~~~~~~~~~~~~~~~~~~~~~~~~~~~~\n",
      "   72 |                                    __glibc_objsize (__s), __fmt,\n",
      "      |                                    ~~~~~~~~~~~~~~~~~~~~~~~~~~~~~\n",
      "   73 |                                    __va_arg_pack ());\n",
      "      |                                    ~~~~~~~~~~~~~~~~~\n",
      "./OriginCalc.c:6542:37: warning: ‘__builtin___snprintf_chk’ output may be truncated before the last format character [-Wformat-truncation=]\n",
      " 6542 |         snprintf(path, 1024, \"%s%c%s\", dir, MC_PATHSEP_C, File);\n",
      "      |                                     ^\n",
      "In file included from /usr/include/stdio.h:894,\n",
      "                 from ./OriginCalc.c:231:\n",
      "/usr/include/x86_64-linux-gnu/bits/stdio2.h:71:10: note: ‘__builtin___snprintf_chk’ output 2 or more bytes (assuming 1025) into a destination of size 1024\n",
      "   71 |   return __builtin___snprintf_chk (__s, __n, __USE_FORTIFY_LEVEL - 1,\n",
      "      |          ^~~~~~~~~~~~~~~~~~~~~~~~~~~~~~~~~~~~~~~~~~~~~~~~~~~~~~~~~~~~\n",
      "   72 |                                    __glibc_objsize (__s), __fmt,\n",
      "      |                                    ~~~~~~~~~~~~~~~~~~~~~~~~~~~~~\n",
      "   73 |                                    __va_arg_pack ());\n",
      "      |                                    ~~~~~~~~~~~~~~~~~\n",
      "./OriginCalc.c:6548:35: warning: ‘%s’ directive output may be truncated writing 4 bytes into a region of size between 0 and 1023 [-Wformat-truncation=]\n",
      " 6548 |         snprintf(path, 1024, \"%s%c%s%c%s\", dir, MC_PATHSEP_C, \"data\", MC_PATHSEP_C, File);\n",
      "      |                                   ^~                          ~~~~~~\n",
      "In file included from /usr/include/stdio.h:894,\n",
      "                 from ./OriginCalc.c:231:\n",
      "/usr/include/x86_64-linux-gnu/bits/stdio2.h:71:10: note: ‘__builtin___snprintf_chk’ output 7 or more bytes (assuming 1030) into a destination of size 1024\n",
      "   71 |   return __builtin___snprintf_chk (__s, __n, __USE_FORTIFY_LEVEL - 1,\n",
      "      |          ^~~~~~~~~~~~~~~~~~~~~~~~~~~~~~~~~~~~~~~~~~~~~~~~~~~~~~~~~~~~\n",
      "   72 |                                    __glibc_objsize (__s), __fmt,\n",
      "      |                                    ~~~~~~~~~~~~~~~~~~~~~~~~~~~~~\n",
      "   73 |                                    __va_arg_pack ());\n",
      "      |                                    ~~~~~~~~~~~~~~~~~\n",
      "./OriginCalc.c:6554:35: warning: ‘%s’ directive output may be truncated writing 7 bytes into a region of size between 0 and 1023 [-Wformat-truncation=]\n",
      " 6554 |         snprintf(path, 1024, \"%s%c%s%c%s\", dir, MC_PATHSEP_C, \"contrib\", MC_PATHSEP_C, File);\n",
      "      |                                   ^~                          ~~~~~~~~~\n",
      "In file included from /usr/include/stdio.h:894,\n",
      "                 from ./OriginCalc.c:231:\n",
      "/usr/include/x86_64-linux-gnu/bits/stdio2.h:71:10: note: ‘__builtin___snprintf_chk’ output 10 or more bytes (assuming 1033) into a destination of size 1024\n",
      "   71 |   return __builtin___snprintf_chk (__s, __n, __USE_FORTIFY_LEVEL - 1,\n",
      "      |          ^~~~~~~~~~~~~~~~~~~~~~~~~~~~~~~~~~~~~~~~~~~~~~~~~~~~~~~~~~~~\n",
      "   72 |                                    __glibc_objsize (__s), __fmt,\n",
      "      |                                    ~~~~~~~~~~~~~~~~~~~~~~~~~~~~~\n",
      "   73 |                                    __va_arg_pack ());\n",
      "      |                                    ~~~~~~~~~~~~~~~~~\n",
      "./OriginCalc.c: In function ‘Monitor_nD_Init’:\n",
      "./OriginCalc.c:8662:33: warning: ‘%li’ directive writing between 1 and 20 bytes into a region of size between 0 and 127 [-Wformat-overflow=]\n",
      " 8662 |     sprintf(Vars->Mon_File, \"%s_%li\", Vars->compcurname, t);\n",
      "      |                                 ^~~\n",
      "In file included from /usr/include/stdio.h:894,\n",
      "                 from ./OriginCalc.c:231:\n",
      "/usr/include/x86_64-linux-gnu/bits/stdio2.h:38:10: note: ‘__builtin___sprintf_chk’ output between 3 and 149 bytes into a destination of size 128\n",
      "   38 |   return __builtin___sprintf_chk (__s, __USE_FORTIFY_LEVEL - 1,\n",
      "      |          ^~~~~~~~~~~~~~~~~~~~~~~~~~~~~~~~~~~~~~~~~~~~~~~~~~~~~~\n",
      "   39 |                                   __glibc_objsize (__s), __fmt,\n",
      "      |                                   ~~~~~~~~~~~~~~~~~~~~~~~~~~~~~\n",
      "   40 |                                   __va_arg_pack ());\n",
      "      |                                   ~~~~~~~~~~~~~~~~~\n",
      "./OriginCalc.c: In function ‘off_display’:\n",
      "./OriginCalc.c:11702:30: warning: ‘%g’ directive writing between 1 and 13 bytes into a region of size between 0 and 1023 [-Wformat-overflow=]\n",
      "11702 |       sprintf(pixelinfo, \"%s,%g,%g,%g\", pixelinfo, x2-cmx, y2-cmy, z2-cmz);\n",
      "      |                              ^~\n",
      "./OriginCalc.c:11702:26: note: assuming directive output of 12 bytes\n",
      "11702 |       sprintf(pixelinfo, \"%s,%g,%g,%g\", pixelinfo, x2-cmx, y2-cmy, z2-cmz);\n",
      "      |                          ^~~~~~~~~~~~~\n",
      "./OriginCalc.c:11702:26: note: assuming directive output of 12 bytes\n",
      "./OriginCalc.c:11702:26: note: assuming directive output of 12 bytes\n",
      "In file included from /usr/include/stdio.h:894,\n",
      "                 from ./OriginCalc.c:231:\n",
      "/usr/include/x86_64-linux-gnu/bits/stdio2.h:38:10: note: ‘__builtin___sprintf_chk’ output between 7 and 1066 bytes into a destination of size 1024\n",
      "   38 |   return __builtin___sprintf_chk (__s, __USE_FORTIFY_LEVEL - 1,\n",
      "      |          ^~~~~~~~~~~~~~~~~~~~~~~~~~~~~~~~~~~~~~~~~~~~~~~~~~~~~~\n",
      "   39 |                                   __glibc_objsize (__s), __fmt,\n",
      "      |                                   ~~~~~~~~~~~~~~~~~~~~~~~~~~~~~\n",
      "   40 |                                   __va_arg_pack ());\n",
      "      |                                   ~~~~~~~~~~~~~~~~~\n",
      "INFO: ===\n",
      "nv = 659.339002\n",
      "lambda = 6.00\n",
      "dlambda = 0.60\n",
      "Vrpm = 21229.65\n",
      "[OriginCalc] Initialize\n",
      "Source_gen: component VCS (square 0.1 x 0.22)\n",
      "            focusing distance dist=2.33 area=0.038 x 0.2\n",
      "            spectra 5.400 to 6.600 AA (1.878 to 2.806 meV)\n",
      "            T1=216.8 K (2.093 AA), T2=33.9 K (5.292 AA), T3=16.7 K (7.539 AA)\n",
      "  Flux is dPhi/dlambda in [n/s/cm2].\n",
      "Isotropic_Sqw: sample_holder_in: is a hollow box: width=0.020000 height=0.030000 depth=0.013500 \n",
      "Opening input file '/usr/share/mcstas/3.3/tools/Python/mcrun/../mccodelib/../../../data/SiO2_quartza.laz' (Table_Read_Offset)\n",
      "Opening input file '/usr/share/mcstas/3.3/tools/Python/mcrun/../mccodelib/../../../data/SiO2_quartza.laz' (Table_Read_Offset)\n",
      "Isotropic_sqw: Converting 625 powder lines from SiO2_quartza.laz into S(q,w) data\n",
      "Isotropic_sqw: q range [0:12.4939], creating 25254 elements vector\n",
      "Isotropic_Sqw: sample_holder_in: Generated SiO2_quartza.laz coherent Sqw\n",
      "                   q=[0:12.4934 Angs-1] w=[0:0 meV] |S|=0.00187179 size=[25254x1] sigma=31.875 [barns]\n",
      "               Mainly elastic scattering.\n",
      "Isotropic_Sqw: sample_holder_in: Creating Sigma(Ei=0:161.714 [meV]) with 25254 entries...(SiO2_quartza.laz coh)\n",
      "Isotropic_Sqw: sample_holder_in: Using Isotropic elastic incoherent scattering (sigma=0.0168 [barns])\n",
      "Isotropic_Sqw: sample_holder_in: Sample temperature not defined (T=0).\n",
      "Warning        Disabling detailed balance.\n",
      "Detector: sample_holder_in_coh.sq_I=7647.85 sample_holder_in_coh.sq_ERR=0.302843 sample_holder_in_coh.sq_N=25254 \"sample_holder_in_coh.sq\"\n",
      "Detector: sample_holder_in_coh.sigma_I=222191 sample_holder_in_coh.sigma_ERR=8.79841 sample_holder_in_coh.sigma_N=25254 \"sample_holder_in_coh.sigma\"\n",
      "Isotropic_Sqw: sqw: is a box: width=0.020000 height=0.030000 depth=0.011000 \n",
      "Opening input file '/users/nourbakhsh/digitaltwin/instrument_database/institutes/ILL/instruments/D11/HEAD/mcstas/data/simul_5711.dat' (Table_Read_Offset)\n",
      "Opening input file '/users/nourbakhsh/digitaltwin/instrument_database/institutes/ILL/instruments/D11/HEAD/mcstas/data/simul_5711.dat' (Table_Read_Offset)\n",
      "Opening input file '/users/nourbakhsh/digitaltwin/instrument_database/institutes/ILL/instruments/D11/HEAD/mcstas/data/simul_5711.dat' (Table_Read_Offset)\n",
      "Opening input file '/users/nourbakhsh/digitaltwin/instrument_database/institutes/ILL/instruments/D11/HEAD/mcstas/data/simul_5711.dat' (Table_Read_Offset)\n",
      "Isotropic_Sqw: sqw: Generated /users/nourbakhsh/digitaltwin/instrument_database/institutes/ILL/instruments/D11/HEAD/mcstas/data/simul_5711.dat coherent Sqw\n",
      "                   q=[0.01:1 Angs-1] w=[2.273:2.273 meV] |S|=0.00561605 size=[518x1] sigma=1 [barns]\n",
      "                   normalization factor S(q,w)*1.08568 (auto) \\int q^2 S(q) dq=0.307026\n",
      "Isotropic_Sqw: sqw: Creating Sigma(Ei=0:4.546 [meV]) with 518 entries...(/users/nourbakhsh/digitaltwin/instrument_database/institutes/ILL/instruments/D11/HEAD/mcstas/data/simul_5711.dat coh)\n",
      "Isotropic_Sqw: sqw: WARNING: Null density (V_rho). Unactivating component.\n",
      "Isotropic_Sqw: sqw: Scattering cross section is zero\n",
      "\u001b[91mERROR\u001b[0m          (sigma_coh, sigma_inc).\n",
      "Isotropic_Sqw: sqw: Focusing can only apply for single\n",
      "               scattering. Setting to order=1.\n",
      "Detector: sqw_coh.sq_I=1504.54 sqw_coh.sq_ERR=2.90732 sqw_coh.sq_N=518 \"sqw_coh.sq\"\n",
      "Detector: sqw_coh.sigma_I=494.837 sqw_coh.sigma_ERR=0.956208 sqw_coh.sigma_N=518 \"sqw_coh.sigma\"\n",
      "Isotropic_Sqw: sample_holder_out: is a hollow box: width=0.020000 height=0.030000 depth=0.013500 \n",
      "Opening input file '/usr/share/mcstas/3.3/tools/Python/mcrun/../mccodelib/../../../data/SiO2_quartza.laz' (Table_Read_Offset)\n",
      "Opening input file '/usr/share/mcstas/3.3/tools/Python/mcrun/../mccodelib/../../../data/SiO2_quartza.laz' (Table_Read_Offset)\n",
      "Isotropic_sqw: Converting 625 powder lines from SiO2_quartza.laz into S(q,w) data\n",
      "Isotropic_sqw: q range [0:12.4939], creating 25254 elements vector\n",
      "Isotropic_Sqw: sample_holder_out: Generated SiO2_quartza.laz coherent Sqw\n",
      "                   q=[0:12.4934 Angs-1] w=[0:0 meV] |S|=0.00187179 size=[25254x1] sigma=31.875 [barns]\n",
      "               Mainly elastic scattering.\n",
      "Isotropic_Sqw: sample_holder_out: Creating Sigma(Ei=0:161.714 [meV]) with 25254 entries...(SiO2_quartza.laz coh)\n",
      "Isotropic_Sqw: sample_holder_out: Using Isotropic elastic incoherent scattering (sigma=0.0168 [barns])\n",
      "Isotropic_Sqw: sample_holder_out: Sample temperature not defined (T=0).\n",
      "Warning        Disabling detailed balance.\n",
      "Detector: sample_holder_out_coh.sq_I=7647.85 sample_holder_out_coh.sq_ERR=0.302843 sample_holder_out_coh.sq_N=25254 \"sample_holder_out_coh.sq\"\n",
      "Detector: sample_holder_out_coh.sigma_I=222191 sample_holder_out_coh.sigma_ERR=8.79841 sample_holder_out_coh.sigma_N=25254 \"sample_holder_out_coh.sigma\"\n",
      "Isotropic_Sqw: sample_holder_out: Warning: No scattering [q,w] conditions\n",
      "               last try (100): type=c w=0 q=6.00385 cos(theta)=-14.8439 k=1.06656\n",
      "Isotropic_Sqw: sample_holder_out: Warning: No scattering [q,w] conditions\n",
      "               last try (100): type=c w=0 q=5.82105 cos(theta)=-14.2959 k=1.05244\n",
      "Isotropic_Sqw: sample_holder_out: Warning: No scattering [q,w] conditions\n",
      "               last try (100): type=c w=0 q=4.58925 cos(theta)=-10.4034 k=0.960969\n",
      "Isotropic_Sqw: sample_holder_out: Warning: No scattering [q,w] conditions\n",
      "               last try (100): type=c w=0 q=6.92377 cos(theta)=-23.8555 k=0.98201\n",
      "Isotropic_Sqw: sample_holder_out: Warning: No scattering [q,w] conditions\n",
      "               last try (100): type=c w=0 q=4.88354 cos(theta)=-9.94634 k=1.04372\n",
      "Isotropic_Sqw: sample_holder_out: Warning: No scattering [q,w] conditions\n",
      "               last try (100): type=c w=0 q=3.46114 cos(theta)=-5.19607 k=0.983208\n",
      "Isotropic_Sqw: sample_holder_out: Warning: No scattering [q,w] conditions\n",
      "               last try (100): type=c w=0 q=5.62991 cos(theta)=-11.7985 k=1.11278\n",
      "Isotropic_Sqw: sample_holder_out: Warning: No scattering [q,w] conditions\n",
      "               last try (100): type=c w=0 q=7.16978 cos(theta)=-22.3801 k=1.0485\n",
      "Isotropic_Sqw: sample_holder_out: Warning: No scattering [q,w] conditions\n",
      "               last try (100): type=c w=0 q=2.81411 cos(theta)=-2.83089 k=1.01666\n",
      "Isotropic_Sqw: sample_holder_out: Warning: No scattering [q,w] conditions\n",
      "               last try (100): type=c w=0 q=7.89452 cos(theta)=-25.5328 k=1.08373\n",
      "Isotropic_Sqw: sample_holder_out: Warning: No scattering [q,w] conditions\n",
      "               last try (100): type=c w=0 q=9.27761 cos(theta)=-43.1575 k=0.987232\n",
      "Isotropic_Sqw: sample_holder_out: Warning: No scattering [q,w] conditions\n",
      "               last try (100): type=c w=0 q=12.0494 cos(theta)=-71.2154 k=1.00262\n",
      "Isotropic_Sqw: sample_holder_out: Warning: No scattering [q,w] conditions\n",
      "               last try (100): type=c w=0 q=8.27978 cos(theta)=-32.6538 k=1.00922\n",
      "Isotropic_Sqw: sample_holder_out: Warning: No scattering [q,w] conditions\n",
      "               last try (100): type=c w=0 q=9.73731 cos(theta)=-46.2378 k=1.0018\n",
      "Isotropic_Sqw: sample_holder_out: Warning: No scattering [q,w] conditions\n",
      "               last try (100): type=c w=0 q=6.45041 cos(theta)=-19.7294 k=1.0018\n",
      "Isotropic_Sqw: sample_holder_out: Warning: No scattering [q,w] conditions\n",
      "               last try (100): type=c w=0 q=3.46119 cos(theta)=-4.96848 k=1.0018\n",
      "Isotropic_Sqw: sample_holder_out: Warning: No scattering [q,w] conditions\n",
      "               last try (100): type=c w=0 q=9.73474 cos(theta)=-37.4558 k=1.11001\n",
      "Isotropic_Sqw: sample_holder_in: Warning: No scattering [q,w] conditions\n",
      "               last try (100): type=c w=0 q=5.1259 cos(theta)=-10.1755 k=1.08423\n",
      "Isotropic_Sqw: sample_holder_out: Warning: No scattering [q,w] conditions\n",
      "               last try (100): type=c w=0 q=5.3353 cos(theta)=-10.1427 k=1.13018\n",
      "Isotropic_Sqw: sample_holder_out: Warning: No scattering [q,w] conditions\n",
      "               last try (100): type=c w=0 q=8.0338 cos(theta)=-26.3083 k=1.08707\n",
      "Isotropic_Sqw: sample_holder_out: Warning: No scattering [q,w] conditions\n",
      "               last try (100): type=c w=0 q=10.7306 cos(theta)=-47.7212 k=1.08705\n",
      "Isotropic_Sqw: sample_holder_out: Warning: No scattering [q,w] conditions\n",
      "               last try (100): type=c w=0 q=3.17994 cos(theta)=-2.89462 k=1.13939\n",
      "Isotropic_Sqw: sample_holder_out: Warning: No scattering [q,w] conditions\n",
      "               last try (100): type=c w=0 q=11.5171 cos(theta)=-65.0619 k=1.00196\n",
      "Isotropic_Sqw: sample_holder_out: Warning: No scattering [q,w] conditions\n",
      "               last try (100): type=c w=0 q=5.3131 cos(theta)=-11.8688 k=1.04728\n",
      "Isotropic_Sqw: sample_holder_out: Warning: No scattering [q,w] conditions\n",
      "               last try (100): type=c w=0 q=11.4127 cos(theta)=-52.1292 k=1.10715\n",
      "Isotropic_Sqw: sample_holder_out: Warning: No scattering [q,w] conditions\n",
      "               last try (100): type=c w=0 q=6.08185 cos(theta)=-18.7768 k=0.967036\n",
      "Isotropic_Sqw: sample_holder_out: Warning: No scattering [q,w] conditions\n",
      "               last try (100): type=c w=0 q=4.57643 cos(theta)=-9.4944 k=0.998924\n",
      "Isotropic_Sqw: sample_holder_out: Warning: No scattering [q,w] conditions\n",
      "               last try (100): type=c w=0 q=4.08404 cos(theta)=-7.48707 k=0.991281\n",
      "Isotropic_Sqw: sample_holder_out: Warning: No scattering [q,w] conditions\n",
      "               last try (100): type=c w=0 q=10.5148 cos(theta)=-41.0876 k=1.14606\n",
      "Isotropic_Sqw: sample_holder_out: Warning: No scattering [q,w] conditions\n",
      "               last try (100): type=c w=0 q=4.57664 cos(theta)=-8.95244 k=1.02581\n",
      "Isotropic_Sqw: sample_holder_out: Warning: No scattering [q,w] conditions\n",
      "               last try (100): type=c w=0 q=3.7648 cos(theta)=-6.4574 k=0.974839\n",
      "Isotropic_Sqw: sample_holder_out: Warning: No scattering [q,w] conditions\n",
      "               last try (100): type=c w=0 q=9.87999 cos(theta)=-38.4922 k=1.1117\n",
      "Isotropic_Sqw: sample_holder_out: Warning: No scattering [q,w] conditions\n",
      "               last try (100): type=c w=0 q=4.5764 cos(theta)=-7.47317 k=1.1117\n",
      "Isotropic_Sqw: sample_holder_out: Warning: No scattering [q,w] conditions\n",
      "               last try (100): type=c w=0 q=4.58939 cos(theta)=-6.99098 k=1.148\n",
      "Isotropic_Sqw: sample_holder_out: Warning: No scattering [q,w] conditions\n",
      "               last try (100): type=c w=0 q=2.75758 cos(theta)=-2.17828 k=1.09375\n",
      "Isotropic_Sqw: sample_holder_out: Warning: No scattering [q,w] conditions\n",
      "               last try (100): type=c w=0 q=3.91516 cos(theta)=-5.79873 k=1.06174\n",
      "Isotropic_Sqw: sample_holder_out: Warning: No scattering [q,w] conditions\n",
      "               last try (100): type=c w=0 q=4.08429 cos(theta)=-5.42669 k=1.13922\n",
      "Isotropic_Sqw: sample_holder_out: Warning: No scattering [q,w] conditions\n",
      "               last try (100): type=c w=0 q=5.31326 cos(theta)=-11.194 k=1.0759\n",
      "Isotropic_Sqw: sample_holder_in: Warning: No scattering [q,w] conditions\n",
      "               last try (100): type=c w=0 q=5.82125 cos(theta)=-14.288 k=1.05275\n",
      "Isotropic_Sqw: sample_holder_out: Warning: No scattering [q,w] conditions\n",
      "               last try (100): type=c w=0 q=5.24539 cos(theta)=-13.2162 k=0.983717\n",
      "Isotropic_Sqw: sample_holder_out: Warning: No scattering [q,w] conditions\n",
      "               last try (100): type=c w=0 q=5.31307 cos(theta)=-11.9531 k=1.04386\n",
      "Isotropic_Sqw: sample_holder_out: Warning: No scattering [q,w] conditions\n",
      "               last try (100): type=c w=0 q=4.08413 cos(theta)=-5.24725 k=1.15542\n",
      "Isotropic_Sqw: sample_holder_out: Warning: No scattering [q,w] conditions\n",
      "               last try (100): type=c w=0 q=3.79145 cos(theta)=-4.36191 k=1.15779\n",
      "Isotropic_Sqw: sample_holder_out: Warning: No scattering [q,w] conditions\n",
      "               last try (100): type=c w=0 q=7.75735 cos(theta)=-24.5733 k=1.08469\n",
      "Isotropic_Sqw: sample_holder_out: Warning: No scattering [q,w] conditions\n",
      "               last try (100): type=c w=0 q=7.58394 cos(theta)=-24.4004 k=1.06404\n",
      "Isotropic_Sqw: sample_holder_out: Warning: No scattering [q,w] conditions\n",
      "               last try (100): type=c w=0 q=5.31318 cos(theta)=-13.4784 k=0.987369\n",
      "Isotropic_Sqw: sample_holder_out: Warning: No scattering [q,w] conditions\n",
      "               last try (100): type=c w=0 q=9.65659 cos(theta)=-46.8254 k=0.987369\n",
      "Isotropic_Sqw: sample_holder_out: Warning: No scattering [q,w] conditions\n",
      "               last try (100): type=c w=0 q=9.53074 cos(theta)=-44.5075 k=0.999011\n",
      "Isotropic_Sqw: sample_holder_out: Warning: No scattering [q,w] conditions\n",
      "               last try (100): type=c w=0 q=5.33549 cos(theta)=-14.0084 k=0.97385\n",
      "Isotropic_Sqw: sample_holder_out: Warning: No scattering [q,w] conditions\n",
      "               last try (100): type=c w=0 q=3.7644 cos(theta)=-5.05359 k=1.08187\n",
      "Isotropic_Sqw: sample_holder_out: Warning: No scattering [q,w] conditions\n",
      "               last try (100): type=c w=0 q=10.492 cos(theta)=-45.7907 k=1.08458\n",
      "Isotropic_Sqw: sample_holder_out: Warning: No scattering [q,w] conditions\n",
      "               last try (100): type=c w=0 q=7.95457 cos(theta)=-30.5638 k=1.00117\n",
      "Isotropic_Sqw: sample_holder_out: Warning: No scattering [q,w] conditions\n",
      "               last try (100): type=c w=0 q=10.3918 cos(theta)=-41.8518 k=1.12251\n",
      "Isotropic_Sqw: sample_holder_out: Warning: No scattering [q,w] conditions\n",
      "               last try (100): type=c w=0 q=6.03244 cos(theta)=-18.3903 k=0.968692\n",
      "Isotropic_Sqw: sample_holder_out: Warning: No scattering [q,w] conditions\n",
      "               last try (100): type=c w=0 q=6.3605 cos(theta)=-19.7025 k=0.988473\n",
      "Isotropic_Sqw: sample_holder_out: Warning: No scattering [q,w] conditions\n",
      "               last try (100): type=c w=0 q=5.31331 cos(theta)=-11.7834 k=1.05082\n",
      "Isotropic_Sqw: sample_holder_out: Warning: No scattering [q,w] conditions\n",
      "               last try (100): type=c w=0 q=8.2739 cos(theta)=-29.9982 k=1.05082\n",
      "Isotropic_Sqw: sample_holder_out: Warning: No scattering [q,w] conditions\n",
      "               last try (100): type=c w=0 q=7.08054 cos(theta)=-23.5473 k=1.01053\n",
      "Isotropic_Sqw: sample_holder_out: Warning: No scattering [q,w] conditions\n",
      "               last try (100): type=c w=0 q=5.64707 cos(theta)=-13.7305 k=1.0404\n",
      "Isotropic_Sqw: sample_holder_out: Warning: No scattering [q,w] conditions\n",
      "               last try (100): type=c w=0 q=8.00514 cos(theta)=-28.8798 k=1.03554\n",
      "Isotropic_Sqw: sample_holder_out: Warning: No scattering [q,w] conditions\n",
      "               last try (100): type=c w=0 q=10.9317 cos(theta)=-63.0002 k=0.966232\n",
      "Isotropic_Sqw: sample_holder_out: Warning: No scattering [q,w] conditions\n",
      "               last try (100): type=c w=0 q=5.31336 cos(theta)=-10.8043 k=1.09354\n",
      "Isotropic_Sqw: sample_holder_out: Warning: No scattering [q,w] conditions\n",
      "               last try (100): type=c w=0 q=11.3919 cos(theta)=-69.4789 k=0.959511\n",
      "Isotropic_Sqw: sample_holder_out: Warning: No scattering [q,w] conditions\n",
      "               last try (100): type=c w=0 q=5.82135 cos(theta)=-16.8253 k=0.974968\n",
      "Isotropic_Sqw: sample_holder_in: Warning: No scattering [q,w] conditions\n",
      "               last try (100): type=c w=0 q=2.5623 cos(theta)=-2.35419 k=0.989283\n",
      "Isotropic_Sqw: sample_holder_out: Warning: No scattering [q,w] conditions\n",
      "               last try (100): type=c w=0 q=7.5838 cos(theta)=-26.4752 k=1.02306\n",
      "Isotropic_Sqw: sample_holder_out: Warning: No scattering [q,w] conditions\n",
      "               last try (100): type=c w=0 q=9.11033 cos(theta)=-42.8856 k=0.972429\n",
      "Isotropic_Sqw: sample_holder_in: Warning: No scattering [q,w] conditions\n",
      "               last try (100): type=c w=0 q=2.56234 cos(theta)=-1.98097 k=1.04941\n",
      "Isotropic_Sqw: sample_holder_out: Warning: No scattering [q,w] conditions\n",
      "               last try (100): type=c w=0 q=4.33086 cos(theta)=-7.5159 k=1.04941\n",
      "Isotropic_Sqw: sample_holder_out: Warning: No scattering [q,w] conditions\n",
      "               last try (100): type=c w=0 q=7.08043 cos(theta)=-21.1981 k=1.06264\n",
      "Isotropic_Sqw: sample_holder_out: Warning: No scattering [q,w] conditions\n",
      "               last try (100): type=c w=0 q=7.3349 cos(theta)=-23.9714 k=1.03791\n",
      "Isotropic_Sqw: sample_holder_out: Warning: No scattering [q,w] conditions\n",
      "               last try (100): type=c w=0 q=5.33532 cos(theta)=-10.2024 k=1.12717\n",
      "Isotropic_Sqw: sample_holder_in: Warning: No scattering [q,w] conditions\n",
      "               last try (100): type=c w=0 q=9.70447 cos(theta)=-47.4571 k=0.985775\n",
      "Isotropic_Sqw: sample_holder_in: Warning: No scattering [q,w] conditions\n",
      "               last try (100): type=c w=0 q=7.16992 cos(theta)=-19.4681 k=1.12063\n",
      "Isotropic_Sqw: sample_holder_out: Warning: No scattering [q,w] conditions\n",
      "               last try (100): type=c w=0 q=4.5894 cos(theta)=-9.80411 k=0.987293\n",
      "Isotropic_Sqw: sample_holder_out: Warning: No scattering [q,w] conditions\n",
      "               last try (100): type=c w=0 q=8.27974 cos(theta)=-32.9569 k=1.0047\n",
      "Isotropic_Sqw: sample_holder_out: Warning: No scattering [q,w] conditions\n",
      "               last try (100): type=c w=0 q=10.4729 cos(theta)=-43.728 k=1.10729\n",
      "Isotropic_Sqw: sample_holder_out: Warning: No scattering [q,w] conditions\n",
      "               last try (100): type=c w=0 q=5.31305 cos(theta)=-12.8675 k=1.00886\n",
      "Isotropic_Sqw: sample_holder_out: Warning: No scattering [q,w] conditions\n",
      "               last try (100): type=c w=0 q=8.98891 cos(theta)=-32.594 k=1.09663\n",
      "Isotropic_Sqw: sample_holder_out: Warning: No scattering [q,w] conditions\n",
      "               last try (100): type=c w=0 q=7.77748 cos(theta)=-28.1279 k=1.01899\n",
      "Isotropic_Sqw: sample_holder_out: Warning: No scattering [q,w] conditions\n",
      "               last try (100): type=c w=0 q=9.53073 cos(theta)=-42.0734 k=1.02685\n",
      "Isotropic_Sqw: sample_holder_out: Warning: No scattering [q,w] conditions\n",
      "               last try (100): type=c w=0 q=9.73746 cos(theta)=-38.8999 k=1.09005\n",
      "Isotropic_Sqw: sample_holder_out: Warning: No scattering [q,w] conditions\n",
      "               last try (100): type=c w=0 q=4.55437 cos(theta)=-6.78784 k=1.154\n",
      "Isotropic_Sqw: sample_holder_out: Warning: No scattering [q,w] conditions\n",
      "               last try (100): type=c w=0 q=3.76443 cos(theta)=-4.65607 k=1.11925\n",
      "Isotropic_Sqw: sample_holder_in: Warning: No scattering [q,w] conditions\n",
      "               last try (100): type=c w=0 q=12.4557 cos(theta)=-75.1504 k=1.0093\n",
      "Isotropic_Sqw: sample_holder_out: Warning: No scattering [q,w] conditions\n",
      "               last try (100): type=c w=0 q=6.00369 cos(theta)=-16.8987 k=1.00344\n",
      "Isotropic_Sqw: sample_holder_out: Warning: No scattering [q,w] conditions\n",
      "               last try (100): type=c w=0 q=10.7305 cos(theta)=-54.9881 k=1.01404\n",
      "Isotropic_Sqw: sample_holder_out: Warning: No scattering [q,w] conditions\n",
      "               last try (100): type=c w=0 q=10.2538 cos(theta)=-50.5947 k=1.00941\n",
      "Isotropic_Sqw: sample_holder_out: Warning: No scattering [q,w] conditions\n",
      "               last try (100): type=c w=0 q=4.57654 cos(theta)=-8.98799 k=1.02396\n",
      "Isotropic_Sqw: sample_holder_out: Warning: No scattering [q,w] conditions\n",
      "               last try (100): type=c w=0 q=9.65491 cos(theta)=-41.8003 k=1.04354\n",
      "Isotropic_Sqw: sample_holder_out: Warning: No scattering [q,w] conditions\n",
      "               last try (100): type=c w=0 q=4.57642 cos(theta)=-6.93977 k=1.14844\n",
      "Isotropic_Sqw: sample_holder_out: Warning: No scattering [q,w] conditions\n",
      "               last try (100): type=c w=0 q=12.2541 cos(theta)=-69.3425 k=1.03314\n",
      "Isotropic_Sqw: sample_holder_out: Warning: No scattering [q,w] conditions\n",
      "               last try (100): type=c w=0 q=8.32123 cos(theta)=-25.9884 k=1.13262\n",
      "Isotropic_Sqw: sample_holder_in: Warning: No scattering [q,w] conditions\n",
      "               last try (100): type=c w=0 q=4.57638 cos(theta)=-9.89419 k=0.980415\n",
      "Isotropic_Sqw: sample_holder_out: Warning: No scattering [q,w] conditions\n",
      "               last try (100): type=c w=0 q=8.22506 cos(theta)=-28.3695 k=1.07319\n",
      "Isotropic_Sqw: sample_holder_out: Warning: No scattering [q,w] conditions\n",
      "               last try (100): type=c w=0 q=9.73476 cos(theta)=-50.2578 k=0.961458\n",
      "Isotropic_Sqw: sample_holder_out: Warning: No scattering [q,w] conditions\n",
      "               last try (100): type=c w=0 q=4.88382 cos(theta)=-10.6515 k=1.01171\n",
      "Isotropic_Sqw: sample_holder_out: Warning: No scattering [q,w] conditions\n",
      "               last try (100): type=c w=0 q=9.65652 cos(theta)=-35.5233 k=1.12985\n",
      "Isotropic_Sqw: sample_holder_out: Warning: No scattering [q,w] conditions\n",
      "               last try (100): type=c w=0 q=5.12608 cos(theta)=-12.7639 k=0.97701\n",
      "Isotropic_Sqw: sample_holder_out: Warning: No scattering [q,w] conditions\n",
      "               last try (100): type=c w=0 q=5.82134 cos(theta)=-16.599 k=0.981214\n",
      "Isotropic_Sqw: sample_holder_out: Warning: No scattering [q,w] conditions\n",
      "               last try (100): type=c w=0 q=10.0989 cos(theta)=-51.9655 k=0.981214\n",
      "Isotropic_Sqw: sample_holder_out: Warning: No scattering [q,w] conditions\n",
      "               last try (100): type=c w=0 q=5.25626 cos(theta)=-11.6135 k=1.04651\n",
      "Isotropic_Sqw: sample_holder_out: Warning: No scattering [q,w] conditions\n",
      "               last try (100): type=c w=0 q=10.0701 cos(theta)=-39.178 k=1.12338\n",
      "Isotropic_Sqw: sample_holder_in: Warning: No scattering [q,w] conditions\n",
      "               last try (100): type=c w=0 q=9.76922 cos(theta)=-51.2407 k=0.955742\n",
      "Isotropic_Sqw: sample_holder_out: Warning: No scattering [q,w] conditions\n",
      "               last try (100): type=c w=0 q=5.31308 cos(theta)=-14.4519 k=0.955742\n",
      "Isotropic_Sqw: sample_holder_out: Warning: No scattering [q,w] conditions\n",
      "               last try (100): type=c w=0 q=11.0047 cos(theta)=-61.0194 k=0.988096\n",
      "Isotropic_Sqw: sample_holder_in: Warning: No scattering [q,w] conditions\n",
      "               last try (100): type=c w=0 q=5.31334 cos(theta)=-10.654 k=1.10056\n",
      "Isotropic_Sqw: sample_holder_out: Warning: No scattering [q,w] conditions\n",
      "               last try (100): type=c w=0 q=6.87186 cos(theta)=-24.2532 k=0.966944\n",
      "Isotropic_Sqw: sample_holder_out: Warning: No scattering [q,w] conditions\n",
      "               last try (100): type=c w=0 q=10.7357 cos(theta)=-43.8193 k=1.13392\n",
      "Isotropic_Sqw: sample_holder_in: Warning: No scattering [q,w] conditions\n",
      "               last try (100): type=c w=0 q=6.00368 cos(theta)=-14.0404 k=1.09464\n",
      "Isotropic_Sqw: sample_holder_out: Warning: No scattering [q,w] conditions\n",
      "               last try (100): type=c w=0 q=12.075 cos(theta)=-69.2491 k=1.01871\n",
      "Isotropic_Sqw: sample_holder_in: Warning: No scattering [q,w] conditions\n",
      "               last try (100): type=c w=0 q=4.08433 cos(theta)=-6.30613 k=1.06847\n",
      "Isotropic_Sqw: sample_holder_in: Warning: No scattering [q,w] conditions\n",
      "               last try (100): type=c w=0 q=4.88351 cos(theta)=-9.12918 k=1.085\n",
      "Isotropic_Sqw: sample_holder_in: Warning: No scattering [q,w] conditions\n",
      "               last try (100): type=c w=0 q=6.87189 cos(theta)=-18.9634 k=1.08754\n",
      "Isotropic_Sqw: sample_holder_in: Warning: No scattering [q,w] conditions\n",
      "               last try (100): type=c w=0 q=9.73771 cos(theta)=-42.57 k=1.04315\n",
      "Isotropic_Sqw: sample_holder_in: Warning: No scattering [q,w] conditions\n",
      "               last try (100): type=c w=0 q=6.00389 cos(theta)=-18.0882 k=0.971707\n",
      "Isotropic_Sqw: sample_holder_in: Warning: No scattering [q,w] conditions\n",
      "               last try (100): type=c w=0 q=7.58406 cos(theta)=-21.2998 k=1.13563\n",
      "Isotropic_Sqw: sample_holder_in: Warning: No scattering [q,w] conditions\n",
      "               last try (100): type=c w=0 q=5.31301 cos(theta)=-12.0622 k=1.03948\n",
      "Isotropic_Sqw: sample_holder_in: Warning: No scattering [q,w] conditions\n",
      "               last try (100): type=c w=0 q=9.27751 cos(theta)=-40.9175 k=1.01325\n",
      "Isotropic_Sqw: sample_holder_in: Warning: No scattering [q,w] conditions\n",
      "               last try (100): type=c w=0 q=7.01287 cos(theta)=-25.51 k=0.963111\n",
      "Isotropic_Sqw: sample_holder_in: Warning: No scattering [q,w] conditions\n",
      "               last try (100): type=c w=0 q=7.58385 cos(theta)=-23.9387 k=1.07384\n",
      "Isotropic_Sqw: sample_holder_in: Warning: No scattering [q,w] conditions\n",
      "               last try (100): type=c w=0 q=5.01243 cos(theta)=-12.3934 k=0.968475\n",
      "Isotropic_Sqw: sample_holder_in: Warning: No scattering [q,w] conditions\n",
      "               last try (100): type=c w=0 q=9.03824 cos(theta)=-42.1043 k=0.973438\n",
      "Isotropic_Sqw: sample_holder_in: Warning: No scattering [q,w] conditions\n",
      "               last try (100): type=c w=0 q=2.56251 cos(theta)=-1.62456 k=1.11846\n",
      "Isotropic_Sqw: sample_holder_in: Warning: No scattering [q,w] conditions\n",
      "               last try (100): type=c w=0 q=5.82117 cos(theta)=-14.5237 k=1.04472\n",
      "Isotropic_Sqw: sample_holder_in: Warning: No scattering [q,w] conditions\n",
      "               last try (100): type=c w=0 q=7.33526 cos(theta)=-20.0888 k=1.12947\n",
      "Isotropic_Sqw: sample_holder_in: Warning: No scattering [q,w] conditions\n",
      "               last try (100): type=c w=0 q=8.00503 cos(theta)=-24.6475 k=1.1177\n",
      "Isotropic_Sqw: sample_holder_in: Warning: No scattering [q,w] conditions\n",
      "               last try (100): type=c w=0 q=8.27423 cos(theta)=-32.5863 k=1.00956\n",
      "Isotropic_Sqw: sample_holder_in: Warning: No scattering [q,w] conditions\n",
      "               last try (100): type=c w=0 q=5.24545 cos(theta)=-13.355 k=0.978961\n",
      "Isotropic_Sqw: sample_holder_in: Warning: No scattering [q,w] conditions\n",
      "               last try (100): type=c w=0 q=11.2332 cos(theta)=-47.8493 k=1.13648\n",
      "Isotropic_Sqw: sample_holder_in: Warning: No scattering [q,w] conditions\n",
      "               last try (100): type=c w=0 q=6.4507 cos(theta)=-17.0331 k=1.07413\n",
      "Isotropic_Sqw: sample_holder_in: Warning: No scattering [q,w] conditions\n",
      "               last try (100): type=c w=0 q=9.77362 cos(theta)=-35.8963 k=1.13776\n",
      "Isotropic_Sqw: sample_holder_in: Warning: No scattering [q,w] conditions\n",
      "               last try (100): type=c w=0 q=9.77363 cos(theta)=-43.2897 k=1.03846\n",
      "Isotropic_Sqw: sample_holder_in: Warning: No scattering [q,w] conditions\n",
      "               last try (100): type=c w=0 q=7.91727 cos(theta)=-29.8518 k=1.00791\n",
      "Isotropic_Sqw: sample_holder_in: Warning: No scattering [q,w] conditions\n",
      "               last try (100): type=c w=0 q=2.81405 cos(theta)=-3.17131 k=0.974274\n",
      "Isotropic_Sqw: sample_holder_in: Warning: No scattering [q,w] conditions\n",
      "               last try (100): type=c w=0 q=5.3132 cos(theta)=-11.739 k=1.05262\n",
      "Isotropic_Sqw: sample_holder_in: Warning: No scattering [q,w] conditions\n",
      "               last try (100): type=c w=0 q=11.6431 cos(theta)=-70.7805 k=0.971739\n",
      "Isotropic_Sqw: sample_holder_in: Warning: No scattering [q,w] conditions\n",
      "               last try (100): type=c w=0 q=12.4926 cos(theta)=-62.9068 k=1.105\n",
      "Isotropic_Sqw: sample_holder_in: Warning: No scattering [q,w] conditions\n",
      "               last try (100): type=c w=0 q=11.2293 cos(theta)=-48.8945 k=1.12411\n",
      "Isotropic_Sqw: sample_holder_in: Warning: No scattering [q,w] conditions\n",
      "               last try (100): type=c w=0 q=8.74163 cos(theta)=-30.5792 k=1.09996\n",
      "Isotropic_Sqw: sample_holder_in: Warning: No scattering [q,w] conditions\n",
      "               last try (100): type=c w=0 q=4.55443 cos(theta)=-7.68842 k=1.09257\n",
      "Isotropic_Sqw: sample_holder_in: Warning: No scattering [q,w] conditions\n",
      "               last try (100): type=c w=0 q=5.33553 cos(theta)=-13.4468 k=0.992605\n",
      "Isotropic_Sqw: sample_holder_in: Warning: No scattering [q,w] conditions\n",
      "               last try (100): type=c w=0 q=5.8213 cos(theta)=-13.7731 k=1.07095\n",
      "Isotropic_Sqw: sample_holder_in: Warning: No scattering [q,w] conditions\n",
      "               last try (100): type=c w=0 q=6.35778 cos(theta)=-17.0756 k=1.05741\n",
      "Isotropic_Sqw: sample_holder_in: Warning: No scattering [q,w] conditions\n",
      "               last try (100): type=c w=0 q=9.98065 cos(theta)=-49.3419 k=0.99467\n",
      "Isotropic_Sqw: sample_holder_in: Warning: No scattering [q,w] conditions\n",
      "               last try (100): type=c w=0 q=8.00515 cos(theta)=-28.0676 k=1.04991\n",
      "Isotropic_Sqw: sample_holder_in: Warning: No scattering [q,w] conditions\n",
      "               last try (100): type=c w=0 q=8.68723 cos(theta)=-28.8517 k=1.1243\n",
      "Isotropic_Sqw: sample_holder_in: Warning: No scattering [q,w] conditions\n",
      "               last try (100): type=c w=0 q=5.46073 cos(theta)=-13.645 k=1.009\n",
      "Isotropic_Sqw: sample_holder_in: Warning: No scattering [q,w] conditions\n",
      "               last try (100): type=c w=0 q=7.13718 cos(theta)=-19.6498 k=1.11059\n",
      "Isotropic_Sqw: sample_holder_in: Warning: No scattering [q,w] conditions\n",
      "               last try (100): type=c w=0 q=4.57641 cos(theta)=-8.50235 k=1.04977\n",
      "Isotropic_Sqw: sample_holder_in: Warning: No scattering [q,w] conditions\n",
      "               last try (100): type=c w=0 q=7.9546 cos(theta)=-28.2954 k=1.03921\n",
      "Isotropic_Sqw: sample_holder_in: Warning: No scattering [q,w] conditions\n",
      "               last try (100): type=c w=0 q=7.13718 cos(theta)=-18.6257 k=1.1392\n",
      "Isotropic_Sqw: sample_holder_in: Warning: No scattering [q,w] conditions\n",
      "               last try (100): type=c w=0 q=5.33542 cos(theta)=-11.2034 k=1.07997\n",
      "Isotropic_Sqw: sample_holder_in: Warning: No scattering [q,w] conditions\n",
      "               last try (100): type=c w=0 q=7.62718 cos(theta)=-22.6269 k=1.10955\n",
      "Isotropic_Sqw: sample_holder_in: Warning: No scattering [q,w] conditions\n",
      "               last try (100): type=c w=0 q=5.8211 cos(theta)=-12.1249 k=1.13617\n",
      "Isotropic_Sqw: sample_holder_in: Warning: No scattering [q,w] conditions\n",
      "               last try (100): type=c w=0 q=5.2452 cos(theta)=-10.0783 k=1.11432\n",
      "Isotropic_Sqw: sample_holder_in: Warning: No scattering [q,w] conditions\n",
      "               last try (100): type=c w=0 q=10.5998 cos(theta)=-52.7721 k=1.02212\n",
      "Isotropic_Sqw: sample_holder_in: Warning: No scattering [q,w] conditions\n",
      "               last try (100): type=c w=0 q=12.4777 cos(theta)=-74.2396 k=1.01717\n",
      "Isotropic_Sqw: sample_holder_in: Warning: No scattering [q,w] conditions\n",
      "               last try (100): type=c w=0 q=5.62978 cos(theta)=-13.5568 k=1.04338\n",
      "Isotropic_Sqw: sample_holder_in: Warning: No scattering [q,w] conditions\n",
      "               last try (100): type=c w=0 q=8.32108 cos(theta)=-31.0942 k=1.03861\n",
      "Isotropic_Sqw: sample_holder_in: Warning: No scattering [q,w] conditions\n",
      "               last try (100): type=c w=0 q=4.57648 cos(theta)=-9.39793 k=1.00356\n",
      "Isotropic_Sqw: sample_holder_in: Warning: No scattering [q,w] conditions\n",
      "               last try (100): type=c w=0 q=7.95458 cos(theta)=-33.5671 k=0.956689\n",
      "Isotropic_Sqw: sample_holder_in: Warning: No scattering [q,w] conditions\n",
      "               last try (100): type=c w=0 q=9.75544 cos(theta)=-39.6904 k=1.0814\n",
      "Isotropic_Sqw: sample_holder_in: Warning: No scattering [q,w] conditions\n",
      "               last try (100): type=c w=0 q=8.94966 cos(theta)=-38.7688 k=1.00351\n",
      "Isotropic_Sqw: sample_holder_in: Warning: No scattering [q,w] conditions\n",
      "               last try (100): type=c w=0 q=10.359 cos(theta)=-43.0115 k=1.10412\n",
      "Isotropic_Sqw: sample_holder_in: Warning: No scattering [q,w] conditions\n",
      "               last try (100): type=c w=0 q=12.4928 cos(theta)=-60.2551 k=1.12869\n",
      "Isotropic_Sqw: sample_holder_in: Warning: No scattering [q,w] conditions\n",
      "               last try (100): type=c w=0 q=4.57673 cos(theta)=-8.95683 k=1.0256\n",
      "Isotropic_Sqw: sample_holder_in: Warning: No scattering [q,w] conditions\n",
      "               last try (100): type=c w=0 q=10.7194 cos(theta)=-59.4404 k=0.974968\n",
      "Isotropic_Sqw: sample_holder_in: Warning: No scattering [q,w] conditions\n",
      "               last try (100): type=c w=0 q=10.7361 cos(theta)=-57.2765 k=0.994453\n",
      "Isotropic_Sqw: sample_holder_in: Warning: No scattering [q,w] conditions\n",
      "               last try (100): type=c w=0 q=12.2999 cos(theta)=-79.6577 k=0.968422\n",
      "Isotropic_Sqw: sample_holder_in: Warning: No scattering [q,w] conditions\n",
      "               last try (100): type=c w=0 q=7.58402 cos(theta)=-23.627 k=1.08063\n",
      "Isotropic_Sqw: sample_holder_in: Warning: No scattering [q,w] conditions\n",
      "               last try (100): type=c w=0 q=7.01281 cos(theta)=-23.3649 k=1.0046\n",
      "Isotropic_Sqw: sample_holder_in: Warning: No scattering [q,w] conditions\n",
      "               last try (100): type=c w=0 q=5.24514 cos(theta)=-11.4762 k=1.05003\n",
      "Isotropic_Sqw: sample_holder_in: Warning: No scattering [q,w] conditions\n",
      "               last try (100): type=c w=0 q=9.65645 cos(theta)=-34.8896 k=1.13977\n",
      "Isotropic_Sqw: sample_holder_in: Warning: No scattering [q,w] conditions\n",
      "               last try (100): type=c w=0 q=5.4606 cos(theta)=-11.1406 k=1.10817\n",
      "Isotropic_Sqw: sample_holder_in: Warning: No scattering [q,w] conditions\n",
      "               last try (100): type=c w=0 q=4.58959 cos(theta)=-7.83589 k=1.09178\n",
      "Isotropic_Sqw: sample_holder_in: Warning: No scattering [q,w] conditions\n",
      "               last try (100): type=c w=0 q=2.75715 cos(theta)=-2.17364 k=1.09438\n",
      "Isotropic_Sqw: sample_holder_in: Warning: No scattering [q,w] conditions\n",
      "               last try (100): type=c w=0 q=11.7918 cos(theta)=-55.5667 k=1.10862\n",
      "Isotropic_Sqw: sample_holder_in: Warning: No scattering [q,w] conditions\n",
      "               last try (100): type=c w=0 q=4.0843 cos(theta)=-8.17018 k=0.953705\n",
      "Isotropic_Sqw: sample_holder_in: Warning: No scattering [q,w] conditions\n",
      "               last try (100): type=c w=0 q=2.81439 cos(theta)=-3.03679 k=0.990493\n",
      "Isotropic_Sqw: sample_holder_in: Warning: No scattering [q,w] conditions\n",
      "               last try (100): type=c w=0 q=6.45046 cos(theta)=-21.2789 k=0.966336\n",
      "Isotropic_Sqw: sample_holder_in: Warning: No scattering [q,w] conditions\n",
      "               last try (100): type=c w=0 q=4.58928 cos(theta)=-7.31321 k=1.1255\n",
      "Isotropic_Sqw: sample_holder_in: Warning: No scattering [q,w] conditions\n",
      "               last try (100): type=c w=0 q=10.135 cos(theta)=-38.5904 k=1.13897\n",
      "Isotropic_Sqw: sample_holder_in: Warning: No scattering [q,w] conditions\n",
      "               last try (100): type=c w=0 q=9.46292 cos(theta)=-46.6774 k=0.969067\n",
      "Isotropic_Sqw: sample_holder_in: Warning: No scattering [q,w] conditions\n",
      "               last try (100): type=c w=0 q=6.20224 cos(theta)=-15.2211 k=1.08891\n",
      "Isotropic_Sqw: sample_holder_in: Warning: No scattering [q,w] conditions\n",
      "               last try (100): type=c w=0 q=5.24532 cos(theta)=-11.3204 k=1.05668\n",
      "Isotropic_Sqw: sample_holder_in: Warning: No scattering [q,w] conditions\n",
      "               last try (100): type=c w=0 q=9.73764 cos(theta)=-44.9157 k=1.01615\n",
      "Isotropic_Sqw: sample_holder_in: Warning: No scattering [q,w] conditions\n",
      "               last try (100): type=c w=0 q=5.46067 cos(theta)=-14.8441 k=0.970058\n",
      "Isotropic_Sqw: sample_holder_in: Warning: No scattering [q,w] conditions\n",
      "               last try (100): type=c w=0 q=9.75522 cos(theta)=-47.1262 k=0.994331\n",
      "Isotropic_Sqw: sample_holder_in: Warning: No scattering [q,w] conditions\n",
      "               last try (100): type=c w=0 q=9.77344 cos(theta)=-42.8051 k=1.04417\n",
      "Isotropic_Sqw: sample_holder_in: Warning: No scattering [q,w] conditions\n",
      "               last try (100): type=c w=0 q=6.08218 cos(theta)=-17.5446 k=0.9987\n",
      "Isotropic_Sqw: sample_holder_in: Warning: No scattering [q,w] conditions\n",
      "               last try (100): type=c w=0 q=8.00482 cos(theta)=-25.9419 k=1.09049\n",
      "Isotropic_Sqw: sample_holder_in: Warning: No scattering [q,w] conditions\n",
      "               last try (100): type=c w=0 q=7.53022 cos(theta)=-25.1028 k=1.04219\n",
      "Isotropic_Sqw: sample_holder_in: Warning: No scattering [q,w] conditions\n",
      "               last try (100): type=c w=0 q=4.33055 cos(theta)=-6.39849 k=1.12579\n",
      "Isotropic_Sqw: sample_holder_in: Warning: No scattering [q,w] conditions\n",
      "               last try (100): type=c w=0 q=5.8213 cos(theta)=-16.2064 k=0.992339\n",
      "Isotropic_Sqw: sample_holder_in: Warning: No scattering [q,w] conditions\n",
      "               last try (100): type=c w=0 q=9.29772 cos(theta)=-39.6347 k=1.03137\n",
      "Isotropic_Sqw: sample_holder_in: Warning: No scattering [q,w] conditions\n",
      "               last try (100): type=c w=0 q=9.73727 cos(theta)=-41.158 k=1.06043\n",
      "\n",
      "Trace ETA 2.88333 [min] % 6 Isotropic_Sqw: sample_holder_in: Warning: No scattering [q,w] conditions\n",
      "               last try (100): type=c w=0 q=4.08446 cos(theta)=-6.43458 k=1.05923\n",
      "Isotropic_Sqw: sample_holder_in: Warning: No scattering [q,w] conditions\n",
      "               last try (100): type=c w=0 q=11.6176 cos(theta)=-65.8943 k=1.0044\n",
      "Isotropic_Sqw: sample_holder_in: Warning: No scattering [q,w] conditions\n",
      "               last try (100): type=c w=0 q=3.18005 cos(theta)=-3.65845 k=1.04183\n",
      "10 20 30 40 50 60 70 80 90 *** TRACE end *** \n",
      "\n",
      "Save [OriginCalc]\n",
      "Detector: PSD_VTE_I=3.71451e+10 PSD_VTE_ERR=1.98317e+07 PSD_VTE_N=1.55962e+07 \"PSD_VTE_1694693602.xy\"\n",
      "Detector: PSD_IN6_I=3.27896e+10 PSD_IN6_ERR=1.84122e+07 PSD_IN6_N=1.33304e+07 \"PSD_IN6_1694693602.xy\"\n",
      "Detector: PSD_D7_I=2.87229e+10 PSD_D7_ERR=1.70722e+07 PSD_D7_N=1.04804e+07 \"PSD_D7_1694693602.xy\"\n",
      "Detector: detector_central_I=7.06026e+08 detector_central_ERR=546644 detector_central_N=8.94719e+06 \"detector_central_1694693605.x_y\"\n",
      "Detector: detector_right_I=332.29 detector_right_ERR=25.0321 detector_right_N=292337 \"detector_right_1694693605.x_y\"\n",
      "Detector: detector_left_I=269.116 detector_left_ERR=33.1939 detector_left_N=253165 \"detector_left_1694693605.x_y\"\n",
      "\n",
      "Finally [OriginCalc: /tmp/D11/OriginCalc_17]. Time: 2.83333 [min] \n",
      "Isotropic_Sqw: sample_holder_in: 1772 neutron events (out of 265040) that should have\n",
      "               scattered were transmitted because scattering conditions\n",
      "WARNING        could not be satisfied after 100 tries.\n",
      "Isotropic_Sqw: sample_holder_in: 563 neutron events (out of 263268) reached\n",
      "WARNING        unrealistic weight. The S(q,w) norm might be too high.\n",
      "Isotropic_Sqw: sample_holder_in: Scattering fraction=0.0562159 of incoming intensity\n",
      "               Absorption fraction           =0.103483\n",
      "               Single   scattering intensity =2.42603e+07 (coh=2.42333e+07 inc=27022.2)\n",
      "               Multiple scattering intensity =866290\n",
      "Isotropic_Sqw: sample_holder_out: 10895 neutron events (out of 1702916) that should have\n",
      "               scattered were transmitted because scattering conditions\n",
      "WARNING        could not be satisfied after 100 tries.\n",
      "Isotropic_Sqw: sample_holder_out: 3953 neutron events (out of 1692021) reached\n",
      "WARNING        unrealistic weight. The S(q,w) norm might be too high.\n",
      "Isotropic_Sqw: sample_holder_out: Scattering fraction=0.0263719 of incoming intensity\n",
      "               Absorption fraction           =0.103261\n",
      "               Single   scattering intensity =320921 (coh=320599 inc=322.151)\n",
      "               Multiple scattering intensity =15960.3\n",
      "INFO: Placing instr file copy OriginCalc.instr in dataset /tmp/D11/OriginCalc_17\n",
      "\n",
      "\n"
     ]
    },
    {
     "ename": "UnicodeDecodeError",
     "evalue": "'utf-8' codec can't decode byte 0xef in position 3037: invalid continuation byte",
     "output_type": "error",
     "traceback": [
      "\u001b[0;31m---------------------------------------------------------------------------\u001b[0m",
      "\u001b[0;31mUnicodeDecodeError\u001b[0m                        Traceback (most recent call last)",
      "Cell \u001b[0;32mIn[22], line 1\u001b[0m\n\u001b[0;32m----> 1\u001b[0m \u001b[43mmyinstrument\u001b[49m\u001b[38;5;241;43m.\u001b[39;49m\u001b[43mrun\u001b[49m\u001b[43m(\u001b[49m\u001b[43m)\u001b[49m\n",
      "File \u001b[0;32m~/digitaltwin/instrument_database/mcstas/McStasInstrumentBase.py:720\u001b[0m, in \u001b[0;36mMcStasInstrumentBase.run\u001b[0;34m(self)\u001b[0m\n\u001b[1;32m    717\u001b[0m \u001b[38;5;28mself\u001b[39m\u001b[38;5;241m.\u001b[39m_check_sample_shape()\n\u001b[1;32m    718\u001b[0m \u001b[38;5;28mself\u001b[39m\u001b[38;5;241m.\u001b[39mcustom_flags(\u001b[38;5;124m\"\u001b[39m\u001b[38;5;124m-I mcstas/components\u001b[39m\u001b[38;5;124m\"\u001b[39m)\n\u001b[0;32m--> 720\u001b[0m \u001b[38;5;28;01mreturn\u001b[39;00m \u001b[38;5;28;43msuper\u001b[39;49m\u001b[43m(\u001b[49m\u001b[43m)\u001b[49m\u001b[38;5;241;43m.\u001b[39;49m\u001b[43mrun\u001b[49m\u001b[43m(\u001b[49m\u001b[43m)\u001b[49m\n",
      "File \u001b[0;32m~/digitaltwin/instrument_database/libpyvinyl/libpyvinyl/Instrument.py:160\u001b[0m, in \u001b[0;36mInstrument.run\u001b[0;34m(self)\u001b[0m\n\u001b[1;32m    155\u001b[0m \u001b[38;5;250m\u001b[39m\u001b[38;5;124;03m\"\"\"\u001b[39;00m\n\u001b[1;32m    156\u001b[0m \u001b[38;5;124;03mRun the entire simulation,\u001b[39;00m\n\u001b[1;32m    157\u001b[0m \u001b[38;5;124;03mi.e. all the calculators in the order they have been provided\u001b[39;00m\n\u001b[1;32m    158\u001b[0m \u001b[38;5;124;03m\"\"\"\u001b[39;00m\n\u001b[1;32m    159\u001b[0m \u001b[38;5;28;01mfor\u001b[39;00m calculator \u001b[38;5;129;01min\u001b[39;00m \u001b[38;5;28mself\u001b[39m\u001b[38;5;241m.\u001b[39mcalculators\u001b[38;5;241m.\u001b[39mvalues():\n\u001b[0;32m--> 160\u001b[0m     \u001b[43mcalculator\u001b[49m\u001b[38;5;241;43m.\u001b[39;49m\u001b[43mbackengine\u001b[49m\u001b[43m(\u001b[49m\u001b[43m)\u001b[49m\n",
      "File \u001b[0;32m~/digitaltwin/instrument_database/McStasScript/mcstasscript/interface/instr.py:2518\u001b[0m, in \u001b[0;36mMcCode_instr.backengine\u001b[0;34m(self)\u001b[0m\n\u001b[1;32m   2515\u001b[0m \u001b[38;5;28mself\u001b[39m\u001b[38;5;241m.\u001b[39m__add_mcpl_to_output(simulation)\n\u001b[1;32m   2517\u001b[0m \u001b[38;5;66;03m# simulation results from .dat files loaded as dict\u001b[39;00m\n\u001b[0;32m-> 2518\u001b[0m data \u001b[38;5;241m=\u001b[39m \u001b[43msimulation\u001b[49m\u001b[38;5;241;43m.\u001b[39;49m\u001b[43mload_results\u001b[49m\u001b[43m(\u001b[49m\u001b[43m)\u001b[49m\n\u001b[1;32m   2519\u001b[0m data_dict \u001b[38;5;241m=\u001b[39m {\u001b[38;5;124m\"\u001b[39m\u001b[38;5;124mdata\u001b[39m\u001b[38;5;124m\"\u001b[39m: data}\n\u001b[1;32m   2520\u001b[0m \u001b[38;5;66;03m# adding to the libpyvinyl output datacollection with key = sim_data_key\u001b[39;00m\n",
      "File \u001b[0;32m~/digitaltwin/instrument_database/McStasScript/mcstasscript/helper/managed_mcrun.py:330\u001b[0m, in \u001b[0;36mManagedMcrun.load_results\u001b[0;34m(self, *args)\u001b[0m\n\u001b[1;32m    326\u001b[0m     \u001b[38;5;28;01mraise\u001b[39;00m \u001b[38;5;167;01mRuntimeError\u001b[39;00m(\u001b[38;5;124m\"\u001b[39m\u001b[38;5;124mload_results can be called \u001b[39m\u001b[38;5;124m\"\u001b[39m\n\u001b[1;32m    327\u001b[0m                        \u001b[38;5;241m+\u001b[39m \u001b[38;5;124m\"\u001b[39m\u001b[38;5;124mwith 0 or 1 arguments\u001b[39m\u001b[38;5;124m\"\u001b[39m)\n\u001b[1;32m    329\u001b[0m \u001b[38;5;28;01mif\u001b[39;00m os\u001b[38;5;241m.\u001b[39mpath\u001b[38;5;241m.\u001b[39misdir(data_folder_name):\n\u001b[0;32m--> 330\u001b[0m     \u001b[38;5;28;01mreturn\u001b[39;00m \u001b[43mload_results\u001b[49m\u001b[43m(\u001b[49m\u001b[43mdata_folder_name\u001b[49m\u001b[43m)\u001b[49m\n\u001b[1;32m    331\u001b[0m \u001b[38;5;28;01melse\u001b[39;00m:\n\u001b[1;32m    332\u001b[0m     warnings\u001b[38;5;241m.\u001b[39mwarn(\u001b[38;5;124m\"\u001b[39m\u001b[38;5;124mNo data available to load.\u001b[39m\u001b[38;5;124m\"\u001b[39m)\n",
      "File \u001b[0;32m~/digitaltwin/instrument_database/McStasScript/mcstasscript/helper/managed_mcrun.py:351\u001b[0m, in \u001b[0;36mload_results\u001b[0;34m(data_folder_name)\u001b[0m\n\u001b[1;32m    336\u001b[0m \u001b[38;5;28;01mdef\u001b[39;00m \u001b[38;5;21mload_results\u001b[39m(data_folder_name):\n\u001b[1;32m    337\u001b[0m \u001b[38;5;250m    \u001b[39m\u001b[38;5;124;03m\"\"\"\u001b[39;00m\n\u001b[1;32m    338\u001b[0m \u001b[38;5;124;03m    Function for loading data from a mcstas simulation\u001b[39;00m\n\u001b[1;32m    339\u001b[0m \n\u001b[0;32m   (...)\u001b[0m\n\u001b[1;32m    348\u001b[0m \n\u001b[1;32m    349\u001b[0m \u001b[38;5;124;03m    \"\"\"\u001b[39;00m\n\u001b[0;32m--> 351\u001b[0m     metadata_list \u001b[38;5;241m=\u001b[39m \u001b[43mload_metadata\u001b[49m\u001b[43m(\u001b[49m\u001b[43mdata_folder_name\u001b[49m\u001b[43m)\u001b[49m\n\u001b[1;32m    353\u001b[0m     results \u001b[38;5;241m=\u001b[39m []\n\u001b[1;32m    354\u001b[0m     \u001b[38;5;28;01mfor\u001b[39;00m metadata \u001b[38;5;129;01min\u001b[39;00m metadata_list:\n",
      "File \u001b[0;32m~/digitaltwin/instrument_database/McStasScript/mcstasscript/helper/managed_mcrun.py:396\u001b[0m, in \u001b[0;36mload_metadata\u001b[0;34m(data_folder_name)\u001b[0m\n\u001b[1;32m    394\u001b[0m in_data \u001b[38;5;241m=\u001b[39m \u001b[38;5;28;01mFalse\u001b[39;00m\n\u001b[1;32m    395\u001b[0m in_sim \u001b[38;5;241m=\u001b[39m \u001b[38;5;28;01mFalse\u001b[39;00m\n\u001b[0;32m--> 396\u001b[0m \u001b[38;5;28;01mfor\u001b[39;00m lines \u001b[38;5;129;01min\u001b[39;00m f:\n\u001b[1;32m    397\u001b[0m     \u001b[38;5;66;03m# Could read other details about run\u001b[39;00m\n\u001b[1;32m    399\u001b[0m     \u001b[38;5;28;01mif\u001b[39;00m lines \u001b[38;5;241m==\u001b[39m \u001b[38;5;124m\"\u001b[39m\u001b[38;5;124mend data\u001b[39m\u001b[38;5;130;01m\\n\u001b[39;00m\u001b[38;5;124m\"\u001b[39m:\n\u001b[1;32m    400\u001b[0m         \u001b[38;5;66;03m# No more data for this metadata object\u001b[39;00m\n\u001b[1;32m    401\u001b[0m         \u001b[38;5;66;03m# Add parameter information\u001b[39;00m\n\u001b[1;32m    402\u001b[0m         current_object\u001b[38;5;241m.\u001b[39madd_info(\u001b[38;5;124m\"\u001b[39m\u001b[38;5;124mParameters\u001b[39m\u001b[38;5;124m\"\u001b[39m, instrument_parameters)\n",
      "File \u001b[0;32m/usr/lib/python3.10/codecs.py:322\u001b[0m, in \u001b[0;36mBufferedIncrementalDecoder.decode\u001b[0;34m(self, input, final)\u001b[0m\n\u001b[1;32m    319\u001b[0m \u001b[38;5;28;01mdef\u001b[39;00m \u001b[38;5;21mdecode\u001b[39m(\u001b[38;5;28mself\u001b[39m, \u001b[38;5;28minput\u001b[39m, final\u001b[38;5;241m=\u001b[39m\u001b[38;5;28;01mFalse\u001b[39;00m):\n\u001b[1;32m    320\u001b[0m     \u001b[38;5;66;03m# decode input (taking the buffer into account)\u001b[39;00m\n\u001b[1;32m    321\u001b[0m     data \u001b[38;5;241m=\u001b[39m \u001b[38;5;28mself\u001b[39m\u001b[38;5;241m.\u001b[39mbuffer \u001b[38;5;241m+\u001b[39m \u001b[38;5;28minput\u001b[39m\n\u001b[0;32m--> 322\u001b[0m     (result, consumed) \u001b[38;5;241m=\u001b[39m \u001b[38;5;28;43mself\u001b[39;49m\u001b[38;5;241;43m.\u001b[39;49m\u001b[43m_buffer_decode\u001b[49m\u001b[43m(\u001b[49m\u001b[43mdata\u001b[49m\u001b[43m,\u001b[49m\u001b[43m \u001b[49m\u001b[38;5;28;43mself\u001b[39;49m\u001b[38;5;241;43m.\u001b[39;49m\u001b[43merrors\u001b[49m\u001b[43m,\u001b[49m\u001b[43m \u001b[49m\u001b[43mfinal\u001b[49m\u001b[43m)\u001b[49m\n\u001b[1;32m    323\u001b[0m     \u001b[38;5;66;03m# keep undecoded input until the next call\u001b[39;00m\n\u001b[1;32m    324\u001b[0m     \u001b[38;5;28mself\u001b[39m\u001b[38;5;241m.\u001b[39mbuffer \u001b[38;5;241m=\u001b[39m data[consumed:]\n",
      "\u001b[0;31mUnicodeDecodeError\u001b[0m: 'utf-8' codec can't decode byte 0xef in position 3037: invalid continuation byte"
     ]
    }
   ],
   "source": [
    "myinstrument.run()"
   ]
  },
  {
   "cell_type": "markdown",
   "id": "afc301e9",
   "metadata": {},
   "source": [
    "### Diagnostics of the beam for one calculator"
   ]
  },
  {
   "cell_type": "code",
   "execution_count": null,
   "id": "7cf72254",
   "metadata": {
    "scrolled": false
   },
   "outputs": [],
   "source": [
    "calculator_name=\"SampleCalc\"\n",
    "calculator_name=\"OriginCalc\"\n",
    "mycalc = myinstrument.calculators[calculator_name]\n",
    "#mycalc.backengine()\n",
    "#myinstrument.run()\n",
    "#print(mycalc.output)"
   ]
  },
  {
   "cell_type": "code",
   "execution_count": null,
   "id": "32567b1b",
   "metadata": {
    "scrolled": true
   },
   "outputs": [],
   "source": [
    "#mycalc = myinstrument.calculators[\"OriginCalc\"]\n",
    "#mycalc = myinstrument.calculators[\"SampleCalc\"]\n",
    "#mycalc.input = myinstrument.calculators[\"OriginCalc\"].output\n",
    "#mycalc.show_diagram()\n",
    "\n",
    "\"sqw_file\" in mycalc.parameters\n"
   ]
  },
  {
   "cell_type": "code",
   "execution_count": null,
   "id": "3f8e0aaa",
   "metadata": {
    "scrolled": false
   },
   "outputs": [],
   "source": [
    "mycalc.show_diagram(analysis=True, variable=None)"
   ]
  },
  {
   "cell_type": "code",
   "execution_count": null,
   "id": "3a051763",
   "metadata": {
    "scrolled": false
   },
   "outputs": [],
   "source": [
    "import mcstasscript as ms\n"
   ]
  },
  {
   "cell_type": "code",
   "execution_count": null,
   "id": "21140401",
   "metadata": {
    "scrolled": true
   },
   "outputs": [],
   "source": [
    "diag = ms.Diagnostics(mycalc)\n",
    "diag.settings(ncount=1e5, suppress_output=True)\n",
    "diag.show_settings()\n",
    "diag.clear_points()\n",
    "\n",
    "\n",
    "for component in diag.instr.component_list:\n",
    "        if component.component_name in [\"Progress_bar\", \"Arm\"]:\n",
    "            continue\n",
    "        if component.component_name in [\"Beamstop\"]:\n",
    "            diag.add_point(before=component.name)\n",
    "            continue\n",
    "        if component.name in [\"VCS\", \"HCS\"]:\n",
    "            diag.add_point(after=component.name)\n",
    "            continue\n",
    "        if component.name in [\"Chopper0\",\"Chopper1\",\"Chopper2\",\"Chopper3\"]:\n",
    "            diag.add_point(before=component.name)\n",
    "            diag.add_point(after=component.name)\n",
    "        else:\n",
    "            #print(\"#\"+component.name+\"#\")\n",
    "            diag.add_point(before=component.name)\n",
    "        \n",
    "\n",
    "\n",
    "\n",
    "if mycalc.name == \"SampleCalc\":\n",
    "    diag.clear_points()\n",
    "    diag.add_point(after=\"Vin\")\n",
    "    diag.add_point(before=\"sqw\")\n",
    "    diag.add_point(after=\"Sample_Out\")\n",
    "    diag.add_point(before=\"after_sample_slit\")\n",
    "    diag.add_point(after=\"after_sample_slit\")\n",
    "\n",
    "#print(diag)\n"
   ]
  },
  {
   "cell_type": "code",
   "execution_count": null,
   "id": "a596e150",
   "metadata": {
    "scrolled": false
   },
   "outputs": [],
   "source": [
    "#mycalc.get_component(\"BC1\").phase=41\n",
    "#ch = mycalc.get_component(\"Chopper3\")\n",
    "#print(ch)\n",
    "diag.settings(ncount=1e6)"
   ]
  },
  {
   "cell_type": "code",
   "execution_count": null,
   "id": "b5cfe2ed",
   "metadata": {
    "scrolled": false
   },
   "outputs": [],
   "source": [
    "diag.run()"
   ]
  },
  {
   "cell_type": "code",
   "execution_count": null,
   "id": "6cb3ca01",
   "metadata": {
    "scrolled": true
   },
   "outputs": [],
   "source": [
    "diag.clear_views()\n",
    "#diag.add_view(\"t\")\n",
    "#diag.add_view(\"x\", bins=50, limits=[-0.04,0.04])\n",
    "#diag.add_view(\"y\", bins=50, same_scale=False, limits=[-0.07,0.07])\n",
    "#diag.add_view(\"x\",\"y\",bins=[30,30])\n",
    "#diag.add_view(\"e\", same_scale=True)\n",
    "diag.add_view(\"l\",same_scale=False)\n",
    "diag.add_view(\"t\",same_scale=False)\n",
    "#diag.add_view(\"dx\",\"dy\")\n",
    "diag.add_view(\"t\",\"x\",same_scale=False)\n",
    "diag.add_view(\"t\",\"y\", same_scale=False)\n",
    "diag.add_view(\"x\",\"y\",same_scale=False)\n",
    "diag.add_view(\"vz\",same_scale=False,left_lim=700)\n",
    "print(diag)"
   ]
  },
  {
   "cell_type": "code",
   "execution_count": null,
   "id": "da0ac372",
   "metadata": {
    "scrolled": true
   },
   "outputs": [],
   "source": [
    "diag.plot()"
   ]
  },
  {
   "cell_type": "code",
   "execution_count": null,
   "id": "640e8c59",
   "metadata": {
    "scrolled": false
   },
   "outputs": [],
   "source": []
  },
  {
   "cell_type": "code",
   "execution_count": null,
   "id": "3fbdef29",
   "metadata": {
    "scrolled": false
   },
   "outputs": [],
   "source": []
  },
  {
   "cell_type": "code",
   "execution_count": null,
   "id": "b4284601",
   "metadata": {
    "scrolled": false
   },
   "outputs": [],
   "source": []
  },
  {
   "cell_type": "code",
   "execution_count": null,
   "id": "7c35a5b1",
   "metadata": {
    "scrolled": false
   },
   "outputs": [],
   "source": []
  },
  {
   "cell_type": "code",
   "execution_count": null,
   "id": "7af8b77e",
   "metadata": {
    "scrolled": false
   },
   "outputs": [],
   "source": []
  },
  {
   "cell_type": "code",
   "execution_count": null,
   "id": "9c63ffad",
   "metadata": {
    "scrolled": false
   },
   "outputs": [],
   "source": [
    "%matplotlib widget\n",
    "import mcstasscript.jb_interface as ms_widget\n",
    "#ms_widget.show(data_empty)"
   ]
  },
  {
   "cell_type": "code",
   "execution_count": null,
   "id": "a9fbcdea",
   "metadata": {
    "scrolled": false
   },
   "outputs": [],
   "source": [
    "#myinstrument.sample.set_SPLIT(60)\n",
    "#myinstrument.sample"
   ]
  },
  {
   "cell_type": "code",
   "execution_count": null,
   "id": "1bc44a6f",
   "metadata": {
    "scrolled": false
   },
   "outputs": [],
   "source": [
    "#slit=myinstrument.calculators[\"SampleCalc\"].get_component(\"after_sample_slit\")\n",
    "#slit.EXTEND=\"\"\n",
    "#slit.append_EXTEND(\"if(p<1e-1) ABSORB;\")\n",
    "#slit\n"
   ]
  },
  {
   "cell_type": "code",
   "execution_count": null,
   "id": "3f95946d",
   "metadata": {
    "scrolled": false
   },
   "outputs": [],
   "source": [
    "#myinstrument.run()"
   ]
  },
  {
   "cell_type": "code",
   "execution_count": null,
   "id": "af03f0bf",
   "metadata": {
    "scrolled": false
   },
   "outputs": [],
   "source": [
    "data=myinstrument.output\n",
    "#print(data)\n",
    "calcname_data=\"DetectorCalc_data\"\n",
    "calcname_data=\"OriginCalc_data\"\n",
    "detectors=data[calcname_data].get_data()[\"data\"]"
   ]
  },
  {
   "cell_type": "code",
   "execution_count": null,
   "id": "899c7352",
   "metadata": {
    "scrolled": false
   },
   "outputs": [],
   "source": [
    "#print(data[calcname_data])\n",
    "\n",
    "#print()\n",
    "for detector in detectors:\n",
    "    print(detector, \"\\n\\t I = \",detector.Intensity, \"\\n\\t E =\", detector.Error, \"\\n\\t N =\", detector.Ncount)"
   ]
  },
  {
   "cell_type": "code",
   "execution_count": null,
   "id": "e224effe",
   "metadata": {
    "scrolled": false
   },
   "outputs": [],
   "source": [
    "print(detectors)\n",
    "#help(detector)\n",
    "import mcstasscript as ms\n",
    "ms.make_sub_plot(detectors[-3:])"
   ]
  },
  {
   "cell_type": "code",
   "execution_count": null,
   "id": "fbe0baa4",
   "metadata": {},
   "outputs": [],
   "source": [
    "detector = detectors[3]\n",
    "print(detector.Intensity)\n",
    "import numpy as np\n",
    "help(detector.Intensity)"
   ]
  },
  {
   "cell_type": "code",
   "execution_count": null,
   "id": "8fd110ad",
   "metadata": {
    "scrolled": false
   },
   "outputs": [],
   "source": [
    "wmins=[\"1e-5\", \"1e-4\", \"1e-3\", \"1e-2\", \"1e-1\"]\n",
    "detectors=[]\n",
    "for w_min in wmins:\n",
    "    slit=myinstrument.calculators[\"SampleCalc\"].get_component(\"after_sample_slit\")\n",
    "    slit.EXTEND=\"\"\n",
    "    slit.append_EXTEND(f\"if(p<{w_min}) ABSORB;\")\n",
    "    myinstrument.run()\n",
    "    data=myinstrument.output\n",
    "    detector=(data[\"DetectorCalc_data\"].get_data()[\"data\"][0])\n",
    "    detectors.append(detector)"
   ]
  },
  {
   "cell_type": "code",
   "execution_count": null,
   "id": "52bf6d4f",
   "metadata": {
    "scrolled": false
   },
   "outputs": [],
   "source": [
    "detectors"
   ]
  },
  {
   "cell_type": "code",
   "execution_count": null,
   "id": "6064814b",
   "metadata": {
    "scrolled": false
   },
   "outputs": [],
   "source": [
    "import numpy as np\n",
    "diags = []\n",
    "RHs = list(np.arange(2.6,4,0.3))\n",
    "RVs = list(np.arange(1,3,0.3))\n",
    "RVs.append(1.88)\n",
    "RHs.append(3.31)\n",
    "print(RHs)\n",
    "print(RVs)"
   ]
  },
  {
   "cell_type": "code",
   "execution_count": null,
   "id": "f787ba8e",
   "metadata": {
    "scrolled": false
   },
   "outputs": [],
   "source": [
    "for RH in RHs:\n",
    "    print(RH)\n",
    "    mycalc.parameters[\"RHmono\"]=RH\n",
    "    diag = ms.Diagnostics(mycalc)\n",
    "    diag.settings(ncount=1e6, suppress_output=True,force_compile=False)\n",
    "    diag.clear_points()\n",
    "    diag.add_point(after=\"before_sample_slit\")\n",
    "#    diag.add_point(before=\"sqw\")\n",
    "    diag.run()\n",
    "    diags.append(diag)\n",
    "\n",
    "#(RHmono,RVmono) = (3.31,1.88)\n",
    "#lambda: 4.05\n",
    "#lambda: 4.05 +/- 0.04\n",
    "#energy: 4.98 +/- 0.10\n",
    "#(RHanalyzer,RVanalyzer) = (4.17,0.77)\n",
    "#'Monochromator', 'counter', 'before_sample_slit', 'sqw', 'after_sample_slit', 'analyzer', 'slit', 'detector_all']"
   ]
  },
  {
   "cell_type": "code",
   "execution_count": null,
   "id": "833d4920",
   "metadata": {
    "scrolled": false
   },
   "outputs": [],
   "source": [
    "for diag in diags:\n",
    "    diag.clear_views()\n",
    "    diag.add_view(\"x\", bins=50, limits=[-0.04,0.04])\n",
    "    diag.add_view(\"y\", bins=50, same_scale=False, limits=[-0.07,0.07])\n",
    "    #diag.add_view(\"x\",\"y\",bins=[30,30])\n",
    "    #diag.add_view(\"dx\",\"dy\")\n",
    "    diag.add_view(\"dx\")\n",
    "    diag.add_view(\"dy\")\n",
    "    diag.plot()"
   ]
  },
  {
   "cell_type": "code",
   "execution_count": null,
   "id": "076601d1",
   "metadata": {
    "scrolled": false
   },
   "outputs": [],
   "source": [
    "RVdiags = []\n",
    "\n",
    "\n",
    "print(RVs)\n",
    "for RV in RVs:\n",
    "    print(RV)\n",
    "    mycalc.parameters[\"RVmono\"]=RV\n",
    "    diag = ms.Diagnostics(mycalc)\n",
    "    diag.settings(ncount=1e6, suppress_output=True,force_compile=False)\n",
    "    diag.clear_points()\n",
    "    diag.add_point(after=\"before_sample_slit\")\n",
    "#    diag.add_point(before=\"sqw\")\n",
    "    diag.run()\n",
    "    RVdiags.append(diag)"
   ]
  },
  {
   "cell_type": "code",
   "execution_count": null,
   "id": "31a5b68b",
   "metadata": {
    "scrolled": false
   },
   "outputs": [],
   "source": [
    "for diag in RVdiags:\n",
    "    diag.clear_views()\n",
    "    diag.add_view(\"x\", bins=50, limits=[-0.04,0.04])\n",
    "    diag.add_view(\"y\", bins=50, same_scale=False, limits=[-0.07,0.07])\n",
    "    #diag.add_view(\"x\",\"y\",bins=[30,30])\n",
    "    #diag.add_view(\"dx\",\"dy\")\n",
    "    diag.add_view(\"dx\")\n",
    "    diag.add_view(\"dy\")\n",
    "    diag.plot()"
   ]
  },
  {
   "cell_type": "code",
   "execution_count": null,
   "id": "5d830ade",
   "metadata": {
    "scrolled": false
   },
   "outputs": [],
   "source": [
    "myinstrument.force_compile(False)\n",
    "myinstrument.sim_neutrons(1e5)\n",
    "counter=[]\n",
    "detector=[]\n",
    "mycalc = myinstrument.calculators[\"OriginCalc\"]\n",
    "for RV in RVs:\n",
    "    for RH in RHs:\n",
    "        mycalc.parameters[\"RHmono\"].value = RH\n",
    "        mycalc.parameters[\"RVmono\"].value = RV\n",
    "        #print(mycalc.parameters)\n",
    "        myinstrument.run()\n",
    "        counter.append(myinstrument.output[\"OriginCalc_data\"].get_data()[\"data\"])"
   ]
  },
  {
   "cell_type": "code",
   "execution_count": null,
   "id": "67b8c8d6",
   "metadata": {
    "scrolled": false
   },
   "outputs": [],
   "source": [
    "i=0\n",
    "i_det=1\n",
    "for RV in RVs:\n",
    "    for RH in RHs:\n",
    "        c = counter[i]\n",
    "        det=c[1]\n",
    "        print(i, \"\\t\" , RV, RH, \"\\t\\t\" , det.Intensity, det.Error, det.Ncount)\n",
    "        i=i+1"
   ]
  },
  {
   "cell_type": "code",
   "execution_count": null,
   "id": "e1798cb5",
   "metadata": {
    "scrolled": false
   },
   "outputs": [],
   "source": [
    "mycalc.output"
   ]
  },
  {
   "cell_type": "code",
   "execution_count": null,
   "id": "acd58fe9",
   "metadata": {
    "scrolled": false
   },
   "outputs": [],
   "source": [
    "print(myinstrument.output)"
   ]
  },
  {
   "cell_type": "code",
   "execution_count": null,
   "id": "4bd7a273",
   "metadata": {
    "scrolled": false
   },
   "outputs": [],
   "source": [
    "RHs = list(np.arange(1.5,3,0.2))\n",
    "RVs = list(np.arange(0.3,1.2,0.2))\n",
    "RVs.append(0.51)\n",
    "RHs.append(1.41)\n",
    "print(RHs)\n",
    "print(RVs)\n",
    "\n",
    "myinstrument.force_compile(False)\n",
    "myinstrument.sim_neutrons(1e5)\n",
    "counter=[]\n",
    "\n",
    "mycalc = myinstrument.calculators[\"OriginCalc\"]\n",
    "for RV in RVs:\n",
    "    for RH in RHs:\n",
    "        mycalc.parameters[\"RHanalyzer\"].value = RH\n",
    "        mycalc.parameters[\"RVanalyzer\"].value = RV\n",
    "        #print(mycalc.parameters)\n",
    "        myinstrument.run()\n",
    "        counter.append(myinstrument.output[\"OriginCalc_data\"].get_data()[\"data\"])"
   ]
  },
  {
   "cell_type": "code",
   "execution_count": null,
   "id": "24d1d3ec",
   "metadata": {
    "scrolled": false
   },
   "outputs": [],
   "source": [
    "i=0\n",
    "i_det=1\n",
    "intensities = []\n",
    "counts = []\n",
    "for RV in RVs:\n",
    "    for RH in RHs:\n",
    "        c = counter[i]\n",
    "        det=c[1]\n",
    "        #print(i, \"\\t\" , RV, RH, \"\\t\\t\" , det.Intensity, det.Error, det.Ncount)\n",
    "        intensities.append(det.Intensity)\n",
    "        counts.append(det.Ncount)\n",
    "        i=i+1"
   ]
  },
  {
   "cell_type": "code",
   "execution_count": null,
   "id": "6cdcc95a",
   "metadata": {
    "scrolled": false
   },
   "outputs": [],
   "source": [
    "max(intensities)"
   ]
  },
  {
   "cell_type": "code",
   "execution_count": null,
   "id": "cfdb106f",
   "metadata": {
    "scrolled": false
   },
   "outputs": [],
   "source": [
    "max(counts)"
   ]
  },
  {
   "cell_type": "code",
   "execution_count": null,
   "id": "d4090a1b",
   "metadata": {
    "scrolled": false
   },
   "outputs": [],
   "source": [
    "intensities.index(max(intensities))"
   ]
  },
  {
   "cell_type": "code",
   "execution_count": null,
   "id": "e5201171",
   "metadata": {
    "scrolled": false
   },
   "outputs": [],
   "source": [
    "counts.index(max(counts))"
   ]
  },
  {
   "cell_type": "code",
   "execution_count": null,
   "id": "88f54a79",
   "metadata": {
    "scrolled": false
   },
   "outputs": [],
   "source": [
    "i=0\n",
    "for RV in RVs:\n",
    "    for RH in RHs:\n",
    "        print(RV, RH, counts[i])\n",
    "        if i==counts.index(max(counts)):\n",
    "            print(\"---> \",RV, RH)\n",
    "        i=i+1"
   ]
  },
  {
   "cell_type": "code",
   "execution_count": null,
   "id": "100a7451",
   "metadata": {
    "scrolled": false
   },
   "outputs": [],
   "source": [
    "RVs"
   ]
  },
  {
   "cell_type": "code",
   "execution_count": null,
   "id": "b6653053",
   "metadata": {
    "scrolled": false
   },
   "outputs": [],
   "source": [
    "RHs"
   ]
  },
  {
   "cell_type": "code",
   "execution_count": null,
   "id": "17ddad58",
   "metadata": {
    "scrolled": false
   },
   "outputs": [],
   "source": [
    "dist_sample_ana = 1.260\n",
    "dist_ana_det = 0.640\n",
    "import math\n",
    "ana_focus = 1.0 / (1.0 / dist_sample_ana + 1.0 / dist_ana_det)"
   ]
  },
  {
   "cell_type": "code",
   "execution_count": null,
   "id": "b9bb0a25",
   "metadata": {
    "scrolled": false
   },
   "outputs": [],
   "source": [
    "\n",
    "def rh(ana_focus):\n",
    "    return 2*ana_focus/math.sin(math.pi/180*myinstrument.master[\"a6\"].value/2)\n",
    "def rv(ana_focus):\n",
    "    return 2*ana_focus*math.sin(math.pi/180*myinstrument.master[\"a6\"].value/2)\n"
   ]
  },
  {
   "cell_type": "code",
   "execution_count": null,
   "id": "0275cde3",
   "metadata": {
    "scrolled": false
   },
   "outputs": [],
   "source": [
    "print(rv(ana_focus),rh(ana_focus))"
   ]
  },
  {
   "cell_type": "code",
   "execution_count": null,
   "id": "10289531",
   "metadata": {
    "scrolled": false
   },
   "outputs": [],
   "source": [
    "ana_focus=dist_ana_det\n",
    "print(rv(ana_focus),rh(ana_focus))"
   ]
  },
  {
   "cell_type": "code",
   "execution_count": null,
   "id": "a4cfb70b",
   "metadata": {
    "scrolled": false
   },
   "outputs": [],
   "source": []
  },
  {
   "cell_type": "code",
   "execution_count": null,
   "id": "2e2d80c9",
   "metadata": {
    "scrolled": false
   },
   "outputs": [],
   "source": []
  }
 ],
 "metadata": {
  "kernelspec": {
   "display_name": "Python 3 (ipykernel)",
   "language": "python",
   "name": "python3"
  },
  "language_info": {
   "codemirror_mode": {
    "name": "ipython",
    "version": 3
   },
   "file_extension": ".py",
   "mimetype": "text/x-python",
   "name": "python",
   "nbconvert_exporter": "python",
   "pygments_lexer": "ipython3",
   "version": "3.10.6"
  }
 },
 "nbformat": 4,
 "nbformat_minor": 5
}
