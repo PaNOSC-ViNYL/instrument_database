{
 "cells": [
  {
   "cell_type": "code",
   "execution_count": 1,
   "id": "fe05f337",
   "metadata": {
    "scrolled": false
   },
   "outputs": [],
   "source": [
    "from instrumentdatabaseapi import instrumentdatabaseapi as API\n",
    "repo = API.Repository(local_repo=\".\")"
   ]
  },
  {
   "cell_type": "code",
   "execution_count": 2,
   "id": "e7361d79",
   "metadata": {
    "scrolled": false
   },
   "outputs": [
    {
     "name": "stdout",
     "output_type": "stream",
     "text": [
      "URL: https://github.com/PaNOSC-ViNYL/instrument_database.git\n",
      "local_dir: ./\n"
     ]
    }
   ],
   "source": [
    "print(repo)"
   ]
  },
  {
   "cell_type": "markdown",
   "id": "35e75700",
   "metadata": {},
   "source": [
    "Load the instrument configuration providing:\n",
    " - name of the institute\n",
    " - name of the instrument\n",
    " - version of the instrument description (HEAD is the most recent)\n",
    " - name of the simulation program"
   ]
  },
  {
   "cell_type": "code",
   "execution_count": 3,
   "id": "ed79abb5",
   "metadata": {
    "scrolled": false
   },
   "outputs": [
    {
     "name": "stdout",
     "output_type": "stream",
     "text": [
      " - EuXFEL\n",
      " - ILL\n",
      " - test_institute\n"
     ]
    }
   ],
   "source": [
    "repo.ls_institutes()"
   ]
  },
  {
   "cell_type": "code",
   "execution_count": 4,
   "id": "4855b55f",
   "metadata": {},
   "outputs": [
    {
     "name": "stdout",
     "output_type": "stream",
     "text": [
      "Available instruments for ILL:\n",
      " -  ILL/D22\n",
      " -  ILL/Panther\n",
      " -  ILL/ThALES\n",
      " -  ILL/IN5\n",
      " -  ILL/D11\n"
     ]
    }
   ],
   "source": [
    "repo.ls_instruments(\"ILL\")"
   ]
  },
  {
   "cell_type": "code",
   "execution_count": 5,
   "id": "495cae4b",
   "metadata": {
    "scrolled": false
   },
   "outputs": [],
   "source": [
    "instrument_name=\"Panther\"\n",
    "#instrument_name=\"ThALES\"\n",
    "#instrument_name=\"IN5\"\n",
    "instrument_name=\"D11\""
   ]
  },
  {
   "cell_type": "code",
   "execution_count": 6,
   "id": "1490bb0d",
   "metadata": {
    "scrolled": false
   },
   "outputs": [
    {
     "name": "stdout",
     "output_type": "stream",
     "text": [
      "Available versions for instrument D11:\n",
      " -  HEAD\n"
     ]
    }
   ],
   "source": [
    "repo.ls_versions(\"ILL\",instrument_name)"
   ]
  },
  {
   "cell_type": "code",
   "execution_count": 7,
   "id": "acf32222",
   "metadata": {
    "scrolled": false
   },
   "outputs": [
    {
     "name": "stdout",
     "output_type": "stream",
     "text": [
      "Instrument D11 from institute ILL is implemented with the following programs:\n",
      " -  mcstas\n"
     ]
    }
   ],
   "source": [
    "repo.ls_simulation_programs(\"ILL\",instrument_name,\"HEAD\")"
   ]
  },
  {
   "cell_type": "code",
   "execution_count": 8,
   "id": "c6ab7b51",
   "metadata": {
    "scrolled": false
   },
   "outputs": [
    {
     "name": "stdout",
     "output_type": "stream",
     "text": [
      "Available flavours for instrument D11:\n",
      " -  None\n",
      " -  full\n",
      " -  nosection\n",
      " -  Borkron_1972\n",
      " -  Borkron_2003\n",
      " -  Borofloat_2001\n",
      " -  simple\n"
     ]
    }
   ],
   "source": [
    "repo.ls_flavours(\"ILL\",instrument_name,\"HEAD\",\"mcstas\")"
   ]
  },
  {
   "cell_type": "code",
   "execution_count": 9,
   "id": "1a94bd7a",
   "metadata": {
    "scrolled": false
   },
   "outputs": [
    {
     "name": "stdout",
     "output_type": "stream",
     "text": [
      "0 (40.5 - collimation)>0 ? 1 : 0\n",
      "1 (40.0 - collimation)>0 ? 6 : 0\n",
      "2 (34.0 - collimation)>0 ? 6 : 0\n",
      "3 (28.0 - collimation)>0 ? 1 : 0\n",
      "4 (27.5 - collimation)>0 ? 7 : 0\n",
      "5 (20.5 - collimation)>0 ? 4 : 0\n",
      "6 (16.5 - collimation)>0 ? 3 : 0\n",
      "7 (13.5 - collimation)>0 ? 3 : 0\n",
      "8 (10.5 - collimation)>0 ? 2 : 0\n",
      "9 (8.5 - collimation)>0 ? 1 : 0\n",
      "10 (8.0 - collimation)>0 ? 2 : 0\n",
      "11 (6.0 - collimation)>0 ? 1 : 0\n",
      "12 (5.5 - collimation)>0 ? 1 : 0\n",
      "13 (5.0 - collimation)>0 ? 1 : 0\n",
      "14 (4.0 - collimation)>0 ? 1 : 0\n",
      "15 (3.5 - collimation)>0 ? 1 : 0\n",
      "16 (2.5 - collimation)>0 ? 1 : 0\n"
     ]
    }
   ],
   "source": [
    "flavour=\"full\"\n",
    "#flavour=\"nosection\"\n",
    "#flavour=\"simple\"\n",
    "myinstrument = repo.load(\"ILL\", instrument_name, \"HEAD\", \"mcstas\", flavour, dep=False)"
   ]
  },
  {
   "cell_type": "code",
   "execution_count": 10,
   "id": "89328333",
   "metadata": {
    "scrolled": false
   },
   "outputs": [
    {
     "data": {
      "text/plain": [
       "{'OriginCalc': <mcstasscript.interface.instr.McStas_instr at 0x7f3ae36c4310>,\n",
       " 'VelocityCalc': <mcstasscript.interface.instr.McStas_instr at 0x7f3ae35c3580>,\n",
       " 'SampleCalc': <mcstasscript.interface.instr.McStas_instr at 0x7f3ae354c7f0>,\n",
       " 'DetectorCalc': <mcstasscript.interface.instr.McStas_instr at 0x7f3ae354eb60>}"
      ]
     },
     "execution_count": 10,
     "metadata": {},
     "output_type": "execute_result"
    }
   ],
   "source": [
    "myinstrument.calculators"
   ]
  },
  {
   "cell_type": "code",
   "execution_count": 11,
   "id": "79b04730",
   "metadata": {
    "scrolled": false
   },
   "outputs": [
    {
     "name": "stdout",
     "output_type": "stream",
     "text": [
      "######## Instrument D11\n",
      "- Instrument: D11 -\n",
      "Calculators:\n",
      "OriginCalc\n",
      "VelocityCalc\n",
      "SampleCalc\n",
      "DetectorCalc\n",
      "- ParametersCollection object -\n",
      "  Master Parameters\n",
      "  lambda                              6          [angstrom]              L[0.12 angstrom, 12 angstrom]\n",
      "  attenuator_index                    6                               select the attenuation level by combining attenuator 1,2,3   \n",
      "  collimation                         1.5        [meter]              Collimation length: free path between end of the guide and sample   \n",
      "  disk6_index                         1                               Position of disk6   \n",
      "  disk5_index                         1                               Position of disk5   \n",
      "  disk4_index                         1                               Position of disk4   \n",
      "  disk3_index                         6                               Position of disk3   \n",
      "  disk2_index                         6                               Position of disk2   \n",
      "  disk1_index                         2                               Position of disk1   \n",
      "  detpos                              2          [meter]              Detector distance   \n",
      "  bs_x                                0.141      [meter]              Beamstop x position   \n",
      "  bs_y                                0.65       [meter]              Beamstop y position   \n",
      "  bs_index                            1                               Index to select the beamspot: 0-> beamstop width = 65mm, height=70mm; 1-> beamstop width = 75mm, height=80mm; 2-> beamstop width = 85mm, height=90mm; 3-> beamstop width = 95mm, height=100mm   \n",
      "\n",
      "   OriginCalc\n",
      "    - Parameters object -\n",
      "   lambda                              6          [angstrom]              \n",
      "   dlambda                             0.1        [angstrom]              \n",
      "\n",
      "   VelocityCalc\n",
      "    - Parameters object -\n",
      "   vin_filename                        \"none\"                             \n",
      "   attenuator_index                    6                               select the attenuation level by combining attenuator 1,2,3   L[0, 7]   \n",
      "   lambda                              6          [angstrom]              \n",
      "   rpm                                 0                               velocity selector RPM   I[-inf dimensionless, 3100 dimensionless]I[28300, inf]I[9000, 11900](0)\n",
      "   collimation                         1.5        [meter]              Collimation length: free path between end of the guide and sample   (40.5 meter, 34 meter, 28 meter, 20.5 meter, 16.5 meter, 13.5 meter, 10.5 meter, 8 meter, 5.5 meter, 4 meter, 2.5 meter, 1.5 meter)\n",
      "   disk6_index                         1                               Position of disk6   (0, 1)\n",
      "   disk5_index                         1                               Position of disk5   (0, 1, 2, 3, 4, 5, 6, 7)\n",
      "   disk4_index                         1                               Position of disk4   (0, 1, 2, 3, 4, 5, 6, 7)\n",
      "   disk3_index                         6                               Position of disk3   (0, 1, 2, 3, 4, 5, 6, 7)\n",
      "   disk2_index                         6                               Position of disk2   (0, 1, 2, 3, 4, 5, 6, 7)\n",
      "   disk1_index                         2                               Position of disk1   (0, 1, 2, 3, 4, 5, 6, 7)\n",
      "\n",
      "   SampleCalc\n",
      "    - Parameters object -\n",
      "   vin_filename                        \"none\"                             \n",
      "   sample_y_rotation                   0          [degree]             sample table rotation angle   \n",
      "   sample_width                        0.0        [meter]              width of the sample if shape is box   \n",
      "   sample_height                       0.0        [meter]              height of the sample if shape is box or cylinder   \n",
      "   sample_depth                        0.0        [meter]              depth of the sample if shape is box   \n",
      "   sample_radius                       0.0        [meter]              radius of the sample if shape is sphere or cylinder   \n",
      "   sample_thickness                    0.0        [meter]              thickness of the sample if it is hollow   \n",
      "   sample_holder_width                 0.0        [meter]              width of the sample if shape is box   \n",
      "   sample_holder_height                0.0        [meter]              height of the sample if shape is box or cylinder   \n",
      "   sample_holder_depth                 0.0        [meter]              depth of the sample if shape is box   \n",
      "   sample_holder_radius                0.0        [meter]              radius of the sample if shape is sphere or cylinder   \n",
      "   sample_holder_thickness             0.0        [meter]              thickness of the sample if it is hollow   \n",
      "\n",
      "   DetectorCalc\n",
      "    - Parameters object -\n",
      "   vin_filename                        \"none\"                             \n",
      "   detpos                              2          [meter]              Detector distance   L[1 meter, 28 meter]\n",
      "   bs_x                                0.141      [meter]              Beamstop x position   \n",
      "   bs_y                                0.65       [meter]              Beamstop y position   \n",
      "   bs_index                            1                               Index to select the beamspot: 0-> beamstop width = 65mm, height=70mm; 1-> beamstop width = 75mm, height=80mm; 2-> beamstop width = 85mm, height=90mm; 3-> beamstop width = 95mm, height=100mm   (-1, 0, 1, 2, 3)\n",
      "\n",
      "############\n"
     ]
    }
   ],
   "source": [
    "print(myinstrument)"
   ]
  },
  {
   "cell_type": "code",
   "execution_count": 12,
   "id": "c2b955ba",
   "metadata": {
    "scrolled": false
   },
   "outputs": [],
   "source": [
    "# setting the base directory for the simulation output\n",
    "basedir = \"/tmp/\"+instrument_name+\"/\"\n",
    "import os \n",
    "os.makedirs(basedir, exist_ok=True)\n",
    "myinstrument.set_instrument_base_dir(basedir)"
   ]
  },
  {
   "cell_type": "code",
   "execution_count": 13,
   "id": "bf583b30",
   "metadata": {
    "scrolled": false
   },
   "outputs": [
    {
     "data": {
      "text/plain": [
       " - Parameters object -\n",
       "lambda                              6          [angstrom]              L[0.12 angstrom, 12 angstrom]\n",
       "attenuator_index                    6                               select the attenuation level by combining attenuator 1,2,3   \n",
       "collimation                         1.5        [meter]              Collimation length: free path between end of the guide and sample   \n",
       "disk6_index                         1                               Position of disk6   \n",
       "disk5_index                         1                               Position of disk5   \n",
       "disk4_index                         1                               Position of disk4   \n",
       "disk3_index                         6                               Position of disk3   \n",
       "disk2_index                         6                               Position of disk2   \n",
       "disk1_index                         2                               Position of disk1   \n",
       "detpos                              2          [meter]              Detector distance   \n",
       "bs_x                                0.141      [meter]              Beamstop x position   \n",
       "bs_y                                0.65       [meter]              Beamstop y position   \n",
       "bs_index                            1                               Index to select the beamspot: 0-> beamstop width = 65mm, height=70mm; 1-> beamstop width = 75mm, height=80mm; 2-> beamstop width = 85mm, height=90mm; 3-> beamstop width = 95mm, height=100mm   "
      ]
     },
     "execution_count": 13,
     "metadata": {},
     "output_type": "execute_result"
    }
   ],
   "source": [
    "myinstrument.master"
   ]
  },
  {
   "cell_type": "code",
   "execution_count": 14,
   "id": "5e7d0e97",
   "metadata": {
    "scrolled": false
   },
   "outputs": [
    {
     "data": {
      "text/plain": [
       "['None', 'vanadium', 'H2O', 'D2O', 'sqw']"
      ]
     },
     "execution_count": 14,
     "metadata": {},
     "output_type": "execute_result"
    }
   ],
   "source": [
    "myinstrument.samples"
   ]
  },
  {
   "cell_type": "code",
   "execution_count": 15,
   "id": "a4dc4b8f",
   "metadata": {
    "scrolled": false
   },
   "outputs": [],
   "source": [
    "#myinstrument.set_sample_by_name(\"sqw\")\n",
    "#myinstrument.master[\"sqw_file\"]='\"/users/nourbakhsh/digitaltwin/instrument_database/institutes/ILL/instruments/D11/HEAD/mcstas/data/simul_5711.dat\"'\n",
    "#myinstrument.set_sample_by_name(\"None\")"
   ]
  },
  {
   "cell_type": "code",
   "execution_count": 16,
   "id": "099e9a6a",
   "metadata": {},
   "outputs": [],
   "source": [
    "myinstrument.sample_holder(material=\"quartz\", shape=\"box\",w=0.02, h=0.03, d=0.0135, th=0.00125)"
   ]
  },
  {
   "cell_type": "code",
   "execution_count": 17,
   "id": "e5f12935",
   "metadata": {
    "scrolled": false
   },
   "outputs": [
    {
     "name": "stdout",
     "output_type": "stream",
     "text": [
      "Help on method sample_shape in module mcstas.McStasInstrumentBase:\n",
      "\n",
      "sample_shape(shape: str, r=None, w=None, h=None, d=None, th=0) -> None method of institutes.ILL.instruments.D11.HEAD.mcstas.D11.D11 instance\n",
      "    Sets the sample's shape parameters\n",
      "     :param shape: accepted values are shere, cylinder, box, holder\n",
      "     :param r: None or float value of the radius for shere or cylinder shapes\n",
      "     :param w: None or width of box shape\n",
      "     :param h: None or height of cylinder and box shapes\n",
      "     :param d: None or depth of box shape\n",
      "     :param th: thickness of hollow shapes\n",
      "\n"
     ]
    }
   ],
   "source": [
    "#myinstrument.sample_box_shape(0.02, 0.03,0.0035-2*0.00125)\n",
    "myinstrument.sample_shape(\"holder\")\n",
    "help(myinstrument.sample_shape)"
   ]
  },
  {
   "cell_type": "code",
   "execution_count": 18,
   "id": "9a69d1a4",
   "metadata": {
    "scrolled": false
   },
   "outputs": [],
   "source": [
    "import pint\n",
    "ureg = pint.get_application_registry()\n",
    "\n",
    "test_number = 0 #None 1 or 2\n",
    "if instrument_name == \"ThALES\":\n",
    "    myinstrument.master[\"a2\"] = myinstrument.energy_to_angle(4.98 * ureg.meV)\n",
    "    myinstrument.master[\"a4\"] = 60 * ureg.degree\n",
    "    myinstrument.master[\"a6\"] = myinstrument.master[\"a2\"].pint_value\n",
    "if instrument_name == \"Panther\":\n",
    "    myinstrument.master[\"energy\"]=19 * ureg.meV\n",
    "#if instrument_name == \"D11\":\n"
   ]
  },
  {
   "cell_type": "code",
   "execution_count": 19,
   "id": "b8ec49d7",
   "metadata": {},
   "outputs": [
    {
     "data": {
      "text/plain": [
       " - Parameters object -\n",
       "lambda                              6          [angstrom]              \n",
       "dlambda                             0.1        [angstrom]              "
      ]
     },
     "execution_count": 19,
     "metadata": {},
     "output_type": "execute_result"
    }
   ],
   "source": [
    "myinstrument.calculators[\"OriginCalc\"].parameters"
   ]
  },
  {
   "cell_type": "code",
   "execution_count": 20,
   "id": "17ab1a80",
   "metadata": {
    "scrolled": false
   },
   "outputs": [],
   "source": [
    "myinstrument.sim_neutrons(5e7)\n",
    "myinstrument.set_seed(654321)\n",
    "myinstrument.custom_flags(\"-I mcstas/components\")"
   ]
  },
  {
   "cell_type": "code",
   "execution_count": 21,
   "id": "8945a9af",
   "metadata": {},
   "outputs": [
    {
     "name": "stdout",
     "output_type": "stream",
     "text": [
      " - Parameters object -\n",
      "lambda                              6          [angstrom]              \n",
      "dlambda                             0.1        [angstrom]              \n",
      "\n"
     ]
    }
   ],
   "source": [
    "calc =myinstrument.calculators[\"OriginCalc\"]\n",
    "print(calc.parameters)"
   ]
  },
  {
   "cell_type": "code",
   "execution_count": 22,
   "id": "20da6717",
   "metadata": {
    "scrolled": false
   },
   "outputs": [
    {
     "name": "stdout",
     "output_type": "stream",
     "text": [
      "\n",
      "loading system configuration\n",
      "INFO: Using directory: \"/tmp/D11/OriginCalc_26\"\n",
      "INFO: Regenerating c-file: OriginCalc.c\n",
      "Info:    'Al_window' is a contributed component.\n",
      "CFLAGS= -Wl,-rpath,CMD(mcpl-config --show libdir) -LCMD(mcpl-config --show libdir) -lmcpl -ICMD(mcpl-config --show includedir)\n",
      "      \n",
      "-----------------------------------------------------------\n",
      "\n",
      "Generating single GPU kernel or single CPU section layout: \n",
      "\n",
      "-----------------------------------------------------------\n",
      "\n",
      "Generating GPU/CPU -DFUNNEL layout:\n",
      "\n",
      "-----------------------------------------------------------\n",
      "INFO: Recompiling: ./OriginCalc.out\n",
      "./OriginCalc.c: In function ‘class_Monitor_nD_trace’:\n",
      "./OriginCalc.c:19764:72: warning: unknown conversion type character ‘\\x0a’ in format [-Wformat=]\n",
      "19764 |                 printf(\"Cylinder_intersect returned unexpected value %l\\n\", intersect);\n",
      "      |                                                                        ^~\n",
      "./OriginCalc.c:19764:24: warning: too many arguments for format [-Wformat-extra-args]\n",
      "19764 |                 printf(\"Cylinder_intersect returned unexpected value %l\\n\", intersect);\n",
      "      |                        ^~~~~~~~~~~~~~~~~~~~~~~~~~~~~~~~~~~~~~~~~~~~~~~~~~~\n",
      "./OriginCalc.c: In function ‘class_MCPL_output_trace’:\n",
      "./OriginCalc.c:20003:20: warning: format ‘%ld’ expects argument of type ‘long int’, but argument 2 has type ‘long long unsigned int’ [-Wformat=]\n",
      "20003 |       printf(\"id=%ld\\tpdg=2112\\tekin=%g MeV\\tx=%g cm\\ty=%g cm\\tz=%g cm\\tux=%g\\tuy=%g\\tuz=%g\\tt=%g ms\\tweight=%g\\tpolx=%g\\tpoly=%g\\tpolz=%g\\n\",\n",
      "      |                  ~~^\n",
      "      |                    |\n",
      "      |                    long int\n",
      "      |                  %lld\n",
      "20004 |              mcrun_num, particle->ekin, particle->position[0], particle->position[1], particle->position[2],\n",
      "      |              ~~~~~~~~~\n",
      "      |              |\n",
      "      |              long long unsigned int\n",
      "./OriginCalc.c: In function ‘detector_import’:\n",
      "./OriginCalc.c:2296:57: warning: ‘ ’ directive output may be truncated writing 1 byte into a region of size between 0 and 1023 [-Wformat-truncation=]\n",
      " 2296 |     snprintf(detector.variables, CHAR_BUF_LENGTH, \"%s %s %s_err N\", detector.xvar, c, c);\n",
      "      |                                                         ^\n",
      "In file included from /usr/include/stdio.h:894,\n",
      "                 from ./OriginCalc.c:231:\n",
      "/usr/include/x86_64-linux-gnu/bits/stdio2.h:71:10: note: ‘__builtin___snprintf_chk’ output 9 or more bytes (assuming 1032) into a destination of size 1024\n",
      "   71 |   return __builtin___snprintf_chk (__s, __n, __USE_FORTIFY_LEVEL - 1,\n",
      "      |          ^~~~~~~~~~~~~~~~~~~~~~~~~~~~~~~~~~~~~~~~~~~~~~~~~~~~~~~~~~~~\n",
      "   72 |                                    __glibc_objsize (__s), __fmt,\n",
      "      |                                    ~~~~~~~~~~~~~~~~~~~~~~~~~~~~~\n",
      "   73 |                                    __va_arg_pack ());\n",
      "      |                                    ~~~~~~~~~~~~~~~~~\n",
      "./OriginCalc.c: In function ‘Open_File’:\n",
      "./OriginCalc.c:6474:41: warning: ‘__builtin___snprintf_chk’ output may be truncated before the last format character [-Wformat-truncation=]\n",
      " 6474 |             snprintf(path, 1024, \"%s%c%s\", dir, MC_PATHSEP_C, File);\n",
      "      |                                         ^\n",
      "In file included from /usr/include/stdio.h:894,\n",
      "                 from ./OriginCalc.c:231:\n",
      "/usr/include/x86_64-linux-gnu/bits/stdio2.h:71:10: note: ‘__builtin___snprintf_chk’ output 2 or more bytes (assuming 1025) into a destination of size 1024\n",
      "   71 |   return __builtin___snprintf_chk (__s, __n, __USE_FORTIFY_LEVEL - 1,\n",
      "      |          ^~~~~~~~~~~~~~~~~~~~~~~~~~~~~~~~~~~~~~~~~~~~~~~~~~~~~~~~~~~~\n",
      "   72 |                                    __glibc_objsize (__s), __fmt,\n",
      "      |                                    ~~~~~~~~~~~~~~~~~~~~~~~~~~~~~\n",
      "   73 |                                    __va_arg_pack ());\n",
      "      |                                    ~~~~~~~~~~~~~~~~~\n",
      "./OriginCalc.c:6489:41: warning: ‘__builtin___snprintf_chk’ output may be truncated before the last format character [-Wformat-truncation=]\n",
      " 6489 |             snprintf(path, 1024, \"%s%c%s\", dir, MC_PATHSEP_C, File);\n",
      "      |                                         ^\n",
      "In file included from /usr/include/stdio.h:894,\n",
      "                 from ./OriginCalc.c:231:\n",
      "/usr/include/x86_64-linux-gnu/bits/stdio2.h:71:10: note: ‘__builtin___snprintf_chk’ output 2 or more bytes (assuming 1025) into a destination of size 1024\n",
      "   71 |   return __builtin___snprintf_chk (__s, __n, __USE_FORTIFY_LEVEL - 1,\n",
      "      |          ^~~~~~~~~~~~~~~~~~~~~~~~~~~~~~~~~~~~~~~~~~~~~~~~~~~~~~~~~~~~\n",
      "   72 |                                    __glibc_objsize (__s), __fmt,\n",
      "      |                                    ~~~~~~~~~~~~~~~~~~~~~~~~~~~~~\n",
      "   73 |                                    __va_arg_pack ());\n",
      "      |                                    ~~~~~~~~~~~~~~~~~\n",
      "./OriginCalc.c:6497:37: warning: ‘__builtin___snprintf_chk’ output may be truncated before the last format character [-Wformat-truncation=]\n",
      " 6497 |         snprintf(path, 1024, \"%s%c%s\", dir, MC_PATHSEP_C, File);\n",
      "      |                                     ^\n",
      "In file included from /usr/include/stdio.h:894,\n",
      "                 from ./OriginCalc.c:231:\n",
      "/usr/include/x86_64-linux-gnu/bits/stdio2.h:71:10: note: ‘__builtin___snprintf_chk’ output 2 or more bytes (assuming 1025) into a destination of size 1024\n",
      "   71 |   return __builtin___snprintf_chk (__s, __n, __USE_FORTIFY_LEVEL - 1,\n",
      "      |          ^~~~~~~~~~~~~~~~~~~~~~~~~~~~~~~~~~~~~~~~~~~~~~~~~~~~~~~~~~~~\n",
      "   72 |                                    __glibc_objsize (__s), __fmt,\n",
      "      |                                    ~~~~~~~~~~~~~~~~~~~~~~~~~~~~~\n",
      "   73 |                                    __va_arg_pack ());\n",
      "      |                                    ~~~~~~~~~~~~~~~~~\n",
      "./OriginCalc.c:6503:35: warning: ‘%s’ directive output may be truncated writing 4 bytes into a region of size between 0 and 1023 [-Wformat-truncation=]\n",
      " 6503 |         snprintf(path, 1024, \"%s%c%s%c%s\", dir, MC_PATHSEP_C, \"data\", MC_PATHSEP_C, File);\n",
      "      |                                   ^~                          ~~~~~~\n",
      "In file included from /usr/include/stdio.h:894,\n",
      "                 from ./OriginCalc.c:231:\n",
      "/usr/include/x86_64-linux-gnu/bits/stdio2.h:71:10: note: ‘__builtin___snprintf_chk’ output 7 or more bytes (assuming 1030) into a destination of size 1024\n",
      "   71 |   return __builtin___snprintf_chk (__s, __n, __USE_FORTIFY_LEVEL - 1,\n",
      "      |          ^~~~~~~~~~~~~~~~~~~~~~~~~~~~~~~~~~~~~~~~~~~~~~~~~~~~~~~~~~~~\n",
      "   72 |                                    __glibc_objsize (__s), __fmt,\n",
      "      |                                    ~~~~~~~~~~~~~~~~~~~~~~~~~~~~~\n",
      "   73 |                                    __va_arg_pack ());\n",
      "      |                                    ~~~~~~~~~~~~~~~~~\n",
      "./OriginCalc.c:6509:35: warning: ‘%s’ directive output may be truncated writing 7 bytes into a region of size between 0 and 1023 [-Wformat-truncation=]\n",
      " 6509 |         snprintf(path, 1024, \"%s%c%s%c%s\", dir, MC_PATHSEP_C, \"contrib\", MC_PATHSEP_C, File);\n",
      "      |                                   ^~                          ~~~~~~~~~\n",
      "In file included from /usr/include/stdio.h:894,\n",
      "                 from ./OriginCalc.c:231:\n",
      "/usr/include/x86_64-linux-gnu/bits/stdio2.h:71:10: note: ‘__builtin___snprintf_chk’ output 10 or more bytes (assuming 1033) into a destination of size 1024\n",
      "   71 |   return __builtin___snprintf_chk (__s, __n, __USE_FORTIFY_LEVEL - 1,\n",
      "      |          ^~~~~~~~~~~~~~~~~~~~~~~~~~~~~~~~~~~~~~~~~~~~~~~~~~~~~~~~~~~~\n",
      "   72 |                                    __glibc_objsize (__s), __fmt,\n",
      "      |                                    ~~~~~~~~~~~~~~~~~~~~~~~~~~~~~\n",
      "   73 |                                    __va_arg_pack ());\n",
      "      |                                    ~~~~~~~~~~~~~~~~~\n",
      "./OriginCalc.c: In function ‘Monitor_nD_Init’:\n",
      "./OriginCalc.c:8617:33: warning: ‘%li’ directive writing between 1 and 20 bytes into a region of size between 0 and 127 [-Wformat-overflow=]\n",
      " 8617 |     sprintf(Vars->Mon_File, \"%s_%li\", Vars->compcurname, t);\n",
      "      |                                 ^~~\n",
      "In file included from /usr/include/stdio.h:894,\n",
      "                 from ./OriginCalc.c:231:\n",
      "/usr/include/x86_64-linux-gnu/bits/stdio2.h:38:10: note: ‘__builtin___sprintf_chk’ output between 3 and 149 bytes into a destination of size 128\n",
      "   38 |   return __builtin___sprintf_chk (__s, __USE_FORTIFY_LEVEL - 1,\n",
      "      |          ^~~~~~~~~~~~~~~~~~~~~~~~~~~~~~~~~~~~~~~~~~~~~~~~~~~~~~\n",
      "   39 |                                   __glibc_objsize (__s), __fmt,\n",
      "      |                                   ~~~~~~~~~~~~~~~~~~~~~~~~~~~~~\n",
      "   40 |                                   __va_arg_pack ());\n",
      "      |                                   ~~~~~~~~~~~~~~~~~\n",
      "./OriginCalc.c: In function ‘off_display’:\n",
      "./OriginCalc.c:11657:30: warning: ‘%g’ directive writing between 1 and 13 bytes into a region of size between 0 and 1023 [-Wformat-overflow=]\n",
      "11657 |       sprintf(pixelinfo, \"%s,%g,%g,%g\", pixelinfo, x2-cmx, y2-cmy, z2-cmz);\n",
      "      |                              ^~\n",
      "./OriginCalc.c:11657:26: note: assuming directive output of 12 bytes\n",
      "11657 |       sprintf(pixelinfo, \"%s,%g,%g,%g\", pixelinfo, x2-cmx, y2-cmy, z2-cmz);\n",
      "      |                          ^~~~~~~~~~~~~\n",
      "./OriginCalc.c:11657:26: note: assuming directive output of 12 bytes\n",
      "./OriginCalc.c:11657:26: note: assuming directive output of 12 bytes\n",
      "In file included from /usr/include/stdio.h:894,\n",
      "                 from ./OriginCalc.c:231:\n",
      "/usr/include/x86_64-linux-gnu/bits/stdio2.h:38:10: note: ‘__builtin___sprintf_chk’ output between 7 and 1066 bytes into a destination of size 1024\n",
      "   38 |   return __builtin___sprintf_chk (__s, __USE_FORTIFY_LEVEL - 1,\n",
      "      |          ^~~~~~~~~~~~~~~~~~~~~~~~~~~~~~~~~~~~~~~~~~~~~~~~~~~~~~\n",
      "   39 |                                   __glibc_objsize (__s), __fmt,\n",
      "      |                                   ~~~~~~~~~~~~~~~~~~~~~~~~~~~~~\n",
      "   40 |                                   __va_arg_pack ());\n",
      "      |                                   ~~~~~~~~~~~~~~~~~\n",
      "./OriginCalc.c: In function ‘class_MCPL_output_init’:\n",
      "./OriginCalc.c:18443:45: warning: ‘%s’ directive output may be truncated writing up to 255 bytes into a region of size 234 [-Wformat-truncation=]\n",
      "18443 |     snprintf(line,255,\"Output by COMPONENT: %s\",NAME_CURRENT_COMP);\n",
      "      |                                             ^~\n",
      "In file included from /usr/include/stdio.h:894,\n",
      "                 from ./OriginCalc.c:231:\n",
      "/usr/include/x86_64-linux-gnu/bits/stdio2.h:71:10: note: ‘__builtin___snprintf_chk’ output between 22 and 277 bytes into a destination of size 255\n",
      "   71 |   return __builtin___snprintf_chk (__s, __n, __USE_FORTIFY_LEVEL - 1,\n",
      "      |          ^~~~~~~~~~~~~~~~~~~~~~~~~~~~~~~~~~~~~~~~~~~~~~~~~~~~~~~~~~~~\n",
      "   72 |                                    __glibc_objsize (__s), __fmt,\n",
      "      |                                    ~~~~~~~~~~~~~~~~~~~~~~~~~~~~~\n",
      "   73 |                                    __va_arg_pack ());\n",
      "      |                                    ~~~~~~~~~~~~~~~~~\n",
      "./OriginCalc.c:18507:41: warning: ‘%s’ directive output may be truncated writing up to 16383 bytes into a region of size 244 [-Wformat-truncation=]\n",
      "18507 |           snprintf(line,255,\"userflags: %s\",userflagcomment);\n",
      "      |                                         ^~\n",
      "In file included from /usr/include/stdio.h:894,\n",
      "                 from ./OriginCalc.c:231:\n",
      "/usr/include/x86_64-linux-gnu/bits/stdio2.h:71:10: note: ‘__builtin___snprintf_chk’ output between 12 and 16395 bytes into a destination of size 255\n",
      "   71 |   return __builtin___snprintf_chk (__s, __n, __USE_FORTIFY_LEVEL - 1,\n",
      "      |          ^~~~~~~~~~~~~~~~~~~~~~~~~~~~~~~~~~~~~~~~~~~~~~~~~~~~~~~~~~~~\n",
      "   72 |                                    __glibc_objsize (__s), __fmt,\n",
      "      |                                    ~~~~~~~~~~~~~~~~~~~~~~~~~~~~~\n",
      "   73 |                                    __va_arg_pack ());\n",
      "      |                                    ~~~~~~~~~~~~~~~~~\n",
      "INFO: ===\n",
      "nv = 659.339002\n",
      "lambda = 6.00\n",
      "dlambda = 0.60\n",
      "[OriginCalc] Initialize\n",
      "Source_gen: component VCS (square 0.1 x 0.22)\n",
      "            focusing distance dist=2.33 area=0.038 x 0.2\n",
      "            spectra 5.400 to 6.600 AA (1.878 to 2.806 meV)\n",
      "            T1=216.8 K (2.093 AA), T2=33.9 K (5.292 AA), T3=16.7 K (7.539 AA)\n",
      "  Flux is dPhi/dlambda in [n/s/cm2].\n",
      "\n",
      "Trace ETA 2.43333 [min] % 7 10 20 30 40 50 60 70 80 90 *** TRACE end *** \n",
      "\n",
      "Save [OriginCalc]\n",
      "Detector: PSD_VTE_I=3.71451e+08 PSD_VTE_ERR=198317 PSD_VTE_N=1.55962e+07 \"PSD_VTE_1695908222.xy\"\n",
      "Detector: PSD_IN6_I=3.27896e+08 PSD_IN6_ERR=184122 PSD_IN6_N=1.33304e+07 \"PSD_IN6_1695908222.xy\"\n",
      "Detector: PSD_D7_I=2.87229e+08 PSD_D7_ERR=170722 PSD_D7_N=1.04804e+07 \"PSD_D7_1695908222.xy\"\n",
      "MCPL: Attempting to compress file VelocityCalc.mcpl with gzip\n",
      "MCPL: Succesfully compressed file into VelocityCalc.mcpl.gz\n",
      "\n",
      "Finally [OriginCalc: /tmp/D11/OriginCalc_26]. Time: 2.35 [min] \n",
      "INFO: Placing instr file copy OriginCalc.instr in dataset /tmp/D11/OriginCalc_26\n",
      "\n"
     ]
    },
    {
     "name": "stdout",
     "output_type": "stream",
     "text": [
      "\n",
      "loading system configuration\n",
      "INFO: Using directory: \"/tmp/D11/VelocityCalc_18\"\n",
      "INFO: Regenerating c-file: VelocityCalc.c\n",
      "Info:    'Al_window' is a contributed component.\n",
      "CFLAGS= -Wl,-rpath,CMD(mcpl-config --show libdir) -LCMD(mcpl-config --show libdir) -lmcpl -ICMD(mcpl-config --show includedir) -Wl,-rpath,CMD(mcpl-config --show libdir) -LCMD(mcpl-config --show libdir) -lmcpl -ICMD(mcpl-config --show includedir)\n",
      "      \n",
      "-----------------------------------------------------------\n",
      "\n",
      "Generating single GPU kernel or single CPU section layout: \n",
      "\n",
      "-----------------------------------------------------------\n",
      "\n",
      "Generating GPU/CPU -DFUNNEL layout:\n",
      "\n",
      "-----------------------------------------------------------\n",
      "INFO: Recompiling: ./VelocityCalc.out\n",
      "./VelocityCalc.c: In function ‘class_MCPL_input_init’:\n",
      "./VelocityCalc.c:16304:150: warning: format ‘%lu’ expects argument of type ‘long unsigned int’, but argument 6 has type ‘long long unsigned int’ [-Wformat=]\n",
      "16304 |            fprintf(stdout, \"\\n\\n Warning: You are using MCPL_input with a repeat_count of %lu:\\n - Minimum neutron count requested is %lu x %lu <= %lu\",\n",
      "      |                                                                                                                                                    ~~^\n",
      "      |                                                                                                                                                      |\n",
      "      |                                                                                                                                                      long unsigned int\n",
      "      |                                                                                                                                                    %llu\n",
      "./VelocityCalc.c:16399:137: warning: format ‘%lu’ expects argument of type ‘long unsigned int’, but argument 6 has type ‘long long unsigned int’ [-Wformat=]\n",
      "16399 |       fprintf(stdout, \"\\n\\n Warning: You are using MCPL_input with a repeat_count of %lu:\\n - Neutron count requested is %lu x %lu <= %lu\",\n",
      "      |                                                                                                                                       ~~^\n",
      "      |                                                                                                                                         |\n",
      "      |                                                                                                                                         long unsigned int\n",
      "      |                                                                                                                                       %llu\n",
      "./VelocityCalc.c: In function ‘class_Monitor_nD_trace’:\n",
      "./VelocityCalc.c:17964:72: warning: unknown conversion type character ‘\\x0a’ in format [-Wformat=]\n",
      "17964 |                 printf(\"Cylinder_intersect returned unexpected value %l\\n\", intersect);\n",
      "      |                                                                        ^~\n",
      "./VelocityCalc.c:17964:24: warning: too many arguments for format [-Wformat-extra-args]\n",
      "17964 |                 printf(\"Cylinder_intersect returned unexpected value %l\\n\", intersect);\n",
      "      |                        ^~~~~~~~~~~~~~~~~~~~~~~~~~~~~~~~~~~~~~~~~~~~~~~~~~~\n",
      "./VelocityCalc.c: In function ‘class_MCPL_output_trace’:\n",
      "./VelocityCalc.c:18664:20: warning: format ‘%ld’ expects argument of type ‘long int’, but argument 2 has type ‘long long unsigned int’ [-Wformat=]\n",
      "18664 |       printf(\"id=%ld\\tpdg=2112\\tekin=%g MeV\\tx=%g cm\\ty=%g cm\\tz=%g cm\\tux=%g\\tuy=%g\\tuz=%g\\tt=%g ms\\tweight=%g\\tpolx=%g\\tpoly=%g\\tpolz=%g\\n\",\n",
      "      |                  ~~^\n",
      "      |                    |\n",
      "      |                    long int\n",
      "      |                  %lld\n",
      "18665 |              mcrun_num, particle->ekin, particle->position[0], particle->position[1], particle->position[2],\n",
      "      |              ~~~~~~~~~\n",
      "      |              |\n",
      "      |              long long unsigned int\n",
      "./VelocityCalc.c: In function ‘detector_import’:\n",
      "./VelocityCalc.c:2296:57: warning: ‘ ’ directive output may be truncated writing 1 byte into a region of size between 0 and 1023 [-Wformat-truncation=]\n",
      " 2296 |     snprintf(detector.variables, CHAR_BUF_LENGTH, \"%s %s %s_err N\", detector.xvar, c, c);\n",
      "      |                                                         ^\n",
      "In file included from /usr/include/stdio.h:894,\n",
      "                 from ./VelocityCalc.c:231:\n",
      "/usr/include/x86_64-linux-gnu/bits/stdio2.h:71:10: note: ‘__builtin___snprintf_chk’ output 9 or more bytes (assuming 1032) into a destination of size 1024\n",
      "   71 |   return __builtin___snprintf_chk (__s, __n, __USE_FORTIFY_LEVEL - 1,\n",
      "      |          ^~~~~~~~~~~~~~~~~~~~~~~~~~~~~~~~~~~~~~~~~~~~~~~~~~~~~~~~~~~~\n",
      "   72 |                                    __glibc_objsize (__s), __fmt,\n",
      "      |                                    ~~~~~~~~~~~~~~~~~~~~~~~~~~~~~\n",
      "   73 |                                    __va_arg_pack ());\n",
      "      |                                    ~~~~~~~~~~~~~~~~~\n",
      "./VelocityCalc.c: In function ‘Monitor_nD_Init’:\n",
      "./VelocityCalc.c:6605:33: warning: ‘%li’ directive writing between 1 and 20 bytes into a region of size between 0 and 127 [-Wformat-overflow=]\n",
      " 6605 |     sprintf(Vars->Mon_File, \"%s_%li\", Vars->compcurname, t);\n",
      "      |                                 ^~~\n",
      "In file included from /usr/include/stdio.h:894,\n",
      "                 from ./VelocityCalc.c:231:\n",
      "/usr/include/x86_64-linux-gnu/bits/stdio2.h:38:10: note: ‘__builtin___sprintf_chk’ output between 3 and 149 bytes into a destination of size 128\n",
      "   38 |   return __builtin___sprintf_chk (__s, __USE_FORTIFY_LEVEL - 1,\n",
      "      |          ^~~~~~~~~~~~~~~~~~~~~~~~~~~~~~~~~~~~~~~~~~~~~~~~~~~~~~\n",
      "   39 |                                   __glibc_objsize (__s), __fmt,\n",
      "      |                                   ~~~~~~~~~~~~~~~~~~~~~~~~~~~~~\n",
      "   40 |                                   __va_arg_pack ());\n",
      "      |                                   ~~~~~~~~~~~~~~~~~\n",
      "./VelocityCalc.c: In function ‘Open_File’:\n",
      "./VelocityCalc.c:8556:41: warning: ‘__builtin___snprintf_chk’ output may be truncated before the last format character [-Wformat-truncation=]\n",
      " 8556 |             snprintf(path, 1024, \"%s%c%s\", dir, MC_PATHSEP_C, File);\n",
      "      |                                         ^\n",
      "In file included from /usr/include/stdio.h:894,\n",
      "                 from ./VelocityCalc.c:231:\n",
      "/usr/include/x86_64-linux-gnu/bits/stdio2.h:71:10: note: ‘__builtin___snprintf_chk’ output 2 or more bytes (assuming 1025) into a destination of size 1024\n",
      "   71 |   return __builtin___snprintf_chk (__s, __n, __USE_FORTIFY_LEVEL - 1,\n",
      "      |          ^~~~~~~~~~~~~~~~~~~~~~~~~~~~~~~~~~~~~~~~~~~~~~~~~~~~~~~~~~~~\n",
      "   72 |                                    __glibc_objsize (__s), __fmt,\n",
      "      |                                    ~~~~~~~~~~~~~~~~~~~~~~~~~~~~~\n",
      "   73 |                                    __va_arg_pack ());\n",
      "      |                                    ~~~~~~~~~~~~~~~~~\n",
      "./VelocityCalc.c:8571:41: warning: ‘__builtin___snprintf_chk’ output may be truncated before the last format character [-Wformat-truncation=]\n",
      " 8571 |             snprintf(path, 1024, \"%s%c%s\", dir, MC_PATHSEP_C, File);\n",
      "      |                                         ^\n",
      "In file included from /usr/include/stdio.h:894,\n",
      "                 from ./VelocityCalc.c:231:\n",
      "/usr/include/x86_64-linux-gnu/bits/stdio2.h:71:10: note: ‘__builtin___snprintf_chk’ output 2 or more bytes (assuming 1025) into a destination of size 1024\n",
      "   71 |   return __builtin___snprintf_chk (__s, __n, __USE_FORTIFY_LEVEL - 1,\n",
      "      |          ^~~~~~~~~~~~~~~~~~~~~~~~~~~~~~~~~~~~~~~~~~~~~~~~~~~~~~~~~~~~\n",
      "   72 |                                    __glibc_objsize (__s), __fmt,\n",
      "      |                                    ~~~~~~~~~~~~~~~~~~~~~~~~~~~~~\n",
      "   73 |                                    __va_arg_pack ());\n",
      "      |                                    ~~~~~~~~~~~~~~~~~\n",
      "./VelocityCalc.c:8579:37: warning: ‘__builtin___snprintf_chk’ output may be truncated before the last format character [-Wformat-truncation=]\n",
      " 8579 |         snprintf(path, 1024, \"%s%c%s\", dir, MC_PATHSEP_C, File);\n",
      "      |                                     ^\n",
      "In file included from /usr/include/stdio.h:894,\n",
      "                 from ./VelocityCalc.c:231:\n",
      "/usr/include/x86_64-linux-gnu/bits/stdio2.h:71:10: note: ‘__builtin___snprintf_chk’ output 2 or more bytes (assuming 1025) into a destination of size 1024\n",
      "   71 |   return __builtin___snprintf_chk (__s, __n, __USE_FORTIFY_LEVEL - 1,\n",
      "      |          ^~~~~~~~~~~~~~~~~~~~~~~~~~~~~~~~~~~~~~~~~~~~~~~~~~~~~~~~~~~~\n",
      "   72 |                                    __glibc_objsize (__s), __fmt,\n",
      "      |                                    ~~~~~~~~~~~~~~~~~~~~~~~~~~~~~\n",
      "   73 |                                    __va_arg_pack ());\n",
      "      |                                    ~~~~~~~~~~~~~~~~~\n",
      "./VelocityCalc.c:8585:35: warning: ‘%s’ directive output may be truncated writing 4 bytes into a region of size between 0 and 1023 [-Wformat-truncation=]\n",
      " 8585 |         snprintf(path, 1024, \"%s%c%s%c%s\", dir, MC_PATHSEP_C, \"data\", MC_PATHSEP_C, File);\n",
      "      |                                   ^~                          ~~~~~~\n",
      "In file included from /usr/include/stdio.h:894,\n",
      "                 from ./VelocityCalc.c:231:\n",
      "/usr/include/x86_64-linux-gnu/bits/stdio2.h:71:10: note: ‘__builtin___snprintf_chk’ output 7 or more bytes (assuming 1030) into a destination of size 1024\n",
      "   71 |   return __builtin___snprintf_chk (__s, __n, __USE_FORTIFY_LEVEL - 1,\n",
      "      |          ^~~~~~~~~~~~~~~~~~~~~~~~~~~~~~~~~~~~~~~~~~~~~~~~~~~~~~~~~~~~\n",
      "   72 |                                    __glibc_objsize (__s), __fmt,\n",
      "      |                                    ~~~~~~~~~~~~~~~~~~~~~~~~~~~~~\n",
      "   73 |                                    __va_arg_pack ());\n",
      "      |                                    ~~~~~~~~~~~~~~~~~\n",
      "./VelocityCalc.c:8591:35: warning: ‘%s’ directive output may be truncated writing 7 bytes into a region of size between 0 and 1023 [-Wformat-truncation=]\n",
      " 8591 |         snprintf(path, 1024, \"%s%c%s%c%s\", dir, MC_PATHSEP_C, \"contrib\", MC_PATHSEP_C, File);\n",
      "      |                                   ^~                          ~~~~~~~~~\n",
      "In file included from /usr/include/stdio.h:894,\n",
      "                 from ./VelocityCalc.c:231:\n",
      "/usr/include/x86_64-linux-gnu/bits/stdio2.h:71:10: note: ‘__builtin___snprintf_chk’ output 10 or more bytes (assuming 1033) into a destination of size 1024\n",
      "   71 |   return __builtin___snprintf_chk (__s, __n, __USE_FORTIFY_LEVEL - 1,\n",
      "      |          ^~~~~~~~~~~~~~~~~~~~~~~~~~~~~~~~~~~~~~~~~~~~~~~~~~~~~~~~~~~~\n",
      "   72 |                                    __glibc_objsize (__s), __fmt,\n",
      "      |                                    ~~~~~~~~~~~~~~~~~~~~~~~~~~~~~\n",
      "   73 |                                    __va_arg_pack ());\n",
      "      |                                    ~~~~~~~~~~~~~~~~~\n",
      "./VelocityCalc.c: In function ‘off_display’:\n",
      "./VelocityCalc.c:11124:30: warning: ‘%g’ directive writing between 1 and 13 bytes into a region of size between 0 and 1023 [-Wformat-overflow=]\n",
      "11124 |       sprintf(pixelinfo, \"%s,%g,%g,%g\", pixelinfo, x2-cmx, y2-cmy, z2-cmz);\n",
      "      |                              ^~\n",
      "./VelocityCalc.c:11124:26: note: assuming directive output of 12 bytes\n",
      "11124 |       sprintf(pixelinfo, \"%s,%g,%g,%g\", pixelinfo, x2-cmx, y2-cmy, z2-cmz);\n",
      "      |                          ^~~~~~~~~~~~~\n",
      "./VelocityCalc.c:11124:26: note: assuming directive output of 12 bytes\n",
      "./VelocityCalc.c:11124:26: note: assuming directive output of 12 bytes\n",
      "In file included from /usr/include/stdio.h:894,\n",
      "                 from ./VelocityCalc.c:231:\n",
      "/usr/include/x86_64-linux-gnu/bits/stdio2.h:38:10: note: ‘__builtin___sprintf_chk’ output between 7 and 1066 bytes into a destination of size 1024\n",
      "   38 |   return __builtin___sprintf_chk (__s, __USE_FORTIFY_LEVEL - 1,\n",
      "      |          ^~~~~~~~~~~~~~~~~~~~~~~~~~~~~~~~~~~~~~~~~~~~~~~~~~~~~~\n",
      "   39 |                                   __glibc_objsize (__s), __fmt,\n",
      "      |                                   ~~~~~~~~~~~~~~~~~~~~~~~~~~~~~\n",
      "   40 |                                   __va_arg_pack ());\n",
      "      |                                   ~~~~~~~~~~~~~~~~~\n",
      "./VelocityCalc.c: In function ‘class_MCPL_output_init’:\n",
      "./VelocityCalc.c:16933:45: warning: ‘%s’ directive output may be truncated writing up to 255 bytes into a region of size 234 [-Wformat-truncation=]\n",
      "16933 |     snprintf(line,255,\"Output by COMPONENT: %s\",NAME_CURRENT_COMP);\n",
      "      |                                             ^~\n",
      "In file included from /usr/include/stdio.h:894,\n",
      "                 from ./VelocityCalc.c:231:\n",
      "/usr/include/x86_64-linux-gnu/bits/stdio2.h:71:10: note: ‘__builtin___snprintf_chk’ output between 22 and 277 bytes into a destination of size 255\n",
      "   71 |   return __builtin___snprintf_chk (__s, __n, __USE_FORTIFY_LEVEL - 1,\n",
      "      |          ^~~~~~~~~~~~~~~~~~~~~~~~~~~~~~~~~~~~~~~~~~~~~~~~~~~~~~~~~~~~\n",
      "   72 |                                    __glibc_objsize (__s), __fmt,\n",
      "      |                                    ~~~~~~~~~~~~~~~~~~~~~~~~~~~~~\n",
      "   73 |                                    __va_arg_pack ());\n",
      "      |                                    ~~~~~~~~~~~~~~~~~\n",
      "./VelocityCalc.c:16997:41: warning: ‘%s’ directive output may be truncated writing up to 16383 bytes into a region of size 244 [-Wformat-truncation=]\n",
      "16997 |           snprintf(line,255,\"userflags: %s\",userflagcomment);\n",
      "      |                                         ^~\n",
      "In file included from /usr/include/stdio.h:894,\n",
      "                 from ./VelocityCalc.c:231:\n",
      "/usr/include/x86_64-linux-gnu/bits/stdio2.h:71:10: note: ‘__builtin___snprintf_chk’ output between 12 and 16395 bytes into a destination of size 255\n",
      "   71 |   return __builtin___snprintf_chk (__s, __n, __USE_FORTIFY_LEVEL - 1,\n",
      "      |          ^~~~~~~~~~~~~~~~~~~~~~~~~~~~~~~~~~~~~~~~~~~~~~~~~~~~~~~~~~~~\n",
      "   72 |                                    __glibc_objsize (__s), __fmt,\n",
      "      |                                    ~~~~~~~~~~~~~~~~~~~~~~~~~~~~~\n",
      "   73 |                                    __va_arg_pack ());\n",
      "      |                                    ~~~~~~~~~~~~~~~~~\n",
      "INFO: ===\n",
      "Slit: disk5_7: Warning: Running with CLOSED radial slit - is this intentional?\n",
      "Slit: disk5_5: Warning: Running with CLOSED radial slit - is this intentional?\n",
      "Slit: disk4_7: Warning: Running with CLOSED radial slit - is this intentional?\n",
      "Slit: disk4_5: Warning: Running with CLOSED radial slit - is this intentional?\n",
      "Slit: disk3_7: Warning: Running with CLOSED radial slit - is this intentional?\n",
      "Slit: disk2_7: Warning: Running with CLOSED radial slit - is this intentional?\n",
      "VS rpm = 21229.65\n",
      "[VelocityCalc] Initialize\n",
      "Message(Vin): MCPL file (/tmp/D11/OriginCalc_26/VelocityCalc.mcpl.gz) produced with McStas 3.3 OriginCalc.\n",
      "Message(Vin): MCPL file (/tmp/D11/OriginCalc_26/VelocityCalc.mcpl.gz) contains 2243913 particles.\n",
      "\n",
      "\n",
      " Warning: You are using MCPL_input with a repeat_count of 1:\n",
      " - Minimum neutron count requested is 2243913 x 1 <= 2243913 neutrons total\n",
      "\n",
      "MCPL_input verbose mode - outputting data on the 10 first read neutrons in MCPL units:\n",
      "id=1 pdg=2112\tekin=1.90793e-09 MeV\tx=-1.17702 cm\ty=-0.620247 cm\tz=0.4 cm\tux=-0.0125083\tuy=0.0212189\tuz=0.999697\tt=102.608 ms\tweight=0\tpolx=0\tpoly=0\tpolz=0\n",
      "id=2 pdg=2112\tekin=2.18641e-09 MeV\tx=0.320962 cm\ty=0.211975 cm\tz=0.4 cm\tux=-0.0186473\tuy=-0.0116396\tuz=0.999758\tt=95.9189 ms\tweight=0\tpolx=0\tpoly=0\tpolz=0\n",
      "id=3 pdg=2112\tekin=2.31673e-09 MeV\tx=0.556992 cm\ty=-1.07982 cm\tz=0.4 cm\tux=0.0135097\tuy=0.0218998\tuz=0.999669\tt=93.083 ms\tweight=0\tpolx=0\tpoly=0\tpolz=0\n",
      "id=4 pdg=2112\tekin=2.1252e-09 MeV\tx=-1.43267 cm\ty=0.932175 cm\tz=0.4 cm\tux=-0.00442467\tuy=0.0116441\tuz=0.999922\tt=97.1802 ms\tweight=0.359098\tpolx=0\tpoly=0\tpolz=0\n",
      "id=5 pdg=2112\tekin=2.34918e-09 MeV\tx=0.563475 cm\ty=-0.930398 cm\tz=0.4 cm\tux=0.00140032\tuy=0.00413137\tuz=0.99999\tt=92.3897 ms\tweight=107.949\tpolx=0\tpoly=0\tpolz=0\n",
      "id=6 pdg=2112\tekin=1.99455e-09 MeV\tx=-0.0456216 cm\ty=2.04235 cm\tz=0.4 cm\tux=-0.00459802\tuy=-0.0133551\tuz=0.9999\tt=100.395 ms\tweight=9.3753e-07\tpolx=0\tpoly=0\tpolz=0\n",
      "id=7 pdg=2112\tekin=2.71889e-09 MeV\tx=1.09412 cm\ty=0.892188 cm\tz=0.4 cm\tux=0.00533593\tuy=-0.0185493\tuz=0.999814\tt=85.9744 ms\tweight=1.12941e-38\tpolx=0\tpoly=0\tpolz=0\n",
      "id=8 pdg=2112\tekin=2.60378e-09 MeV\tx=-1.41788 cm\ty=0.364344 cm\tz=0.4 cm\tux=0.00832895\tuy=-0.011804\tuz=0.999896\tt=87.7691 ms\tweight=0.0012709\tpolx=0\tpoly=0\tpolz=0\n",
      "id=9 pdg=2112\tekin=2.30238e-09 MeV\tx=1.42268 cm\ty=2.11819 cm\tz=0.4 cm\tux=0.00680752\tuy=-0.00730417\tuz=0.99995\tt=93.3361 ms\tweight=31.7508\tpolx=0\tpoly=0\tpolz=0\n",
      "id=10 pdg=2112\tekin=1.99748e-09 MeV\tx=-0.418299 cm\ty=0.966356 cm\tz=0.4 cm\tux=-0.0164499\tuy=-0.0137637\tuz=0.99977\tt=100.195 ms\tweight=0\tpolx=0\tpoly=0\tpolz=0\n",
      "*** TRACE end *** \n",
      "\n",
      "Save [VelocityCalc]\n",
      "Detector: PSD_attenuator_I=32744.2 PSD_attenuator_ERR=43.2138 PSD_attenuator_N=2.24391e+06 \"PSD_attenuator_1695908369.L\"\n",
      "Detector: PSD_sample_I=0 PSD_sample_ERR=0 PSD_sample_N=0 \"PSD_sample_1695908369.xy\"\n",
      "MCPL: Attempting to compress file SampleCalc.mcpl with gzip\n",
      "Warning (Vin): You requested 4487826 neutrons from a file which contains 2243913 particles in general, of which only 2243913 are neutrons (within the wanted energy interval).\n",
      "Please examine the recorded intensities carefully.\n",
      "MCPL: Succesfully compressed file into SampleCalc.mcpl.gz\n",
      "\n",
      "Finally [VelocityCalc: /tmp/D11/VelocityCalc_18]. Time: 4 [s] \n",
      "INFO: Placing instr file copy VelocityCalc.instr in dataset /tmp/D11/VelocityCalc_18\n",
      "\n"
     ]
    },
    {
     "name": "stdout",
     "output_type": "stream",
     "text": [
      "\n",
      "loading system configuration\n",
      "INFO: Using directory: \"/tmp/D11/SampleCalc_17\"\n",
      "INFO: Regenerating c-file: SampleCalc.c\n",
      "CFLAGS= -Wl,-rpath,CMD(mcpl-config --show libdir) -LCMD(mcpl-config --show libdir) -lmcpl -ICMD(mcpl-config --show includedir) -Wl,-rpath,CMD(mcpl-config --show libdir) -LCMD(mcpl-config --show libdir) -lmcpl -ICMD(mcpl-config --show includedir)\n",
      "\n",
      "WARNING:\n",
      " The parameter powder_format of sample_holder_in is initialized \n",
      " using a static {,,,} vector.\n",
      "  -> Such static vectors support literal numbers ONLY.\n",
      "  -> Any vector use of variables or defines must happen via a \n",
      "     DECLARE/INITIALIZE pointer.\n",
      "\n",
      "\n",
      "-----------------------------------------------------------\n",
      "\n",
      "Generating single GPU kernel or single CPU section layout: \n",
      "\n",
      "-----------------------------------------------------------\n",
      "\n",
      "Generating GPU/CPU -DFUNNEL layout:\n",
      "\n",
      "-----------------------------------------------------------\n",
      "INFO: Recompiling: ./SampleCalc.out\n",
      "./SampleCalc.c: In function ‘class_MCPL_input_init’:\n",
      "./SampleCalc.c:11565:150: warning: format ‘%lu’ expects argument of type ‘long unsigned int’, but argument 6 has type ‘long long unsigned int’ [-Wformat=]\n",
      "11565 |            fprintf(stdout, \"\\n\\n Warning: You are using MCPL_input with a repeat_count of %lu:\\n - Minimum neutron count requested is %lu x %lu <= %lu\",\n",
      "      |                                                                                                                                                    ~~^\n",
      "      |                                                                                                                                                      |\n",
      "      |                                                                                                                                                      long unsigned int\n",
      "      |                                                                                                                                                    %llu\n",
      "./SampleCalc.c:11660:137: warning: format ‘%lu’ expects argument of type ‘long unsigned int’, but argument 6 has type ‘long long unsigned int’ [-Wformat=]\n",
      "11660 |       fprintf(stdout, \"\\n\\n Warning: You are using MCPL_input with a repeat_count of %lu:\\n - Neutron count requested is %lu x %lu <= %lu\",\n",
      "      |                                                                                                                                       ~~^\n",
      "      |                                                                                                                                         |\n",
      "      |                                                                                                                                         long unsigned int\n",
      "      |                                                                                                                                       %llu\n",
      "./SampleCalc.c: In function ‘class_MCPL_output_trace’:\n",
      "./SampleCalc.c:13295:20: warning: format ‘%ld’ expects argument of type ‘long int’, but argument 2 has type ‘long long unsigned int’ [-Wformat=]\n",
      "13295 |       printf(\"id=%ld\\tpdg=2112\\tekin=%g MeV\\tx=%g cm\\ty=%g cm\\tz=%g cm\\tux=%g\\tuy=%g\\tuz=%g\\tt=%g ms\\tweight=%g\\tpolx=%g\\tpoly=%g\\tpolz=%g\\n\",\n",
      "      |                  ~~^\n",
      "      |                    |\n",
      "      |                    long int\n",
      "      |                  %lld\n",
      "13296 |              mcrun_num, particle->ekin, particle->position[0], particle->position[1], particle->position[2],\n",
      "      |              ~~~~~~~~~\n",
      "      |              |\n",
      "      |              long long unsigned int\n",
      "./SampleCalc.c: In function ‘detector_import’:\n",
      "./SampleCalc.c:2296:57: warning: ‘ ’ directive output may be truncated writing 1 byte into a region of size between 0 and 1023 [-Wformat-truncation=]\n",
      " 2296 |     snprintf(detector.variables, CHAR_BUF_LENGTH, \"%s %s %s_err N\", detector.xvar, c, c);\n",
      "      |                                                         ^\n",
      "In file included from /usr/include/stdio.h:894,\n",
      "                 from ./SampleCalc.c:231:\n",
      "/usr/include/x86_64-linux-gnu/bits/stdio2.h:71:10: note: ‘__builtin___snprintf_chk’ output 9 or more bytes (assuming 1032) into a destination of size 1024\n",
      "   71 |   return __builtin___snprintf_chk (__s, __n, __USE_FORTIFY_LEVEL - 1,\n",
      "      |          ^~~~~~~~~~~~~~~~~~~~~~~~~~~~~~~~~~~~~~~~~~~~~~~~~~~~~~~~~~~~\n",
      "   72 |                                    __glibc_objsize (__s), __fmt,\n",
      "      |                                    ~~~~~~~~~~~~~~~~~~~~~~~~~~~~~\n",
      "   73 |                                    __va_arg_pack ());\n",
      "      |                                    ~~~~~~~~~~~~~~~~~\n",
      "./SampleCalc.c: In function ‘Open_File’:\n",
      "./SampleCalc.c:6511:41: warning: ‘__builtin___snprintf_chk’ output may be truncated before the last format character [-Wformat-truncation=]\n",
      " 6511 |             snprintf(path, 1024, \"%s%c%s\", dir, MC_PATHSEP_C, File);\n",
      "      |                                         ^\n",
      "In file included from /usr/include/stdio.h:894,\n",
      "                 from ./SampleCalc.c:231:\n",
      "/usr/include/x86_64-linux-gnu/bits/stdio2.h:71:10: note: ‘__builtin___snprintf_chk’ output 2 or more bytes (assuming 1025) into a destination of size 1024\n",
      "   71 |   return __builtin___snprintf_chk (__s, __n, __USE_FORTIFY_LEVEL - 1,\n",
      "      |          ^~~~~~~~~~~~~~~~~~~~~~~~~~~~~~~~~~~~~~~~~~~~~~~~~~~~~~~~~~~~\n",
      "   72 |                                    __glibc_objsize (__s), __fmt,\n",
      "      |                                    ~~~~~~~~~~~~~~~~~~~~~~~~~~~~~\n",
      "   73 |                                    __va_arg_pack ());\n",
      "      |                                    ~~~~~~~~~~~~~~~~~\n",
      "./SampleCalc.c:6526:41: warning: ‘__builtin___snprintf_chk’ output may be truncated before the last format character [-Wformat-truncation=]\n",
      " 6526 |             snprintf(path, 1024, \"%s%c%s\", dir, MC_PATHSEP_C, File);\n",
      "      |                                         ^\n",
      "In file included from /usr/include/stdio.h:894,\n",
      "                 from ./SampleCalc.c:231:\n",
      "/usr/include/x86_64-linux-gnu/bits/stdio2.h:71:10: note: ‘__builtin___snprintf_chk’ output 2 or more bytes (assuming 1025) into a destination of size 1024\n",
      "   71 |   return __builtin___snprintf_chk (__s, __n, __USE_FORTIFY_LEVEL - 1,\n",
      "      |          ^~~~~~~~~~~~~~~~~~~~~~~~~~~~~~~~~~~~~~~~~~~~~~~~~~~~~~~~~~~~\n",
      "   72 |                                    __glibc_objsize (__s), __fmt,\n",
      "      |                                    ~~~~~~~~~~~~~~~~~~~~~~~~~~~~~\n",
      "   73 |                                    __va_arg_pack ());\n",
      "      |                                    ~~~~~~~~~~~~~~~~~\n",
      "./SampleCalc.c:6534:37: warning: ‘__builtin___snprintf_chk’ output may be truncated before the last format character [-Wformat-truncation=]\n",
      " 6534 |         snprintf(path, 1024, \"%s%c%s\", dir, MC_PATHSEP_C, File);\n",
      "      |                                     ^\n",
      "In file included from /usr/include/stdio.h:894,\n",
      "                 from ./SampleCalc.c:231:\n",
      "/usr/include/x86_64-linux-gnu/bits/stdio2.h:71:10: note: ‘__builtin___snprintf_chk’ output 2 or more bytes (assuming 1025) into a destination of size 1024\n",
      "   71 |   return __builtin___snprintf_chk (__s, __n, __USE_FORTIFY_LEVEL - 1,\n",
      "      |          ^~~~~~~~~~~~~~~~~~~~~~~~~~~~~~~~~~~~~~~~~~~~~~~~~~~~~~~~~~~~\n",
      "   72 |                                    __glibc_objsize (__s), __fmt,\n",
      "      |                                    ~~~~~~~~~~~~~~~~~~~~~~~~~~~~~\n",
      "   73 |                                    __va_arg_pack ());\n",
      "      |                                    ~~~~~~~~~~~~~~~~~\n",
      "./SampleCalc.c:6540:35: warning: ‘%s’ directive output may be truncated writing 4 bytes into a region of size between 0 and 1023 [-Wformat-truncation=]\n",
      " 6540 |         snprintf(path, 1024, \"%s%c%s%c%s\", dir, MC_PATHSEP_C, \"data\", MC_PATHSEP_C, File);\n",
      "      |                                   ^~                          ~~~~~~\n",
      "In file included from /usr/include/stdio.h:894,\n",
      "                 from ./SampleCalc.c:231:\n",
      "/usr/include/x86_64-linux-gnu/bits/stdio2.h:71:10: note: ‘__builtin___snprintf_chk’ output 7 or more bytes (assuming 1030) into a destination of size 1024\n",
      "   71 |   return __builtin___snprintf_chk (__s, __n, __USE_FORTIFY_LEVEL - 1,\n",
      "      |          ^~~~~~~~~~~~~~~~~~~~~~~~~~~~~~~~~~~~~~~~~~~~~~~~~~~~~~~~~~~~\n",
      "   72 |                                    __glibc_objsize (__s), __fmt,\n",
      "      |                                    ~~~~~~~~~~~~~~~~~~~~~~~~~~~~~\n",
      "   73 |                                    __va_arg_pack ());\n",
      "      |                                    ~~~~~~~~~~~~~~~~~\n",
      "./SampleCalc.c:6546:35: warning: ‘%s’ directive output may be truncated writing 7 bytes into a region of size between 0 and 1023 [-Wformat-truncation=]\n",
      " 6546 |         snprintf(path, 1024, \"%s%c%s%c%s\", dir, MC_PATHSEP_C, \"contrib\", MC_PATHSEP_C, File);\n",
      "      |                                   ^~                          ~~~~~~~~~\n",
      "In file included from /usr/include/stdio.h:894,\n",
      "                 from ./SampleCalc.c:231:\n",
      "/usr/include/x86_64-linux-gnu/bits/stdio2.h:71:10: note: ‘__builtin___snprintf_chk’ output 10 or more bytes (assuming 1033) into a destination of size 1024\n",
      "   71 |   return __builtin___snprintf_chk (__s, __n, __USE_FORTIFY_LEVEL - 1,\n",
      "      |          ^~~~~~~~~~~~~~~~~~~~~~~~~~~~~~~~~~~~~~~~~~~~~~~~~~~~~~~~~~~~\n",
      "   72 |                                    __glibc_objsize (__s), __fmt,\n",
      "      |                                    ~~~~~~~~~~~~~~~~~~~~~~~~~~~~~\n",
      "   73 |                                    __va_arg_pack ());\n",
      "      |                                    ~~~~~~~~~~~~~~~~~\n",
      "./SampleCalc.c: In function ‘off_display’:\n",
      "./SampleCalc.c:9079:30: warning: ‘%g’ directive writing between 1 and 13 bytes into a region of size between 0 and 1023 [-Wformat-overflow=]\n",
      " 9079 |       sprintf(pixelinfo, \"%s,%g,%g,%g\", pixelinfo, x2-cmx, y2-cmy, z2-cmz);\n",
      "      |                              ^~\n",
      "./SampleCalc.c:9079:26: note: assuming directive output of 12 bytes\n",
      " 9079 |       sprintf(pixelinfo, \"%s,%g,%g,%g\", pixelinfo, x2-cmx, y2-cmy, z2-cmz);\n",
      "      |                          ^~~~~~~~~~~~~\n",
      "./SampleCalc.c:9079:26: note: assuming directive output of 12 bytes\n",
      "./SampleCalc.c:9079:26: note: assuming directive output of 12 bytes\n",
      "In file included from /usr/include/stdio.h:894,\n",
      "                 from ./SampleCalc.c:231:\n",
      "/usr/include/x86_64-linux-gnu/bits/stdio2.h:38:10: note: ‘__builtin___sprintf_chk’ output between 7 and 1066 bytes into a destination of size 1024\n",
      "   38 |   return __builtin___sprintf_chk (__s, __USE_FORTIFY_LEVEL - 1,\n",
      "      |          ^~~~~~~~~~~~~~~~~~~~~~~~~~~~~~~~~~~~~~~~~~~~~~~~~~~~~~\n",
      "   39 |                                   __glibc_objsize (__s), __fmt,\n",
      "      |                                   ~~~~~~~~~~~~~~~~~~~~~~~~~~~~~\n",
      "   40 |                                   __va_arg_pack ());\n",
      "      |                                   ~~~~~~~~~~~~~~~~~\n",
      "./SampleCalc.c: In function ‘class_MCPL_output_init’:\n",
      "./SampleCalc.c:11995:45: warning: ‘%s’ directive output may be truncated writing up to 255 bytes into a region of size 234 [-Wformat-truncation=]\n",
      "11995 |     snprintf(line,255,\"Output by COMPONENT: %s\",NAME_CURRENT_COMP);\n",
      "      |                                             ^~\n",
      "In file included from /usr/include/stdio.h:894,\n",
      "                 from ./SampleCalc.c:231:\n",
      "/usr/include/x86_64-linux-gnu/bits/stdio2.h:71:10: note: ‘__builtin___snprintf_chk’ output between 22 and 277 bytes into a destination of size 255\n",
      "   71 |   return __builtin___snprintf_chk (__s, __n, __USE_FORTIFY_LEVEL - 1,\n",
      "      |          ^~~~~~~~~~~~~~~~~~~~~~~~~~~~~~~~~~~~~~~~~~~~~~~~~~~~~~~~~~~~\n",
      "   72 |                                    __glibc_objsize (__s), __fmt,\n",
      "      |                                    ~~~~~~~~~~~~~~~~~~~~~~~~~~~~~\n",
      "   73 |                                    __va_arg_pack ());\n",
      "      |                                    ~~~~~~~~~~~~~~~~~\n",
      "./SampleCalc.c:12059:41: warning: ‘%s’ directive output may be truncated writing up to 16383 bytes into a region of size 244 [-Wformat-truncation=]\n",
      "12059 |           snprintf(line,255,\"userflags: %s\",userflagcomment);\n",
      "      |                                         ^~\n",
      "In file included from /usr/include/stdio.h:894,\n",
      "                 from ./SampleCalc.c:231:\n",
      "/usr/include/x86_64-linux-gnu/bits/stdio2.h:71:10: note: ‘__builtin___snprintf_chk’ output between 12 and 16395 bytes into a destination of size 255\n",
      "   71 |   return __builtin___snprintf_chk (__s, __n, __USE_FORTIFY_LEVEL - 1,\n",
      "      |          ^~~~~~~~~~~~~~~~~~~~~~~~~~~~~~~~~~~~~~~~~~~~~~~~~~~~~~~~~~~~\n",
      "   72 |                                    __glibc_objsize (__s), __fmt,\n",
      "      |                                    ~~~~~~~~~~~~~~~~~~~~~~~~~~~~~\n",
      "   73 |                                    __va_arg_pack ());\n",
      "      |                                    ~~~~~~~~~~~~~~~~~\n",
      "INFO: ===\n",
      "Warning(Vin): MCPL-file reports no present particles. Foolishly trying to go on.\n",
      "[SampleCalc] Initialize\n",
      "\n",
      "\n",
      " Warning: You are using MCPL_input with a repeat_count of 1:\n",
      " - Minimum neutron count requested is 0 x 1 <= 0 neutrons total\n",
      "\n",
      "MCPL_input verbose mode - outputting data on the 10 first read neutrons in MCPL units:\n",
      "Isotropic_Sqw: sample_holder_in: is a hollow box: width=0.020000 height=0.030000 depth=0.013500 \n",
      "Opening input file '/usr/share/mcstas/3.3/tools/Python/mcrun/../mccodelib/../../../data/SiO2_liq.qSq' (Table_Read_Offset)\n",
      "Opening input file '/usr/share/mcstas/3.3/tools/Python/mcrun/../mccodelib/../../../data/SiO2_liq.qSq' (Table_Read_Offset)\n",
      "Isotropic_Sqw: sample_holder_in: Computing scattering unit density V_rho=0.0220518 [AA^-3] from density=2.2 [g/cm^3] weight=60.08 [g/mol].\n",
      "Isotropic_sqw: Converting 2467 S(q) from SiO2_liq.qSq into S(q,w) data\n",
      "Isotropic_sqw: q range [0:49.971], creating 2467 elements vector\n",
      "Isotropic_Sqw: sample_holder_in: Generated SiO2_liq.qSq coherent Sqw\n",
      "                   q=[0:49.971 Angs-1] w=[0:0 meV] |S|=1.01457 size=[2499x1] sigma=10.6 [barns]\n",
      "               Mainly elastic scattering.\n",
      "Isotropic_Sqw: sample_holder_in: Using Isotropic elastic incoherent scattering (sigma=0.0056 [barns])\n",
      "Isotropic_Sqw: sample_holder_in: Sample temperature not defined (T=0).\n",
      "Warning        Disabling detailed balance.\n",
      "Isotropic_Sqw: sample_holder_out: is a hollow box: width=0.020000 height=0.030000 depth=0.013500 \n",
      "Isotropic_Sqw: sample_holder_out: Computing scattering unit density V_rho=0.0220518 [AA^-3] from density=2.2 [g/cm^3] weight=60.08 [g/mol].\n",
      "Isotropic_sqw: Converting 2467 S(q) from SiO2_liq.qSq into S(q,w) data\n",
      "Isotropic_sqw: q range [0:49.971], creating 2467 elements vector\n",
      "Isotropic_Sqw: sample_holder_out: Generated SiO2_liq.qSq coherent Sqw\n",
      "                   q=[0:49.971 Angs-1] w=[0:0 meV] |S|=1.01457 size=[2499x1] sigma=10.6 [barns]\n",
      "               Mainly elastic scattering.\n",
      "Isotropic_Sqw: sample_holder_out: Using Isotropic elastic incoherent scattering (sigma=0.0056 [barns])\n",
      "Isotropic_Sqw: sample_holder_out: Sample temperature not defined (T=0).\n",
      "Warning        Disabling detailed balance.\n",
      "*** TRACE end *** \n",
      "\n",
      "Save [SampleCalc]\n",
      "MCPL: Attempting to compress file DetectorCalc.mcpl with gzip\n",
      "MCPL: Succesfully compressed file into DetectorCalc.mcpl.gz\n",
      "\n",
      "Finally [SampleCalc: /tmp/D11/SampleCalc_17]. Time: 471086 [h] \n",
      "INFO: Placing instr file copy SampleCalc.instr in dataset /tmp/D11/SampleCalc_17\n",
      "\n"
     ]
    },
    {
     "name": "stdout",
     "output_type": "stream",
     "text": [
      "\n",
      "loading system configuration\n",
      "INFO: Using directory: \"/tmp/D11/DetectorCalc_15\"\n",
      "INFO: Regenerating c-file: DetectorCalc.c\n",
      "CFLAGS= -Wl,-rpath,CMD(mcpl-config --show libdir) -LCMD(mcpl-config --show libdir) -lmcpl -ICMD(mcpl-config --show includedir)\n",
      "      \n",
      "-----------------------------------------------------------\n",
      "\n",
      "Generating single GPU kernel or single CPU section layout: \n",
      "\n",
      "-----------------------------------------------------------\n",
      "\n",
      "Generating GPU/CPU -DFUNNEL layout:\n",
      "\n",
      "-----------------------------------------------------------\n",
      "INFO: Recompiling: ./DetectorCalc.out\n",
      "./DetectorCalc.c: In function ‘class_MCPL_input_init’:\n",
      "./DetectorCalc.c:11842:150: warning: format ‘%lu’ expects argument of type ‘long unsigned int’, but argument 6 has type ‘long long unsigned int’ [-Wformat=]\n",
      "11842 |            fprintf(stdout, \"\\n\\n Warning: You are using MCPL_input with a repeat_count of %lu:\\n - Minimum neutron count requested is %lu x %lu <= %lu\",\n",
      "      |                                                                                                                                                    ~~^\n",
      "      |                                                                                                                                                      |\n",
      "      |                                                                                                                                                      long unsigned int\n",
      "      |                                                                                                                                                    %llu\n",
      "./DetectorCalc.c:11937:137: warning: format ‘%lu’ expects argument of type ‘long unsigned int’, but argument 6 has type ‘long long unsigned int’ [-Wformat=]\n",
      "11937 |       fprintf(stdout, \"\\n\\n Warning: You are using MCPL_input with a repeat_count of %lu:\\n - Neutron count requested is %lu x %lu <= %lu\",\n",
      "      |                                                                                                                                       ~~^\n",
      "      |                                                                                                                                         |\n",
      "      |                                                                                                                                         long unsigned int\n",
      "      |                                                                                                                                       %llu\n",
      "./DetectorCalc.c: In function ‘class_Monitor_nD_trace’:\n",
      "./DetectorCalc.c:12851:72: warning: unknown conversion type character ‘\\x0a’ in format [-Wformat=]\n",
      "12851 |                 printf(\"Cylinder_intersect returned unexpected value %l\\n\", intersect);\n",
      "      |                                                                        ^~\n",
      "./DetectorCalc.c:12851:24: warning: too many arguments for format [-Wformat-extra-args]\n",
      "12851 |                 printf(\"Cylinder_intersect returned unexpected value %l\\n\", intersect);\n",
      "      |                        ^~~~~~~~~~~~~~~~~~~~~~~~~~~~~~~~~~~~~~~~~~~~~~~~~~~\n",
      "./DetectorCalc.c: In function ‘detector_import’:\n",
      "./DetectorCalc.c:2296:57: warning: ‘ ’ directive output may be truncated writing 1 byte into a region of size between 0 and 1023 [-Wformat-truncation=]\n",
      " 2296 |     snprintf(detector.variables, CHAR_BUF_LENGTH, \"%s %s %s_err N\", detector.xvar, c, c);\n",
      "      |                                                         ^\n",
      "In file included from /usr/include/stdio.h:894,\n",
      "                 from ./DetectorCalc.c:231:\n",
      "/usr/include/x86_64-linux-gnu/bits/stdio2.h:71:10: note: ‘__builtin___snprintf_chk’ output 9 or more bytes (assuming 1032) into a destination of size 1024\n",
      "   71 |   return __builtin___snprintf_chk (__s, __n, __USE_FORTIFY_LEVEL - 1,\n",
      "      |          ^~~~~~~~~~~~~~~~~~~~~~~~~~~~~~~~~~~~~~~~~~~~~~~~~~~~~~~~~~~~\n",
      "   72 |                                    __glibc_objsize (__s), __fmt,\n",
      "      |                                    ~~~~~~~~~~~~~~~~~~~~~~~~~~~~~\n",
      "   73 |                                    __va_arg_pack ());\n",
      "      |                                    ~~~~~~~~~~~~~~~~~\n",
      "./DetectorCalc.c: In function ‘Monitor_nD_Init’:\n",
      "./DetectorCalc.c:6593:33: warning: ‘%li’ directive writing between 1 and 20 bytes into a region of size between 0 and 127 [-Wformat-overflow=]\n",
      " 6593 |     sprintf(Vars->Mon_File, \"%s_%li\", Vars->compcurname, t);\n",
      "      |                                 ^~~\n",
      "In file included from /usr/include/stdio.h:894,\n",
      "                 from ./DetectorCalc.c:231:\n",
      "/usr/include/x86_64-linux-gnu/bits/stdio2.h:38:10: note: ‘__builtin___sprintf_chk’ output between 3 and 149 bytes into a destination of size 128\n",
      "   38 |   return __builtin___sprintf_chk (__s, __USE_FORTIFY_LEVEL - 1,\n",
      "      |          ^~~~~~~~~~~~~~~~~~~~~~~~~~~~~~~~~~~~~~~~~~~~~~~~~~~~~~\n",
      "   39 |                                   __glibc_objsize (__s), __fmt,\n",
      "      |                                   ~~~~~~~~~~~~~~~~~~~~~~~~~~~~~\n",
      "   40 |                                   __va_arg_pack ());\n",
      "      |                                   ~~~~~~~~~~~~~~~~~\n",
      "./DetectorCalc.c: In function ‘Open_File’:\n",
      "./DetectorCalc.c:8544:41: warning: ‘__builtin___snprintf_chk’ output may be truncated before the last format character [-Wformat-truncation=]\n",
      " 8544 |             snprintf(path, 1024, \"%s%c%s\", dir, MC_PATHSEP_C, File);\n",
      "      |                                         ^\n",
      "In file included from /usr/include/stdio.h:894,\n",
      "                 from ./DetectorCalc.c:231:\n",
      "/usr/include/x86_64-linux-gnu/bits/stdio2.h:71:10: note: ‘__builtin___snprintf_chk’ output 2 or more bytes (assuming 1025) into a destination of size 1024\n",
      "   71 |   return __builtin___snprintf_chk (__s, __n, __USE_FORTIFY_LEVEL - 1,\n",
      "      |          ^~~~~~~~~~~~~~~~~~~~~~~~~~~~~~~~~~~~~~~~~~~~~~~~~~~~~~~~~~~~\n",
      "   72 |                                    __glibc_objsize (__s), __fmt,\n",
      "      |                                    ~~~~~~~~~~~~~~~~~~~~~~~~~~~~~\n",
      "   73 |                                    __va_arg_pack ());\n",
      "      |                                    ~~~~~~~~~~~~~~~~~\n",
      "./DetectorCalc.c:8559:41: warning: ‘__builtin___snprintf_chk’ output may be truncated before the last format character [-Wformat-truncation=]\n",
      " 8559 |             snprintf(path, 1024, \"%s%c%s\", dir, MC_PATHSEP_C, File);\n",
      "      |                                         ^\n",
      "In file included from /usr/include/stdio.h:894,\n",
      "                 from ./DetectorCalc.c:231:\n",
      "/usr/include/x86_64-linux-gnu/bits/stdio2.h:71:10: note: ‘__builtin___snprintf_chk’ output 2 or more bytes (assuming 1025) into a destination of size 1024\n",
      "   71 |   return __builtin___snprintf_chk (__s, __n, __USE_FORTIFY_LEVEL - 1,\n",
      "      |          ^~~~~~~~~~~~~~~~~~~~~~~~~~~~~~~~~~~~~~~~~~~~~~~~~~~~~~~~~~~~\n",
      "   72 |                                    __glibc_objsize (__s), __fmt,\n",
      "      |                                    ~~~~~~~~~~~~~~~~~~~~~~~~~~~~~\n",
      "   73 |                                    __va_arg_pack ());\n",
      "      |                                    ~~~~~~~~~~~~~~~~~\n",
      "./DetectorCalc.c:8567:37: warning: ‘__builtin___snprintf_chk’ output may be truncated before the last format character [-Wformat-truncation=]\n",
      " 8567 |         snprintf(path, 1024, \"%s%c%s\", dir, MC_PATHSEP_C, File);\n",
      "      |                                     ^\n",
      "In file included from /usr/include/stdio.h:894,\n",
      "                 from ./DetectorCalc.c:231:\n",
      "/usr/include/x86_64-linux-gnu/bits/stdio2.h:71:10: note: ‘__builtin___snprintf_chk’ output 2 or more bytes (assuming 1025) into a destination of size 1024\n",
      "   71 |   return __builtin___snprintf_chk (__s, __n, __USE_FORTIFY_LEVEL - 1,\n",
      "      |          ^~~~~~~~~~~~~~~~~~~~~~~~~~~~~~~~~~~~~~~~~~~~~~~~~~~~~~~~~~~~\n",
      "   72 |                                    __glibc_objsize (__s), __fmt,\n",
      "      |                                    ~~~~~~~~~~~~~~~~~~~~~~~~~~~~~\n",
      "   73 |                                    __va_arg_pack ());\n",
      "      |                                    ~~~~~~~~~~~~~~~~~\n",
      "./DetectorCalc.c:8573:35: warning: ‘%s’ directive output may be truncated writing 4 bytes into a region of size between 0 and 1023 [-Wformat-truncation=]\n",
      " 8573 |         snprintf(path, 1024, \"%s%c%s%c%s\", dir, MC_PATHSEP_C, \"data\", MC_PATHSEP_C, File);\n",
      "      |                                   ^~                          ~~~~~~\n",
      "In file included from /usr/include/stdio.h:894,\n",
      "                 from ./DetectorCalc.c:231:\n",
      "/usr/include/x86_64-linux-gnu/bits/stdio2.h:71:10: note: ‘__builtin___snprintf_chk’ output 7 or more bytes (assuming 1030) into a destination of size 1024\n",
      "   71 |   return __builtin___snprintf_chk (__s, __n, __USE_FORTIFY_LEVEL - 1,\n",
      "      |          ^~~~~~~~~~~~~~~~~~~~~~~~~~~~~~~~~~~~~~~~~~~~~~~~~~~~~~~~~~~~\n",
      "   72 |                                    __glibc_objsize (__s), __fmt,\n",
      "      |                                    ~~~~~~~~~~~~~~~~~~~~~~~~~~~~~\n",
      "   73 |                                    __va_arg_pack ());\n",
      "      |                                    ~~~~~~~~~~~~~~~~~\n",
      "./DetectorCalc.c:8579:35: warning: ‘%s’ directive output may be truncated writing 7 bytes into a region of size between 0 and 1023 [-Wformat-truncation=]\n",
      " 8579 |         snprintf(path, 1024, \"%s%c%s%c%s\", dir, MC_PATHSEP_C, \"contrib\", MC_PATHSEP_C, File);\n",
      "      |                                   ^~                          ~~~~~~~~~\n",
      "In file included from /usr/include/stdio.h:894,\n",
      "                 from ./DetectorCalc.c:231:\n",
      "/usr/include/x86_64-linux-gnu/bits/stdio2.h:71:10: note: ‘__builtin___snprintf_chk’ output 10 or more bytes (assuming 1033) into a destination of size 1024\n",
      "   71 |   return __builtin___snprintf_chk (__s, __n, __USE_FORTIFY_LEVEL - 1,\n",
      "      |          ^~~~~~~~~~~~~~~~~~~~~~~~~~~~~~~~~~~~~~~~~~~~~~~~~~~~~~~~~~~~\n",
      "   72 |                                    __glibc_objsize (__s), __fmt,\n",
      "      |                                    ~~~~~~~~~~~~~~~~~~~~~~~~~~~~~\n",
      "   73 |                                    __va_arg_pack ());\n",
      "      |                                    ~~~~~~~~~~~~~~~~~\n",
      "./DetectorCalc.c: In function ‘off_display’:\n",
      "./DetectorCalc.c:11112:30: warning: ‘%g’ directive writing between 1 and 13 bytes into a region of size between 0 and 1023 [-Wformat-overflow=]\n",
      "11112 |       sprintf(pixelinfo, \"%s,%g,%g,%g\", pixelinfo, x2-cmx, y2-cmy, z2-cmz);\n",
      "      |                              ^~\n",
      "./DetectorCalc.c:11112:26: note: assuming directive output of 12 bytes\n",
      "11112 |       sprintf(pixelinfo, \"%s,%g,%g,%g\", pixelinfo, x2-cmx, y2-cmy, z2-cmz);\n",
      "      |                          ^~~~~~~~~~~~~\n",
      "./DetectorCalc.c:11112:26: note: assuming directive output of 12 bytes\n",
      "./DetectorCalc.c:11112:26: note: assuming directive output of 12 bytes\n",
      "In file included from /usr/include/stdio.h:894,\n",
      "                 from ./DetectorCalc.c:231:\n",
      "/usr/include/x86_64-linux-gnu/bits/stdio2.h:38:10: note: ‘__builtin___sprintf_chk’ output between 7 and 1066 bytes into a destination of size 1024\n",
      "   38 |   return __builtin___sprintf_chk (__s, __USE_FORTIFY_LEVEL - 1,\n",
      "      |          ^~~~~~~~~~~~~~~~~~~~~~~~~~~~~~~~~~~~~~~~~~~~~~~~~~~~~~\n",
      "   39 |                                   __glibc_objsize (__s), __fmt,\n",
      "      |                                   ~~~~~~~~~~~~~~~~~~~~~~~~~~~~~\n",
      "   40 |                                   __va_arg_pack ());\n",
      "      |                                   ~~~~~~~~~~~~~~~~~\n",
      "INFO: ===\n",
      "Warning(Vin): MCPL-file reports no present particles. Foolishly trying to go on.\n",
      "[DetectorCalc] Initialize\n",
      "\n",
      "\n",
      " Warning: You are using MCPL_input with a repeat_count of 1:\n",
      " - Minimum neutron count requested is 0 x 1 <= 0 neutrons total\n",
      "\n",
      "MCPL_input verbose mode - outputting data on the 10 first read neutrons in MCPL units:\n",
      "*** TRACE end *** \n",
      "\n",
      "Save [DetectorCalc]\n",
      "Detector: detector_central_I=0 detector_central_ERR=0 detector_central_N=0 \"detector_central.dat\"\n",
      "Detector: detector_right_I=0 detector_right_ERR=0 detector_right_N=0 \"detector_right.dat\"\n",
      "Detector: detector_left_I=0 detector_left_ERR=0 detector_left_N=0 \"detector_left.dat\"\n",
      "\n",
      "Finally [DetectorCalc: /tmp/D11/DetectorCalc_15]. Time: 471086 [h] \n",
      "INFO: Placing instr file copy DetectorCalc.instr in dataset /tmp/D11/DetectorCalc_15\n",
      "\n"
     ]
    }
   ],
   "source": [
    "myinstrument.run()"
   ]
  },
  {
   "cell_type": "markdown",
   "id": "afc301e9",
   "metadata": {},
   "source": [
    "### Diagnostics of the beam for one calculator"
   ]
  },
  {
   "cell_type": "code",
   "execution_count": 23,
   "id": "7cf72254",
   "metadata": {
    "scrolled": false
   },
   "outputs": [],
   "source": [
    "calculator_name=\"SampleCalc\"\n",
    "calculator_name=\"OriginCalc\"\n",
    "mycalc = myinstrument.calculators[calculator_name]\n",
    "#mycalc.backengine()\n",
    "#myinstrument.run()\n",
    "#print(mycalc.output)"
   ]
  },
  {
   "cell_type": "code",
   "execution_count": 24,
   "id": "32567b1b",
   "metadata": {
    "scrolled": true
   },
   "outputs": [
    {
     "data": {
      "text/plain": [
       "False"
      ]
     },
     "execution_count": 24,
     "metadata": {},
     "output_type": "execute_result"
    }
   ],
   "source": [
    "#mycalc = myinstrument.calculators[\"OriginCalc\"]\n",
    "#mycalc = myinstrument.calculators[\"SampleCalc\"]\n",
    "#mycalc.input = myinstrument.calculators[\"OriginCalc\"].output\n",
    "#mycalc.show_diagram()\n",
    "\n",
    "\"sqw_file\" in mycalc.parameters\n"
   ]
  },
  {
   "cell_type": "code",
   "execution_count": 25,
   "id": "3f8e0aaa",
   "metadata": {
    "scrolled": false
   },
   "outputs": [
    {
     "data": {
      "image/png": "[encoded data removed]",
      "text/plain": [
       "<Figure size 620x220 with 1 Axes>"
      ]
     },
     "metadata": {},
     "output_type": "display_data"
    },
    {
     "data": {
      "image/png": "[encoded data removed]",
      "text/plain": [
       "<Figure size 898.2x3200 with 3 Axes>"
      ]
     },
     "metadata": {},
     "output_type": "display_data"
    }
   ],
   "source": [
    "mycalc.show_diagram(analysis=True, variable=None)"
   ]
  },
  {
   "cell_type": "code",
   "execution_count": 26,
   "id": "3a051763",
   "metadata": {
    "scrolled": false
   },
   "outputs": [],
   "source": [
    "import mcstasscript as ms\n"
   ]
  },
  {
   "cell_type": "code",
   "execution_count": 27,
   "id": "21140401",
   "metadata": {
    "scrolled": true
   },
   "outputs": [
    {
     "name": "stdout",
     "output_type": "stream",
     "text": [
      "Instrument settings:\n",
      "  ncount:           1.00e+05\n",
      "  seed:             654321\n",
      "  output_path:      /tmp/D11/OriginCalc\n",
      "  run_path:         ./\n",
      "  package_path:     /usr/share/mcstas/3.3\n",
      "  executable_path:  /usr/share/mcstas/3.3/bin/\n",
      "  executable:       mcrun\n",
      "  force_compile:    True\n"
     ]
    }
   ],
   "source": [
    "diag = ms.Diagnostics(mycalc)\n",
    "diag.settings(ncount=1e5, suppress_output=True)\n",
    "diag.show_settings()\n",
    "diag.clear_points()\n",
    "\n",
    "\n",
    "for component in diag.instr.component_list:\n",
    "        if component.component_name in [\"Progress_bar\", \"Arm\"]:\n",
    "            continue\n",
    "        if component.component_name in [\"Beamstop\"]:\n",
    "            diag.add_point(before=component.name)\n",
    "            continue\n",
    "        if component.name in [\"VCS\", \"HCS\"]:\n",
    "            diag.add_point(after=component.name)\n",
    "            continue\n",
    "        if component.name in [\"Chopper0\",\"Chopper1\",\"Chopper2\",\"Chopper3\"]:\n",
    "            diag.add_point(before=component.name)\n",
    "            diag.add_point(after=component.name)\n",
    "        else:\n",
    "            #print(\"#\"+component.name+\"#\")\n",
    "            diag.add_point(before=component.name)\n",
    "        \n",
    "\n",
    "\n",
    "\n",
    "if mycalc.name == \"SampleCalc\":\n",
    "    diag.clear_points()\n",
    "    diag.add_point(after=\"Vin\")\n",
    "    diag.add_point(before=\"sqw\")\n",
    "    diag.add_point(after=\"Sample_Out\")\n",
    "    diag.add_point(before=\"after_sample_slit\")\n",
    "    diag.add_point(after=\"after_sample_slit\")\n",
    "\n",
    "#print(diag)\n"
   ]
  },
  {
   "cell_type": "code",
   "execution_count": 28,
   "id": "a596e150",
   "metadata": {
    "scrolled": false
   },
   "outputs": [],
   "source": [
    "#mycalc.get_component(\"BC1\").phase=41\n",
    "#ch = mycalc.get_component(\"Chopper3\")\n",
    "#print(ch)\n",
    "diag.settings(ncount=1e6)"
   ]
  },
  {
   "cell_type": "code",
   "execution_count": 29,
   "id": "b5cfe2ed",
   "metadata": {
    "scrolled": false
   },
   "outputs": [],
   "source": [
    "diag.run()"
   ]
  },
  {
   "cell_type": "code",
   "execution_count": 30,
   "id": "6cb3ca01",
   "metadata": {
    "scrolled": true
   },
   "outputs": [
    {
     "name": "stdout",
     "output_type": "stream",
     "text": [
      "Instrument diagnostics for: OriginCalc\n",
      "Diagnostics points: \n",
      "  Diagnostics point after:  VCS                       - rays: 50000 / 50000\n",
      "  Diagnostics point before: sourcefluxfix             - rays: 50000 / 50000\n",
      "  Diagnostics point before: Alw1                      - rays: 50000 / 50000\n",
      "  Diagnostics point before: pinkcarter                - rays: 50000 / 50000\n",
      "  Diagnostics point before: Alw2                      - rays: 50000 / 50000\n",
      "  Diagnostics point before: LeadShutter               - rays: 50000 / 50000\n",
      "  Diagnostics point before: Alw3                      - rays: 50000 / 50000\n",
      "  Diagnostics point before: cg1                       - rays: 50000 / 50000\n",
      "  Diagnostics point before: cg2                       - rays: 50000 / 50000\n",
      "  Diagnostics point before: cg3                       - rays: 50000 / 50000\n",
      "  Diagnostics point before: cg4                       - rays: 50000 / 50000\n",
      "  Diagnostics point before: cg5                       - rays: 50000 / 50000\n",
      "  Diagnostics point before: cg6                       - rays: 50000 / 50000\n",
      "  Diagnostics point before: cg7                       - rays: 50000 / 50000\n",
      "  Diagnostics point before: cg8                       - rays: 50000 / 50000\n",
      "  Diagnostics point before: cg9                       - rays: 50000 / 50000\n",
      "  Diagnostics point before: cg10                      - rays: 50000 / 50000\n",
      "  Diagnostics point before: cg11                      - rays: 50000 / 50000\n",
      "  Diagnostics point before: cg12                      - rays: 50000 / 50000\n",
      "  Diagnostics point before: cg13                      - rays: 50000 / 50000\n",
      "  Diagnostics point before: cg14                      - rays: 50000 / 50000\n",
      "  Diagnostics point before: cg15                      - rays: 50000 / 50000\n",
      "  Diagnostics point before: cg16                      - rays: 50000 / 50000\n",
      "  Diagnostics point before: cg17                      - rays: 50000 / 50000\n",
      "  Diagnostics point before: cg18                      - rays: 50000 / 50000\n",
      "  Diagnostics point before: cg19                      - rays: 50000 / 50000\n",
      "  Diagnostics point before: cg20                      - rays: 50000 / 50000\n",
      "  Diagnostics point before: cg21                      - rays: 50000 / 50000\n",
      "  Diagnostics point before: cg22                      - rays: 50000 / 50000\n",
      "  Diagnostics point before: cg23                      - rays: 50000 / 50000\n",
      "  Diagnostics point before: cg24                      - rays: 50000 / 50000\n",
      "  Diagnostics point before: cg25                      - rays: 50000 / 50000\n",
      "  Diagnostics point before: Alw4                      - rays: 50000 / 50000\n",
      "  Diagnostics point before: PSD_VTE                   - rays: 50000 / 50000\n",
      "  Diagnostics point before: Alw5                      - rays: 50000 / 50000\n",
      "  Diagnostics point before: sg1                       - rays: 50000 / 50000\n",
      "  Diagnostics point before: sg2                       - rays: 50000 / 50000\n",
      "  Diagnostics point before: sg3                       - rays: 50000 / 50000\n",
      "  Diagnostics point before: sg4                       - rays: 50000 / 50000\n",
      "  Diagnostics point before: sg5                       - rays: 50000 / 50000\n",
      "  Diagnostics point before: sg6                       - rays: 50000 / 50000\n",
      "  Diagnostics point before: sg7                       - rays: 50000 / 50000\n",
      "  Diagnostics point before: sg8                       - rays: 50000 / 50000\n",
      "  Diagnostics point before: sg9                       - rays: 50000 / 50000\n",
      "  Diagnostics point before: sg10                      - rays: 50000 / 50000\n",
      "  Diagnostics point before: sg11                      - rays: 50000 / 50000\n",
      "  Diagnostics point before: sg12                      - rays: 50000 / 50000\n",
      "  Diagnostics point before: sg13                      - rays: 50000 / 50000\n",
      "  Diagnostics point before: sg14                      - rays: 50000 / 50000\n",
      "  Diagnostics point before: sg15                      - rays: 50000 / 50000\n",
      "  Diagnostics point before: sg16                      - rays: 50000 / 50000\n",
      "  Diagnostics point before: sg17                      - rays: 50000 / 50000\n",
      "  Diagnostics point before: sg18                      - rays: 50000 / 50000\n",
      "  Diagnostics point before: sg19                      - rays: 50000 / 50000\n",
      "  Diagnostics point before: sg20                      - rays: 50000 / 50000\n",
      "  Diagnostics point before: sg21                      - rays: 50000 / 50000\n",
      "  Diagnostics point before: sg22                      - rays: 50000 / 50000\n",
      "  Diagnostics point before: Alw6                      - rays: 50000 / 50000\n",
      "  Diagnostics point before: PSD_IN6                   - rays: 50000 / 50000\n",
      "  Diagnostics point before: Alw7                      - rays: 50000 / 50000\n",
      "  Diagnostics point before: sg23                      - rays: 50000 / 50000\n",
      "  Diagnostics point before: sg24                      - rays: 50000 / 50000\n",
      "  Diagnostics point before: sg25                      - rays: 50000 / 50000\n",
      "  Diagnostics point before: sg26                      - rays: 50000 / 50000\n",
      "  Diagnostics point before: sg27                      - rays: 50000 / 50000\n",
      "  Diagnostics point before: Alw8                      - rays: 50000 / 50000\n",
      "  Diagnostics point before: PSD_D7                    - rays: 50000 / 50000\n",
      "  Diagnostics point before: Alw9                      - rays: 50000 / 50000\n",
      "  Diagnostics point before: sg28                      - rays: 50000 / 50000\n",
      "  Diagnostics point before: sg29                      - rays: 46249 / 50000\n",
      "  Diagnostics point before: Alw10                     - rays: 44919 / 50000\n",
      "  Diagnostics point before: VelocityCalc              - rays: 50001 / 50000\n",
      "Views: \n",
      "  View (l)                  bins: 100\n",
      "  View (t)                  bins: 100\n",
      "  View (t, x)               bins: 100\n",
      "  View (t, y)               bins: 100\n",
      "  View (x, y)               bins: 100\n",
      "  View (vz)                 bins: 100\n",
      "Does contain simulated data\n"
     ]
    }
   ],
   "source": [
    "diag.clear_views()\n",
    "#diag.add_view(\"t\")\n",
    "#diag.add_view(\"x\", bins=50, limits=[-0.04,0.04])\n",
    "#diag.add_view(\"y\", bins=50, same_scale=False, limits=[-0.07,0.07])\n",
    "#diag.add_view(\"x\",\"y\",bins=[30,30])\n",
    "#diag.add_view(\"e\", same_scale=True)\n",
    "diag.add_view(\"l\",same_scale=False)\n",
    "diag.add_view(\"t\",same_scale=False)\n",
    "#diag.add_view(\"dx\",\"dy\")\n",
    "diag.add_view(\"t\",\"x\",same_scale=False)\n",
    "diag.add_view(\"t\",\"y\", same_scale=False)\n",
    "diag.add_view(\"x\",\"y\",same_scale=False)\n",
    "diag.add_view(\"vz\",same_scale=False,left_lim=700)\n",
    "print(diag)"
   ]
  },
  {
   "cell_type": "code",
   "execution_count": null,
   "id": "da0ac372",
   "metadata": {
    "scrolled": true
   },
   "outputs": [
    {
     "name": "stderr",
     "output_type": "stream",
     "text": [
      "/users/nourbakhsh/digitaltwin/instrument_database/McStasScript/mcstasscript/data/data.py:798: RuntimeWarning: divide by zero encountered in true_divide\n",
      "  lambda_meter = h_const / (m_n_const*speed)\n"
     ]
    },
    {
     "ename": "ValueError",
     "evalue": "autodetected range of [inf, inf] is not finite",
     "output_type": "error",
     "traceback": [
      "\u001b[0;31m---------------------------------------------------------------------------\u001b[0m",
      "\u001b[0;31mValueError\u001b[0m                                Traceback (most recent call last)",
      "Cell \u001b[0;32mIn[31], line 1\u001b[0m\n\u001b[0;32m----> 1\u001b[0m \u001b[43mdiag\u001b[49m\u001b[38;5;241;43m.\u001b[39;49m\u001b[43mplot\u001b[49m\u001b[43m(\u001b[49m\u001b[43m)\u001b[49m\n",
      "File \u001b[0;32m~/digitaltwin/instrument_database/McStasScript/mcstasscript/instrument_diagnostics/beam_diagnostics.py:416\u001b[0m, in \u001b[0;36mBeamDiagnostics.plot\u001b[0;34m(self)\u001b[0m\n\u001b[1;32m    413\u001b[0m         \u001b[38;5;28mprint\u001b[39m(\u001b[38;5;124m\"\u001b[39m\u001b[38;5;124mNo data to plot! Use the run method to generate data.\u001b[39m\u001b[38;5;124m\"\u001b[39m)\n\u001b[1;32m    415\u001b[0m overview \u001b[38;5;241m=\u001b[39m PlotOverview(\u001b[38;5;28mself\u001b[39m\u001b[38;5;241m.\u001b[39mevent_plotters, \u001b[38;5;28mself\u001b[39m\u001b[38;5;241m.\u001b[39mviews)\n\u001b[0;32m--> 416\u001b[0m \u001b[43moverview\u001b[49m\u001b[38;5;241;43m.\u001b[39;49m\u001b[43mplot_all\u001b[49m\u001b[43m(\u001b[49m\u001b[43m)\u001b[49m\n",
      "File \u001b[0;32m~/digitaltwin/instrument_database/McStasScript/mcstasscript/instrument_diagnostics/plot_overview.py:54\u001b[0m, in \u001b[0;36mPlotOverview.plot_all\u001b[0;34m(self, figsize, same_scale)\u001b[0m\n\u001b[1;32m     52\u001b[0m major_label_set \u001b[38;5;241m=\u001b[39m \u001b[38;5;28;01mFalse\u001b[39;00m\n\u001b[1;32m     53\u001b[0m \u001b[38;5;28;01mfor\u001b[39;00m view, ax \u001b[38;5;129;01min\u001b[39;00m \u001b[38;5;28mzip\u001b[39m(\u001b[38;5;28mself\u001b[39m\u001b[38;5;241m.\u001b[39mviews, ax_row):\n\u001b[0;32m---> 54\u001b[0m     \u001b[43mplotter\u001b[49m\u001b[38;5;241;43m.\u001b[39;49m\u001b[43mplot\u001b[49m\u001b[43m(\u001b[49m\u001b[43mview\u001b[49m\u001b[38;5;241;43m=\u001b[39;49m\u001b[43mview\u001b[49m\u001b[43m,\u001b[49m\u001b[43m \u001b[49m\u001b[43mfig\u001b[49m\u001b[38;5;241;43m=\u001b[39;49m\u001b[43mfig\u001b[49m\u001b[43m,\u001b[49m\u001b[43m \u001b[49m\u001b[43max\u001b[49m\u001b[38;5;241;43m=\u001b[39;49m\u001b[43max\u001b[49m\u001b[43m)\u001b[49m\n\u001b[1;32m     56\u001b[0m     \u001b[38;5;28;01mif\u001b[39;00m \u001b[38;5;129;01mnot\u001b[39;00m major_label_set:\n\u001b[1;32m     57\u001b[0m         ylabel \u001b[38;5;241m=\u001b[39m ax\u001b[38;5;241m.\u001b[39mget_ylabel()\n",
      "File \u001b[0;32m~/digitaltwin/instrument_database/McStasScript/mcstasscript/instrument_diagnostics/event_plotter.py:98\u001b[0m, in \u001b[0;36mEventPlotter.plot\u001b[0;34m(self, view, fig, ax)\u001b[0m\n\u001b[1;32m     81\u001b[0m \u001b[38;5;250m\u001b[39m\u001b[38;5;124;03m\"\"\"\u001b[39;00m\n\u001b[1;32m     82\u001b[0m \u001b[38;5;124;03mPlots binned data generated from contained data on axis from view\u001b[39;00m\n\u001b[1;32m     83\u001b[0m \n\u001b[0;32m   (...)\u001b[0m\n\u001b[1;32m     94\u001b[0m \u001b[38;5;124;03m    Axes object for figure\u001b[39;00m\n\u001b[1;32m     95\u001b[0m \u001b[38;5;124;03m\"\"\"\u001b[39;00m\n\u001b[1;32m     97\u001b[0m \u001b[38;5;28;01mif\u001b[39;00m view\u001b[38;5;241m.\u001b[39maxis2 \u001b[38;5;129;01mis\u001b[39;00m \u001b[38;5;28;01mNone\u001b[39;00m:\n\u001b[0;32m---> 98\u001b[0m     data \u001b[38;5;241m=\u001b[39m \u001b[38;5;28;43mself\u001b[39;49m\u001b[38;5;241;43m.\u001b[39;49m\u001b[43mdata\u001b[49m\u001b[38;5;241;43m.\u001b[39;49m\u001b[43mmake_1d\u001b[49m\u001b[43m(\u001b[49m\u001b[43maxis1\u001b[49m\u001b[38;5;241;43m=\u001b[39;49m\u001b[43mview\u001b[49m\u001b[38;5;241;43m.\u001b[39;49m\u001b[43maxis1\u001b[49m\u001b[43m,\u001b[49m\u001b[43m \u001b[49m\u001b[43mn_bins\u001b[49m\u001b[38;5;241;43m=\u001b[39;49m\u001b[43mview\u001b[49m\u001b[38;5;241;43m.\u001b[39;49m\u001b[43mbins\u001b[49m\u001b[43m,\u001b[49m\u001b[43m \u001b[49m\u001b[43mflag_info\u001b[49m\u001b[38;5;241;43m=\u001b[39;49m\u001b[38;5;28;43mself\u001b[39;49m\u001b[38;5;241;43m.\u001b[39;49m\u001b[43mflag_info\u001b[49m\u001b[43m)\u001b[49m\n\u001b[1;32m     99\u001b[0m     data\u001b[38;5;241m.\u001b[39mset_title(\u001b[38;5;124m\"\u001b[39m\u001b[38;5;124m\"\u001b[39m)\n\u001b[1;32m    100\u001b[0m     \u001b[38;5;28;01mif\u001b[39;00m view\u001b[38;5;241m.\u001b[39maxis1_limits \u001b[38;5;129;01mis\u001b[39;00m \u001b[38;5;129;01mnot\u001b[39;00m \u001b[38;5;28;01mNone\u001b[39;00m:\n",
      "File \u001b[0;32m~/digitaltwin/instrument_database/McStasScript/mcstasscript/data/data.py:842\u001b[0m, in \u001b[0;36mMcStasDataEvent.make_1d\u001b[0;34m(self, axis1, n_bins, flag_info)\u001b[0m\n\u001b[1;32m    839\u001b[0m label \u001b[38;5;241m=\u001b[39m \u001b[38;5;28mself\u001b[39m\u001b[38;5;241m.\u001b[39mget_label(axis1, flag_info)\n\u001b[1;32m    841\u001b[0m weights \u001b[38;5;241m=\u001b[39m \u001b[38;5;28mself\u001b[39m\u001b[38;5;241m.\u001b[39mget_data_column(\u001b[38;5;124m\"\u001b[39m\u001b[38;5;124mp\u001b[39m\u001b[38;5;124m\"\u001b[39m, flag_info)\n\u001b[0;32m--> 842\u001b[0m intensity, edges \u001b[38;5;241m=\u001b[39m \u001b[43mnp\u001b[49m\u001b[38;5;241;43m.\u001b[39;49m\u001b[43mhistogram\u001b[49m\u001b[43m(\u001b[49m\u001b[43mdata\u001b[49m\u001b[43m,\u001b[49m\u001b[43m \u001b[49m\u001b[43mbins\u001b[49m\u001b[38;5;241;43m=\u001b[39;49m\u001b[43mn_bins\u001b[49m\u001b[43m,\u001b[49m\u001b[43m \u001b[49m\u001b[43mweights\u001b[49m\u001b[38;5;241;43m=\u001b[39;49m\u001b[43mweights\u001b[49m\u001b[43m)\u001b[49m\n\u001b[1;32m    843\u001b[0m error_squared, edges \u001b[38;5;241m=\u001b[39m np\u001b[38;5;241m.\u001b[39mhistogram(data, bins\u001b[38;5;241m=\u001b[39mn_bins, weights\u001b[38;5;241m=\u001b[39mweights\u001b[38;5;241m*\u001b[39m\u001b[38;5;241m*\u001b[39m\u001b[38;5;241m2\u001b[39m)\n\u001b[1;32m    844\u001b[0m error \u001b[38;5;241m=\u001b[39m np\u001b[38;5;241m.\u001b[39msqrt(error_squared)\n",
      "File \u001b[0;32m<__array_function__ internals>:5\u001b[0m, in \u001b[0;36mhistogram\u001b[0;34m(*args, **kwargs)\u001b[0m\n",
      "File \u001b[0;32m/usr/lib/python3/dist-packages/numpy/lib/histograms.py:793\u001b[0m, in \u001b[0;36mhistogram\u001b[0;34m(a, bins, range, normed, weights, density)\u001b[0m\n\u001b[1;32m    681\u001b[0m \u001b[38;5;250m\u001b[39m\u001b[38;5;124mr\u001b[39m\u001b[38;5;124;03m\"\"\"\u001b[39;00m\n\u001b[1;32m    682\u001b[0m \u001b[38;5;124;03mCompute the histogram of a dataset.\u001b[39;00m\n\u001b[1;32m    683\u001b[0m \n\u001b[0;32m   (...)\u001b[0m\n\u001b[1;32m    789\u001b[0m \n\u001b[1;32m    790\u001b[0m \u001b[38;5;124;03m\"\"\"\u001b[39;00m\n\u001b[1;32m    791\u001b[0m a, weights \u001b[38;5;241m=\u001b[39m _ravel_and_check_weights(a, weights)\n\u001b[0;32m--> 793\u001b[0m bin_edges, uniform_bins \u001b[38;5;241m=\u001b[39m \u001b[43m_get_bin_edges\u001b[49m\u001b[43m(\u001b[49m\u001b[43ma\u001b[49m\u001b[43m,\u001b[49m\u001b[43m \u001b[49m\u001b[43mbins\u001b[49m\u001b[43m,\u001b[49m\u001b[43m \u001b[49m\u001b[38;5;28;43mrange\u001b[39;49m\u001b[43m,\u001b[49m\u001b[43m \u001b[49m\u001b[43mweights\u001b[49m\u001b[43m)\u001b[49m\n\u001b[1;32m    795\u001b[0m \u001b[38;5;66;03m# Histogram is an integer or a float array depending on the weights.\u001b[39;00m\n\u001b[1;32m    796\u001b[0m \u001b[38;5;28;01mif\u001b[39;00m weights \u001b[38;5;129;01mis\u001b[39;00m \u001b[38;5;28;01mNone\u001b[39;00m:\n",
      "File \u001b[0;32m/usr/lib/python3/dist-packages/numpy/lib/histograms.py:426\u001b[0m, in \u001b[0;36m_get_bin_edges\u001b[0;34m(a, bins, range, weights)\u001b[0m\n\u001b[1;32m    423\u001b[0m     \u001b[38;5;28;01mif\u001b[39;00m n_equal_bins \u001b[38;5;241m<\u001b[39m \u001b[38;5;241m1\u001b[39m:\n\u001b[1;32m    424\u001b[0m         \u001b[38;5;28;01mraise\u001b[39;00m \u001b[38;5;167;01mValueError\u001b[39;00m(\u001b[38;5;124m'\u001b[39m\u001b[38;5;124m`bins` must be positive, when an integer\u001b[39m\u001b[38;5;124m'\u001b[39m)\n\u001b[0;32m--> 426\u001b[0m     first_edge, last_edge \u001b[38;5;241m=\u001b[39m \u001b[43m_get_outer_edges\u001b[49m\u001b[43m(\u001b[49m\u001b[43ma\u001b[49m\u001b[43m,\u001b[49m\u001b[43m \u001b[49m\u001b[38;5;28;43mrange\u001b[39;49m\u001b[43m)\u001b[49m\n\u001b[1;32m    428\u001b[0m \u001b[38;5;28;01melif\u001b[39;00m np\u001b[38;5;241m.\u001b[39mndim(bins) \u001b[38;5;241m==\u001b[39m \u001b[38;5;241m1\u001b[39m:\n\u001b[1;32m    429\u001b[0m     bin_edges \u001b[38;5;241m=\u001b[39m np\u001b[38;5;241m.\u001b[39masarray(bins)\n",
      "File \u001b[0;32m/usr/lib/python3/dist-packages/numpy/lib/histograms.py:323\u001b[0m, in \u001b[0;36m_get_outer_edges\u001b[0;34m(a, range)\u001b[0m\n\u001b[1;32m    321\u001b[0m     first_edge, last_edge \u001b[38;5;241m=\u001b[39m a\u001b[38;5;241m.\u001b[39mmin(), a\u001b[38;5;241m.\u001b[39mmax()\n\u001b[1;32m    322\u001b[0m     \u001b[38;5;28;01mif\u001b[39;00m \u001b[38;5;129;01mnot\u001b[39;00m (np\u001b[38;5;241m.\u001b[39misfinite(first_edge) \u001b[38;5;129;01mand\u001b[39;00m np\u001b[38;5;241m.\u001b[39misfinite(last_edge)):\n\u001b[0;32m--> 323\u001b[0m         \u001b[38;5;28;01mraise\u001b[39;00m \u001b[38;5;167;01mValueError\u001b[39;00m(\n\u001b[1;32m    324\u001b[0m             \u001b[38;5;124m\"\u001b[39m\u001b[38;5;124mautodetected range of [\u001b[39m\u001b[38;5;132;01m{}\u001b[39;00m\u001b[38;5;124m, \u001b[39m\u001b[38;5;132;01m{}\u001b[39;00m\u001b[38;5;124m] is not finite\u001b[39m\u001b[38;5;124m\"\u001b[39m\u001b[38;5;241m.\u001b[39mformat(first_edge, last_edge))\n\u001b[1;32m    326\u001b[0m \u001b[38;5;66;03m# expand empty range to avoid divide by zero\u001b[39;00m\n\u001b[1;32m    327\u001b[0m \u001b[38;5;28;01mif\u001b[39;00m first_edge \u001b[38;5;241m==\u001b[39m last_edge:\n",
      "\u001b[0;31mValueError\u001b[0m: autodetected range of [inf, inf] is not finite"
     ]
    }
   ],
   "source": [
    "diag.plot()"
   ]
  },
  {
   "cell_type": "code",
   "execution_count": null,
   "id": "640e8c59",
   "metadata": {
    "scrolled": false
   },
   "outputs": [],
   "source": []
  },
  {
   "cell_type": "code",
   "execution_count": null,
   "id": "3fbdef29",
   "metadata": {
    "scrolled": false
   },
   "outputs": [],
   "source": []
  },
  {
   "cell_type": "code",
   "execution_count": null,
   "id": "b4284601",
   "metadata": {
    "scrolled": false
   },
   "outputs": [],
   "source": []
  },
  {
   "cell_type": "code",
   "execution_count": null,
   "id": "7c35a5b1",
   "metadata": {
    "scrolled": false
   },
   "outputs": [],
   "source": []
  },
  {
   "cell_type": "code",
   "execution_count": null,
   "id": "7af8b77e",
   "metadata": {
    "scrolled": false
   },
   "outputs": [],
   "source": [
    "\"detpos\" in myinstrument.master"
   ]
  },
  {
   "cell_type": "code",
   "execution_count": null,
   "id": "9c63ffad",
   "metadata": {
    "scrolled": false
   },
   "outputs": [],
   "source": [
    "%matplotlib widget\n",
    "import mcstasscript.jb_interface as ms_widget\n",
    "#ms_widget.show(data_empty)"
   ]
  },
  {
   "cell_type": "code",
   "execution_count": null,
   "id": "a9fbcdea",
   "metadata": {
    "scrolled": false
   },
   "outputs": [],
   "source": [
    "#myinstrument.sample.set_SPLIT(60)\n",
    "#myinstrument.sample"
   ]
  },
  {
   "cell_type": "code",
   "execution_count": null,
   "id": "1bc44a6f",
   "metadata": {
    "scrolled": false
   },
   "outputs": [],
   "source": [
    "#slit=myinstrument.calculators[\"SampleCalc\"].get_component(\"after_sample_slit\")\n",
    "#slit.EXTEND=\"\"\n",
    "#slit.append_EXTEND(\"if(p<1e-1) ABSORB;\")\n",
    "#slit\n"
   ]
  },
  {
   "cell_type": "code",
   "execution_count": null,
   "id": "3f95946d",
   "metadata": {
    "scrolled": false
   },
   "outputs": [],
   "source": [
    "#myinstrument.run()"
   ]
  },
  {
   "cell_type": "code",
   "execution_count": null,
   "id": "af03f0bf",
   "metadata": {
    "scrolled": false
   },
   "outputs": [],
   "source": [
    "data=myinstrument.output\n",
    "#print(data)\n",
    "calcname_data=\"DetectorCalc_data\"\n",
    "calcname_data=\"OriginCalc_data\"\n",
    "detectors=data[calcname_data].get_data()[\"data\"]"
   ]
  },
  {
   "cell_type": "code",
   "execution_count": null,
   "id": "899c7352",
   "metadata": {
    "scrolled": false
   },
   "outputs": [],
   "source": [
    "#print(data[calcname_data])\n",
    "\n",
    "#print()\n",
    "for detector in detectors:\n",
    "    print(detector, \"\\n\\t I = \",detector.Intensity, \"\\n\\t E =\", detector.Error, \"\\n\\t N =\", detector.Ncount)"
   ]
  },
  {
   "cell_type": "code",
   "execution_count": null,
   "id": "e224effe",
   "metadata": {
    "scrolled": false
   },
   "outputs": [],
   "source": [
    "print(detectors)\n",
    "#help(detector)\n",
    "import mcstasscript as ms\n",
    "ms.make_sub_plot(detectors[-3:])"
   ]
  },
  {
   "cell_type": "code",
   "execution_count": null,
   "id": "044eedbb",
   "metadata": {},
   "outputs": [],
   "source": [
    "detector = detectors[3]\n",
    "print(detector.Intensity)\n",
    "import numpy as np\n",
    "help(detector.Intensity)"
   ]
  },
  {
   "cell_type": "code",
   "execution_count": null,
   "id": "8fd110ad",
   "metadata": {
    "scrolled": false
   },
   "outputs": [],
   "source": [
    "wmins=[\"1e-5\", \"1e-4\", \"1e-3\", \"1e-2\", \"1e-1\"]\n",
    "detectors=[]\n",
    "for w_min in wmins:\n",
    "    slit=myinstrument.calculators[\"SampleCalc\"].get_component(\"after_sample_slit\")\n",
    "    slit.EXTEND=\"\"\n",
    "    slit.append_EXTEND(f\"if(p<{w_min}) ABSORB;\")\n",
    "    myinstrument.run()\n",
    "    data=myinstrument.output\n",
    "    detector=(data[\"DetectorCalc_data\"].get_data()[\"data\"][0])\n",
    "    detectors.append(detector)"
   ]
  },
  {
   "cell_type": "code",
   "execution_count": null,
   "id": "52bf6d4f",
   "metadata": {
    "scrolled": false
   },
   "outputs": [],
   "source": [
    "detectors"
   ]
  },
  {
   "cell_type": "code",
   "execution_count": null,
   "id": "6064814b",
   "metadata": {
    "scrolled": false
   },
   "outputs": [],
   "source": [
    "import numpy as np\n",
    "diags = []\n",
    "RHs = list(np.arange(2.6,4,0.3))\n",
    "RVs = list(np.arange(1,3,0.3))\n",
    "RVs.append(1.88)\n",
    "RHs.append(3.31)\n",
    "print(RHs)\n",
    "print(RVs)"
   ]
  },
  {
   "cell_type": "code",
   "execution_count": null,
   "id": "f787ba8e",
   "metadata": {
    "scrolled": false
   },
   "outputs": [],
   "source": [
    "for RH in RHs:\n",
    "    print(RH)\n",
    "    mycalc.parameters[\"RHmono\"]=RH\n",
    "    diag = ms.Diagnostics(mycalc)\n",
    "    diag.settings(ncount=1e6, suppress_output=True,force_compile=False)\n",
    "    diag.clear_points()\n",
    "    diag.add_point(after=\"before_sample_slit\")\n",
    "#    diag.add_point(before=\"sqw\")\n",
    "    diag.run()\n",
    "    diags.append(diag)\n",
    "\n",
    "#(RHmono,RVmono) = (3.31,1.88)\n",
    "#lambda: 4.05\n",
    "#lambda: 4.05 +/- 0.04\n",
    "#energy: 4.98 +/- 0.10\n",
    "#(RHanalyzer,RVanalyzer) = (4.17,0.77)\n",
    "#'Monochromator', 'counter', 'before_sample_slit', 'sqw', 'after_sample_slit', 'analyzer', 'slit', 'detector_all']"
   ]
  },
  {
   "cell_type": "code",
   "execution_count": null,
   "id": "833d4920",
   "metadata": {
    "scrolled": false
   },
   "outputs": [],
   "source": [
    "for diag in diags:\n",
    "    diag.clear_views()\n",
    "    diag.add_view(\"x\", bins=50, limits=[-0.04,0.04])\n",
    "    diag.add_view(\"y\", bins=50, same_scale=False, limits=[-0.07,0.07])\n",
    "    #diag.add_view(\"x\",\"y\",bins=[30,30])\n",
    "    #diag.add_view(\"dx\",\"dy\")\n",
    "    diag.add_view(\"dx\")\n",
    "    diag.add_view(\"dy\")\n",
    "    diag.plot()"
   ]
  },
  {
   "cell_type": "code",
   "execution_count": null,
   "id": "076601d1",
   "metadata": {
    "scrolled": false
   },
   "outputs": [],
   "source": [
    "RVdiags = []\n",
    "\n",
    "\n",
    "print(RVs)\n",
    "for RV in RVs:\n",
    "    print(RV)\n",
    "    mycalc.parameters[\"RVmono\"]=RV\n",
    "    diag = ms.Diagnostics(mycalc)\n",
    "    diag.settings(ncount=1e6, suppress_output=True,force_compile=False)\n",
    "    diag.clear_points()\n",
    "    diag.add_point(after=\"before_sample_slit\")\n",
    "#    diag.add_point(before=\"sqw\")\n",
    "    diag.run()\n",
    "    RVdiags.append(diag)"
   ]
  },
  {
   "cell_type": "code",
   "execution_count": null,
   "id": "31a5b68b",
   "metadata": {
    "scrolled": false
   },
   "outputs": [],
   "source": [
    "for diag in RVdiags:\n",
    "    diag.clear_views()\n",
    "    diag.add_view(\"x\", bins=50, limits=[-0.04,0.04])\n",
    "    diag.add_view(\"y\", bins=50, same_scale=False, limits=[-0.07,0.07])\n",
    "    #diag.add_view(\"x\",\"y\",bins=[30,30])\n",
    "    #diag.add_view(\"dx\",\"dy\")\n",
    "    diag.add_view(\"dx\")\n",
    "    diag.add_view(\"dy\")\n",
    "    diag.plot()"
   ]
  },
  {
   "cell_type": "code",
   "execution_count": null,
   "id": "5d830ade",
   "metadata": {
    "scrolled": false
   },
   "outputs": [],
   "source": [
    "myinstrument.force_compile(False)\n",
    "myinstrument.sim_neutrons(1e5)\n",
    "counter=[]\n",
    "detector=[]\n",
    "mycalc = myinstrument.calculators[\"OriginCalc\"]\n",
    "for RV in RVs:\n",
    "    for RH in RHs:\n",
    "        mycalc.parameters[\"RHmono\"].value = RH\n",
    "        mycalc.parameters[\"RVmono\"].value = RV\n",
    "        #print(mycalc.parameters)\n",
    "        myinstrument.run()\n",
    "        counter.append(myinstrument.output[\"OriginCalc_data\"].get_data()[\"data\"])"
   ]
  },
  {
   "cell_type": "code",
   "execution_count": null,
   "id": "67b8c8d6",
   "metadata": {
    "scrolled": false
   },
   "outputs": [],
   "source": [
    "i=0\n",
    "i_det=1\n",
    "for RV in RVs:\n",
    "    for RH in RHs:\n",
    "        c = counter[i]\n",
    "        det=c[1]\n",
    "        print(i, \"\\t\" , RV, RH, \"\\t\\t\" , det.Intensity, det.Error, det.Ncount)\n",
    "        i=i+1"
   ]
  },
  {
   "cell_type": "code",
   "execution_count": null,
   "id": "e1798cb5",
   "metadata": {
    "scrolled": false
   },
   "outputs": [],
   "source": [
    "mycalc.output"
   ]
  },
  {
   "cell_type": "code",
   "execution_count": null,
   "id": "acd58fe9",
   "metadata": {
    "scrolled": false
   },
   "outputs": [],
   "source": [
    "print(myinstrument.output)"
   ]
  },
  {
   "cell_type": "code",
   "execution_count": null,
   "id": "4bd7a273",
   "metadata": {
    "scrolled": false
   },
   "outputs": [],
   "source": [
    "RHs = list(np.arange(1.5,3,0.2))\n",
    "RVs = list(np.arange(0.3,1.2,0.2))\n",
    "RVs.append(0.51)\n",
    "RHs.append(1.41)\n",
    "print(RHs)\n",
    "print(RVs)\n",
    "\n",
    "myinstrument.force_compile(False)\n",
    "myinstrument.sim_neutrons(1e5)\n",
    "counter=[]\n",
    "\n",
    "mycalc = myinstrument.calculators[\"OriginCalc\"]\n",
    "for RV in RVs:\n",
    "    for RH in RHs:\n",
    "        mycalc.parameters[\"RHanalyzer\"].value = RH\n",
    "        mycalc.parameters[\"RVanalyzer\"].value = RV\n",
    "        #print(mycalc.parameters)\n",
    "        myinstrument.run()\n",
    "        counter.append(myinstrument.output[\"OriginCalc_data\"].get_data()[\"data\"])"
   ]
  },
  {
   "cell_type": "code",
   "execution_count": null,
   "id": "24d1d3ec",
   "metadata": {
    "scrolled": false
   },
   "outputs": [],
   "source": [
    "i=0\n",
    "i_det=1\n",
    "intensities = []\n",
    "counts = []\n",
    "for RV in RVs:\n",
    "    for RH in RHs:\n",
    "        c = counter[i]\n",
    "        det=c[1]\n",
    "        #print(i, \"\\t\" , RV, RH, \"\\t\\t\" , det.Intensity, det.Error, det.Ncount)\n",
    "        intensities.append(det.Intensity)\n",
    "        counts.append(det.Ncount)\n",
    "        i=i+1"
   ]
  },
  {
   "cell_type": "code",
   "execution_count": null,
   "id": "6cdcc95a",
   "metadata": {
    "scrolled": false
   },
   "outputs": [],
   "source": [
    "max(intensities)"
   ]
  },
  {
   "cell_type": "code",
   "execution_count": null,
   "id": "cfdb106f",
   "metadata": {
    "scrolled": false
   },
   "outputs": [],
   "source": [
    "max(counts)"
   ]
  },
  {
   "cell_type": "code",
   "execution_count": null,
   "id": "d4090a1b",
   "metadata": {
    "scrolled": false
   },
   "outputs": [],
   "source": [
    "intensities.index(max(intensities))"
   ]
  },
  {
   "cell_type": "code",
   "execution_count": null,
   "id": "e5201171",
   "metadata": {
    "scrolled": false
   },
   "outputs": [],
   "source": [
    "counts.index(max(counts))"
   ]
  },
  {
   "cell_type": "code",
   "execution_count": null,
   "id": "88f54a79",
   "metadata": {
    "scrolled": false
   },
   "outputs": [],
   "source": [
    "i=0\n",
    "for RV in RVs:\n",
    "    for RH in RHs:\n",
    "        print(RV, RH, counts[i])\n",
    "        if i==counts.index(max(counts)):\n",
    "            print(\"---> \",RV, RH)\n",
    "        i=i+1"
   ]
  },
  {
   "cell_type": "code",
   "execution_count": null,
   "id": "100a7451",
   "metadata": {
    "scrolled": false
   },
   "outputs": [],
   "source": [
    "RVs"
   ]
  },
  {
   "cell_type": "code",
   "execution_count": null,
   "id": "b6653053",
   "metadata": {
    "scrolled": false
   },
   "outputs": [],
   "source": [
    "RHs"
   ]
  },
  {
   "cell_type": "code",
   "execution_count": null,
   "id": "17ddad58",
   "metadata": {
    "scrolled": false
   },
   "outputs": [],
   "source": [
    "dist_sample_ana = 1.260\n",
    "dist_ana_det = 0.640\n",
    "import math\n",
    "ana_focus = 1.0 / (1.0 / dist_sample_ana + 1.0 / dist_ana_det)"
   ]
  },
  {
   "cell_type": "code",
   "execution_count": null,
   "id": "b9bb0a25",
   "metadata": {
    "scrolled": false
   },
   "outputs": [],
   "source": [
    "\n",
    "def rh(ana_focus):\n",
    "    return 2*ana_focus/math.sin(math.pi/180*myinstrument.master[\"a6\"].value/2)\n",
    "def rv(ana_focus):\n",
    "    return 2*ana_focus*math.sin(math.pi/180*myinstrument.master[\"a6\"].value/2)\n"
   ]
  },
  {
   "cell_type": "code",
   "execution_count": null,
   "id": "0275cde3",
   "metadata": {
    "scrolled": false
   },
   "outputs": [],
   "source": [
    "print(rv(ana_focus),rh(ana_focus))"
   ]
  },
  {
   "cell_type": "code",
   "execution_count": null,
   "id": "10289531",
   "metadata": {
    "scrolled": false
   },
   "outputs": [],
   "source": [
    "ana_focus=dist_ana_det\n",
    "print(rv(ana_focus),rh(ana_focus))"
   ]
  },
  {
   "cell_type": "code",
   "execution_count": null,
   "id": "a4cfb70b",
   "metadata": {
    "scrolled": false
   },
   "outputs": [],
   "source": []
  },
  {
   "cell_type": "code",
   "execution_count": null,
   "id": "2e2d80c9",
   "metadata": {
    "scrolled": false
   },
   "outputs": [],
   "source": []
  }
 ],
 "metadata": {
  "kernelspec": {
   "display_name": "Python 3 (ipykernel)",
   "language": "python",
   "name": "python3"
  },
  "language_info": {
   "codemirror_mode": {
    "name": "ipython",
    "version": 3
   },
   "file_extension": ".py",
   "mimetype": "text/x-python",
   "name": "python",
   "nbconvert_exporter": "python",
   "pygments_lexer": "ipython3",
   "version": "3.10.6"
  }
 },
 "nbformat": 4,
 "nbformat_minor": 5
}
